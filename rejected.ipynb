{
  "nbformat": 4,
  "nbformat_minor": 0,
  "metadata": {
    "colab": {
      "provenance": []
    },
    "kernelspec": {
      "name": "python3",
      "display_name": "Python 3"
    },
    "language_info": {
      "name": "python"
    }
  },
  "cells": [
    {
      "cell_type": "code",
      "execution_count": null,
      "metadata": {
        "id": "bUY_uekb0x2f"
      },
      "outputs": [],
      "source": [
        "import numpy as np\n",
        "import pandas as pd\n",
        "from matplotlib import pyplot as plt\n",
        "import seaborn as sns\n",
        "from typing import List, Set, Dict, Tuple, Optional\n",
        "from sklearn.preprocessing import StandardScaler\n"
      ]
    },
    {
      "cell_type": "code",
      "source": [
        "from google.colab import drive\n",
        "drive.mount('/content/drive')"
      ],
      "metadata": {
        "colab": {
          "base_uri": "https://localhost:8080/"
        },
        "id": "Xz7jdYeN01-G",
        "outputId": "5ad8f2a0-7f1d-4514-9fd0-636073e1b4d5"
      },
      "execution_count": null,
      "outputs": [
        {
          "output_type": "stream",
          "name": "stdout",
          "text": [
            "Drive already mounted at /content/drive; to attempt to forcibly remount, call drive.mount(\"/content/drive\", force_remount=True).\n"
          ]
        }
      ]
    },
    {
      "cell_type": "code",
      "source": [
        "loans = pd.read_csv(\"/content/drive/MyDrive/rejected_2007_to_2018Q4.csv.gz\",low_memory=False)\n"
      ],
      "metadata": {
        "id": "DUB5xOYd02Ed"
      },
      "execution_count": null,
      "outputs": []
    },
    {
      "cell_type": "code",
      "source": [
        "rejected=loans"
      ],
      "metadata": {
        "id": "JxhAx0Uz1e3_"
      },
      "execution_count": null,
      "outputs": []
    },
    {
      "cell_type": "markdown",
      "source": [
        "## **Basic Checks:**"
      ],
      "metadata": {
        "id": "K9QLzMItafdT"
      }
    },
    {
      "cell_type": "code",
      "source": [
        "rejected.head()"
      ],
      "metadata": {
        "colab": {
          "base_uri": "https://localhost:8080/",
          "height": 206
        },
        "id": "26W9L4cC1qPt",
        "outputId": "e19bfb33-b393-450e-d7b0-473ab4308996"
      },
      "execution_count": null,
      "outputs": [
        {
          "output_type": "execute_result",
          "data": {
            "text/plain": [
              "   Amount Requested Application Date                        Loan Title  \\\n",
              "0            1000.0       2007-05-26  Wedding Covered but No Honeymoon   \n",
              "1            1000.0       2007-05-26                Consolidating Debt   \n",
              "2           11000.0       2007-05-27       Want to consolidate my debt   \n",
              "3            6000.0       2007-05-27                           waksman   \n",
              "4            1500.0       2007-05-27                            mdrigo   \n",
              "\n",
              "   Risk_Score Debt-To-Income Ratio Zip Code State Employment Length  \\\n",
              "0       693.0                  10%    481xx    NM           4 years   \n",
              "1       703.0                  10%    010xx    MA          < 1 year   \n",
              "2       715.0                  10%    212xx    MD            1 year   \n",
              "3       698.0               38.64%    017xx    MA          < 1 year   \n",
              "4       509.0                9.43%    209xx    MD          < 1 year   \n",
              "\n",
              "   Policy Code  \n",
              "0          0.0  \n",
              "1          0.0  \n",
              "2          0.0  \n",
              "3          0.0  \n",
              "4          0.0  "
            ],
            "text/html": [
              "\n",
              "  <div id=\"df-e4391a5b-2d32-491e-96b0-53f0fcc8e5d3\">\n",
              "    <div class=\"colab-df-container\">\n",
              "      <div>\n",
              "<style scoped>\n",
              "    .dataframe tbody tr th:only-of-type {\n",
              "        vertical-align: middle;\n",
              "    }\n",
              "\n",
              "    .dataframe tbody tr th {\n",
              "        vertical-align: top;\n",
              "    }\n",
              "\n",
              "    .dataframe thead th {\n",
              "        text-align: right;\n",
              "    }\n",
              "</style>\n",
              "<table border=\"1\" class=\"dataframe\">\n",
              "  <thead>\n",
              "    <tr style=\"text-align: right;\">\n",
              "      <th></th>\n",
              "      <th>Amount Requested</th>\n",
              "      <th>Application Date</th>\n",
              "      <th>Loan Title</th>\n",
              "      <th>Risk_Score</th>\n",
              "      <th>Debt-To-Income Ratio</th>\n",
              "      <th>Zip Code</th>\n",
              "      <th>State</th>\n",
              "      <th>Employment Length</th>\n",
              "      <th>Policy Code</th>\n",
              "    </tr>\n",
              "  </thead>\n",
              "  <tbody>\n",
              "    <tr>\n",
              "      <th>0</th>\n",
              "      <td>1000.0</td>\n",
              "      <td>2007-05-26</td>\n",
              "      <td>Wedding Covered but No Honeymoon</td>\n",
              "      <td>693.0</td>\n",
              "      <td>10%</td>\n",
              "      <td>481xx</td>\n",
              "      <td>NM</td>\n",
              "      <td>4 years</td>\n",
              "      <td>0.0</td>\n",
              "    </tr>\n",
              "    <tr>\n",
              "      <th>1</th>\n",
              "      <td>1000.0</td>\n",
              "      <td>2007-05-26</td>\n",
              "      <td>Consolidating Debt</td>\n",
              "      <td>703.0</td>\n",
              "      <td>10%</td>\n",
              "      <td>010xx</td>\n",
              "      <td>MA</td>\n",
              "      <td>&lt; 1 year</td>\n",
              "      <td>0.0</td>\n",
              "    </tr>\n",
              "    <tr>\n",
              "      <th>2</th>\n",
              "      <td>11000.0</td>\n",
              "      <td>2007-05-27</td>\n",
              "      <td>Want to consolidate my debt</td>\n",
              "      <td>715.0</td>\n",
              "      <td>10%</td>\n",
              "      <td>212xx</td>\n",
              "      <td>MD</td>\n",
              "      <td>1 year</td>\n",
              "      <td>0.0</td>\n",
              "    </tr>\n",
              "    <tr>\n",
              "      <th>3</th>\n",
              "      <td>6000.0</td>\n",
              "      <td>2007-05-27</td>\n",
              "      <td>waksman</td>\n",
              "      <td>698.0</td>\n",
              "      <td>38.64%</td>\n",
              "      <td>017xx</td>\n",
              "      <td>MA</td>\n",
              "      <td>&lt; 1 year</td>\n",
              "      <td>0.0</td>\n",
              "    </tr>\n",
              "    <tr>\n",
              "      <th>4</th>\n",
              "      <td>1500.0</td>\n",
              "      <td>2007-05-27</td>\n",
              "      <td>mdrigo</td>\n",
              "      <td>509.0</td>\n",
              "      <td>9.43%</td>\n",
              "      <td>209xx</td>\n",
              "      <td>MD</td>\n",
              "      <td>&lt; 1 year</td>\n",
              "      <td>0.0</td>\n",
              "    </tr>\n",
              "  </tbody>\n",
              "</table>\n",
              "</div>\n",
              "      <button class=\"colab-df-convert\" onclick=\"convertToInteractive('df-e4391a5b-2d32-491e-96b0-53f0fcc8e5d3')\"\n",
              "              title=\"Convert this dataframe to an interactive table.\"\n",
              "              style=\"display:none;\">\n",
              "        \n",
              "  <svg xmlns=\"http://www.w3.org/2000/svg\" height=\"24px\"viewBox=\"0 0 24 24\"\n",
              "       width=\"24px\">\n",
              "    <path d=\"M0 0h24v24H0V0z\" fill=\"none\"/>\n",
              "    <path d=\"M18.56 5.44l.94 2.06.94-2.06 2.06-.94-2.06-.94-.94-2.06-.94 2.06-2.06.94zm-11 1L8.5 8.5l.94-2.06 2.06-.94-2.06-.94L8.5 2.5l-.94 2.06-2.06.94zm10 10l.94 2.06.94-2.06 2.06-.94-2.06-.94-.94-2.06-.94 2.06-2.06.94z\"/><path d=\"M17.41 7.96l-1.37-1.37c-.4-.4-.92-.59-1.43-.59-.52 0-1.04.2-1.43.59L10.3 9.45l-7.72 7.72c-.78.78-.78 2.05 0 2.83L4 21.41c.39.39.9.59 1.41.59.51 0 1.02-.2 1.41-.59l7.78-7.78 2.81-2.81c.8-.78.8-2.07 0-2.86zM5.41 20L4 18.59l7.72-7.72 1.47 1.35L5.41 20z\"/>\n",
              "  </svg>\n",
              "      </button>\n",
              "      \n",
              "  <style>\n",
              "    .colab-df-container {\n",
              "      display:flex;\n",
              "      flex-wrap:wrap;\n",
              "      gap: 12px;\n",
              "    }\n",
              "\n",
              "    .colab-df-convert {\n",
              "      background-color: #E8F0FE;\n",
              "      border: none;\n",
              "      border-radius: 50%;\n",
              "      cursor: pointer;\n",
              "      display: none;\n",
              "      fill: #1967D2;\n",
              "      height: 32px;\n",
              "      padding: 0 0 0 0;\n",
              "      width: 32px;\n",
              "    }\n",
              "\n",
              "    .colab-df-convert:hover {\n",
              "      background-color: #E2EBFA;\n",
              "      box-shadow: 0px 1px 2px rgba(60, 64, 67, 0.3), 0px 1px 3px 1px rgba(60, 64, 67, 0.15);\n",
              "      fill: #174EA6;\n",
              "    }\n",
              "\n",
              "    [theme=dark] .colab-df-convert {\n",
              "      background-color: #3B4455;\n",
              "      fill: #D2E3FC;\n",
              "    }\n",
              "\n",
              "    [theme=dark] .colab-df-convert:hover {\n",
              "      background-color: #434B5C;\n",
              "      box-shadow: 0px 1px 3px 1px rgba(0, 0, 0, 0.15);\n",
              "      filter: drop-shadow(0px 1px 2px rgba(0, 0, 0, 0.3));\n",
              "      fill: #FFFFFF;\n",
              "    }\n",
              "  </style>\n",
              "\n",
              "      <script>\n",
              "        const buttonEl =\n",
              "          document.querySelector('#df-e4391a5b-2d32-491e-96b0-53f0fcc8e5d3 button.colab-df-convert');\n",
              "        buttonEl.style.display =\n",
              "          google.colab.kernel.accessAllowed ? 'block' : 'none';\n",
              "\n",
              "        async function convertToInteractive(key) {\n",
              "          const element = document.querySelector('#df-e4391a5b-2d32-491e-96b0-53f0fcc8e5d3');\n",
              "          const dataTable =\n",
              "            await google.colab.kernel.invokeFunction('convertToInteractive',\n",
              "                                                     [key], {});\n",
              "          if (!dataTable) return;\n",
              "\n",
              "          const docLinkHtml = 'Like what you see? Visit the ' +\n",
              "            '<a target=\"_blank\" href=https://colab.research.google.com/notebooks/data_table.ipynb>data table notebook</a>'\n",
              "            + ' to learn more about interactive tables.';\n",
              "          element.innerHTML = '';\n",
              "          dataTable['output_type'] = 'display_data';\n",
              "          await google.colab.output.renderOutput(dataTable, element);\n",
              "          const docLink = document.createElement('div');\n",
              "          docLink.innerHTML = docLinkHtml;\n",
              "          element.appendChild(docLink);\n",
              "        }\n",
              "      </script>\n",
              "    </div>\n",
              "  </div>\n",
              "  "
            ]
          },
          "metadata": {},
          "execution_count": 5
        }
      ]
    },
    {
      "cell_type": "code",
      "source": [
        "rejected.shape"
      ],
      "metadata": {
        "colab": {
          "base_uri": "https://localhost:8080/"
        },
        "id": "oDEs9M8w1uXl",
        "outputId": "e4b7e8bd-d439-4529-b9a2-59fd1d04555b"
      },
      "execution_count": null,
      "outputs": [
        {
          "output_type": "execute_result",
          "data": {
            "text/plain": [
              "(27648741, 9)"
            ]
          },
          "metadata": {},
          "execution_count": 6
        }
      ]
    },
    {
      "cell_type": "code",
      "source": [
        "rejected.info()"
      ],
      "metadata": {
        "colab": {
          "base_uri": "https://localhost:8080/"
        },
        "id": "8YU58BEt2lTN",
        "outputId": "7704ae5f-d95a-4e06-beca-c25a42b8ad44"
      },
      "execution_count": null,
      "outputs": [
        {
          "output_type": "stream",
          "name": "stdout",
          "text": [
            "<class 'pandas.core.frame.DataFrame'>\n",
            "RangeIndex: 27648741 entries, 0 to 27648740\n",
            "Data columns (total 9 columns):\n",
            " #   Column                Dtype  \n",
            "---  ------                -----  \n",
            " 0   Amount Requested      float64\n",
            " 1   Application Date      object \n",
            " 2   Loan Title            object \n",
            " 3   Risk_Score            float64\n",
            " 4   Debt-To-Income Ratio  object \n",
            " 5   Zip Code              object \n",
            " 6   State                 object \n",
            " 7   Employment Length     object \n",
            " 8   Policy Code           float64\n",
            "dtypes: float64(3), object(6)\n",
            "memory usage: 1.9+ GB\n"
          ]
        }
      ]
    },
    {
      "cell_type": "markdown",
      "source": [
        "## **Descriptive statistics**"
      ],
      "metadata": {
        "id": "C4bOQE9EaqPD"
      }
    },
    {
      "cell_type": "code",
      "source": [
        "float_columns = rejected.select_dtypes(include=['float'])\n",
        "float_description = float_columns.describe().apply(lambda x: x.round(2))\n",
        "float_description"
      ],
      "metadata": {
        "colab": {
          "base_uri": "https://localhost:8080/",
          "height": 300
        },
        "id": "pz4cOXIyasij",
        "outputId": "0a535dc6-34f8-4d17-bd55-a05bae3b9bbc"
      },
      "execution_count": null,
      "outputs": [
        {
          "output_type": "execute_result",
          "data": {
            "text/plain": [
              "       Amount Requested  Risk_Score  Policy Code\n",
              "count       27648741.00  9151111.00  27647823.00\n",
              "mean           13133.24      628.17         0.01\n",
              "std            15009.64       89.94         0.11\n",
              "min                0.00        0.00         0.00\n",
              "25%             4800.00      591.00         0.00\n",
              "50%            10000.00      637.00         0.00\n",
              "75%            20000.00      675.00         0.00\n",
              "max          1400000.00      990.00         2.00"
            ],
            "text/html": [
              "\n",
              "  <div id=\"df-a06ead2a-b9c0-4e02-909a-b31425ea48f4\">\n",
              "    <div class=\"colab-df-container\">\n",
              "      <div>\n",
              "<style scoped>\n",
              "    .dataframe tbody tr th:only-of-type {\n",
              "        vertical-align: middle;\n",
              "    }\n",
              "\n",
              "    .dataframe tbody tr th {\n",
              "        vertical-align: top;\n",
              "    }\n",
              "\n",
              "    .dataframe thead th {\n",
              "        text-align: right;\n",
              "    }\n",
              "</style>\n",
              "<table border=\"1\" class=\"dataframe\">\n",
              "  <thead>\n",
              "    <tr style=\"text-align: right;\">\n",
              "      <th></th>\n",
              "      <th>Amount Requested</th>\n",
              "      <th>Risk_Score</th>\n",
              "      <th>Policy Code</th>\n",
              "    </tr>\n",
              "  </thead>\n",
              "  <tbody>\n",
              "    <tr>\n",
              "      <th>count</th>\n",
              "      <td>27648741.00</td>\n",
              "      <td>9151111.00</td>\n",
              "      <td>27647823.00</td>\n",
              "    </tr>\n",
              "    <tr>\n",
              "      <th>mean</th>\n",
              "      <td>13133.24</td>\n",
              "      <td>628.17</td>\n",
              "      <td>0.01</td>\n",
              "    </tr>\n",
              "    <tr>\n",
              "      <th>std</th>\n",
              "      <td>15009.64</td>\n",
              "      <td>89.94</td>\n",
              "      <td>0.11</td>\n",
              "    </tr>\n",
              "    <tr>\n",
              "      <th>min</th>\n",
              "      <td>0.00</td>\n",
              "      <td>0.00</td>\n",
              "      <td>0.00</td>\n",
              "    </tr>\n",
              "    <tr>\n",
              "      <th>25%</th>\n",
              "      <td>4800.00</td>\n",
              "      <td>591.00</td>\n",
              "      <td>0.00</td>\n",
              "    </tr>\n",
              "    <tr>\n",
              "      <th>50%</th>\n",
              "      <td>10000.00</td>\n",
              "      <td>637.00</td>\n",
              "      <td>0.00</td>\n",
              "    </tr>\n",
              "    <tr>\n",
              "      <th>75%</th>\n",
              "      <td>20000.00</td>\n",
              "      <td>675.00</td>\n",
              "      <td>0.00</td>\n",
              "    </tr>\n",
              "    <tr>\n",
              "      <th>max</th>\n",
              "      <td>1400000.00</td>\n",
              "      <td>990.00</td>\n",
              "      <td>2.00</td>\n",
              "    </tr>\n",
              "  </tbody>\n",
              "</table>\n",
              "</div>\n",
              "      <button class=\"colab-df-convert\" onclick=\"convertToInteractive('df-a06ead2a-b9c0-4e02-909a-b31425ea48f4')\"\n",
              "              title=\"Convert this dataframe to an interactive table.\"\n",
              "              style=\"display:none;\">\n",
              "        \n",
              "  <svg xmlns=\"http://www.w3.org/2000/svg\" height=\"24px\"viewBox=\"0 0 24 24\"\n",
              "       width=\"24px\">\n",
              "    <path d=\"M0 0h24v24H0V0z\" fill=\"none\"/>\n",
              "    <path d=\"M18.56 5.44l.94 2.06.94-2.06 2.06-.94-2.06-.94-.94-2.06-.94 2.06-2.06.94zm-11 1L8.5 8.5l.94-2.06 2.06-.94-2.06-.94L8.5 2.5l-.94 2.06-2.06.94zm10 10l.94 2.06.94-2.06 2.06-.94-2.06-.94-.94-2.06-.94 2.06-2.06.94z\"/><path d=\"M17.41 7.96l-1.37-1.37c-.4-.4-.92-.59-1.43-.59-.52 0-1.04.2-1.43.59L10.3 9.45l-7.72 7.72c-.78.78-.78 2.05 0 2.83L4 21.41c.39.39.9.59 1.41.59.51 0 1.02-.2 1.41-.59l7.78-7.78 2.81-2.81c.8-.78.8-2.07 0-2.86zM5.41 20L4 18.59l7.72-7.72 1.47 1.35L5.41 20z\"/>\n",
              "  </svg>\n",
              "      </button>\n",
              "      \n",
              "  <style>\n",
              "    .colab-df-container {\n",
              "      display:flex;\n",
              "      flex-wrap:wrap;\n",
              "      gap: 12px;\n",
              "    }\n",
              "\n",
              "    .colab-df-convert {\n",
              "      background-color: #E8F0FE;\n",
              "      border: none;\n",
              "      border-radius: 50%;\n",
              "      cursor: pointer;\n",
              "      display: none;\n",
              "      fill: #1967D2;\n",
              "      height: 32px;\n",
              "      padding: 0 0 0 0;\n",
              "      width: 32px;\n",
              "    }\n",
              "\n",
              "    .colab-df-convert:hover {\n",
              "      background-color: #E2EBFA;\n",
              "      box-shadow: 0px 1px 2px rgba(60, 64, 67, 0.3), 0px 1px 3px 1px rgba(60, 64, 67, 0.15);\n",
              "      fill: #174EA6;\n",
              "    }\n",
              "\n",
              "    [theme=dark] .colab-df-convert {\n",
              "      background-color: #3B4455;\n",
              "      fill: #D2E3FC;\n",
              "    }\n",
              "\n",
              "    [theme=dark] .colab-df-convert:hover {\n",
              "      background-color: #434B5C;\n",
              "      box-shadow: 0px 1px 3px 1px rgba(0, 0, 0, 0.15);\n",
              "      filter: drop-shadow(0px 1px 2px rgba(0, 0, 0, 0.3));\n",
              "      fill: #FFFFFF;\n",
              "    }\n",
              "  </style>\n",
              "\n",
              "      <script>\n",
              "        const buttonEl =\n",
              "          document.querySelector('#df-a06ead2a-b9c0-4e02-909a-b31425ea48f4 button.colab-df-convert');\n",
              "        buttonEl.style.display =\n",
              "          google.colab.kernel.accessAllowed ? 'block' : 'none';\n",
              "\n",
              "        async function convertToInteractive(key) {\n",
              "          const element = document.querySelector('#df-a06ead2a-b9c0-4e02-909a-b31425ea48f4');\n",
              "          const dataTable =\n",
              "            await google.colab.kernel.invokeFunction('convertToInteractive',\n",
              "                                                     [key], {});\n",
              "          if (!dataTable) return;\n",
              "\n",
              "          const docLinkHtml = 'Like what you see? Visit the ' +\n",
              "            '<a target=\"_blank\" href=https://colab.research.google.com/notebooks/data_table.ipynb>data table notebook</a>'\n",
              "            + ' to learn more about interactive tables.';\n",
              "          element.innerHTML = '';\n",
              "          dataTable['output_type'] = 'display_data';\n",
              "          await google.colab.output.renderOutput(dataTable, element);\n",
              "          const docLink = document.createElement('div');\n",
              "          docLink.innerHTML = docLinkHtml;\n",
              "          element.appendChild(docLink);\n",
              "        }\n",
              "      </script>\n",
              "    </div>\n",
              "  </div>\n",
              "  "
            ]
          },
          "metadata": {},
          "execution_count": 8
        }
      ]
    },
    {
      "cell_type": "markdown",
      "source": [
        "**Observation:**\n",
        "\n",
        "Amount Requested: The average requested amount for loans is approximately  13,133.24 𝑤𝑖𝑡ℎ 𝑎 𝑠𝑡𝑎𝑛𝑑𝑎𝑟𝑑 𝑑𝑒𝑣𝑖𝑎𝑡𝑖𝑜𝑛 𝑜𝑓\n",
        " 15,009.64. The minimum requested amount is  0.00.𝑎𝑛𝑑 𝑡ℎ𝑒 𝑚𝑎𝑥𝑖𝑚𝑢𝑚 𝑟𝑒𝑞𝑢𝑒𝑠𝑡𝑒𝑑 𝑎𝑚𝑜𝑢𝑛𝑡𝑖𝑠\n",
        " 1,400,000. The majority of requested amounts fall within the range of  4,800 𝑡𝑜\n",
        " 20,000.\n",
        "\n",
        "Risk Score: The average risk score is approximately 628.17, with a standard deviation of 89.94. The minimum risk score is 0, and the maximum risk score is 990. The majority of risk scores range between 591 and 675.\n",
        "\n",
        "Policy Code: The policy code is a categorical variable with values ranging from 0 to 2. The majority of the data points have a policy code of 0, indicating a specific policy category."
      ],
      "metadata": {
        "id": "jLMMRFp7azUk"
      }
    },
    {
      "cell_type": "code",
      "source": [
        "rejected.describe(include=\"object\")"
      ],
      "metadata": {
        "colab": {
          "base_uri": "https://localhost:8080/",
          "height": 175
        },
        "id": "48hoSE8NbKw1",
        "outputId": "1996a6ea-d3aa-4b74-b8e6-6333ea1679cf"
      },
      "execution_count": null,
      "outputs": [
        {
          "output_type": "execute_result",
          "data": {
            "text/plain": [
              "       Application Date          Loan Title Debt-To-Income Ratio  Zip Code  \\\n",
              "count          27648741            27647438             27648741  27648448   \n",
              "unique             4238               73928               126145      1001   \n",
              "top          2018-12-04  Debt consolidation                 100%     112xx   \n",
              "freq              42112             6418016              1362556    267102   \n",
              "\n",
              "           State Employment Length  \n",
              "count   27648719          26697386  \n",
              "unique        51                11  \n",
              "top           CA          < 1 year  \n",
              "freq     3242169          22994315  "
            ],
            "text/html": [
              "\n",
              "  <div id=\"df-c38d8b5b-02bc-41d7-a38b-5809e5dbf83d\">\n",
              "    <div class=\"colab-df-container\">\n",
              "      <div>\n",
              "<style scoped>\n",
              "    .dataframe tbody tr th:only-of-type {\n",
              "        vertical-align: middle;\n",
              "    }\n",
              "\n",
              "    .dataframe tbody tr th {\n",
              "        vertical-align: top;\n",
              "    }\n",
              "\n",
              "    .dataframe thead th {\n",
              "        text-align: right;\n",
              "    }\n",
              "</style>\n",
              "<table border=\"1\" class=\"dataframe\">\n",
              "  <thead>\n",
              "    <tr style=\"text-align: right;\">\n",
              "      <th></th>\n",
              "      <th>Application Date</th>\n",
              "      <th>Loan Title</th>\n",
              "      <th>Debt-To-Income Ratio</th>\n",
              "      <th>Zip Code</th>\n",
              "      <th>State</th>\n",
              "      <th>Employment Length</th>\n",
              "    </tr>\n",
              "  </thead>\n",
              "  <tbody>\n",
              "    <tr>\n",
              "      <th>count</th>\n",
              "      <td>27648741</td>\n",
              "      <td>27647438</td>\n",
              "      <td>27648741</td>\n",
              "      <td>27648448</td>\n",
              "      <td>27648719</td>\n",
              "      <td>26697386</td>\n",
              "    </tr>\n",
              "    <tr>\n",
              "      <th>unique</th>\n",
              "      <td>4238</td>\n",
              "      <td>73928</td>\n",
              "      <td>126145</td>\n",
              "      <td>1001</td>\n",
              "      <td>51</td>\n",
              "      <td>11</td>\n",
              "    </tr>\n",
              "    <tr>\n",
              "      <th>top</th>\n",
              "      <td>2018-12-04</td>\n",
              "      <td>Debt consolidation</td>\n",
              "      <td>100%</td>\n",
              "      <td>112xx</td>\n",
              "      <td>CA</td>\n",
              "      <td>&lt; 1 year</td>\n",
              "    </tr>\n",
              "    <tr>\n",
              "      <th>freq</th>\n",
              "      <td>42112</td>\n",
              "      <td>6418016</td>\n",
              "      <td>1362556</td>\n",
              "      <td>267102</td>\n",
              "      <td>3242169</td>\n",
              "      <td>22994315</td>\n",
              "    </tr>\n",
              "  </tbody>\n",
              "</table>\n",
              "</div>\n",
              "      <button class=\"colab-df-convert\" onclick=\"convertToInteractive('df-c38d8b5b-02bc-41d7-a38b-5809e5dbf83d')\"\n",
              "              title=\"Convert this dataframe to an interactive table.\"\n",
              "              style=\"display:none;\">\n",
              "        \n",
              "  <svg xmlns=\"http://www.w3.org/2000/svg\" height=\"24px\"viewBox=\"0 0 24 24\"\n",
              "       width=\"24px\">\n",
              "    <path d=\"M0 0h24v24H0V0z\" fill=\"none\"/>\n",
              "    <path d=\"M18.56 5.44l.94 2.06.94-2.06 2.06-.94-2.06-.94-.94-2.06-.94 2.06-2.06.94zm-11 1L8.5 8.5l.94-2.06 2.06-.94-2.06-.94L8.5 2.5l-.94 2.06-2.06.94zm10 10l.94 2.06.94-2.06 2.06-.94-2.06-.94-.94-2.06-.94 2.06-2.06.94z\"/><path d=\"M17.41 7.96l-1.37-1.37c-.4-.4-.92-.59-1.43-.59-.52 0-1.04.2-1.43.59L10.3 9.45l-7.72 7.72c-.78.78-.78 2.05 0 2.83L4 21.41c.39.39.9.59 1.41.59.51 0 1.02-.2 1.41-.59l7.78-7.78 2.81-2.81c.8-.78.8-2.07 0-2.86zM5.41 20L4 18.59l7.72-7.72 1.47 1.35L5.41 20z\"/>\n",
              "  </svg>\n",
              "      </button>\n",
              "      \n",
              "  <style>\n",
              "    .colab-df-container {\n",
              "      display:flex;\n",
              "      flex-wrap:wrap;\n",
              "      gap: 12px;\n",
              "    }\n",
              "\n",
              "    .colab-df-convert {\n",
              "      background-color: #E8F0FE;\n",
              "      border: none;\n",
              "      border-radius: 50%;\n",
              "      cursor: pointer;\n",
              "      display: none;\n",
              "      fill: #1967D2;\n",
              "      height: 32px;\n",
              "      padding: 0 0 0 0;\n",
              "      width: 32px;\n",
              "    }\n",
              "\n",
              "    .colab-df-convert:hover {\n",
              "      background-color: #E2EBFA;\n",
              "      box-shadow: 0px 1px 2px rgba(60, 64, 67, 0.3), 0px 1px 3px 1px rgba(60, 64, 67, 0.15);\n",
              "      fill: #174EA6;\n",
              "    }\n",
              "\n",
              "    [theme=dark] .colab-df-convert {\n",
              "      background-color: #3B4455;\n",
              "      fill: #D2E3FC;\n",
              "    }\n",
              "\n",
              "    [theme=dark] .colab-df-convert:hover {\n",
              "      background-color: #434B5C;\n",
              "      box-shadow: 0px 1px 3px 1px rgba(0, 0, 0, 0.15);\n",
              "      filter: drop-shadow(0px 1px 2px rgba(0, 0, 0, 0.3));\n",
              "      fill: #FFFFFF;\n",
              "    }\n",
              "  </style>\n",
              "\n",
              "      <script>\n",
              "        const buttonEl =\n",
              "          document.querySelector('#df-c38d8b5b-02bc-41d7-a38b-5809e5dbf83d button.colab-df-convert');\n",
              "        buttonEl.style.display =\n",
              "          google.colab.kernel.accessAllowed ? 'block' : 'none';\n",
              "\n",
              "        async function convertToInteractive(key) {\n",
              "          const element = document.querySelector('#df-c38d8b5b-02bc-41d7-a38b-5809e5dbf83d');\n",
              "          const dataTable =\n",
              "            await google.colab.kernel.invokeFunction('convertToInteractive',\n",
              "                                                     [key], {});\n",
              "          if (!dataTable) return;\n",
              "\n",
              "          const docLinkHtml = 'Like what you see? Visit the ' +\n",
              "            '<a target=\"_blank\" href=https://colab.research.google.com/notebooks/data_table.ipynb>data table notebook</a>'\n",
              "            + ' to learn more about interactive tables.';\n",
              "          element.innerHTML = '';\n",
              "          dataTable['output_type'] = 'display_data';\n",
              "          await google.colab.output.renderOutput(dataTable, element);\n",
              "          const docLink = document.createElement('div');\n",
              "          docLink.innerHTML = docLinkHtml;\n",
              "          element.appendChild(docLink);\n",
              "        }\n",
              "      </script>\n",
              "    </div>\n",
              "  </div>\n",
              "  "
            ]
          },
          "metadata": {},
          "execution_count": 9
        }
      ]
    },
    {
      "cell_type": "markdown",
      "source": [
        "Observation:\n",
        "\n",
        "Application Date: The dataset spans a period of 4,238 unique application dates. The most common application date is 2018-12-04, which appears 42,112 times.\n",
        "\n",
        "Loan Title: There are a total of 73,928 unique loan titles in the dataset. The most frequently occurring loan title is \"Debt consolidation,\" which appears 6,418,016 times.\n",
        "\n",
        "Debt-To-Income Ratio: The dataset contains 1,261,45 unique debt-to-income ratio values. The most common debt-to-income ratio is 100%, which appears 1,362,556 times.\n",
        "\n",
        "Zip Code: There are 1,001 unique zip codes in the dataset. The most common zip code is 112xx, which appears 267,102 times.\n",
        "\n",
        "State: The dataset includes data from 51 different states. The state with the highest frequency is California (CA), which appears 3,242,169 times.\n",
        "\n",
        "Employment Length: The employment length column consists of 11 unique categories. The most frequent category is \"< 1 year,\" which appears 22,994,315 times."
      ],
      "metadata": {
        "id": "CWuK8LgMbtcI"
      }
    },
    {
      "cell_type": "code",
      "source": [
        "rejected.isnull().sum()"
      ],
      "metadata": {
        "colab": {
          "base_uri": "https://localhost:8080/"
        },
        "id": "o5viAyNT25oW",
        "outputId": "fb28fb64-8bc4-4af6-ee65-e786fad0594f"
      },
      "execution_count": null,
      "outputs": [
        {
          "output_type": "execute_result",
          "data": {
            "text/plain": [
              "Amount Requested               0\n",
              "Application Date               0\n",
              "Loan Title                  1303\n",
              "Risk_Score              18497630\n",
              "Debt-To-Income Ratio           0\n",
              "Zip Code                     293\n",
              "State                         22\n",
              "Employment Length         951355\n",
              "Policy Code                  918\n",
              "dtype: int64"
            ]
          },
          "metadata": {},
          "execution_count": 10
        }
      ]
    },
    {
      "cell_type": "code",
      "source": [
        "rejected = rejected.drop(columns=[\"Policy Code\"])"
      ],
      "metadata": {
        "id": "8yN7L1uVarqJ"
      },
      "execution_count": null,
      "outputs": []
    },
    {
      "cell_type": "markdown",
      "source": [
        "Policy code has only one vlaue so dropping it"
      ],
      "metadata": {
        "id": "4Ijocg2icCMb"
      }
    },
    {
      "cell_type": "code",
      "source": [
        "rejected[\"Employment Length\"] = rejected[\"Employment Length\"].astype(str).str.replace('<', '').str.replace('s', '').str.replace('+', '').str.replace('year', '')\n",
        "rejected.rename(columns={\"Employment Length\": \"emp_length\"}, inplace=True)\n"
      ],
      "metadata": {
        "colab": {
          "base_uri": "https://localhost:8080/"
        },
        "id": "ZsrXvcZhcJFx",
        "outputId": "0de6a95c-1783-41a7-bddb-51de01f669ee"
      },
      "execution_count": null,
      "outputs": [
        {
          "output_type": "stream",
          "name": "stderr",
          "text": [
            "<ipython-input-12-17f41ed0f697>:1: FutureWarning: The default value of regex will change from True to False in a future version. In addition, single character regular expressions will *not* be treated as literal strings when regex=True.\n",
            "  rejected[\"Employment Length\"] = rejected[\"Employment Length\"].astype(str).str.replace('<', '').str.replace('s', '').str.replace('+', '').str.replace('year', '')\n"
          ]
        }
      ]
    },
    {
      "cell_type": "code",
      "source": [
        "rejected[\"emp_length\"].unique()"
      ],
      "metadata": {
        "colab": {
          "base_uri": "https://localhost:8080/"
        },
        "id": "pbHQxeQ_3T0X",
        "outputId": "4fc401b3-47d4-4684-ad78-cf64b2149e73"
      },
      "execution_count": null,
      "outputs": [
        {
          "output_type": "execute_result",
          "data": {
            "text/plain": [
              "array(['4 ', ' 1 ', '1 ', '3 ', '2 ', '10 ', '9 ', '5 ', '7 ', '6 ', '8 ',\n",
              "       'nan'], dtype=object)"
            ]
          },
          "metadata": {},
          "execution_count": 13
        }
      ]
    },
    {
      "cell_type": "code",
      "source": [
        "rejected[\"emp_length\"]= rejected[\"emp_length\"].apply(lambda x: np.nan if x == 'nan' else float(x))"
      ],
      "metadata": {
        "id": "dQNzshoUjOBv"
      },
      "execution_count": null,
      "outputs": []
    },
    {
      "cell_type": "code",
      "source": [
        "from sklearn.impute import SimpleImputer\n",
        "\n",
        "imputer = SimpleImputer(strategy='mean')\n",
        "\n",
        "imputer.fit(rejected[['emp_length']])\n",
        "\n",
        "rejected['emp_length'] = imputer.transform(rejected[['emp_length']])"
      ],
      "metadata": {
        "id": "hbtDF8RYjinm"
      },
      "execution_count": null,
      "outputs": []
    },
    {
      "cell_type": "code",
      "source": [
        "rejected['Loan Title'].fillna('Other', inplace=True)\n",
        "rejected['Zip Code'].fillna(rejected['Zip Code'].mode()[0], inplace=True)\n",
        "rejected['State'].fillna(rejected['State'].mode()[0], inplace=True)\n"
      ],
      "metadata": {
        "id": "e6yvGImVjtUm"
      },
      "execution_count": null,
      "outputs": []
    },
    {
      "cell_type": "code",
      "source": [
        "rejected.info()"
      ],
      "metadata": {
        "colab": {
          "base_uri": "https://localhost:8080/"
        },
        "id": "UAXSLFR4j1Oc",
        "outputId": "59f1a6c4-0545-40cb-af2d-890ac5297c11"
      },
      "execution_count": null,
      "outputs": [
        {
          "output_type": "stream",
          "name": "stdout",
          "text": [
            "<class 'pandas.core.frame.DataFrame'>\n",
            "RangeIndex: 27648741 entries, 0 to 27648740\n",
            "Data columns (total 8 columns):\n",
            " #   Column                Dtype  \n",
            "---  ------                -----  \n",
            " 0   Amount Requested      float64\n",
            " 1   Application Date      object \n",
            " 2   Loan Title            object \n",
            " 3   Risk_Score            float64\n",
            " 4   Debt-To-Income Ratio  object \n",
            " 5   Zip Code              object \n",
            " 6   State                 object \n",
            " 7   emp_length            float64\n",
            "dtypes: float64(3), object(5)\n",
            "memory usage: 1.6+ GB\n"
          ]
        }
      ]
    },
    {
      "cell_type": "code",
      "source": [
        "rejected.rename(columns=lambda x: x.lower(), inplace=True)\n"
      ],
      "metadata": {
        "id": "SbbWch5ykI6Y"
      },
      "execution_count": null,
      "outputs": []
    },
    {
      "cell_type": "code",
      "source": [
        "rejected.info()"
      ],
      "metadata": {
        "colab": {
          "base_uri": "https://localhost:8080/"
        },
        "id": "_lMcSSulkLaW",
        "outputId": "dd32fe3f-6290-4c79-cfc8-3f6846c0e069"
      },
      "execution_count": null,
      "outputs": [
        {
          "output_type": "stream",
          "name": "stdout",
          "text": [
            "<class 'pandas.core.frame.DataFrame'>\n",
            "RangeIndex: 27648741 entries, 0 to 27648740\n",
            "Data columns (total 8 columns):\n",
            " #   Column                Dtype  \n",
            "---  ------                -----  \n",
            " 0   amount requested      float64\n",
            " 1   application date      object \n",
            " 2   loan title            object \n",
            " 3   risk_score            float64\n",
            " 4   debt-to-income ratio  object \n",
            " 5   zip code              object \n",
            " 6   state                 object \n",
            " 7   emp_length            float64\n",
            "dtypes: float64(3), object(5)\n",
            "memory usage: 1.6+ GB\n"
          ]
        }
      ]
    },
    {
      "cell_type": "code",
      "source": [
        "rejected['debt-to-income ratio'].unique()"
      ],
      "metadata": {
        "colab": {
          "base_uri": "https://localhost:8080/"
        },
        "id": "Gcrxrrifmug2",
        "outputId": "ffcea6b5-99bd-4de3-c696-1d1cc1938ea7"
      },
      "execution_count": null,
      "outputs": [
        {
          "output_type": "execute_result",
          "data": {
            "text/plain": [
              "array(['10%', '38.64%', '9.43%', ..., '1986.02%', '1154.55%', '21215.75%'],\n",
              "      dtype=object)"
            ]
          },
          "metadata": {},
          "execution_count": 20
        }
      ]
    },
    {
      "cell_type": "code",
      "source": [
        "rejected['debt-to-income ratio'] = rejected['debt-to-income ratio'].str.replace('%', '')\n"
      ],
      "metadata": {
        "id": "nN_VFk5znBwr"
      },
      "execution_count": null,
      "outputs": []
    },
    {
      "cell_type": "code",
      "source": [
        "rejected['debt-to-income ratio'].unique()"
      ],
      "metadata": {
        "colab": {
          "base_uri": "https://localhost:8080/"
        },
        "id": "v332KYvKnHKN",
        "outputId": "52903f37-f4c5-4e41-f40a-618762653b00"
      },
      "execution_count": null,
      "outputs": [
        {
          "output_type": "execute_result",
          "data": {
            "text/plain": [
              "array(['10', '38.64', '9.43', ..., '1986.02', '1154.55', '21215.75'],\n",
              "      dtype=object)"
            ]
          },
          "metadata": {},
          "execution_count": 22
        }
      ]
    },
    {
      "cell_type": "code",
      "source": [
        "rejected['debt-to-income ratio'] = rejected['debt-to-income ratio'].astype(float)\n"
      ],
      "metadata": {
        "id": "pRKemLqKlmv3"
      },
      "execution_count": null,
      "outputs": []
    },
    {
      "cell_type": "code",
      "source": [
        "rejected.rename(columns={\n",
        "    'amount requested': 'amount_requested',\n",
        "    'application date': 'date',\n",
        "    'loan title': 'loan_purpose',\n",
        "    'risk_score': 'fico_score',\n",
        "    'debt-to-income ratio': 'dti'\n",
        "}, inplace=True)"
      ],
      "metadata": {
        "id": "TIhuNJRck8iK"
      },
      "execution_count": null,
      "outputs": []
    },
    {
      "cell_type": "code",
      "source": [
        "rejected['date'] = pd.to_datetime(rejected['date'])\n"
      ],
      "metadata": {
        "id": "U80WW-FPlHsp"
      },
      "execution_count": null,
      "outputs": []
    },
    {
      "cell_type": "code",
      "source": [
        "rejected = rejected.drop('zip code', axis=1)\n"
      ],
      "metadata": {
        "id": "eqrSRK_6maFW"
      },
      "execution_count": null,
      "outputs": []
    },
    {
      "cell_type": "code",
      "source": [
        "rejected.info()"
      ],
      "metadata": {
        "colab": {
          "base_uri": "https://localhost:8080/"
        },
        "id": "zj1dqj7Dk-73",
        "outputId": "8450e5b7-747b-4bf8-d442-61f7b2b38640"
      },
      "execution_count": null,
      "outputs": [
        {
          "output_type": "stream",
          "name": "stdout",
          "text": [
            "<class 'pandas.core.frame.DataFrame'>\n",
            "RangeIndex: 27648741 entries, 0 to 27648740\n",
            "Data columns (total 7 columns):\n",
            " #   Column            Dtype         \n",
            "---  ------            -----         \n",
            " 0   amount_requested  float64       \n",
            " 1   date              datetime64[ns]\n",
            " 2   loan_purpose      object        \n",
            " 3   fico_score        float64       \n",
            " 4   dti               float64       \n",
            " 5   state             object        \n",
            " 6   emp_length        float64       \n",
            "dtypes: datetime64[ns](1), float64(4), object(2)\n",
            "memory usage: 1.4+ GB\n"
          ]
        }
      ]
    },
    {
      "cell_type": "code",
      "source": [
        "rejected[\"loan_progress\"] = \"rejected\""
      ],
      "metadata": {
        "id": "RoMALA2kvyze"
      },
      "execution_count": null,
      "outputs": []
    },
    {
      "cell_type": "code",
      "source": [
        "rejected.head(3)"
      ],
      "metadata": {
        "colab": {
          "base_uri": "https://localhost:8080/",
          "height": 143
        },
        "id": "Kp4QTeYonlwV",
        "outputId": "6e31d412-c2d7-4735-ff4c-af57fb27cf8b"
      },
      "execution_count": null,
      "outputs": [
        {
          "output_type": "execute_result",
          "data": {
            "text/plain": [
              "   amount_requested       date                      loan_purpose  fico_score  \\\n",
              "0            1000.0 2007-05-26  Wedding Covered but No Honeymoon       693.0   \n",
              "1            1000.0 2007-05-26                Consolidating Debt       703.0   \n",
              "2           11000.0 2007-05-27       Want to consolidate my debt       715.0   \n",
              "\n",
              "    dti state  emp_length loan_progress  \n",
              "0  10.0    NM         4.0      rejected  \n",
              "1  10.0    MA         1.0      rejected  \n",
              "2  10.0    MD         1.0      rejected  "
            ],
            "text/html": [
              "\n",
              "  <div id=\"df-6fcff268-b674-4cc9-b961-2f5a18679ced\">\n",
              "    <div class=\"colab-df-container\">\n",
              "      <div>\n",
              "<style scoped>\n",
              "    .dataframe tbody tr th:only-of-type {\n",
              "        vertical-align: middle;\n",
              "    }\n",
              "\n",
              "    .dataframe tbody tr th {\n",
              "        vertical-align: top;\n",
              "    }\n",
              "\n",
              "    .dataframe thead th {\n",
              "        text-align: right;\n",
              "    }\n",
              "</style>\n",
              "<table border=\"1\" class=\"dataframe\">\n",
              "  <thead>\n",
              "    <tr style=\"text-align: right;\">\n",
              "      <th></th>\n",
              "      <th>amount_requested</th>\n",
              "      <th>date</th>\n",
              "      <th>loan_purpose</th>\n",
              "      <th>fico_score</th>\n",
              "      <th>dti</th>\n",
              "      <th>state</th>\n",
              "      <th>emp_length</th>\n",
              "      <th>loan_progress</th>\n",
              "    </tr>\n",
              "  </thead>\n",
              "  <tbody>\n",
              "    <tr>\n",
              "      <th>0</th>\n",
              "      <td>1000.0</td>\n",
              "      <td>2007-05-26</td>\n",
              "      <td>Wedding Covered but No Honeymoon</td>\n",
              "      <td>693.0</td>\n",
              "      <td>10.0</td>\n",
              "      <td>NM</td>\n",
              "      <td>4.0</td>\n",
              "      <td>rejected</td>\n",
              "    </tr>\n",
              "    <tr>\n",
              "      <th>1</th>\n",
              "      <td>1000.0</td>\n",
              "      <td>2007-05-26</td>\n",
              "      <td>Consolidating Debt</td>\n",
              "      <td>703.0</td>\n",
              "      <td>10.0</td>\n",
              "      <td>MA</td>\n",
              "      <td>1.0</td>\n",
              "      <td>rejected</td>\n",
              "    </tr>\n",
              "    <tr>\n",
              "      <th>2</th>\n",
              "      <td>11000.0</td>\n",
              "      <td>2007-05-27</td>\n",
              "      <td>Want to consolidate my debt</td>\n",
              "      <td>715.0</td>\n",
              "      <td>10.0</td>\n",
              "      <td>MD</td>\n",
              "      <td>1.0</td>\n",
              "      <td>rejected</td>\n",
              "    </tr>\n",
              "  </tbody>\n",
              "</table>\n",
              "</div>\n",
              "      <button class=\"colab-df-convert\" onclick=\"convertToInteractive('df-6fcff268-b674-4cc9-b961-2f5a18679ced')\"\n",
              "              title=\"Convert this dataframe to an interactive table.\"\n",
              "              style=\"display:none;\">\n",
              "        \n",
              "  <svg xmlns=\"http://www.w3.org/2000/svg\" height=\"24px\"viewBox=\"0 0 24 24\"\n",
              "       width=\"24px\">\n",
              "    <path d=\"M0 0h24v24H0V0z\" fill=\"none\"/>\n",
              "    <path d=\"M18.56 5.44l.94 2.06.94-2.06 2.06-.94-2.06-.94-.94-2.06-.94 2.06-2.06.94zm-11 1L8.5 8.5l.94-2.06 2.06-.94-2.06-.94L8.5 2.5l-.94 2.06-2.06.94zm10 10l.94 2.06.94-2.06 2.06-.94-2.06-.94-.94-2.06-.94 2.06-2.06.94z\"/><path d=\"M17.41 7.96l-1.37-1.37c-.4-.4-.92-.59-1.43-.59-.52 0-1.04.2-1.43.59L10.3 9.45l-7.72 7.72c-.78.78-.78 2.05 0 2.83L4 21.41c.39.39.9.59 1.41.59.51 0 1.02-.2 1.41-.59l7.78-7.78 2.81-2.81c.8-.78.8-2.07 0-2.86zM5.41 20L4 18.59l7.72-7.72 1.47 1.35L5.41 20z\"/>\n",
              "  </svg>\n",
              "      </button>\n",
              "      \n",
              "  <style>\n",
              "    .colab-df-container {\n",
              "      display:flex;\n",
              "      flex-wrap:wrap;\n",
              "      gap: 12px;\n",
              "    }\n",
              "\n",
              "    .colab-df-convert {\n",
              "      background-color: #E8F0FE;\n",
              "      border: none;\n",
              "      border-radius: 50%;\n",
              "      cursor: pointer;\n",
              "      display: none;\n",
              "      fill: #1967D2;\n",
              "      height: 32px;\n",
              "      padding: 0 0 0 0;\n",
              "      width: 32px;\n",
              "    }\n",
              "\n",
              "    .colab-df-convert:hover {\n",
              "      background-color: #E2EBFA;\n",
              "      box-shadow: 0px 1px 2px rgba(60, 64, 67, 0.3), 0px 1px 3px 1px rgba(60, 64, 67, 0.15);\n",
              "      fill: #174EA6;\n",
              "    }\n",
              "\n",
              "    [theme=dark] .colab-df-convert {\n",
              "      background-color: #3B4455;\n",
              "      fill: #D2E3FC;\n",
              "    }\n",
              "\n",
              "    [theme=dark] .colab-df-convert:hover {\n",
              "      background-color: #434B5C;\n",
              "      box-shadow: 0px 1px 3px 1px rgba(0, 0, 0, 0.15);\n",
              "      filter: drop-shadow(0px 1px 2px rgba(0, 0, 0, 0.3));\n",
              "      fill: #FFFFFF;\n",
              "    }\n",
              "  </style>\n",
              "\n",
              "      <script>\n",
              "        const buttonEl =\n",
              "          document.querySelector('#df-6fcff268-b674-4cc9-b961-2f5a18679ced button.colab-df-convert');\n",
              "        buttonEl.style.display =\n",
              "          google.colab.kernel.accessAllowed ? 'block' : 'none';\n",
              "\n",
              "        async function convertToInteractive(key) {\n",
              "          const element = document.querySelector('#df-6fcff268-b674-4cc9-b961-2f5a18679ced');\n",
              "          const dataTable =\n",
              "            await google.colab.kernel.invokeFunction('convertToInteractive',\n",
              "                                                     [key], {});\n",
              "          if (!dataTable) return;\n",
              "\n",
              "          const docLinkHtml = 'Like what you see? Visit the ' +\n",
              "            '<a target=\"_blank\" href=https://colab.research.google.com/notebooks/data_table.ipynb>data table notebook</a>'\n",
              "            + ' to learn more about interactive tables.';\n",
              "          element.innerHTML = '';\n",
              "          dataTable['output_type'] = 'display_data';\n",
              "          await google.colab.output.renderOutput(dataTable, element);\n",
              "          const docLink = document.createElement('div');\n",
              "          docLink.innerHTML = docLinkHtml;\n",
              "          element.appendChild(docLink);\n",
              "        }\n",
              "      </script>\n",
              "    </div>\n",
              "  </div>\n",
              "  "
            ]
          },
          "metadata": {},
          "execution_count": 29
        }
      ]
    },
    {
      "cell_type": "code",
      "source": [
        "rejected.isna().sum()"
      ],
      "metadata": {
        "colab": {
          "base_uri": "https://localhost:8080/"
        },
        "id": "GZAHLsMz32r9",
        "outputId": "ae7f2e74-43fb-44e5-c32d-2051e4186c30"
      },
      "execution_count": null,
      "outputs": [
        {
          "output_type": "execute_result",
          "data": {
            "text/plain": [
              "amount_requested           0\n",
              "date                       0\n",
              "loan_purpose               0\n",
              "fico_score          18497630\n",
              "dti                        0\n",
              "state                      0\n",
              "emp_length                 0\n",
              "loan_progress              0\n",
              "dtype: int64"
            ]
          },
          "metadata": {},
          "execution_count": 30
        }
      ]
    },
    {
      "cell_type": "code",
      "source": [
        "mean_score = rejected[\"fico_score\"].mean()\n",
        "rejected[\"fico_score\"].fillna(mean_score, inplace=True)"
      ],
      "metadata": {
        "id": "3Piz9JsWoBrt"
      },
      "execution_count": null,
      "outputs": []
    },
    {
      "cell_type": "code",
      "source": [
        "rejected.isna().sum()\n"
      ],
      "metadata": {
        "id": "PsiV5NBPDVwe",
        "colab": {
          "base_uri": "https://localhost:8080/"
        },
        "outputId": "c5291ea8-71d4-4b11-866a-20be383eb5d1"
      },
      "execution_count": null,
      "outputs": [
        {
          "output_type": "execute_result",
          "data": {
            "text/plain": [
              "amount_requested    0\n",
              "date                0\n",
              "loan_purpose        0\n",
              "fico_score          0\n",
              "dti                 0\n",
              "state               0\n",
              "emp_length          0\n",
              "loan_progress       0\n",
              "dtype: int64"
            ]
          },
          "metadata": {},
          "execution_count": 32
        }
      ]
    },
    {
      "cell_type": "code",
      "source": [
        "# Checking outliers\n",
        "numeric_columns_ = ['amount_requested', 'fico_score', 'dti',\"emp_length\"]\n",
        "\n",
        "print(numeric_columns_)"
      ],
      "metadata": {
        "colab": {
          "base_uri": "https://localhost:8080/"
        },
        "id": "nmEy40QMo0YP",
        "outputId": "46e58b75-502c-44f5-c87b-c4daace0c1a7"
      },
      "execution_count": null,
      "outputs": [
        {
          "output_type": "stream",
          "name": "stdout",
          "text": [
            "['amount_requested', 'fico_score', 'dti', 'emp_length']\n"
          ]
        }
      ]
    },
    {
      "cell_type": "code",
      "source": [
        "def plot_numeric_outliers(data, numeric_columns, nrows, ncols, figsize):\n",
        "    fig, axes = plt.subplots(nrows, ncols, figsize=figsize)\n",
        "\n",
        "    for i, column in enumerate(numeric_columns):\n",
        "        row = i // ncols\n",
        "        col = i % ncols\n",
        "        ax = axes[row, col]\n",
        "        sns.boxplot(x=data[column], color=\"#1a5899\", ax=ax)\n",
        "        ax.set_xlabel(column, labelpad=12, fontdict={\"fontsize\": 16})\n",
        "\n",
        "    # Remove empty subplots\n",
        "    for i in range(len(numeric_columns), len(axes.flatten())):\n",
        "        fig.delaxes(axes.flatten()[i])"
      ],
      "metadata": {
        "id": "PaYhmJ_zoibL"
      },
      "execution_count": null,
      "outputs": []
    },
    {
      "cell_type": "code",
      "source": [
        "plot_numeric_outliers(rejected, numeric_columns_, nrows=5, ncols=2, figsize=(15, 20))\n",
        "\n",
        "plt.suptitle(\"Outliers for rejected\", fontsize=22, fontweight=\"semibold\", y=1.01)\n",
        "\n",
        "# Show the plot\n",
        "\n",
        "plt.tight_layout(h_pad=3, w_pad=3)\n",
        "plt.show"
      ],
      "metadata": {
        "colab": {
          "base_uri": "https://localhost:8080/",
          "height": 902
        },
        "id": "t_MSGdKA3qom",
        "outputId": "dd83f9d7-27bc-4654-ef39-5caa438fd800"
      },
      "execution_count": null,
      "outputs": [
        {
          "output_type": "execute_result",
          "data": {
            "text/plain": [
              "<function matplotlib.pyplot.show(close=None, block=None)>"
            ]
          },
          "metadata": {},
          "execution_count": 35
        },
        {
          "output_type": "display_data",
          "data": {
            "text/plain": [
              "<Figure size 1500x2000 with 4 Axes>"
            ],
            "image/png": "[encoded data removed]"
          },
          "metadata": {}
        }
      ]
    },
    {
      "cell_type": "markdown",
      "source": [
        "Observation:\n",
        "\n",
        "Some outliers are identified, However these are important part of the analysis hence non removing it"
      ],
      "metadata": {
        "id": "Xtkw-tAQp8td"
      }
    },
    {
      "cell_type": "markdown",
      "source": [
        "Observation from rejected:\n",
        "\n",
        "California is where most rejected applicants come from.\n",
        "\n",
        "The requested amount, 166,650, is much higher than what LendingClub usually offers.\n",
        "\n",
        "The minimum required credit score is 600, but the minimum FICO score accepted is 300.\n",
        "\n",
        "Most rejected applications are for debt consolidation, combining debts into one loan.\n",
        "\n",
        "The debt-to-income ratio (DTI) shows how much of a person's monthly income goes toward paying debts. Lenders prefer a DTI of 40% or lower for personal loans. But sometimes, people with higher DTIs and good credit may still be considered.\n",
        "\n",
        "A DTI of 0% means no debts or expenses to pay.\n",
        "\n",
        "If the DTI is over 100%, it means monthly debts are more than monthly income. People with DTIs over 100% rarely get loans.\n",
        "\n",
        "That's why I don't accept applicants with DTIs over 100%.\n",
        "Most rejected applicants have less than one year of work experience."
      ],
      "metadata": {
        "id": "vIJcY5AZp-uS"
      }
    },
    {
      "cell_type": "code",
      "source": [
        "rejected.info()"
      ],
      "metadata": {
        "colab": {
          "base_uri": "https://localhost:8080/"
        },
        "id": "gsn3SQ4vF7iV",
        "outputId": "e42b0ad6-fea9-45b8-cb80-9f0c87d8c2ab"
      },
      "execution_count": null,
      "outputs": [
        {
          "output_type": "stream",
          "name": "stdout",
          "text": [
            "<class 'pandas.core.frame.DataFrame'>\n",
            "RangeIndex: 27648741 entries, 0 to 27648740\n",
            "Data columns (total 8 columns):\n",
            " #   Column            Dtype         \n",
            "---  ------            -----         \n",
            " 0   amount_requested  float64       \n",
            " 1   date              datetime64[ns]\n",
            " 2   loan_purpose      object        \n",
            " 3   fico_score        float64       \n",
            " 4   dti               float64       \n",
            " 5   state             object        \n",
            " 6   emp_length        float64       \n",
            " 7   loan_progress     object        \n",
            "dtypes: datetime64[ns](1), float64(4), object(3)\n",
            "memory usage: 1.6+ GB\n"
          ]
        }
      ]
    },
    {
      "cell_type": "code",
      "source": [
        "# downsizing memory\n",
        "cat_columns = ['loan_purpose', 'state', 'loan_progress']\n",
        "for column in cat_columns:\n",
        "    rejected[column] = rejected[column].astype('category')\n",
        "\n",
        "# Downcast numeric columns\n",
        "numeric_columns = ['amount_requested', 'fico_score', 'dti', 'emp_length']\n",
        "for column in numeric_columns:\n",
        "    rejected[column] = pd.to_numeric(rejected[column], downcast='float')\n",
        "\n"
      ],
      "metadata": {
        "id": "vEeE4E0qGrM1"
      },
      "execution_count": null,
      "outputs": []
    },
    {
      "cell_type": "code",
      "source": [
        "rejected.info()"
      ],
      "metadata": {
        "colab": {
          "base_uri": "https://localhost:8080/"
        },
        "id": "h3CZl5puxfM2",
        "outputId": "ed89e53f-22f2-40b7-8e54-4ddd329e3dc8"
      },
      "execution_count": null,
      "outputs": [
        {
          "output_type": "stream",
          "name": "stdout",
          "text": [
            "<class 'pandas.core.frame.DataFrame'>\n",
            "RangeIndex: 27648741 entries, 0 to 27648740\n",
            "Data columns (total 8 columns):\n",
            " #   Column            Dtype         \n",
            "---  ------            -----         \n",
            " 0   amount_requested  float64       \n",
            " 1   date              datetime64[ns]\n",
            " 2   loan_purpose      category      \n",
            " 3   fico_score        float32       \n",
            " 4   dti               float64       \n",
            " 5   state             category      \n",
            " 6   emp_length        float32       \n",
            " 7   loan_progress     category      \n",
            "dtypes: category(3), datetime64[ns](1), float32(2), float64(2)\n",
            "memory usage: 1004.6 MB\n"
          ]
        }
      ]
    },
    {
      "cell_type": "code",
      "source": [
        "subset_rejected = rejected[['amount_requested', 'date', 'loan_purpose', 'fico_score', 'dti', 'state', 'emp_length', 'loan_progress']]\n",
        "\n",
        "# Save the DataFrame to a new CSV file with compression\n",
        "subset_rejected.to_csv('subset_rejected_v11.csv', compression='gzip', index=False, encoding='utf-8')\n"
      ],
      "metadata": {
        "id": "EGFbqNCOxtiw"
      },
      "execution_count": null,
      "outputs": []
    }
  ]
}