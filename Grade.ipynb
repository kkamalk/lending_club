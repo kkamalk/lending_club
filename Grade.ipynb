{
  "nbformat": 4,
  "nbformat_minor": 0,
  "metadata": {
    "colab": {
      "provenance": []
    },
    "kernelspec": {
      "name": "python3",
      "display_name": "Python 3"
    },
    "language_info": {
      "name": "python"
    }
  },
  "cells": [
    {
      "cell_type": "code",
      "execution_count": null,
      "metadata": {
        "id": "Oi1-Wma2iYxP"
      },
      "outputs": [],
      "source": [
        "import numpy as np\n",
        "import pandas as pd\n",
        "from matplotlib import pyplot as plt\n",
        "import seaborn as sns\n",
        "from typing import List, Set, Dict, Tuple, Optional\n",
        "from sklearn.preprocessing import StandardScaler\n",
        "pd.set_option('display.max_rows', None)\n",
        "pd.set_option('display.max_columns', None)\n",
        "from sklearn.decomposition import PCA\n",
        "from sklearn.cluster import KMeans, DBSCAN, AgglomerativeClustering\n",
        "from sklearn.feature_selection import mutual_info_classif\n",
        "from sklearn.model_selection import train_test_split\n",
        "from sklearn.preprocessing import FunctionTransformer\n",
        "from sklearn.pipeline import Pipeline\n",
        "from sklearn.preprocessing import OneHotEncoder\n",
        "from sklearn.compose import ColumnTransformer\n",
        "from sklearn.linear_model import LogisticRegression\n",
        "from sklearn.ensemble import RandomForestClassifier, AdaBoostClassifier\n",
        "import xgboost as xgb\n",
        "import lightgbm as lgb\n",
        "import time\n",
        "from sklearn.model_selection import GridSearchCV\n",
        "from sklearn.metrics import classification_report, confusion_matrix\n",
        "from sklearn.metrics import accuracy_score, f1_score, precision_score, recall_score\n",
        "from sklearn.preprocessing import OrdinalEncoder\n",
        "from sklearn.dummy import DummyRegressor\n",
        "from sklearn.tree import DecisionTreeRegressor\n",
        "from sklearn.ensemble import RandomForestRegressor\n",
        "from xgboost import XGBRegressor\n",
        "from lightgbm import LGBMRegressor\n",
        "\n",
        "\n",
        "\n",
        "\n",
        "\n",
        "\n",
        "\n",
        "\n",
        "\n",
        "\n"
      ]
    },
    {
      "cell_type": "markdown",
      "source": [
        "**Introduction:**\n",
        "\n",
        "This analysis aims to develop a predictive model to determine the loan grade for loan applications on Lending Club. By leveraging historical loan data and machine learning techniques, the goal is to improve creditworthiness assessment and provide valuable insights to lending institutions for more informed lending decisions."
      ],
      "metadata": {
        "id": "GlyzuKubD5c3"
      }
    },
    {
      "cell_type": "code",
      "source": [
        "from google.colab import drive\n",
        "drive.mount('/content/drive')"
      ],
      "metadata": {
        "colab": {
          "base_uri": "https://localhost:8080/"
        },
        "id": "C86MmSfzisfC",
        "outputId": "318c466a-b707-42a7-9c49-3051e0cb5c0a"
      },
      "execution_count": null,
      "outputs": [
        {
          "output_type": "stream",
          "name": "stdout",
          "text": [
            "Mounted at /content/drive\n"
          ]
        }
      ]
    },
    {
      "cell_type": "code",
      "source": [
        "grading=pd.read_csv(\"/content/drive/MyDrive/accepted_2007_to_2018Q4.csv.gz\",low_memory=False)"
      ],
      "metadata": {
        "id": "7apKdJi7igic"
      },
      "execution_count": null,
      "outputs": []
    },
    {
      "cell_type": "markdown",
      "source": [
        "**Basic Checks**"
      ],
      "metadata": {
        "id": "kwZz-rIxEBY3"
      }
    },
    {
      "cell_type": "code",
      "source": [
        "grading.shape"
      ],
      "metadata": {
        "id": "UFSw4JkRmiDL",
        "colab": {
          "base_uri": "https://localhost:8080/"
        },
        "outputId": "cd0bca60-b50f-4e68-cf38-335fa2851339"
      },
      "execution_count": null,
      "outputs": [
        {
          "output_type": "execute_result",
          "data": {
            "text/plain": [
              "(2260701, 151)"
            ]
          },
          "metadata": {},
          "execution_count": 4
        }
      ]
    },
    {
      "cell_type": "code",
      "source": [
        "features_to_drop = [\n",
        "    \"id\",\n",
        "    \"funded_amnt\",\n",
        "    \"funded_amnt_inv\",\n",
        "    \"installment\",\n",
        "    \"pymnt_plan\",\n",
        "    \"emp_title\",\n",
        "    \"title\",\n",
        "    \"url\",\n",
        "    \"zip_code\",\n",
        "    \"delinq_2yrs\",\n",
        "    \"revol_bal\",\n",
        "    \"next_pymnt_d\",\n",
        "    \"initial_list_status\",\n",
        "    \"out_prncp\",\n",
        "    \"out_prncp_inv\",\n",
        "    \"total_pymnt\",\n",
        "    \"total_pymnt_inv\",\n",
        "    \"total_rec_prncp\",\n",
        "    \"total_rec_int\",\n",
        "    \"total_rec_late_fee\",\n",
        "    \"recoveries\",\n",
        "    \"collection_recovery_fee\",\n",
        "    \"last_pymnt_d\",\n",
        "    \"last_pymnt_amnt\",\n",
        "    \"last_credit_pull_d\",\n",
        "    \"last_fico_range_high\",\n",
        "    \"last_fico_range_low\",\n",
        "    \"collections_12_mths_ex_med\",\n",
        "    \"collection_recovery_fee\",\n",
        "    \"policy_code\",\n",
        "    \"acc_now_delinq\",\n",
        "    \"chargeoff_within_12_mths\",\n",
        "    \"delinq_amnt\",\n",
        "    \"loan_status\",\n",
        "    \"tax_liens\",\n",
        "    \"hardship_flag\",\n",
        "    \"disbursement_method\",\n",
        "    \"debt_settlement_flag\",\n",
        "    \"member_id\",\n",
        "    \"orig_projected_additional_accrued_interest\",\n",
        "    \"hardship_dpd\",\n",
        "    \"hardship_status\",\n",
        "    \"deferral_term\",\n",
        "    \"hardship_amount\",\n",
        "    \"hardship_start_date\",\n",
        "    \"hardship_end_date\",\n",
        "    \"payment_plan_start_date\",\n",
        "    \"hardship_length\",\n",
        "    \"hardship_loan_status\",\n",
        "    \"hardship_type\"\n",
        "\n",
        "]\n",
        "\n",
        "grading = grading.drop(columns=features_to_drop)\n"
      ],
      "metadata": {
        "id": "k2_-CL9lmlt9"
      },
      "execution_count": null,
      "outputs": []
    },
    {
      "cell_type": "code",
      "source": [
        "grading.shape"
      ],
      "metadata": {
        "colab": {
          "base_uri": "https://localhost:8080/"
        },
        "id": "5wO3doYXmm4M",
        "outputId": "f3bb8fe2-cd9e-4ff2-84a1-37a3a862d65f"
      },
      "execution_count": null,
      "outputs": [
        {
          "output_type": "execute_result",
          "data": {
            "text/plain": [
              "(2260701, 102)"
            ]
          },
          "metadata": {},
          "execution_count": 6
        }
      ]
    },
    {
      "cell_type": "code",
      "source": [
        "grading.info()"
      ],
      "metadata": {
        "colab": {
          "base_uri": "https://localhost:8080/"
        },
        "id": "OQSFBUOBmxcB",
        "outputId": "3374aa5e-fa57-49ef-df92-542a50c81c22"
      },
      "execution_count": null,
      "outputs": [
        {
          "output_type": "stream",
          "name": "stdout",
          "text": [
            "<class 'pandas.core.frame.DataFrame'>\n",
            "RangeIndex: 2260701 entries, 0 to 2260700\n",
            "Columns: 102 entries, loan_amnt to settlement_term\n",
            "dtypes: float64(84), object(18)\n",
            "memory usage: 1.7+ GB\n"
          ]
        }
      ]
    },
    {
      "cell_type": "code",
      "source": [
        "grade = grading.groupby(\"grade\").apply(lambda x: x.sample(n=min(100000//len(grading['grade'].unique()), len(x)), random_state=41)).reset_index(drop=True)\n"
      ],
      "metadata": {
        "id": "kgOmO-2amyiS"
      },
      "execution_count": null,
      "outputs": []
    },
    {
      "cell_type": "code",
      "source": [
        "grade.shape"
      ],
      "metadata": {
        "colab": {
          "base_uri": "https://localhost:8080/"
        },
        "id": "Q_KhQGAim0vx",
        "outputId": "7cef55dc-1b13-4022-ba07-cea465ec604f"
      },
      "execution_count": null,
      "outputs": [
        {
          "output_type": "execute_result",
          "data": {
            "text/plain": [
              "(87168, 102)"
            ]
          },
          "metadata": {},
          "execution_count": 9
        }
      ]
    },
    {
      "cell_type": "code",
      "source": [
        "null_counts = grade.isnull().sum()\n",
        "print(null_counts)"
      ],
      "metadata": {
        "colab": {
          "base_uri": "https://localhost:8080/"
        },
        "id": "zhZ1J6wam2ri",
        "outputId": "1801c533-4ea0-4ed7-c40a-5d4bad8213c3"
      },
      "execution_count": null,
      "outputs": [
        {
          "output_type": "stream",
          "name": "stdout",
          "text": [
            "loan_amnt                                  0\n",
            "term                                       0\n",
            "int_rate                                   0\n",
            "grade                                      0\n",
            "sub_grade                                  0\n",
            "emp_length                              5477\n",
            "home_ownership                             0\n",
            "annual_inc                                 0\n",
            "verification_status                        0\n",
            "issue_d                                    0\n",
            "desc                                   81675\n",
            "purpose                                    0\n",
            "addr_state                                 0\n",
            "dti                                       68\n",
            "earliest_cr_line                           0\n",
            "fico_range_low                             0\n",
            "fico_range_high                            0\n",
            "inq_last_6mths                             0\n",
            "mths_since_last_delinq                 43342\n",
            "mths_since_last_record                 72529\n",
            "open_acc                                   0\n",
            "pub_rec                                    0\n",
            "revol_util                                93\n",
            "total_acc                                  0\n",
            "mths_since_last_major_derog            63543\n",
            "application_type                           0\n",
            "annual_inc_joint                       82525\n",
            "dti_joint                              82525\n",
            "verification_status_joint              82637\n",
            "tot_coll_amt                            3280\n",
            "tot_cur_bal                             3280\n",
            "open_acc_6m                            37299\n",
            "open_act_il                            37299\n",
            "open_il_12m                            37299\n",
            "open_il_24m                            37299\n",
            "mths_since_rcnt_il                     38718\n",
            "total_bal_il                           37299\n",
            "il_util                                43738\n",
            "open_rv_12m                            37299\n",
            "open_rv_24m                            37299\n",
            "max_bal_bc                             37299\n",
            "all_util                               37311\n",
            "total_rev_hi_lim                        3280\n",
            "inq_fi                                 37299\n",
            "total_cu_tl                            37299\n",
            "inq_last_12m                           37299\n",
            "acc_open_past_24mths                    2470\n",
            "avg_cur_bal                             3284\n",
            "bc_open_to_buy                          3677\n",
            "bc_util                                 3729\n",
            "mo_sin_old_il_acct                      5868\n",
            "mo_sin_old_rev_tl_op                    3280\n",
            "mo_sin_rcnt_rev_tl_op                   3280\n",
            "mo_sin_rcnt_tl                          3280\n",
            "mort_acc                                2470\n",
            "mths_since_recent_bc                    3606\n",
            "mths_since_recent_bc_dlq               66711\n",
            "mths_since_recent_inq                  10102\n",
            "mths_since_recent_revol_delinq         58253\n",
            "num_accts_ever_120_pd                   3280\n",
            "num_actv_bc_tl                          3280\n",
            "num_actv_rev_tl                         3280\n",
            "num_bc_sats                             2785\n",
            "num_bc_tl                               3280\n",
            "num_il_tl                               3280\n",
            "num_op_rev_tl                           3280\n",
            "num_rev_accts                           3280\n",
            "num_rev_tl_bal_gt_0                     3280\n",
            "num_sats                                2785\n",
            "num_tl_120dpd_2m                        6401\n",
            "num_tl_30dpd                            3280\n",
            "num_tl_90g_dpd_24m                      3280\n",
            "num_tl_op_past_12m                      3280\n",
            "pct_tl_nvr_dlq                          3284\n",
            "percent_bc_gt_75                        3692\n",
            "pub_rec_bankruptcies                     137\n",
            "tot_hi_cred_lim                         3280\n",
            "total_bal_ex_mort                       2470\n",
            "total_bc_limit                          2470\n",
            "total_il_high_credit_limit              3280\n",
            "revol_bal_joint                        83038\n",
            "sec_app_fico_range_low                 83038\n",
            "sec_app_fico_range_high                83038\n",
            "sec_app_earliest_cr_line               83038\n",
            "sec_app_inq_last_6mths                 83038\n",
            "sec_app_mort_acc                       83038\n",
            "sec_app_open_acc                       83038\n",
            "sec_app_revol_util                     83121\n",
            "sec_app_open_act_il                    83038\n",
            "sec_app_num_rev_accts                  83038\n",
            "sec_app_chargeoff_within_12_mths       83038\n",
            "sec_app_collections_12_mths_ex_med     83038\n",
            "sec_app_mths_since_last_major_derog    85665\n",
            "hardship_reason                        86538\n",
            "hardship_payoff_balance_amount         86538\n",
            "hardship_last_payment_amount           86538\n",
            "debt_settlement_flag_date              85100\n",
            "settlement_status                      85100\n",
            "settlement_date                        85100\n",
            "settlement_amount                      85100\n",
            "settlement_percentage                  85100\n",
            "settlement_term                        85100\n",
            "dtype: int64\n"
          ]
        }
      ]
    },
    {
      "cell_type": "markdown",
      "source": [
        "There are so many missing values"
      ],
      "metadata": {
        "id": "JTDqT12JEPZG"
      }
    },
    {
      "cell_type": "code",
      "source": [
        "grade = grade.drop(grade[grade[\"application_type\"] == \"Joint App\"].index)"
      ],
      "metadata": {
        "id": "kvFxpj_PFpZ0"
      },
      "execution_count": null,
      "outputs": []
    },
    {
      "cell_type": "code",
      "source": [
        "grade[\"application_type\"].unique()"
      ],
      "metadata": {
        "colab": {
          "base_uri": "https://localhost:8080/"
        },
        "id": "1KQDg-GAE67F",
        "outputId": "3c3a391b-d75c-4b8c-d279-fbb6c07d7c4d"
      },
      "execution_count": null,
      "outputs": [
        {
          "output_type": "execute_result",
          "data": {
            "text/plain": [
              "array(['Individual'], dtype=object)"
            ]
          },
          "metadata": {},
          "execution_count": 12
        }
      ]
    },
    {
      "cell_type": "code",
      "source": [
        "threshold = 48000\n",
        "null_counts = grade.isnull().sum()\n",
        "columns_to_drop = null_counts[null_counts > threshold].index\n",
        "grade.drop(columns=columns_to_drop, inplace=True)"
      ],
      "metadata": {
        "id": "uvGM4MNkm2up"
      },
      "execution_count": null,
      "outputs": []
    },
    {
      "cell_type": "code",
      "source": [
        "grade.shape"
      ],
      "metadata": {
        "colab": {
          "base_uri": "https://localhost:8080/"
        },
        "id": "yFKxfGoIm2xh",
        "outputId": "b01cc029-ebb5-4c26-b5aa-abdffe8853d5"
      },
      "execution_count": null,
      "outputs": [
        {
          "output_type": "execute_result",
          "data": {
            "text/plain": [
              "(82525, 72)"
            ]
          },
          "metadata": {},
          "execution_count": 14
        }
      ]
    },
    {
      "cell_type": "code",
      "source": [
        "threshold = 35000\n",
        "grade= grade.dropna(thresh=len(grade) - threshold, axis=1)\n",
        "\n"
      ],
      "metadata": {
        "id": "OVkcvhxbGGZu"
      },
      "execution_count": null,
      "outputs": []
    },
    {
      "cell_type": "code",
      "source": [
        "# Fill missing values in numeric columns with the mean\n",
        "numeric_columns = ['emp_length', 'revol_util', 'tot_coll_amt', 'tot_cur_bal', 'total_rev_hi_lim', 'acc_open_past_24mths', 'avg_cur_bal', 'bc_open_to_buy', 'bc_util', 'mo_sin_old_il_acct', 'mo_sin_old_rev_tl_op', 'mo_sin_rcnt_rev_tl_op', 'mo_sin_rcnt_tl', 'mort_acc', 'mths_since_recent_bc', 'mths_since_recent_inq', 'num_accts_ever_120_pd', 'num_actv_bc_tl', 'num_actv_rev_tl', 'num_bc_sats', 'num_bc_tl', 'num_il_tl', 'num_op_rev_tl', 'num_rev_accts', 'num_rev_tl_bal_gt_0', 'num_sats', 'num_tl_120dpd_2m', 'num_tl_30dpd', 'num_tl_90g_dpd_24m', 'num_tl_op_past_12m', 'pct_tl_nvr_dlq', 'percent_bc_gt_75', 'pub_rec_bankruptcies', 'tot_hi_cred_lim', 'total_bal_ex_mort', 'total_bc_limit', 'total_il_high_credit_limit']\n",
        "grade[numeric_columns] = grade[numeric_columns].fillna(grade[numeric_columns].mean())\n",
        "\n",
        "# Fill missing values in categorical columns with the mode\n",
        "categorical_columns = ['emp_length']\n",
        "grade[categorical_columns] = grade[categorical_columns].fillna(grade[categorical_columns].mode().iloc[0])\n"
      ],
      "metadata": {
        "colab": {
          "base_uri": "https://localhost:8080/"
        },
        "id": "EAypL7z8V5HD",
        "outputId": "ee679e18-204d-4185-dd75-6a548c53f820"
      },
      "execution_count": null,
      "outputs": [
        {
          "output_type": "stream",
          "name": "stderr",
          "text": [
            "<ipython-input-16-4910ed3923cb>:3: FutureWarning: The default value of numeric_only in DataFrame.mean is deprecated. In a future version, it will default to False. In addition, specifying 'numeric_only=None' is deprecated. Select only valid columns or specify the value of numeric_only to silence this warning.\n",
            "  grade[numeric_columns] = grade[numeric_columns].fillna(grade[numeric_columns].mean())\n"
          ]
        }
      ]
    },
    {
      "cell_type": "code",
      "source": [
        "grade.isna().sum()"
      ],
      "metadata": {
        "colab": {
          "base_uri": "https://localhost:8080/"
        },
        "id": "9SGOwUXhm7Eq",
        "outputId": "ad629577-8cc6-4713-a017-7b97f0ccd282"
      },
      "execution_count": null,
      "outputs": [
        {
          "output_type": "execute_result",
          "data": {
            "text/plain": [
              "loan_amnt                     0\n",
              "term                          0\n",
              "int_rate                      0\n",
              "grade                         0\n",
              "sub_grade                     0\n",
              "emp_length                    0\n",
              "home_ownership                0\n",
              "annual_inc                    0\n",
              "verification_status           0\n",
              "issue_d                       0\n",
              "purpose                       0\n",
              "addr_state                    0\n",
              "dti                           0\n",
              "earliest_cr_line              0\n",
              "fico_range_low                0\n",
              "fico_range_high               0\n",
              "inq_last_6mths                0\n",
              "open_acc                      0\n",
              "pub_rec                       0\n",
              "revol_util                    0\n",
              "total_acc                     0\n",
              "application_type              0\n",
              "tot_coll_amt                  0\n",
              "tot_cur_bal                   0\n",
              "total_rev_hi_lim              0\n",
              "acc_open_past_24mths          0\n",
              "avg_cur_bal                   0\n",
              "bc_open_to_buy                0\n",
              "bc_util                       0\n",
              "mo_sin_old_il_acct            0\n",
              "mo_sin_old_rev_tl_op          0\n",
              "mo_sin_rcnt_rev_tl_op         0\n",
              "mo_sin_rcnt_tl                0\n",
              "mort_acc                      0\n",
              "mths_since_recent_bc          0\n",
              "mths_since_recent_inq         0\n",
              "num_accts_ever_120_pd         0\n",
              "num_actv_bc_tl                0\n",
              "num_actv_rev_tl               0\n",
              "num_bc_sats                   0\n",
              "num_bc_tl                     0\n",
              "num_il_tl                     0\n",
              "num_op_rev_tl                 0\n",
              "num_rev_accts                 0\n",
              "num_rev_tl_bal_gt_0           0\n",
              "num_sats                      0\n",
              "num_tl_120dpd_2m              0\n",
              "num_tl_30dpd                  0\n",
              "num_tl_90g_dpd_24m            0\n",
              "num_tl_op_past_12m            0\n",
              "pct_tl_nvr_dlq                0\n",
              "percent_bc_gt_75              0\n",
              "pub_rec_bankruptcies          0\n",
              "tot_hi_cred_lim               0\n",
              "total_bal_ex_mort             0\n",
              "total_bc_limit                0\n",
              "total_il_high_credit_limit    0\n",
              "dtype: int64"
            ]
          },
          "metadata": {},
          "execution_count": 17
        }
      ]
    },
    {
      "cell_type": "code",
      "source": [
        "grade.shape"
      ],
      "metadata": {
        "colab": {
          "base_uri": "https://localhost:8080/"
        },
        "id": "mKlbVQ1wV7lT",
        "outputId": "59460b46-b43c-44b6-e9bf-167046177f87"
      },
      "execution_count": null,
      "outputs": [
        {
          "output_type": "execute_result",
          "data": {
            "text/plain": [
              "(82525, 57)"
            ]
          },
          "metadata": {},
          "execution_count": 18
        }
      ]
    },
    {
      "cell_type": "code",
      "source": [
        "grade = grade.drop(columns=[\"sub_grade\", \"int_rate\"])"
      ],
      "metadata": {
        "id": "6vd9gWDvWPZ6"
      },
      "execution_count": null,
      "outputs": []
    },
    {
      "cell_type": "code",
      "source": [
        "grade_mapping = {'A': 0, 'B': 1, 'C': 2, 'D': 3, 'E': 4, 'F': 5, 'G': 6}\n",
        "# Map the \"grade\" column using the defined mapping\n",
        "grade['grade'] = grade['grade'].map(grade_mapping)"
      ],
      "metadata": {
        "id": "93lOmmkyWRjb"
      },
      "execution_count": null,
      "outputs": []
    },
    {
      "cell_type": "code",
      "source": [
        "grade['grade'].unique()"
      ],
      "metadata": {
        "colab": {
          "base_uri": "https://localhost:8080/"
        },
        "id": "O4IRhZGrWrA7",
        "outputId": "de9b94ab-f15b-4323-9378-fb07899b55ae"
      },
      "execution_count": null,
      "outputs": [
        {
          "output_type": "execute_result",
          "data": {
            "text/plain": [
              "array([0, 1, 2, 3, 4, 5, 6])"
            ]
          },
          "metadata": {},
          "execution_count": 21
        }
      ]
    },
    {
      "cell_type": "code",
      "source": [
        "correlation_matrix = grade.corr()"
      ],
      "metadata": {
        "colab": {
          "base_uri": "https://localhost:8080/"
        },
        "id": "libGR2lC_rUu",
        "outputId": "cfd2189c-8ba4-4e82-d36e-45f6aaf6b7f0"
      },
      "execution_count": null,
      "outputs": [
        {
          "output_type": "stream",
          "name": "stderr",
          "text": [
            "<ipython-input-22-c33aa26bf2f7>:1: FutureWarning: The default value of numeric_only in DataFrame.corr is deprecated. In a future version, it will default to False. Select only valid columns or specify the value of numeric_only to silence this warning.\n",
            "  correlation_matrix = grade.corr()\n"
          ]
        }
      ]
    },
    {
      "cell_type": "code",
      "source": [
        "num_top_correlated = 20\n",
        "top_correlated_features = correlation_matrix.nlargest(num_top_correlated, 'grade')['grade'].index\n"
      ],
      "metadata": {
        "id": "1dFIk3n5_wDW"
      },
      "execution_count": null,
      "outputs": []
    },
    {
      "cell_type": "code",
      "source": [
        "features = grade.select_dtypes(include='number').columns.tolist()\n",
        "mi_scores = mutual_info_classif(grade[features], grade['grade'])\n"
      ],
      "metadata": {
        "id": "gCK-_p1qAVQn"
      },
      "execution_count": null,
      "outputs": []
    },
    {
      "cell_type": "code",
      "source": [
        "# Select the top M features based on mutual information\n",
        "num_top_mi = 20\n",
        "top_mi_features = grade[features].columns[np.argsort(mi_scores)][::-1][:num_top_mi]\n"
      ],
      "metadata": {
        "id": "ZHdub0_NIXBu"
      },
      "execution_count": null,
      "outputs": []
    },
    {
      "cell_type": "code",
      "source": [
        "# Combine the top correlated features and top mutual information features\n",
        "selected_features = list(set(top_correlated_features).union(set(top_mi_features)))\n"
      ],
      "metadata": {
        "id": "j7neZzjiImx1"
      },
      "execution_count": null,
      "outputs": []
    },
    {
      "cell_type": "code",
      "source": [
        "selected_features\n"
      ],
      "metadata": {
        "colab": {
          "base_uri": "https://localhost:8080/"
        },
        "id": "hdu08slxItt1",
        "outputId": "7cbf0ae2-450e-44b9-d3ba-6e5f150ebb91"
      },
      "execution_count": null,
      "outputs": [
        {
          "output_type": "execute_result",
          "data": {
            "text/plain": [
              "['num_rev_tl_bal_gt_0',\n",
              " 'fico_range_low',\n",
              " 'total_bc_limit',\n",
              " 'num_sats',\n",
              " 'mths_since_recent_inq',\n",
              " 'fico_range_high',\n",
              " 'bc_util',\n",
              " 'total_rev_hi_lim',\n",
              " 'num_actv_rev_tl',\n",
              " 'total_bal_ex_mort',\n",
              " 'loan_amnt',\n",
              " 'num_il_tl',\n",
              " 'num_tl_90g_dpd_24m',\n",
              " 'tot_hi_cred_lim',\n",
              " 'pub_rec',\n",
              " 'open_acc',\n",
              " 'mo_sin_rcnt_tl',\n",
              " 'inq_last_6mths',\n",
              " 'grade',\n",
              " 'num_accts_ever_120_pd',\n",
              " 'dti',\n",
              " 'percent_bc_gt_75',\n",
              " 'bc_open_to_buy',\n",
              " 'num_tl_op_past_12m',\n",
              " 'revol_util',\n",
              " 'mo_sin_old_rev_tl_op',\n",
              " 'acc_open_past_24mths',\n",
              " 'num_actv_bc_tl',\n",
              " 'mo_sin_rcnt_rev_tl_op',\n",
              " 'pub_rec_bankruptcies',\n",
              " 'avg_cur_bal']"
            ]
          },
          "metadata": {},
          "execution_count": 27
        }
      ]
    },
    {
      "cell_type": "code",
      "source": [
        "additional_append= [\"annual_inc\", \"emp_length\", \"purpose\", \"term\", \"verification_status\",\"grade\",\"earliest_cr_line\",\"issue_d\"]\n",
        "\n",
        "for col in additional_append:\n",
        "    if col not in selected_features:\n",
        "        selected_features.append(col)"
      ],
      "metadata": {
        "id": "3H2WTXoaJz91"
      },
      "execution_count": null,
      "outputs": []
    },
    {
      "cell_type": "code",
      "source": [
        "grade = grade[selected_features].copy()"
      ],
      "metadata": {
        "id": "3EycecwzaXVT"
      },
      "execution_count": null,
      "outputs": []
    },
    {
      "cell_type": "code",
      "source": [
        "grade.shape"
      ],
      "metadata": {
        "colab": {
          "base_uri": "https://localhost:8080/"
        },
        "id": "i0DOrLtZagla",
        "outputId": "7d9ae2eb-7b7b-436d-fbe7-f41a4dc4d6e7"
      },
      "execution_count": null,
      "outputs": [
        {
          "output_type": "execute_result",
          "data": {
            "text/plain": [
              "(82525, 38)"
            ]
          },
          "metadata": {},
          "execution_count": 30
        }
      ]
    },
    {
      "cell_type": "code",
      "source": [
        "grade.head()"
      ],
      "metadata": {
        "colab": {
          "base_uri": "https://localhost:8080/",
          "height": 357
        },
        "id": "opKFh4W5bKCy",
        "outputId": "356b1240-6bae-44c0-e3d4-a42676c25ef9"
      },
      "execution_count": null,
      "outputs": [
        {
          "output_type": "execute_result",
          "data": {
            "text/plain": [
              "   num_rev_tl_bal_gt_0  fico_range_low  total_bc_limit   num_sats  \\\n",
              "0             2.000000           715.0     6000.000000  12.000000   \n",
              "1             7.000000           710.0    66300.000000  18.000000   \n",
              "2             5.000000           685.0     3000.000000   8.000000   \n",
              "3             2.000000           755.0     9800.000000  11.000000   \n",
              "4             5.796921           750.0    20792.373943  11.797993   \n",
              "\n",
              "   mths_since_recent_inq  fico_range_high    bc_util  total_rev_hi_lim  \\\n",
              "0              14.000000            719.0  81.800000       9500.000000   \n",
              "1              17.000000            714.0  63.500000      99800.000000   \n",
              "2               9.000000            689.0  52.400000       9200.000000   \n",
              "3               6.140808            759.0  15.300000      16300.000000   \n",
              "4               6.140808            754.0  61.849166      32133.717951   \n",
              "\n",
              "   num_actv_rev_tl  total_bal_ex_mort  loan_amnt  num_il_tl  \\\n",
              "0         2.000000      115835.000000     6000.0   19.00000   \n",
              "1         7.000000       93541.000000    20000.0    9.00000   \n",
              "2         5.000000       24050.000000    10000.0    2.00000   \n",
              "3         2.000000       60135.000000    20000.0    8.00000   \n",
              "4         5.846716       52342.265293     7000.0    8.64399   \n",
              "\n",
              "   num_tl_90g_dpd_24m  tot_hi_cred_lim  pub_rec  open_acc  mo_sin_rcnt_tl  \\\n",
              "0            0.000000    567695.000000      0.0      12.0        9.000000   \n",
              "1            0.000000    613451.000000      0.0      18.0       10.000000   \n",
              "2            0.000000     34168.000000      0.0       8.0       16.000000   \n",
              "3            0.000000    438129.000000      0.0      11.0        5.000000   \n",
              "4            0.093558    167822.196139      0.0      12.0        7.324159   \n",
              "\n",
              "   inq_last_6mths  grade  num_accts_ever_120_pd    dti  percent_bc_gt_75  \\\n",
              "0             0.0      0               2.000000  20.14        100.000000   \n",
              "1             0.0      0               0.000000  34.86         44.400000   \n",
              "2             0.0      0               0.000000  13.78          0.000000   \n",
              "3             0.0      0               0.000000  18.57          0.000000   \n",
              "4             0.0      0               0.534507  15.39         47.574074   \n",
              "\n",
              "   bc_open_to_buy  num_tl_op_past_12m  revol_util  mo_sin_old_rev_tl_op  \\\n",
              "0     1089.000000            2.000000        72.3            247.000000   \n",
              "1    24167.000000            1.000000        61.9            257.000000   \n",
              "2     1428.000000            0.000000        53.1            151.000000   \n",
              "3     8299.000000            1.000000        38.1            219.000000   \n",
              "4     9354.768724            2.456735        22.1            173.179885   \n",
              "\n",
              "   acc_open_past_24mths  num_actv_bc_tl  mo_sin_rcnt_rev_tl_op  \\\n",
              "0              6.000000        1.000000              14.000000   \n",
              "1              3.000000        6.000000              10.000000   \n",
              "2              5.000000        2.000000              16.000000   \n",
              "3              2.000000        1.000000              77.000000   \n",
              "4              5.108263        3.732311              12.553271   \n",
              "\n",
              "   pub_rec_bankruptcies   avg_cur_bal  annual_inc emp_length  \\\n",
              "0                   0.0  40010.000000    162000.0  10+ years   \n",
              "1                   0.0  25961.000000    110000.0    2 years   \n",
              "2                   0.0   3006.000000     60000.0    4 years   \n",
              "3                   0.0  38629.000000    122200.0  10+ years   \n",
              "4                   0.0  12694.035752     90000.0  10+ years   \n",
              "\n",
              "              purpose        term verification_status earliest_cr_line  \\\n",
              "0               other   36 months        Not Verified         Nov-1997   \n",
              "1         credit_card   36 months        Not Verified         Oct-1996   \n",
              "2         credit_card   36 months        Not Verified         Sep-2005   \n",
              "3  debt_consolidation   36 months        Not Verified         Jul-1990   \n",
              "4      major_purchase   36 months        Not Verified         Dec-1976   \n",
              "\n",
              "    issue_d  \n",
              "0  Jun-2018  \n",
              "1  Mar-2018  \n",
              "2  May-2018  \n",
              "3  Jul-2017  \n",
              "4  Jul-2010  "
            ],
            "text/html": [
              "\n",
              "\n",
              "  <div id=\"df-90a725c2-3166-4c2a-8820-4acc9090f154\">\n",
              "    <div class=\"colab-df-container\">\n",
              "      <div>\n",
              "<style scoped>\n",
              "    .dataframe tbody tr th:only-of-type {\n",
              "        vertical-align: middle;\n",
              "    }\n",
              "\n",
              "    .dataframe tbody tr th {\n",
              "        vertical-align: top;\n",
              "    }\n",
              "\n",
              "    .dataframe thead th {\n",
              "        text-align: right;\n",
              "    }\n",
              "</style>\n",
              "<table border=\"1\" class=\"dataframe\">\n",
              "  <thead>\n",
              "    <tr style=\"text-align: right;\">\n",
              "      <th></th>\n",
              "      <th>num_rev_tl_bal_gt_0</th>\n",
              "      <th>fico_range_low</th>\n",
              "      <th>total_bc_limit</th>\n",
              "      <th>num_sats</th>\n",
              "      <th>mths_since_recent_inq</th>\n",
              "      <th>fico_range_high</th>\n",
              "      <th>bc_util</th>\n",
              "      <th>total_rev_hi_lim</th>\n",
              "      <th>num_actv_rev_tl</th>\n",
              "      <th>total_bal_ex_mort</th>\n",
              "      <th>loan_amnt</th>\n",
              "      <th>num_il_tl</th>\n",
              "      <th>num_tl_90g_dpd_24m</th>\n",
              "      <th>tot_hi_cred_lim</th>\n",
              "      <th>pub_rec</th>\n",
              "      <th>open_acc</th>\n",
              "      <th>mo_sin_rcnt_tl</th>\n",
              "      <th>inq_last_6mths</th>\n",
              "      <th>grade</th>\n",
              "      <th>num_accts_ever_120_pd</th>\n",
              "      <th>dti</th>\n",
              "      <th>percent_bc_gt_75</th>\n",
              "      <th>bc_open_to_buy</th>\n",
              "      <th>num_tl_op_past_12m</th>\n",
              "      <th>revol_util</th>\n",
              "      <th>mo_sin_old_rev_tl_op</th>\n",
              "      <th>acc_open_past_24mths</th>\n",
              "      <th>num_actv_bc_tl</th>\n",
              "      <th>mo_sin_rcnt_rev_tl_op</th>\n",
              "      <th>pub_rec_bankruptcies</th>\n",
              "      <th>avg_cur_bal</th>\n",
              "      <th>annual_inc</th>\n",
              "      <th>emp_length</th>\n",
              "      <th>purpose</th>\n",
              "      <th>term</th>\n",
              "      <th>verification_status</th>\n",
              "      <th>earliest_cr_line</th>\n",
              "      <th>issue_d</th>\n",
              "    </tr>\n",
              "  </thead>\n",
              "  <tbody>\n",
              "    <tr>\n",
              "      <th>0</th>\n",
              "      <td>2.000000</td>\n",
              "      <td>715.0</td>\n",
              "      <td>6000.000000</td>\n",
              "      <td>12.000000</td>\n",
              "      <td>14.000000</td>\n",
              "      <td>719.0</td>\n",
              "      <td>81.800000</td>\n",
              "      <td>9500.000000</td>\n",
              "      <td>2.000000</td>\n",
              "      <td>115835.000000</td>\n",
              "      <td>6000.0</td>\n",
              "      <td>19.00000</td>\n",
              "      <td>0.000000</td>\n",
              "      <td>567695.000000</td>\n",
              "      <td>0.0</td>\n",
              "      <td>12.0</td>\n",
              "      <td>9.000000</td>\n",
              "      <td>0.0</td>\n",
              "      <td>0</td>\n",
              "      <td>2.000000</td>\n",
              "      <td>20.14</td>\n",
              "      <td>100.000000</td>\n",
              "      <td>1089.000000</td>\n",
              "      <td>2.000000</td>\n",
              "      <td>72.3</td>\n",
              "      <td>247.000000</td>\n",
              "      <td>6.000000</td>\n",
              "      <td>1.000000</td>\n",
              "      <td>14.000000</td>\n",
              "      <td>0.0</td>\n",
              "      <td>40010.000000</td>\n",
              "      <td>162000.0</td>\n",
              "      <td>10+ years</td>\n",
              "      <td>other</td>\n",
              "      <td>36 months</td>\n",
              "      <td>Not Verified</td>\n",
              "      <td>Nov-1997</td>\n",
              "      <td>Jun-2018</td>\n",
              "    </tr>\n",
              "    <tr>\n",
              "      <th>1</th>\n",
              "      <td>7.000000</td>\n",
              "      <td>710.0</td>\n",
              "      <td>66300.000000</td>\n",
              "      <td>18.000000</td>\n",
              "      <td>17.000000</td>\n",
              "      <td>714.0</td>\n",
              "      <td>63.500000</td>\n",
              "      <td>99800.000000</td>\n",
              "      <td>7.000000</td>\n",
              "      <td>93541.000000</td>\n",
              "      <td>20000.0</td>\n",
              "      <td>9.00000</td>\n",
              "      <td>0.000000</td>\n",
              "      <td>613451.000000</td>\n",
              "      <td>0.0</td>\n",
              "      <td>18.0</td>\n",
              "      <td>10.000000</td>\n",
              "      <td>0.0</td>\n",
              "      <td>0</td>\n",
              "      <td>0.000000</td>\n",
              "      <td>34.86</td>\n",
              "      <td>44.400000</td>\n",
              "      <td>24167.000000</td>\n",
              "      <td>1.000000</td>\n",
              "      <td>61.9</td>\n",
              "      <td>257.000000</td>\n",
              "      <td>3.000000</td>\n",
              "      <td>6.000000</td>\n",
              "      <td>10.000000</td>\n",
              "      <td>0.0</td>\n",
              "      <td>25961.000000</td>\n",
              "      <td>110000.0</td>\n",
              "      <td>2 years</td>\n",
              "      <td>credit_card</td>\n",
              "      <td>36 months</td>\n",
              "      <td>Not Verified</td>\n",
              "      <td>Oct-1996</td>\n",
              "      <td>Mar-2018</td>\n",
              "    </tr>\n",
              "    <tr>\n",
              "      <th>2</th>\n",
              "      <td>5.000000</td>\n",
              "      <td>685.0</td>\n",
              "      <td>3000.000000</td>\n",
              "      <td>8.000000</td>\n",
              "      <td>9.000000</td>\n",
              "      <td>689.0</td>\n",
              "      <td>52.400000</td>\n",
              "      <td>9200.000000</td>\n",
              "      <td>5.000000</td>\n",
              "      <td>24050.000000</td>\n",
              "      <td>10000.0</td>\n",
              "      <td>2.00000</td>\n",
              "      <td>0.000000</td>\n",
              "      <td>34168.000000</td>\n",
              "      <td>0.0</td>\n",
              "      <td>8.0</td>\n",
              "      <td>16.000000</td>\n",
              "      <td>0.0</td>\n",
              "      <td>0</td>\n",
              "      <td>0.000000</td>\n",
              "      <td>13.78</td>\n",
              "      <td>0.000000</td>\n",
              "      <td>1428.000000</td>\n",
              "      <td>0.000000</td>\n",
              "      <td>53.1</td>\n",
              "      <td>151.000000</td>\n",
              "      <td>5.000000</td>\n",
              "      <td>2.000000</td>\n",
              "      <td>16.000000</td>\n",
              "      <td>0.0</td>\n",
              "      <td>3006.000000</td>\n",
              "      <td>60000.0</td>\n",
              "      <td>4 years</td>\n",
              "      <td>credit_card</td>\n",
              "      <td>36 months</td>\n",
              "      <td>Not Verified</td>\n",
              "      <td>Sep-2005</td>\n",
              "      <td>May-2018</td>\n",
              "    </tr>\n",
              "    <tr>\n",
              "      <th>3</th>\n",
              "      <td>2.000000</td>\n",
              "      <td>755.0</td>\n",
              "      <td>9800.000000</td>\n",
              "      <td>11.000000</td>\n",
              "      <td>6.140808</td>\n",
              "      <td>759.0</td>\n",
              "      <td>15.300000</td>\n",
              "      <td>16300.000000</td>\n",
              "      <td>2.000000</td>\n",
              "      <td>60135.000000</td>\n",
              "      <td>20000.0</td>\n",
              "      <td>8.00000</td>\n",
              "      <td>0.000000</td>\n",
              "      <td>438129.000000</td>\n",
              "      <td>0.0</td>\n",
              "      <td>11.0</td>\n",
              "      <td>5.000000</td>\n",
              "      <td>0.0</td>\n",
              "      <td>0</td>\n",
              "      <td>0.000000</td>\n",
              "      <td>18.57</td>\n",
              "      <td>0.000000</td>\n",
              "      <td>8299.000000</td>\n",
              "      <td>1.000000</td>\n",
              "      <td>38.1</td>\n",
              "      <td>219.000000</td>\n",
              "      <td>2.000000</td>\n",
              "      <td>1.000000</td>\n",
              "      <td>77.000000</td>\n",
              "      <td>0.0</td>\n",
              "      <td>38629.000000</td>\n",
              "      <td>122200.0</td>\n",
              "      <td>10+ years</td>\n",
              "      <td>debt_consolidation</td>\n",
              "      <td>36 months</td>\n",
              "      <td>Not Verified</td>\n",
              "      <td>Jul-1990</td>\n",
              "      <td>Jul-2017</td>\n",
              "    </tr>\n",
              "    <tr>\n",
              "      <th>4</th>\n",
              "      <td>5.796921</td>\n",
              "      <td>750.0</td>\n",
              "      <td>20792.373943</td>\n",
              "      <td>11.797993</td>\n",
              "      <td>6.140808</td>\n",
              "      <td>754.0</td>\n",
              "      <td>61.849166</td>\n",
              "      <td>32133.717951</td>\n",
              "      <td>5.846716</td>\n",
              "      <td>52342.265293</td>\n",
              "      <td>7000.0</td>\n",
              "      <td>8.64399</td>\n",
              "      <td>0.093558</td>\n",
              "      <td>167822.196139</td>\n",
              "      <td>0.0</td>\n",
              "      <td>12.0</td>\n",
              "      <td>7.324159</td>\n",
              "      <td>0.0</td>\n",
              "      <td>0</td>\n",
              "      <td>0.534507</td>\n",
              "      <td>15.39</td>\n",
              "      <td>47.574074</td>\n",
              "      <td>9354.768724</td>\n",
              "      <td>2.456735</td>\n",
              "      <td>22.1</td>\n",
              "      <td>173.179885</td>\n",
              "      <td>5.108263</td>\n",
              "      <td>3.732311</td>\n",
              "      <td>12.553271</td>\n",
              "      <td>0.0</td>\n",
              "      <td>12694.035752</td>\n",
              "      <td>90000.0</td>\n",
              "      <td>10+ years</td>\n",
              "      <td>major_purchase</td>\n",
              "      <td>36 months</td>\n",
              "      <td>Not Verified</td>\n",
              "      <td>Dec-1976</td>\n",
              "      <td>Jul-2010</td>\n",
              "    </tr>\n",
              "  </tbody>\n",
              "</table>\n",
              "</div>\n",
              "      <button class=\"colab-df-convert\" onclick=\"convertToInteractive('df-90a725c2-3166-4c2a-8820-4acc9090f154')\"\n",
              "              title=\"Convert this dataframe to an interactive table.\"\n",
              "              style=\"display:none;\">\n",
              "\n",
              "  <svg xmlns=\"http://www.w3.org/2000/svg\" height=\"24px\"viewBox=\"0 0 24 24\"\n",
              "       width=\"24px\">\n",
              "    <path d=\"M0 0h24v24H0V0z\" fill=\"none\"/>\n",
              "    <path d=\"M18.56 5.44l.94 2.06.94-2.06 2.06-.94-2.06-.94-.94-2.06-.94 2.06-2.06.94zm-11 1L8.5 8.5l.94-2.06 2.06-.94-2.06-.94L8.5 2.5l-.94 2.06-2.06.94zm10 10l.94 2.06.94-2.06 2.06-.94-2.06-.94-.94-2.06-.94 2.06-2.06.94z\"/><path d=\"M17.41 7.96l-1.37-1.37c-.4-.4-.92-.59-1.43-.59-.52 0-1.04.2-1.43.59L10.3 9.45l-7.72 7.72c-.78.78-.78 2.05 0 2.83L4 21.41c.39.39.9.59 1.41.59.51 0 1.02-.2 1.41-.59l7.78-7.78 2.81-2.81c.8-.78.8-2.07 0-2.86zM5.41 20L4 18.59l7.72-7.72 1.47 1.35L5.41 20z\"/>\n",
              "  </svg>\n",
              "      </button>\n",
              "\n",
              "\n",
              "\n",
              "    <div id=\"df-3e034478-e8f0-4bfa-b0ce-8d52987ad1bf\">\n",
              "      <button class=\"colab-df-quickchart\" onclick=\"quickchart('df-3e034478-e8f0-4bfa-b0ce-8d52987ad1bf')\"\n",
              "              title=\"Suggest charts.\"\n",
              "              style=\"display:none;\">\n",
              "\n",
              "<svg xmlns=\"http://www.w3.org/2000/svg\" height=\"24px\"viewBox=\"0 0 24 24\"\n",
              "     width=\"24px\">\n",
              "    <g>\n",
              "        <path d=\"M19 3H5c-1.1 0-2 .9-2 2v14c0 1.1.9 2 2 2h14c1.1 0 2-.9 2-2V5c0-1.1-.9-2-2-2zM9 17H7v-7h2v7zm4 0h-2V7h2v10zm4 0h-2v-4h2v4z\"/>\n",
              "    </g>\n",
              "</svg>\n",
              "      </button>\n",
              "    </div>\n",
              "\n",
              "<style>\n",
              "  .colab-df-quickchart {\n",
              "    background-color: #E8F0FE;\n",
              "    border: none;\n",
              "    border-radius: 50%;\n",
              "    cursor: pointer;\n",
              "    display: none;\n",
              "    fill: #1967D2;\n",
              "    height: 32px;\n",
              "    padding: 0 0 0 0;\n",
              "    width: 32px;\n",
              "  }\n",
              "\n",
              "  .colab-df-quickchart:hover {\n",
              "    background-color: #E2EBFA;\n",
              "    box-shadow: 0px 1px 2px rgba(60, 64, 67, 0.3), 0px 1px 3px 1px rgba(60, 64, 67, 0.15);\n",
              "    fill: #174EA6;\n",
              "  }\n",
              "\n",
              "  [theme=dark] .colab-df-quickchart {\n",
              "    background-color: #3B4455;\n",
              "    fill: #D2E3FC;\n",
              "  }\n",
              "\n",
              "  [theme=dark] .colab-df-quickchart:hover {\n",
              "    background-color: #434B5C;\n",
              "    box-shadow: 0px 1px 3px 1px rgba(0, 0, 0, 0.15);\n",
              "    filter: drop-shadow(0px 1px 2px rgba(0, 0, 0, 0.3));\n",
              "    fill: #FFFFFF;\n",
              "  }\n",
              "</style>\n",
              "\n",
              "    <script>\n",
              "      async function quickchart(key) {\n",
              "        const containerElement = document.querySelector('#' + key);\n",
              "        const charts = await google.colab.kernel.invokeFunction(\n",
              "            'suggestCharts', [key], {});\n",
              "      }\n",
              "    </script>\n",
              "\n",
              "      <script>\n",
              "\n",
              "function displayQuickchartButton(domScope) {\n",
              "  let quickchartButtonEl =\n",
              "    domScope.querySelector('#df-3e034478-e8f0-4bfa-b0ce-8d52987ad1bf button.colab-df-quickchart');\n",
              "  quickchartButtonEl.style.display =\n",
              "    google.colab.kernel.accessAllowed ? 'block' : 'none';\n",
              "}\n",
              "\n",
              "        displayQuickchartButton(document);\n",
              "      </script>\n",
              "      <style>\n",
              "    .colab-df-container {\n",
              "      display:flex;\n",
              "      flex-wrap:wrap;\n",
              "      gap: 12px;\n",
              "    }\n",
              "\n",
              "    .colab-df-convert {\n",
              "      background-color: #E8F0FE;\n",
              "      border: none;\n",
              "      border-radius: 50%;\n",
              "      cursor: pointer;\n",
              "      display: none;\n",
              "      fill: #1967D2;\n",
              "      height: 32px;\n",
              "      padding: 0 0 0 0;\n",
              "      width: 32px;\n",
              "    }\n",
              "\n",
              "    .colab-df-convert:hover {\n",
              "      background-color: #E2EBFA;\n",
              "      box-shadow: 0px 1px 2px rgba(60, 64, 67, 0.3), 0px 1px 3px 1px rgba(60, 64, 67, 0.15);\n",
              "      fill: #174EA6;\n",
              "    }\n",
              "\n",
              "    [theme=dark] .colab-df-convert {\n",
              "      background-color: #3B4455;\n",
              "      fill: #D2E3FC;\n",
              "    }\n",
              "\n",
              "    [theme=dark] .colab-df-convert:hover {\n",
              "      background-color: #434B5C;\n",
              "      box-shadow: 0px 1px 3px 1px rgba(0, 0, 0, 0.15);\n",
              "      filter: drop-shadow(0px 1px 2px rgba(0, 0, 0, 0.3));\n",
              "      fill: #FFFFFF;\n",
              "    }\n",
              "  </style>\n",
              "\n",
              "      <script>\n",
              "        const buttonEl =\n",
              "          document.querySelector('#df-90a725c2-3166-4c2a-8820-4acc9090f154 button.colab-df-convert');\n",
              "        buttonEl.style.display =\n",
              "          google.colab.kernel.accessAllowed ? 'block' : 'none';\n",
              "\n",
              "        async function convertToInteractive(key) {\n",
              "          const element = document.querySelector('#df-90a725c2-3166-4c2a-8820-4acc9090f154');\n",
              "          const dataTable =\n",
              "            await google.colab.kernel.invokeFunction('convertToInteractive',\n",
              "                                                     [key], {});\n",
              "          if (!dataTable) return;\n",
              "\n",
              "          const docLinkHtml = 'Like what you see? Visit the ' +\n",
              "            '<a target=\"_blank\" href=https://colab.research.google.com/notebooks/data_table.ipynb>data table notebook</a>'\n",
              "            + ' to learn more about interactive tables.';\n",
              "          element.innerHTML = '';\n",
              "          dataTable['output_type'] = 'display_data';\n",
              "          await google.colab.output.renderOutput(dataTable, element);\n",
              "          const docLink = document.createElement('div');\n",
              "          docLink.innerHTML = docLinkHtml;\n",
              "          element.appendChild(docLink);\n",
              "        }\n",
              "      </script>\n",
              "    </div>\n",
              "  </div>\n"
            ]
          },
          "metadata": {},
          "execution_count": 31
        }
      ]
    },
    {
      "cell_type": "markdown",
      "source": [
        "\n",
        "In this analysis, the top 20 features were selected based on their correlation and mutual information with the loan grading feature. These features showed a strong relationship with the target variable and were deemed important for predicting loan grades accurately.\n",
        "\n",
        "To enhance the modeling process and capture additional relevant information, extra features were appended to the dataset. These additional features were carefully chosen based on their relevance and potential impact on the loan grading prediction.\n",
        "\n",
        "By incorporating these selected features, the modeling process can benefit from the increased predictive power and provide more accurate loan grade predictions. The combination of highly correlated and mutually informative features, along with the carefully selected additional features, aims to improve the model's ability to assess creditworthiness and make more informed lending decisions.\n",
        "\n",
        "Overall, this feature selection and augmentation process enhances the predictive modeling capabilities, allowing for a more comprehensive analysis of loan grading factors and increasing the accuracy of loan grade predictions"
      ],
      "metadata": {
        "id": "pskE_4cFFEDx"
      }
    },
    {
      "cell_type": "code",
      "source": [
        "grade[\"emp_length\"] = grade[\"emp_length\"].str.replace(\"+\", \"\")\n"
      ],
      "metadata": {
        "colab": {
          "base_uri": "https://localhost:8080/"
        },
        "id": "ARfQAYRcfIHW",
        "outputId": "946e2338-c27b-4ded-af1f-a53405fbe8f0"
      },
      "execution_count": null,
      "outputs": [
        {
          "output_type": "stream",
          "name": "stderr",
          "text": [
            "<ipython-input-32-b285d9d7d966>:1: FutureWarning: The default value of regex will change from True to False in a future version. In addition, single character regular expressions will *not* be treated as literal strings when regex=True.\n",
            "  grade[\"emp_length\"] = grade[\"emp_length\"].str.replace(\"+\", \"\")\n"
          ]
        }
      ]
    },
    {
      "cell_type": "code",
      "source": [
        "grade[\"emp_length\"].unique()"
      ],
      "metadata": {
        "colab": {
          "base_uri": "https://localhost:8080/"
        },
        "id": "GN8w9tkDfMvF",
        "outputId": "b81272b3-df02-4a9e-b030-e2600cf95b93"
      },
      "execution_count": null,
      "outputs": [
        {
          "output_type": "execute_result",
          "data": {
            "text/plain": [
              "array(['10 years', '2 years', '4 years', '3 years', '7 years', '9 years',\n",
              "       '< 1 year', '5 years', '1 year', '6 years', '8 years'],\n",
              "      dtype=object)"
            ]
          },
          "metadata": {},
          "execution_count": 33
        }
      ]
    },
    {
      "cell_type": "code",
      "source": [
        "grade[\"verification_status\"].unique()"
      ],
      "metadata": {
        "colab": {
          "base_uri": "https://localhost:8080/"
        },
        "id": "WW7DUWUvcLg5",
        "outputId": "e4544e3d-1075-4f2b-fff7-98281d48de4b"
      },
      "execution_count": null,
      "outputs": [
        {
          "output_type": "execute_result",
          "data": {
            "text/plain": [
              "array(['Not Verified', 'Source Verified', 'Verified'], dtype=object)"
            ]
          },
          "metadata": {},
          "execution_count": 34
        }
      ]
    },
    {
      "cell_type": "code",
      "source": [
        "X = grade.drop([\"grade\"], axis=1)\n",
        "y = grade[\"grade\"]\n"
      ],
      "metadata": {
        "id": "bgssdfG7bj5q"
      },
      "execution_count": null,
      "outputs": []
    },
    {
      "cell_type": "code",
      "source": [
        "X_train, X_test, y_train, y_test = train_test_split(\n",
        "    X, y, test_size=0.3, stratify=y, random_state=42\n",
        ")\n"
      ],
      "metadata": {
        "id": "066ySk_3hYlF"
      },
      "execution_count": null,
      "outputs": []
    },
    {
      "cell_type": "code",
      "source": [
        "def extract_credit_line_year(X: pd.DataFrame) -> pd.DataFrame:\n",
        "    \"\"\"\n",
        "    Extracts the year component from the 'earliest_cr_line' column and adds it as a new column 'credit_line_year'.\n",
        "    \"\"\"\n",
        "    X = X.copy()\n",
        "    X[\"credit_line_year\"] = pd.DatetimeIndex(X[\"earliest_cr_line\"]).year\n",
        "    return X\n",
        "\n"
      ],
      "metadata": {
        "id": "8u3Z-tdiWmvF"
      },
      "execution_count": null,
      "outputs": []
    },
    {
      "cell_type": "code",
      "source": [
        "def extract_issue_and_credit_line_month(X: pd.DataFrame) -> pd.DataFrame:\n",
        "    \"\"\"\n",
        "    Extracts the month component from the 'issue_d' and 'earliest_cr_line' columns and adds them as new columns\n",
        "    'issue_month' and 'credit_line_month', respectively. Drops the original date columns after extraction.\n",
        "    \"\"\"\n",
        "    X = X.copy()\n",
        "    X[\"issue_month\"] = pd.DatetimeIndex(X[\"issue_d\"]).month\n",
        "    X[\"credit_line_month\"] = pd.DatetimeIndex(X[\"earliest_cr_line\"]).month\n",
        "    X.drop(columns=[\"issue_d\", \"earliest_cr_line\"], inplace=True)\n",
        "    return X\n",
        "\n"
      ],
      "metadata": {
        "id": "2jc8P7ArGYiX"
      },
      "execution_count": null,
      "outputs": []
    },
    {
      "cell_type": "code",
      "source": [
        "def get_categorical_features(X: pd.DataFrame) -> List[str]:\n",
        "    categorical_features = X.select_dtypes(include=[\"object\"]).columns.tolist()\n",
        "    categorical_features = [col for col in categorical_features if col not in [\"issue_d\", \"earliest_cr_line\"]]\n",
        "    return categorical_features\n",
        "\n"
      ],
      "metadata": {
        "id": "pqlGC7nDdHRc"
      },
      "execution_count": null,
      "outputs": []
    },
    {
      "cell_type": "code",
      "source": [
        "from sklearn.metrics import mean_squared_error, mean_absolute_error, r2_score\n",
        "\n",
        "def evaluate_regressors(regressors, X_train, y_train, X_test, y_test):\n",
        "    results = []\n",
        "\n",
        "    for reg_name, reg in regressors:\n",
        "        start_time = time.time()\n",
        "        reg.fit(X_train, y_train)\n",
        "        y_pred = reg.predict(X_test)\n",
        "        end_time = time.time()\n",
        "        elapsed_time = round(end_time - start_time, 3)\n",
        "        mse = round(mean_squared_error(y_test, y_pred), 3)\n",
        "        rmse = round(mean_squared_error(y_test, y_pred, squared=False), 3)\n",
        "        mae = round(mean_absolute_error(y_test, y_pred), 3)\n",
        "        r2 = round(r2_score(y_test, y_pred), 3)\n",
        "        score = round(reg.score(X_test, y_test), 3)  # Added score calculation\n",
        "        results.append({\n",
        "            'Regressor': reg_name,\n",
        "            'Mean Squared Error': mse,\n",
        "            'Root Mean Squared Error': rmse,\n",
        "            'Mean Absolute Error': mae,\n",
        "            'R2 Score': r2,\n",
        "            'Score': score,  # Added score in the results\n",
        "            'Time Taken': elapsed_time\n",
        "        })\n",
        "\n",
        "    return pd.DataFrame(results)\n",
        "\n"
      ],
      "metadata": {
        "id": "L8AXdSHKtVTI"
      },
      "execution_count": null,
      "outputs": []
    },
    {
      "cell_type": "code",
      "source": [
        "get_categorical_features(X)"
      ],
      "metadata": {
        "colab": {
          "base_uri": "https://localhost:8080/"
        },
        "id": "Yj_UZVfusOa0",
        "outputId": "e79ff980-5ab4-4cfd-c681-a582a438d2a0"
      },
      "execution_count": null,
      "outputs": [
        {
          "output_type": "execute_result",
          "data": {
            "text/plain": [
              "['emp_length', 'purpose', 'term', 'verification_status']"
            ]
          },
          "metadata": {},
          "execution_count": 40
        }
      ]
    },
    {
      "cell_type": "code",
      "source": [
        "def extract_year(X):\n",
        "    return pd.DatetimeIndex(X).year"
      ],
      "metadata": {
        "id": "fBg00Jnbnm6d"
      },
      "execution_count": null,
      "outputs": []
    },
    {
      "cell_type": "code",
      "source": [
        "def extract_month(X):\n",
        "    return pd.DatetimeIndex(X).month\n",
        "\n"
      ],
      "metadata": {
        "id": "POsz_R4qf2XQ"
      },
      "execution_count": null,
      "outputs": []
    },
    {
      "cell_type": "code",
      "source": [
        "def evaluate_classifiers(classifiers, X_train, y_train, X_test, y_test):\n",
        "    results = []\n",
        "\n",
        "    for clf_name, clf in classifiers:\n",
        "        start_time = time.time()\n",
        "        clf.fit(X_train, y_train)\n",
        "        y_pred = clf.predict(X_test)\n",
        "        end_time = time.time()\n",
        "        elapsed_time = round(end_time - start_time, 3)\n",
        "        accuracy = round(accuracy_score(y_test, y_pred), 3)\n",
        "        f1 = round(f1_score(y_test, y_pred, average='weighted'), 3)\n",
        "        precision = round(precision_score(y_test, y_pred, average='weighted'), 3)\n",
        "        recall = round(recall_score(y_test, y_pred, average='weighted'), 3)\n",
        "        results.append({\n",
        "            'Classifier': clf_name,\n",
        "            'Accuracy': accuracy,\n",
        "            'F1 Score': f1,\n",
        "            'Precision': precision,\n",
        "            'Recall': recall,\n",
        "            'Time Taken': elapsed_time\n",
        "        })\n",
        "\n",
        "    return pd.DataFrame(results)\n",
        "\n"
      ],
      "metadata": {
        "id": "Gxo2qVW3Kwf7"
      },
      "execution_count": null,
      "outputs": []
    },
    {
      "cell_type": "code",
      "source": [
        "year= FunctionTransformer(extract_credit_line_year, validate=False)\n",
        "month = FunctionTransformer(extract_issue_and_credit_line_month, validate=False)\n"
      ],
      "metadata": {
        "id": "pmf1pIskYF4W"
      },
      "execution_count": null,
      "outputs": []
    },
    {
      "cell_type": "code",
      "source": [
        "numeric_features = list(X.select_dtypes(include=[\"float64\"]).columns)\n",
        "numeric_features.extend([\"credit_line_year\", \"issue_month\", \"credit_line_month\"])\n",
        "categorical_features = get_categorical_features(X)"
      ],
      "metadata": {
        "id": "_ulLIBOrYuhP"
      },
      "execution_count": null,
      "outputs": []
    },
    {
      "cell_type": "code",
      "source": [
        "f_extr= Pipeline(\n",
        "    steps=[\n",
        "\n",
        "        (\"year\", year),\n",
        "        (\"month\", month),\n",
        "    ]\n",
        ")\n"
      ],
      "metadata": {
        "id": "Dctgqf18dqq9"
      },
      "execution_count": null,
      "outputs": []
    },
    {
      "cell_type": "code",
      "source": [
        "categorical_transformer= Pipeline(\n",
        "    steps=[(\"encoder\", OneHotEncoder(sparse=False, handle_unknown=\"ignore\"))]\n",
        ")\n",
        "\n",
        "numeric_transformer= Pipeline(\n",
        "    steps=[\n",
        "        (\"scaler\", StandardScaler()),\n",
        "    ]\n",
        ")\n",
        "\n",
        "preprocessor = ColumnTransformer(\n",
        "    transformers=[\n",
        "        (\"categorical\", categorical_transformer, categorical_features),\n",
        "        (\"numeric\", numeric_transformer, numeric_features),\n",
        "    ],\n",
        "    remainder=\"passthrough\",\n",
        ")"
      ],
      "metadata": {
        "id": "IJdKb36-f9N4"
      },
      "execution_count": null,
      "outputs": []
    },
    {
      "cell_type": "code",
      "source": [
        "pipe_transform = Pipeline(\n",
        "    steps=[\n",
        "\n",
        "        (\"f_extr\", f_extr),\n",
        "        (\"preprocessor\", preprocessor),\n",
        "    ]\n",
        ")"
      ],
      "metadata": {
        "id": "YnkIGi-nhdNz"
      },
      "execution_count": null,
      "outputs": []
    },
    {
      "cell_type": "code",
      "source": [
        "classifiers = [\n",
        "    (\"Logistic Regression\", LogisticRegression(max_iter=1000)),\n",
        "    (\"Random Forest\", RandomForestClassifier()),\n",
        "    (\"AdaBoost\", AdaBoostClassifier()),\n",
        "    (\"XGBoost\", xgb.XGBClassifier()),\n",
        "    (\"LightGBM\", lgb.LGBMClassifier())\n",
        "]"
      ],
      "metadata": {
        "id": "5niqNscicdwI"
      },
      "execution_count": null,
      "outputs": []
    },
    {
      "cell_type": "code",
      "source": [
        "X_train_transformed = pipe_transform.fit_transform(X_train)\n",
        "X_test_transformed = pipe_transform.transform(X_test)\n"
      ],
      "metadata": {
        "colab": {
          "base_uri": "https://localhost:8080/"
        },
        "id": "EsGcxNYgTgM1",
        "outputId": "54c4a3b5-74a0-49a7-feba-dbba0e29c4db"
      },
      "execution_count": null,
      "outputs": [
        {
          "output_type": "stream",
          "name": "stderr",
          "text": [
            "/usr/local/lib/python3.10/dist-packages/sklearn/preprocessing/_encoders.py:868: FutureWarning: `sparse` was renamed to `sparse_output` in version 1.2 and will be removed in 1.4. `sparse_output` is ignored unless you leave `sparse` to its default value.\n",
            "  warnings.warn(\n"
          ]
        }
      ]
    },
    {
      "cell_type": "code",
      "source": [
        "evaluation_results = evaluate_classifiers(classifiers, X_train_transformed, y_train, X_test_transformed, y_test)\n",
        "print(evaluation_results)\n"
      ],
      "metadata": {
        "id": "1AMD1OxVcd5M",
        "colab": {
          "base_uri": "https://localhost:8080/"
        },
        "outputId": "58c97498-178b-465e-caca-c00b3ffcfd81"
      },
      "execution_count": null,
      "outputs": [
        {
          "output_type": "stream",
          "name": "stdout",
          "text": [
            "            Classifier  Accuracy  F1 Score  Precision  Recall  Time Taken\n",
            "0  Logistic Regression     0.379     0.371      0.367   0.379      28.907\n",
            "1        Random Forest     0.375     0.365      0.360   0.375      28.236\n",
            "2             AdaBoost     0.374     0.365      0.361   0.374      12.028\n",
            "3              XGBoost     0.395     0.388      0.384   0.395     170.796\n",
            "4             LightGBM     0.401     0.392      0.388   0.401      13.375\n"
          ]
        }
      ]
    },
    {
      "cell_type": "code",
      "source": [
        "param_grid = {\n",
        "    'n_estimators': [100, 200, 300],\n",
        "    'max_depth': [3, 5, 7],\n",
        "    'learning_rate': [0.1, 0.01, 0.001]\n",
        "}\n",
        "\n",
        "# Perform hyperparameter tuning using GridSearchCV\n",
        "grid_search = GridSearchCV(estimator=lgb.LGBMClassifier(), param_grid=param_grid, cv=3)\n",
        "grid_search.fit(X_train_transformed, y_train)\n",
        "\n",
        "# Get the best hyperparameters and the corresponding model\n",
        "best_params = grid_search.best_params_\n",
        "best_model = grid_search.best_estimator_\n"
      ],
      "metadata": {
        "id": "T0-XaydV_ISd"
      },
      "execution_count": null,
      "outputs": []
    },
    {
      "cell_type": "code",
      "source": [
        "y_pred = best_model.predict(X_test_transformed)\n",
        "classification_rep = classification_report(y_test, y_pred)\n",
        "confusion_mat = confusion_matrix(y_test, y_pred)\n",
        "\n",
        "# Print the classification report and confusion matrix\n",
        "print(\"Classification Report:\")\n",
        "print(classification_rep)\n",
        "print(\"\\nConfusion Matrix:\")\n",
        "print(confusion_mat)"
      ],
      "metadata": {
        "colab": {
          "base_uri": "https://localhost:8080/"
        },
        "id": "QFV2Va9qE0c8",
        "outputId": "e9436b42-28e4-4f06-b5f2-c6a7cb694016"
      },
      "execution_count": null,
      "outputs": [
        {
          "output_type": "stream",
          "name": "stdout",
          "text": [
            "Classification Report:\n",
            "              precision    recall  f1-score   support\n",
            "\n",
            "           0       0.68      0.74      0.71      3554\n",
            "           1       0.40      0.48      0.43      3558\n",
            "           2       0.32      0.30      0.31      3523\n",
            "           3       0.29      0.22      0.25      3542\n",
            "           4       0.26      0.21      0.23      3575\n",
            "           5       0.31      0.33      0.32      3569\n",
            "           6       0.45      0.51      0.48      3437\n",
            "\n",
            "    accuracy                           0.40     24758\n",
            "   macro avg       0.39      0.40      0.39     24758\n",
            "weighted avg       0.39      0.40      0.39     24758\n",
            "\n",
            "\n",
            "Confusion Matrix:\n",
            "[[2625  774  114   28   10    3    0]\n",
            " [ 848 1695  642  224   95   26   28]\n",
            " [ 233 1011 1041  570  364  200  104]\n",
            " [ 107  484  730  796  665  502  258]\n",
            " [  28  192  418  614  740  968  615]\n",
            " [   8   91  224  323  546 1193 1184]\n",
            " [   8   43  120  207  379  921 1759]]\n"
          ]
        }
      ]
    },
    {
      "cell_type": "code",
      "source": [
        "# Calculate the accuracy\n",
        "accuracy = accuracy_score(y_test, y_pred)\n",
        "\n",
        "# Print the accuracy\n",
        "print(\"Accuracy:\", accuracy)"
      ],
      "metadata": {
        "colab": {
          "base_uri": "https://localhost:8080/"
        },
        "id": "5aRX0USKGN6E",
        "outputId": "186d3641-1ce3-4c62-a739-43436c5d09ed"
      },
      "execution_count": null,
      "outputs": [
        {
          "output_type": "stream",
          "name": "stdout",
          "text": [
            "Accuracy: 0.39781080862751433\n"
          ]
        }
      ]
    },
    {
      "cell_type": "code",
      "source": [
        "categorical_feature_names = list(pipe_transform.named_steps['preprocessor'].transformers_[0][1]['encoder'].get_feature_names_out())\n",
        "numeric_feature_names = list(pipe_transform.named_steps['preprocessor'].transformers_[1][1].get_feature_names_out())\n",
        "feature_names = categorical_feature_names + numeric_feature_names"
      ],
      "metadata": {
        "id": "nEZoUBxcMddm"
      },
      "execution_count": null,
      "outputs": []
    },
    {
      "cell_type": "code",
      "source": [
        "feature_importances = best_model.feature_importances_"
      ],
      "metadata": {
        "id": "Y3C-FsyPqKiQ"
      },
      "execution_count": null,
      "outputs": []
    },
    {
      "cell_type": "code",
      "source": [
        "feature_importance_df = pd.DataFrame({\"Feature\": feature_names, \"Importance\": feature_importances})\n",
        "feature_importance_df = feature_importance_df.sort_values(\"Importance\", ascending=False)\n",
        "\n",
        "top_10_features = feature_importance_df.head(10)"
      ],
      "metadata": {
        "id": "IO1VSBhRqMUS"
      },
      "execution_count": null,
      "outputs": []
    },
    {
      "cell_type": "code",
      "source": [
        "top_10_stylized = top_10_features.style.background_gradient(cmap='Blues')\n",
        "top_10_stylized"
      ],
      "metadata": {
        "colab": {
          "base_uri": "https://localhost:8080/",
          "height": 363
        },
        "id": "SC7yXITuN-1N",
        "outputId": "fb127d37-421d-4af6-a983-e3bfc74fbd65"
      },
      "execution_count": null,
      "outputs": [
        {
          "output_type": "execute_result",
          "data": {
            "text/plain": [
              "<pandas.io.formats.style.Styler at 0x7fb7fe938fd0>"
            ],
            "text/html": [
              "<style type=\"text/css\">\n",
              "#T_99c72_row0_col1 {\n",
              "  background-color: #08306b;\n",
              "  color: #f1f1f1;\n",
              "}\n",
              "#T_99c72_row1_col1 {\n",
              "  background-color: #3686c0;\n",
              "  color: #f1f1f1;\n",
              "}\n",
              "#T_99c72_row2_col1 {\n",
              "  background-color: #99c7e0;\n",
              "  color: #000000;\n",
              "}\n",
              "#T_99c72_row3_col1 {\n",
              "  background-color: #9fcae1;\n",
              "  color: #000000;\n",
              "}\n",
              "#T_99c72_row4_col1 {\n",
              "  background-color: #c9ddf0;\n",
              "  color: #000000;\n",
              "}\n",
              "#T_99c72_row5_col1 {\n",
              "  background-color: #dbe9f6;\n",
              "  color: #000000;\n",
              "}\n",
              "#T_99c72_row6_col1 {\n",
              "  background-color: #e5eff9;\n",
              "  color: #000000;\n",
              "}\n",
              "#T_99c72_row7_col1 {\n",
              "  background-color: #e7f1fa;\n",
              "  color: #000000;\n",
              "}\n",
              "#T_99c72_row8_col1 {\n",
              "  background-color: #eef5fc;\n",
              "  color: #000000;\n",
              "}\n",
              "#T_99c72_row9_col1 {\n",
              "  background-color: #f7fbff;\n",
              "  color: #000000;\n",
              "}\n",
              "</style>\n",
              "<table id=\"T_99c72\" class=\"dataframe\">\n",
              "  <thead>\n",
              "    <tr>\n",
              "      <th class=\"blank level0\" >&nbsp;</th>\n",
              "      <th id=\"T_99c72_level0_col0\" class=\"col_heading level0 col0\" >Feature</th>\n",
              "      <th id=\"T_99c72_level0_col1\" class=\"col_heading level0 col1\" >Importance</th>\n",
              "    </tr>\n",
              "  </thead>\n",
              "  <tbody>\n",
              "    <tr>\n",
              "      <th id=\"T_99c72_level0_row0\" class=\"row_heading level0 row0\" >40</th>\n",
              "      <td id=\"T_99c72_row0_col0\" class=\"data row0 col0\" >loan_amnt</td>\n",
              "      <td id=\"T_99c72_row0_col1\" class=\"data row0 col1\" >2707</td>\n",
              "    </tr>\n",
              "    <tr>\n",
              "      <th id=\"T_99c72_level0_row1\" class=\"row_heading level0 row1\" >49</th>\n",
              "      <td id=\"T_99c72_row1_col0\" class=\"data row1 col0\" >dti</td>\n",
              "      <td id=\"T_99c72_row1_col1\" class=\"data row1 col1\" >2243</td>\n",
              "    </tr>\n",
              "    <tr>\n",
              "      <th id=\"T_99c72_level0_row2\" class=\"row_heading level0 row2\" >31</th>\n",
              "      <td id=\"T_99c72_row2_col0\" class=\"data row2 col0\" >fico_range_low</td>\n",
              "      <td id=\"T_99c72_row2_col1\" class=\"data row2 col1\" >1843</td>\n",
              "    </tr>\n",
              "    <tr>\n",
              "      <th id=\"T_99c72_level0_row3\" class=\"row_heading level0 row3\" >60</th>\n",
              "      <td id=\"T_99c72_row3_col0\" class=\"data row3 col0\" >annual_inc</td>\n",
              "      <td id=\"T_99c72_row3_col1\" class=\"data row3 col1\" >1821</td>\n",
              "    </tr>\n",
              "    <tr>\n",
              "      <th id=\"T_99c72_level0_row4\" class=\"row_heading level0 row4\" >54</th>\n",
              "      <td id=\"T_99c72_row4_col0\" class=\"data row4 col0\" >mo_sin_old_rev_tl_op</td>\n",
              "      <td id=\"T_99c72_row4_col1\" class=\"data row4 col1\" >1630</td>\n",
              "    </tr>\n",
              "    <tr>\n",
              "      <th id=\"T_99c72_level0_row5\" class=\"row_heading level0 row5\" >53</th>\n",
              "      <td id=\"T_99c72_row5_col0\" class=\"data row5 col0\" >revol_util</td>\n",
              "      <td id=\"T_99c72_row5_col1\" class=\"data row5 col1\" >1495</td>\n",
              "    </tr>\n",
              "    <tr>\n",
              "      <th id=\"T_99c72_level0_row6\" class=\"row_heading level0 row6\" >51</th>\n",
              "      <td id=\"T_99c72_row6_col0\" class=\"data row6 col0\" >bc_open_to_buy</td>\n",
              "      <td id=\"T_99c72_row6_col1\" class=\"data row6 col1\" >1422</td>\n",
              "    </tr>\n",
              "    <tr>\n",
              "      <th id=\"T_99c72_level0_row7\" class=\"row_heading level0 row7\" >37</th>\n",
              "      <td id=\"T_99c72_row7_col0\" class=\"data row7 col0\" >total_rev_hi_lim</td>\n",
              "      <td id=\"T_99c72_row7_col1\" class=\"data row7 col1\" >1406</td>\n",
              "    </tr>\n",
              "    <tr>\n",
              "      <th id=\"T_99c72_level0_row8\" class=\"row_heading level0 row8\" >43</th>\n",
              "      <td id=\"T_99c72_row8_col0\" class=\"data row8 col0\" >tot_hi_cred_lim</td>\n",
              "      <td id=\"T_99c72_row8_col1\" class=\"data row8 col1\" >1366</td>\n",
              "    </tr>\n",
              "    <tr>\n",
              "      <th id=\"T_99c72_level0_row9\" class=\"row_heading level0 row9\" >41</th>\n",
              "      <td id=\"T_99c72_row9_col0\" class=\"data row9 col0\" >num_il_tl</td>\n",
              "      <td id=\"T_99c72_row9_col1\" class=\"data row9 col1\" >1295</td>\n",
              "    </tr>\n",
              "  </tbody>\n",
              "</table>\n"
            ]
          },
          "metadata": {},
          "execution_count": 63
        }
      ]
    },
    {
      "cell_type": "code",
      "source": [
        "feature_importances = best_model.feature_importances_\n",
        "feature_importance_df = pd.DataFrame({\"Feature\": feature_names, \"Importance\": feature_importances})\n",
        "\n",
        "feature_importance_df = feature_importance_df.sort_values(\"Importance\", ascending=False)\n",
        "\n",
        "top_10_features = feature_importance_df.head(10)\n",
        "\n",
        "\n",
        "plt.figure(figsize=(16, 6))\n",
        "sns.barplot(x=\"Importance\", y=\"Feature\", data=top_10_features, palette=\"Blues_d\")\n",
        "plt.xlabel(\"Importance\")\n",
        "plt.ylabel(\"Feature\")\n",
        "plt.title(\"Top 10 Feature Importances\")\n",
        "plt.show()"
      ],
      "metadata": {
        "colab": {
          "base_uri": "https://localhost:8080/",
          "height": 458
        },
        "id": "BLow0lI3IQ69",
        "outputId": "7f55dee6-e3e4-4017-8665-e9e19cbed992"
      },
      "execution_count": null,
      "outputs": [
        {
          "output_type": "display_data",
          "data": {
            "text/plain": [
              "<Figure size 1600x600 with 1 Axes>"
            ],
            "image/png": "[encoded data removed]"
          },
          "metadata": {}
        }
      ]
    },
    {
      "cell_type": "code",
      "source": [
        "numeric_features = grade.select_dtypes(include=['float64']).columns.tolist()\n"
      ],
      "metadata": {
        "id": "7OsfciD2nFdt"
      },
      "execution_count": null,
      "outputs": []
    },
    {
      "cell_type": "code",
      "source": [
        "subset = grade[numeric_features]"
      ],
      "metadata": {
        "id": "bwI1Us9inHXh"
      },
      "execution_count": null,
      "outputs": []
    },
    {
      "cell_type": "code",
      "source": [
        "subset.shape"
      ],
      "metadata": {
        "colab": {
          "base_uri": "https://localhost:8080/"
        },
        "id": "EbJwYA4CnIgJ",
        "outputId": "ec818ac0-2c45-4e92-e40b-22d0f552cd52"
      },
      "execution_count": null,
      "outputs": [
        {
          "output_type": "execute_result",
          "data": {
            "text/plain": [
              "(82525, 31)"
            ]
          },
          "metadata": {},
          "execution_count": 67
        }
      ]
    },
    {
      "cell_type": "code",
      "source": [
        "scaler = StandardScaler()\n",
        "scaled_features = scaler.fit_transform(subset)\n",
        "\n",
        "# Create PCA object\n",
        "pca = PCA()\n",
        "\n",
        "# Fit PCA on the scaled features\n",
        "pca.fit(scaled_features)\n",
        "\n",
        "# Calculate the cumulative explained variance ratio\n",
        "cumulative_variance = np.cumsum(pca.explained_variance_ratio_)\n",
        "\n",
        "# Plot the cumulative explained variance ratio\n",
        "plt.plot(range(1, len(numeric_features) + 1), cumulative_variance, marker='o')\n",
        "plt.xlabel('Number of Components')\n",
        "plt.ylabel('Cumulative Explained Variance Ratio')\n",
        "plt.title('Cumulative Explained Variance Ratio vs. Number of Components')\n",
        "plt.grid(True)\n",
        "plt.show()"
      ],
      "metadata": {
        "colab": {
          "base_uri": "https://localhost:8080/",
          "height": 472
        },
        "id": "Qt40yPj7nMDq",
        "outputId": "ee497bb7-d774-4be5-f459-c37652ad002c"
      },
      "execution_count": null,
      "outputs": [
        {
          "output_type": "display_data",
          "data": {
            "text/plain": [
              "<Figure size 640x480 with 1 Axes>"
            ],
            "image/png": "[encoded data removed]"
          },
          "metadata": {}
        }
      ]
    },
    {
      "cell_type": "code",
      "source": [
        "cumulative_variance"
      ],
      "metadata": {
        "colab": {
          "base_uri": "https://localhost:8080/"
        },
        "id": "jqcgCqMbnTty",
        "outputId": "fd264563-b493-4ecb-eeec-9b131c06da01"
      },
      "execution_count": null,
      "outputs": [
        {
          "output_type": "execute_result",
          "data": {
            "text/plain": [
              "array([0.18231034, 0.32045679, 0.42643112, 0.50332819, 0.5559314 ,\n",
              "       0.60461509, 0.64929377, 0.6870931 , 0.71916729, 0.74940033,\n",
              "       0.77859887, 0.80354039, 0.82733456, 0.84889234, 0.8696945 ,\n",
              "       0.88893245, 0.9077968 , 0.92313922, 0.93669707, 0.94845058,\n",
              "       0.95992989, 0.96957402, 0.97759537, 0.98402403, 0.9900332 ,\n",
              "       0.99360811, 0.9965737 , 0.99897037, 0.99956685, 1.        ,\n",
              "       1.        ])"
            ]
          },
          "metadata": {},
          "execution_count": 69
        }
      ]
    },
    {
      "cell_type": "code",
      "source": [
        "pca = PCA(n_components=10)\n",
        "principal_components = pca.fit_transform(scaled_features)\n",
        "\n",
        "print(\"Explained Variance Ratio:\", pca.explained_variance_ratio_)"
      ],
      "metadata": {
        "colab": {
          "base_uri": "https://localhost:8080/"
        },
        "id": "eDh8KxV9nXT6",
        "outputId": "0e8c25fb-7d41-46d6-b5ae-89b656633b89"
      },
      "execution_count": null,
      "outputs": [
        {
          "output_type": "stream",
          "name": "stdout",
          "text": [
            "Explained Variance Ratio: [0.18231034 0.13814646 0.10597433 0.07689706 0.05260318 0.04868369\n",
            " 0.04467867 0.03779916 0.03207397 0.03023282]\n"
          ]
        }
      ]
    },
    {
      "cell_type": "code",
      "source": [
        "pc1 = principal_components[:, 0]\n",
        "pc2 = principal_components[:, 1]\n",
        "pc3 = principal_components[:, 2]\n",
        "\n",
        "\n",
        "fig = plt.figure()\n",
        "ax = fig.add_subplot(111, projection='3d')\n",
        "ax.scatter(pc1, pc2, pc3)\n",
        "ax.set_xlabel('Principal Component 1')\n",
        "ax.set_ylabel('Principal Component 2')\n",
        "ax.set_zlabel('Principal Component 3')\n",
        "ax.set_title('Principal Components 1, 2, and 3')\n",
        "plt.show()"
      ],
      "metadata": {
        "colab": {
          "base_uri": "https://localhost:8080/",
          "height": 433
        },
        "id": "61_4p8iwnZai",
        "outputId": "e30958e0-19ce-4d70-dda0-b82dfd77f667"
      },
      "execution_count": null,
      "outputs": [
        {
          "output_type": "display_data",
          "data": {
            "text/plain": [
              "<Figure size 640x480 with 1 Axes>"
            ],
            "image/png": "[encoded data removed]"
          },
          "metadata": {}
        }
      ]
    },
    {
      "cell_type": "code",
      "source": [
        "cumulative_variance = np.cumsum(pca.explained_variance_ratio_)\n",
        "\n",
        "\n",
        "plt.plot(range(1, len(pca.explained_variance_ratio_) + 1), pca.explained_variance_ratio_, marker='o')\n",
        "plt.plot(range(1, len(cumulative_variance) + 1), cumulative_variance, marker='o')\n",
        "plt.xlabel('Number of Components')\n",
        "plt.ylabel('Explained Variance Ratio')\n",
        "plt.title('Explained Variance Ratio vs. Number of Components')\n",
        "plt.legend(['Individual', 'Cumulative'])\n",
        "plt.show()"
      ],
      "metadata": {
        "colab": {
          "base_uri": "https://localhost:8080/",
          "height": 472
        },
        "id": "9Q70cWJXnh3S",
        "outputId": "04701955-0823-4816-d567-942d01716d0d"
      },
      "execution_count": null,
      "outputs": [
        {
          "output_type": "display_data",
          "data": {
            "text/plain": [
              "<Figure size 640x480 with 1 Axes>"
            ],
            "image/png": "[encoded data removed]"
          },
          "metadata": {}
        }
      ]
    },
    {
      "cell_type": "code",
      "source": [
        "# Apply k-means clustering\n",
        "kmeans = KMeans(n_clusters=3)\n",
        "kmeans_labels = kmeans.fit_predict(principal_components)\n"
      ],
      "metadata": {
        "colab": {
          "base_uri": "https://localhost:8080/"
        },
        "id": "o74cbnqPnmID",
        "outputId": "2b3aebcf-6b0f-4c3d-dbaf-7fd87ab1171c"
      },
      "execution_count": null,
      "outputs": [
        {
          "output_type": "stream",
          "name": "stderr",
          "text": [
            "/usr/local/lib/python3.10/dist-packages/sklearn/cluster/_kmeans.py:870: FutureWarning: The default value of `n_init` will change from 10 to 'auto' in 1.4. Set the value of `n_init` explicitly to suppress the warning\n",
            "  warnings.warn(\n"
          ]
        }
      ]
    },
    {
      "cell_type": "code",
      "source": [
        "print(\"K-Means Labels:\", kmeans_labels)"
      ],
      "metadata": {
        "colab": {
          "base_uri": "https://localhost:8080/"
        },
        "id": "Vnxx12C2o3Ha",
        "outputId": "21f59529-7638-4609-f649-39b37a592ca6"
      },
      "execution_count": null,
      "outputs": [
        {
          "output_type": "stream",
          "name": "stdout",
          "text": [
            "K-Means Labels: [0 2 0 ... 0 0 0]\n"
          ]
        }
      ]
    },
    {
      "cell_type": "code",
      "source": [
        "plt.scatter(principal_components[:, 0], principal_components[:, 1], c=kmeans_labels)\n",
        "plt.xlabel('Principal Component 1')\n",
        "plt.ylabel('Principal Component 2')\n",
        "plt.title('K-Means Clustering')\n",
        "plt.colorbar()\n",
        "plt.show()\n"
      ],
      "metadata": {
        "colab": {
          "base_uri": "https://localhost:8080/",
          "height": 472
        },
        "id": "boI9X8ajyKpZ",
        "outputId": "ea0b0bef-ff05-4450-a8fd-0e2e36bd61e0"
      },
      "execution_count": null,
      "outputs": [
        {
          "output_type": "display_data",
          "data": {
            "text/plain": [
              "<Figure size 640x480 with 2 Axes>"
            ],
            "image/png": "[encoded data removed]"
          },
          "metadata": {}
        }
      ]
    },
    {
      "cell_type": "markdown",
      "source": [
        "## **Conclusion**"
      ],
      "metadata": {
        "id": "Fcninqf7GkDW"
      }
    },
    {
      "cell_type": "markdown",
      "source": [
        "Based on the evaluation results, the best performing classifier for predicting loan grades on the Lending Club dataset is the LightGBM classifier. It achieved an accuracy of 0.401, an F1 score of 0.392, a precision of 0.388, and a recall of 0.401. The classifier took approximately 13.375 seconds to train and predict.\n",
        "\n",
        "To further optimize the model, hyperparameter tuning was performed using GridSearchCV. The following hyperparameters were tuned: 'n_estimators' (number of boosting iterations), 'max_depth' (maximum depth of a tree), and 'learning_rate' (shrinkage factor for the learning rate). The best hyperparameters found were 'n_estimators': 200, 'max_depth': 5, and 'learning_rate': 0.1.\n",
        "\n",
        "The best model with the tuned hyperparameters was then evaluated on the test set. The classification report shows the precision, recall, and F1-score for each class, along with the support (number of samples). The confusion matrix provides the counts of true positive, false positive, true negative, and false negative predictions for each class.\n",
        "\n",
        "Overall, the model achieved an accuracy of 0.40 on the test set, indicating that it can predict loan grades with moderate success. However, there is still room for improvement, as indicated by the relatively low F1 scores for some classes. Further analysis and experimentation may be required to enhance the model's performance."
      ],
      "metadata": {
        "id": "fyepOcBLGote"
      }
    },
    {
      "cell_type": "markdown",
      "source": [
        "**Sub_Grade:**"
      ],
      "metadata": {
        "id": "HlBKoZ1yQafL"
      }
    },
    {
      "cell_type": "code",
      "source": [
        "sub_grade = grading.groupby(\"sub_grade\").apply(lambda x: x.sample(n=min(100000//len(grading[\"sub_grade\"].unique()), len(x)), random_state=41)).reset_index(drop=True)\n"
      ],
      "metadata": {
        "id": "0D8GdbqzQZ7M"
      },
      "execution_count": null,
      "outputs": []
    },
    {
      "cell_type": "code",
      "source": [
        "sub_grade.shape"
      ],
      "metadata": {
        "colab": {
          "base_uri": "https://localhost:8080/"
        },
        "id": "QDKHtHU5TXiO",
        "outputId": "e9d25f2b-ff7d-4ede-c048-14f8163ac757"
      },
      "execution_count": null,
      "outputs": [
        {
          "output_type": "execute_result",
          "data": {
            "text/plain": [
              "(94149, 102)"
            ]
          },
          "metadata": {},
          "execution_count": 147
        }
      ]
    },
    {
      "cell_type": "code",
      "source": [
        "null_counts = sub_grade.isnull().sum()\n",
        "print(null_counts)"
      ],
      "metadata": {
        "colab": {
          "base_uri": "https://localhost:8080/"
        },
        "id": "2sqJAGxjrdki",
        "outputId": "c9c99af5-4b01-45d0-c8f6-7c0231db5dc3"
      },
      "execution_count": null,
      "outputs": [
        {
          "output_type": "stream",
          "name": "stdout",
          "text": [
            "loan_amnt                                  0\n",
            "term                                       0\n",
            "int_rate                                   0\n",
            "grade                                      0\n",
            "sub_grade                                  0\n",
            "emp_length                              5931\n",
            "home_ownership                             0\n",
            "annual_inc                                 1\n",
            "verification_status                        0\n",
            "issue_d                                    0\n",
            "desc                                   88401\n",
            "purpose                                    0\n",
            "addr_state                                 0\n",
            "dti                                       90\n",
            "earliest_cr_line                           2\n",
            "fico_range_low                             0\n",
            "fico_range_high                            0\n",
            "inq_last_6mths                             2\n",
            "mths_since_last_delinq                 47070\n",
            "mths_since_last_record                 78527\n",
            "open_acc                                   2\n",
            "pub_rec                                    2\n",
            "revol_util                                92\n",
            "total_acc                                  2\n",
            "mths_since_last_major_derog            68789\n",
            "application_type                           0\n",
            "annual_inc_joint                       89292\n",
            "dti_joint                              89292\n",
            "verification_status_joint              89425\n",
            "tot_coll_amt                            3367\n",
            "tot_cur_bal                             3367\n",
            "open_acc_6m                            39877\n",
            "open_act_il                            39877\n",
            "open_il_12m                            39877\n",
            "open_il_24m                            39877\n",
            "mths_since_rcnt_il                     41477\n",
            "total_bal_il                           39877\n",
            "il_util                                46843\n",
            "open_rv_12m                            39877\n",
            "open_rv_24m                            39877\n",
            "max_bal_bc                             39877\n",
            "all_util                               39887\n",
            "total_rev_hi_lim                        3367\n",
            "inq_fi                                 39877\n",
            "total_cu_tl                            39877\n",
            "inq_last_12m                           39877\n",
            "acc_open_past_24mths                    2508\n",
            "avg_cur_bal                             3372\n",
            "bc_open_to_buy                          3759\n",
            "bc_util                                 3819\n",
            "mo_sin_old_il_acct                      6229\n",
            "mo_sin_old_rev_tl_op                    3367\n",
            "mo_sin_rcnt_rev_tl_op                   3367\n",
            "mo_sin_rcnt_tl                          3367\n",
            "mort_acc                                2508\n",
            "mths_since_recent_bc                    3685\n",
            "mths_since_recent_bc_dlq               72149\n",
            "mths_since_recent_inq                  10866\n",
            "mths_since_recent_revol_delinq         62970\n",
            "num_accts_ever_120_pd                   3367\n",
            "num_actv_bc_tl                          3367\n",
            "num_actv_rev_tl                         3367\n",
            "num_bc_sats                             2861\n",
            "num_bc_tl                               3367\n",
            "num_il_tl                               3367\n",
            "num_op_rev_tl                           3367\n",
            "num_rev_accts                           3368\n",
            "num_rev_tl_bal_gt_0                     3367\n",
            "num_sats                                2861\n",
            "num_tl_120dpd_2m                        6846\n",
            "num_tl_30dpd                            3367\n",
            "num_tl_90g_dpd_24m                      3367\n",
            "num_tl_op_past_12m                      3367\n",
            "pct_tl_nvr_dlq                          3374\n",
            "percent_bc_gt_75                        3781\n",
            "pub_rec_bankruptcies                     149\n",
            "tot_hi_cred_lim                         3367\n",
            "total_bal_ex_mort                       2508\n",
            "total_bc_limit                          2508\n",
            "total_il_high_credit_limit              3367\n",
            "revol_bal_joint                        89814\n",
            "sec_app_fico_range_low                 89814\n",
            "sec_app_fico_range_high                89814\n",
            "sec_app_earliest_cr_line               89814\n",
            "sec_app_inq_last_6mths                 89814\n",
            "sec_app_mort_acc                       89814\n",
            "sec_app_open_acc                       89814\n",
            "sec_app_revol_util                     89913\n",
            "sec_app_open_act_il                    89814\n",
            "sec_app_num_rev_accts                  89814\n",
            "sec_app_chargeoff_within_12_mths       89814\n",
            "sec_app_collections_12_mths_ex_med     89814\n",
            "sec_app_mths_since_last_major_derog    92607\n",
            "hardship_reason                        93427\n",
            "hardship_payoff_balance_amount         93427\n",
            "hardship_last_payment_amount           93427\n",
            "debt_settlement_flag_date              91931\n",
            "settlement_status                      91931\n",
            "settlement_date                        91931\n",
            "settlement_amount                      91931\n",
            "settlement_percentage                  91931\n",
            "settlement_term                        91931\n",
            "dtype: int64\n"
          ]
        }
      ]
    },
    {
      "cell_type": "code",
      "source": [
        "sub_grade = sub_grade.drop(sub_grade[sub_grade[\"application_type\"] == \"Joint App\"].index)"
      ],
      "metadata": {
        "id": "Px94TouLUcKm"
      },
      "execution_count": null,
      "outputs": []
    },
    {
      "cell_type": "code",
      "source": [
        "sub_grade[\"application_type\"].unique()"
      ],
      "metadata": {
        "id": "ftcEpm2TUjXf",
        "colab": {
          "base_uri": "https://localhost:8080/"
        },
        "outputId": "54551862-22bd-4b9a-905a-996284cfa1d7"
      },
      "execution_count": null,
      "outputs": [
        {
          "output_type": "execute_result",
          "data": {
            "text/plain": [
              "array(['Individual'], dtype=object)"
            ]
          },
          "metadata": {},
          "execution_count": 150
        }
      ]
    },
    {
      "cell_type": "code",
      "source": [
        "threshold = 48000\n",
        "null_counts = sub_grade.isnull().sum()\n",
        "columns_to_drop = null_counts[null_counts > threshold].index\n",
        "sub_grade.drop(columns=columns_to_drop, inplace=True)"
      ],
      "metadata": {
        "id": "AmB-il9orXTx"
      },
      "execution_count": null,
      "outputs": []
    },
    {
      "cell_type": "code",
      "source": [
        "sub_grade.shape"
      ],
      "metadata": {
        "colab": {
          "base_uri": "https://localhost:8080/"
        },
        "id": "9JFC5FvirxrD",
        "outputId": "1879db20-9fb5-4763-8de0-d824fb684172"
      },
      "execution_count": null,
      "outputs": [
        {
          "output_type": "execute_result",
          "data": {
            "text/plain": [
              "(89292, 72)"
            ]
          },
          "metadata": {},
          "execution_count": 152
        }
      ]
    },
    {
      "cell_type": "code",
      "source": [
        "threshold = 35000\n",
        "sub_grade= sub_grade.dropna(thresh=len(sub_grade) - threshold, axis=1)\n"
      ],
      "metadata": {
        "id": "UJMNTYyOr4Lm"
      },
      "execution_count": null,
      "outputs": []
    },
    {
      "cell_type": "code",
      "source": [
        "sub_grade.isna().sum()"
      ],
      "metadata": {
        "colab": {
          "base_uri": "https://localhost:8080/"
        },
        "id": "gNUSMQiksCh-",
        "outputId": "8e184646-de28-4980-f477-eedc593a26ed"
      },
      "execution_count": null,
      "outputs": [
        {
          "output_type": "execute_result",
          "data": {
            "text/plain": [
              "loan_amnt                         0\n",
              "term                              0\n",
              "int_rate                          0\n",
              "grade                             0\n",
              "sub_grade                         0\n",
              "emp_length                     5250\n",
              "home_ownership                    0\n",
              "annual_inc                        1\n",
              "verification_status               0\n",
              "issue_d                           0\n",
              "purpose                           0\n",
              "addr_state                        0\n",
              "dti                               0\n",
              "earliest_cr_line                  2\n",
              "fico_range_low                    0\n",
              "fico_range_high                   0\n",
              "inq_last_6mths                    2\n",
              "open_acc                          2\n",
              "pub_rec                           2\n",
              "revol_util                       81\n",
              "total_acc                         2\n",
              "application_type                  0\n",
              "tot_coll_amt                   3367\n",
              "tot_cur_bal                    3367\n",
              "total_rev_hi_lim               3367\n",
              "acc_open_past_24mths           2508\n",
              "avg_cur_bal                    3371\n",
              "bc_open_to_buy                 3641\n",
              "bc_util                        3697\n",
              "mo_sin_old_il_acct             6067\n",
              "mo_sin_old_rev_tl_op           3367\n",
              "mo_sin_rcnt_rev_tl_op          3367\n",
              "mo_sin_rcnt_tl                 3367\n",
              "mort_acc                       2508\n",
              "mths_since_recent_bc           3577\n",
              "mths_since_recent_inq         10306\n",
              "num_accts_ever_120_pd          3367\n",
              "num_actv_bc_tl                 3367\n",
              "num_actv_rev_tl                3367\n",
              "num_bc_sats                    2861\n",
              "num_bc_tl                      3367\n",
              "num_il_tl                      3367\n",
              "num_op_rev_tl                  3367\n",
              "num_rev_accts                  3368\n",
              "num_rev_tl_bal_gt_0            3367\n",
              "num_sats                       2861\n",
              "num_tl_120dpd_2m               6846\n",
              "num_tl_30dpd                   3367\n",
              "num_tl_90g_dpd_24m             3367\n",
              "num_tl_op_past_12m             3367\n",
              "pct_tl_nvr_dlq                 3374\n",
              "percent_bc_gt_75               3663\n",
              "pub_rec_bankruptcies            149\n",
              "tot_hi_cred_lim                3367\n",
              "total_bal_ex_mort              2508\n",
              "total_bc_limit                 2508\n",
              "total_il_high_credit_limit     3367\n",
              "dtype: int64"
            ]
          },
          "metadata": {},
          "execution_count": 154
        }
      ]
    },
    {
      "cell_type": "code",
      "source": [
        "# Fill missing values in each column of the DataFrame\n",
        "sub_grade=sub_grade.fillna({\n",
        "    'emp_length': 0,\n",
        "    'annual_inc': sub_grade['annual_inc'].mean(),\n",
        "    'earliest_cr_line': sub_grade['earliest_cr_line'].mode().values[0],\n",
        "    'inq_last_6mths': sub_grade['inq_last_6mths'].median(),\n",
        "    'open_acc': sub_grade['open_acc'].median(),\n",
        "    'pub_rec': sub_grade['pub_rec'].median(),\n",
        "    'revol_util': sub_grade['revol_util'].median(),\n",
        "    'total_acc': sub_grade['total_acc'].median(),\n",
        "    'tot_coll_amt': 0,\n",
        "    'tot_cur_bal': sub_grade['tot_cur_bal'].mean(),\n",
        "    'total_rev_hi_lim': sub_grade['total_rev_hi_lim'].mean(),\n",
        "    'acc_open_past_24mths': sub_grade['acc_open_past_24mths'].mode().values[0],\n",
        "    'avg_cur_bal': sub_grade['avg_cur_bal'].mean(),\n",
        "    'bc_open_to_buy': sub_grade['bc_open_to_buy'].mean(),\n",
        "    'bc_util': sub_grade['bc_util'].mean(),\n",
        "    'mo_sin_old_il_acct': sub_grade['mo_sin_old_il_acct'].median(),\n",
        "    'mo_sin_old_rev_tl_op': sub_grade['mo_sin_old_rev_tl_op'].median(),\n",
        "    'mo_sin_rcnt_rev_tl_op': sub_grade['mo_sin_rcnt_rev_tl_op'].median(),\n",
        "    'mo_sin_rcnt_tl': sub_grade['mo_sin_rcnt_tl'].median(),\n",
        "    'mort_acc': sub_grade['mort_acc'].median(),\n",
        "    'mths_since_recent_bc': sub_grade['mths_since_recent_bc'].median(),\n",
        "    'mths_since_recent_inq': sub_grade['mths_since_recent_inq'].median(),\n",
        "    'num_accts_ever_120_pd': sub_grade['num_accts_ever_120_pd'].median(),\n",
        "    'num_actv_bc_tl': sub_grade['num_actv_bc_tl'].median(),\n",
        "    'num_actv_rev_tl': sub_grade['num_actv_rev_tl'].median(),\n",
        "    'num_bc_sats': sub_grade['num_bc_sats'].median(),\n",
        "    'num_bc_tl': sub_grade['num_bc_tl'].median(),\n",
        "    'num_il_tl': sub_grade['num_il_tl'].median(),\n",
        "    'num_op_rev_tl': sub_grade['num_op_rev_tl'].median(),\n",
        "    'num_rev_accts': sub_grade['num_rev_accts'].median(),\n",
        "    'num_rev_tl_bal_gt_0': sub_grade['num_rev_tl_bal_gt_0'].median(),\n",
        "    'num_sats': sub_grade['num_sats'].median(),\n",
        "    'num_tl_120dpd_2m': sub_grade['num_tl_120dpd_2m'].median(),\n",
        "    'num_tl_30dpd': sub_grade['num_tl_30dpd'].median(),\n",
        "    'num_tl_90g_dpd_24m': sub_grade['num_tl_90g_dpd_24m'].median(),\n",
        "    'num_tl_op_past_12m': sub_grade['num_tl_op_past_12m'].median(),\n",
        "    'pct_tl_nvr_dlq': sub_grade['pct_tl_nvr_dlq'].mean(),\n",
        "    'percent_bc_gt_75': sub_grade['percent_bc_gt_75'].mean(),\n",
        "    'pub_rec_bankruptcies': sub_grade['pub_rec_bankruptcies'].mode().values[0],\n",
        "    'tot_hi_cred_lim': sub_grade['tot_hi_cred_lim'].mean(),\n",
        "    'total_bal_ex_mort': sub_grade['total_bal_ex_mort'].median(),\n",
        "    'total_bc_limit': sub_grade['total_bc_limit'].median(),\n",
        "    'total_il_high_credit_limit': sub_grade['total_il_high_credit_limit'].mean()\n",
        "})\n",
        "\n"
      ],
      "metadata": {
        "id": "zIuT9ye0vXwk"
      },
      "execution_count": null,
      "outputs": []
    },
    {
      "cell_type": "code",
      "source": [
        "sub_grade.isna().sum()"
      ],
      "metadata": {
        "colab": {
          "base_uri": "https://localhost:8080/"
        },
        "id": "WHSwMDucwOYb",
        "outputId": "abdb115a-6b3e-4185-9c6b-651464158b04"
      },
      "execution_count": null,
      "outputs": [
        {
          "output_type": "execute_result",
          "data": {
            "text/plain": [
              "loan_amnt                     0\n",
              "term                          0\n",
              "int_rate                      0\n",
              "grade                         0\n",
              "sub_grade                     0\n",
              "emp_length                    0\n",
              "home_ownership                0\n",
              "annual_inc                    0\n",
              "verification_status           0\n",
              "issue_d                       0\n",
              "purpose                       0\n",
              "addr_state                    0\n",
              "dti                           0\n",
              "earliest_cr_line              0\n",
              "fico_range_low                0\n",
              "fico_range_high               0\n",
              "inq_last_6mths                0\n",
              "open_acc                      0\n",
              "pub_rec                       0\n",
              "revol_util                    0\n",
              "total_acc                     0\n",
              "application_type              0\n",
              "tot_coll_amt                  0\n",
              "tot_cur_bal                   0\n",
              "total_rev_hi_lim              0\n",
              "acc_open_past_24mths          0\n",
              "avg_cur_bal                   0\n",
              "bc_open_to_buy                0\n",
              "bc_util                       0\n",
              "mo_sin_old_il_acct            0\n",
              "mo_sin_old_rev_tl_op          0\n",
              "mo_sin_rcnt_rev_tl_op         0\n",
              "mo_sin_rcnt_tl                0\n",
              "mort_acc                      0\n",
              "mths_since_recent_bc          0\n",
              "mths_since_recent_inq         0\n",
              "num_accts_ever_120_pd         0\n",
              "num_actv_bc_tl                0\n",
              "num_actv_rev_tl               0\n",
              "num_bc_sats                   0\n",
              "num_bc_tl                     0\n",
              "num_il_tl                     0\n",
              "num_op_rev_tl                 0\n",
              "num_rev_accts                 0\n",
              "num_rev_tl_bal_gt_0           0\n",
              "num_sats                      0\n",
              "num_tl_120dpd_2m              0\n",
              "num_tl_30dpd                  0\n",
              "num_tl_90g_dpd_24m            0\n",
              "num_tl_op_past_12m            0\n",
              "pct_tl_nvr_dlq                0\n",
              "percent_bc_gt_75              0\n",
              "pub_rec_bankruptcies          0\n",
              "tot_hi_cred_lim               0\n",
              "total_bal_ex_mort             0\n",
              "total_bc_limit                0\n",
              "total_il_high_credit_limit    0\n",
              "dtype: int64"
            ]
          },
          "metadata": {},
          "execution_count": 156
        }
      ]
    },
    {
      "cell_type": "code",
      "source": [
        "sub_grade.shape"
      ],
      "metadata": {
        "colab": {
          "base_uri": "https://localhost:8080/"
        },
        "id": "h3EmmxhFwYCa",
        "outputId": "374060f4-ba21-44b5-8f34-5e966f3e7a64"
      },
      "execution_count": null,
      "outputs": [
        {
          "output_type": "execute_result",
          "data": {
            "text/plain": [
              "(89292, 57)"
            ]
          },
          "metadata": {},
          "execution_count": 157
        }
      ]
    },
    {
      "cell_type": "code",
      "source": [
        "sub_grade = sub_grade.drop(columns=[\"grade\", \"int_rate\"])"
      ],
      "metadata": {
        "id": "uSxTqW0UwaO9"
      },
      "execution_count": null,
      "outputs": []
    },
    {
      "cell_type": "code",
      "source": [
        "sub_grade['sub_grade'].unique()"
      ],
      "metadata": {
        "colab": {
          "base_uri": "https://localhost:8080/"
        },
        "id": "zVtGwOGIwbSK",
        "outputId": "9638371a-337f-4af9-ba43-1895807f1d0f"
      },
      "execution_count": null,
      "outputs": [
        {
          "output_type": "execute_result",
          "data": {
            "text/plain": [
              "array(['A1', 'A2', 'A3', 'A4', 'A5', 'B1', 'B2', 'B3', 'B4', 'B5', 'C1',\n",
              "       'C2', 'C3', 'C4', 'C5', 'D1', 'D2', 'D3', 'D4', 'D5', 'E1', 'E2',\n",
              "       'E3', 'E4', 'E5', 'F1', 'F2', 'F3', 'F4', 'F5', 'G1', 'G2', 'G3',\n",
              "       'G4', 'G5'], dtype=object)"
            ]
          },
          "metadata": {},
          "execution_count": 159
        }
      ]
    },
    {
      "cell_type": "code",
      "source": [
        "\n",
        "# Create an instance of OrdinalEncoder\n",
        "encoder = OrdinalEncoder()\n",
        "\n",
        "# Fit and transform the 'sub_grade' column\n",
        "sub_grade['sub_grade'] = encoder.fit_transform(sub_grade[['sub_grade']])\n"
      ],
      "metadata": {
        "id": "mqhVvHP81HOm"
      },
      "execution_count": null,
      "outputs": []
    },
    {
      "cell_type": "code",
      "source": [
        "sub_grade['sub_grade'].unique()"
      ],
      "metadata": {
        "colab": {
          "base_uri": "https://localhost:8080/"
        },
        "id": "iWu1GYs01toL",
        "outputId": "0732508f-d192-42c2-a597-7460a8834f0e"
      },
      "execution_count": null,
      "outputs": [
        {
          "output_type": "execute_result",
          "data": {
            "text/plain": [
              "array([ 0.,  1.,  2.,  3.,  4.,  5.,  6.,  7.,  8.,  9., 10., 11., 12.,\n",
              "       13., 14., 15., 16., 17., 18., 19., 20., 21., 22., 23., 24., 25.,\n",
              "       26., 27., 28., 29., 30., 31., 32., 33., 34.])"
            ]
          },
          "metadata": {},
          "execution_count": 162
        }
      ]
    },
    {
      "cell_type": "code",
      "source": [
        "correlation_matrix = sub_grade.corr()"
      ],
      "metadata": {
        "colab": {
          "base_uri": "https://localhost:8080/"
        },
        "id": "IrP-4KUOzGW9",
        "outputId": "239fa1d1-b0c4-4da2-cae5-efe7878d9a5a"
      },
      "execution_count": null,
      "outputs": [
        {
          "output_type": "stream",
          "name": "stderr",
          "text": [
            "<ipython-input-163-91dceff32151>:1: FutureWarning: The default value of numeric_only in DataFrame.corr is deprecated. In a future version, it will default to False. Select only valid columns or specify the value of numeric_only to silence this warning.\n",
            "  correlation_matrix = sub_grade.corr()\n"
          ]
        }
      ]
    },
    {
      "cell_type": "code",
      "source": [
        "num_top_correlated = 20\n",
        "top_correlated_features = correlation_matrix.nlargest(num_top_correlated, 'sub_grade')['sub_grade'].index\n"
      ],
      "metadata": {
        "id": "w3cQ36nuzG8t"
      },
      "execution_count": null,
      "outputs": []
    },
    {
      "cell_type": "code",
      "source": [
        "features = sub_grade.select_dtypes(include='number').columns.tolist()\n",
        "mi_scores = mutual_info_classif(sub_grade[features], sub_grade['sub_grade'])"
      ],
      "metadata": {
        "id": "v8rOdm4p3ixB"
      },
      "execution_count": null,
      "outputs": []
    },
    {
      "cell_type": "code",
      "source": [
        "# Select the top M features based on mutual information\n",
        "num_top_mi = 20\n",
        "top_mi_features = sub_grade[features].columns[np.argsort(mi_scores)][::-1][:num_top_mi]"
      ],
      "metadata": {
        "id": "-oj-9XQS4M9s"
      },
      "execution_count": null,
      "outputs": []
    },
    {
      "cell_type": "code",
      "source": [
        " #Combine the top correlated features and top mutual information features\n",
        "selected_features = list(set(top_correlated_features).union(set(top_mi_features)))"
      ],
      "metadata": {
        "id": "8Ts_t63D4UXG"
      },
      "execution_count": null,
      "outputs": []
    },
    {
      "cell_type": "code",
      "source": [
        "selected_features"
      ],
      "metadata": {
        "colab": {
          "base_uri": "https://localhost:8080/"
        },
        "id": "BEK5s9nC4afA",
        "outputId": "a5e8544a-833a-45ca-dfcd-c4a73c6359d1"
      },
      "execution_count": null,
      "outputs": [
        {
          "output_type": "execute_result",
          "data": {
            "text/plain": [
              "['num_rev_tl_bal_gt_0',\n",
              " 'fico_range_low',\n",
              " 'sub_grade',\n",
              " 'total_bc_limit',\n",
              " 'num_sats',\n",
              " 'pub_rec_bankruptcies',\n",
              " 'mths_since_recent_inq',\n",
              " 'fico_range_high',\n",
              " 'bc_util',\n",
              " 'total_rev_hi_lim',\n",
              " 'num_actv_rev_tl',\n",
              " 'total_bal_ex_mort',\n",
              " 'loan_amnt',\n",
              " 'num_il_tl',\n",
              " 'num_tl_90g_dpd_24m',\n",
              " 'tot_hi_cred_lim',\n",
              " 'annual_inc',\n",
              " 'pub_rec',\n",
              " 'open_acc',\n",
              " 'mo_sin_rcnt_tl',\n",
              " 'inq_last_6mths',\n",
              " 'num_accts_ever_120_pd',\n",
              " 'dti',\n",
              " 'percent_bc_gt_75',\n",
              " 'bc_open_to_buy',\n",
              " 'num_tl_op_past_12m',\n",
              " 'revol_util',\n",
              " 'mo_sin_old_rev_tl_op',\n",
              " 'acc_open_past_24mths',\n",
              " 'mo_sin_rcnt_rev_tl_op',\n",
              " 'num_actv_bc_tl']"
            ]
          },
          "metadata": {},
          "execution_count": 168
        }
      ]
    },
    {
      "cell_type": "code",
      "source": [
        "additional_append= [\"annual_inc\", \"emp_length\", \"purpose\", \"term\", \"verification_status\",\"sub_grade\",\"earliest_cr_line\",\"issue_d\"]\n",
        "\n",
        "for col in additional_append:\n",
        "    if col not in selected_features:\n",
        "        selected_features.append(col)"
      ],
      "metadata": {
        "id": "5muCFQA74cb7"
      },
      "execution_count": null,
      "outputs": []
    },
    {
      "cell_type": "code",
      "source": [
        "sub_grade = sub_grade[selected_features].copy()"
      ],
      "metadata": {
        "id": "jDeEvqyy5ae4"
      },
      "execution_count": null,
      "outputs": []
    },
    {
      "cell_type": "code",
      "source": [
        "sub_grade.shape"
      ],
      "metadata": {
        "colab": {
          "base_uri": "https://localhost:8080/"
        },
        "id": "XV5xrJgr5ejU",
        "outputId": "19da6f25-eb6b-45ff-b91d-ea6933a61c03"
      },
      "execution_count": null,
      "outputs": [
        {
          "output_type": "execute_result",
          "data": {
            "text/plain": [
              "(89292, 37)"
            ]
          },
          "metadata": {},
          "execution_count": 171
        }
      ]
    },
    {
      "cell_type": "code",
      "source": [
        "sub_grade.head()"
      ],
      "metadata": {
        "colab": {
          "base_uri": "https://localhost:8080/",
          "height": 357
        },
        "id": "WJN58W8-5hqy",
        "outputId": "b00da4ff-aa7c-4687-9f11-f6c9f378dfd8"
      },
      "execution_count": null,
      "outputs": [
        {
          "output_type": "execute_result",
          "data": {
            "text/plain": [
              "   num_rev_tl_bal_gt_0  fico_range_low  sub_grade  total_bc_limit  num_sats  \\\n",
              "0                  2.0           840.0        0.0         71000.0      11.0   \n",
              "1                  4.0           740.0        0.0         31200.0      23.0   \n",
              "2                 14.0           755.0        0.0         67200.0      40.0   \n",
              "3                  2.0           715.0        0.0         13000.0      10.0   \n",
              "4                  4.0           735.0        0.0         44000.0      12.0   \n",
              "\n",
              "   pub_rec_bankruptcies  mths_since_recent_inq  fico_range_high  bc_util  \\\n",
              "0                   0.0                    4.0            844.0      0.5   \n",
              "1                   0.0                   16.0            744.0     22.2   \n",
              "2                   0.0                   19.0            759.0     17.2   \n",
              "3                   0.0                   23.0            719.0     98.1   \n",
              "4                   0.0                   23.0            739.0     40.2   \n",
              "\n",
              "   total_rev_hi_lim  num_actv_rev_tl  total_bal_ex_mort  loan_amnt  num_il_tl  \\\n",
              "0           82500.0              2.0            43870.0    27225.0       13.0   \n",
              "1           55800.0              4.0            21476.0     6000.0        4.0   \n",
              "2          127200.0             14.0            76967.0    16000.0       10.0   \n",
              "3           21900.0              2.0            54757.0    18000.0        6.0   \n",
              "4           52000.0              4.0            27064.0    16000.0       20.0   \n",
              "\n",
              "   num_tl_90g_dpd_24m  tot_hi_cred_lim  annual_inc  pub_rec  open_acc  \\\n",
              "0                 0.0         356781.0     58000.0      0.0      11.0   \n",
              "1                 0.0          71300.0     56475.0      0.0      23.0   \n",
              "2                 0.0         493745.0    140000.0      0.0      40.0   \n",
              "3                 0.0         269069.0     79200.0      0.0      10.0   \n",
              "4                 0.0         260162.0     45000.0      0.0      12.0   \n",
              "\n",
              "   mo_sin_rcnt_tl  inq_last_6mths  num_accts_ever_120_pd    dti  \\\n",
              "0            14.0             0.0                    0.0  17.73   \n",
              "1             1.0             0.0                    0.0  22.08   \n",
              "2             2.0             0.0                    0.0  15.51   \n",
              "3            12.0             0.0                    0.0  20.61   \n",
              "4            23.0             0.0                    0.0  16.67   \n",
              "\n",
              "   percent_bc_gt_75  bc_open_to_buy  num_tl_op_past_12m  revol_util  \\\n",
              "0               0.0         70668.0                 0.0         0.4   \n",
              "1              12.5         24283.0                 3.0        34.1   \n",
              "2               0.0         55631.0                 3.0        14.2   \n",
              "3             100.0           244.0                 1.0        85.2   \n",
              "4              20.0         26309.0                 0.0        34.0   \n",
              "\n",
              "   mo_sin_old_rev_tl_op  acc_open_past_24mths  mo_sin_rcnt_rev_tl_op  \\\n",
              "0                 164.0                   2.0                   26.0   \n",
              "1                 342.0                   6.0                    1.0   \n",
              "2                 383.0                   7.0                   11.0   \n",
              "3                 220.0                   7.0                   12.0   \n",
              "4                 171.0                   1.0                   27.0   \n",
              "\n",
              "   num_actv_bc_tl emp_length             purpose        term  \\\n",
              "0             2.0    8 years  debt_consolidation   36 months   \n",
              "1             1.0  10+ years             medical   36 months   \n",
              "2            11.0  10+ years         credit_card   36 months   \n",
              "3             1.0          0  debt_consolidation   36 months   \n",
              "4             4.0  10+ years  debt_consolidation   36 months   \n",
              "\n",
              "  verification_status earliest_cr_line   issue_d  \n",
              "0     Source Verified         Nov-2000  Jul-2014  \n",
              "1     Source Verified         Sep-1988  Mar-2017  \n",
              "2     Source Verified         Jun-1983  Jun-2015  \n",
              "3     Source Verified         Dec-1997  Apr-2016  \n",
              "4        Not Verified         Dec-2001  Mar-2016  "
            ],
            "text/html": [
              "\n",
              "\n",
              "  <div id=\"df-e4289d99-e595-4add-9a66-77d98fba32ec\">\n",
              "    <div class=\"colab-df-container\">\n",
              "      <div>\n",
              "<style scoped>\n",
              "    .dataframe tbody tr th:only-of-type {\n",
              "        vertical-align: middle;\n",
              "    }\n",
              "\n",
              "    .dataframe tbody tr th {\n",
              "        vertical-align: top;\n",
              "    }\n",
              "\n",
              "    .dataframe thead th {\n",
              "        text-align: right;\n",
              "    }\n",
              "</style>\n",
              "<table border=\"1\" class=\"dataframe\">\n",
              "  <thead>\n",
              "    <tr style=\"text-align: right;\">\n",
              "      <th></th>\n",
              "      <th>num_rev_tl_bal_gt_0</th>\n",
              "      <th>fico_range_low</th>\n",
              "      <th>sub_grade</th>\n",
              "      <th>total_bc_limit</th>\n",
              "      <th>num_sats</th>\n",
              "      <th>pub_rec_bankruptcies</th>\n",
              "      <th>mths_since_recent_inq</th>\n",
              "      <th>fico_range_high</th>\n",
              "      <th>bc_util</th>\n",
              "      <th>total_rev_hi_lim</th>\n",
              "      <th>num_actv_rev_tl</th>\n",
              "      <th>total_bal_ex_mort</th>\n",
              "      <th>loan_amnt</th>\n",
              "      <th>num_il_tl</th>\n",
              "      <th>num_tl_90g_dpd_24m</th>\n",
              "      <th>tot_hi_cred_lim</th>\n",
              "      <th>annual_inc</th>\n",
              "      <th>pub_rec</th>\n",
              "      <th>open_acc</th>\n",
              "      <th>mo_sin_rcnt_tl</th>\n",
              "      <th>inq_last_6mths</th>\n",
              "      <th>num_accts_ever_120_pd</th>\n",
              "      <th>dti</th>\n",
              "      <th>percent_bc_gt_75</th>\n",
              "      <th>bc_open_to_buy</th>\n",
              "      <th>num_tl_op_past_12m</th>\n",
              "      <th>revol_util</th>\n",
              "      <th>mo_sin_old_rev_tl_op</th>\n",
              "      <th>acc_open_past_24mths</th>\n",
              "      <th>mo_sin_rcnt_rev_tl_op</th>\n",
              "      <th>num_actv_bc_tl</th>\n",
              "      <th>emp_length</th>\n",
              "      <th>purpose</th>\n",
              "      <th>term</th>\n",
              "      <th>verification_status</th>\n",
              "      <th>earliest_cr_line</th>\n",
              "      <th>issue_d</th>\n",
              "    </tr>\n",
              "  </thead>\n",
              "  <tbody>\n",
              "    <tr>\n",
              "      <th>0</th>\n",
              "      <td>2.0</td>\n",
              "      <td>840.0</td>\n",
              "      <td>0.0</td>\n",
              "      <td>71000.0</td>\n",
              "      <td>11.0</td>\n",
              "      <td>0.0</td>\n",
              "      <td>4.0</td>\n",
              "      <td>844.0</td>\n",
              "      <td>0.5</td>\n",
              "      <td>82500.0</td>\n",
              "      <td>2.0</td>\n",
              "      <td>43870.0</td>\n",
              "      <td>27225.0</td>\n",
              "      <td>13.0</td>\n",
              "      <td>0.0</td>\n",
              "      <td>356781.0</td>\n",
              "      <td>58000.0</td>\n",
              "      <td>0.0</td>\n",
              "      <td>11.0</td>\n",
              "      <td>14.0</td>\n",
              "      <td>0.0</td>\n",
              "      <td>0.0</td>\n",
              "      <td>17.73</td>\n",
              "      <td>0.0</td>\n",
              "      <td>70668.0</td>\n",
              "      <td>0.0</td>\n",
              "      <td>0.4</td>\n",
              "      <td>164.0</td>\n",
              "      <td>2.0</td>\n",
              "      <td>26.0</td>\n",
              "      <td>2.0</td>\n",
              "      <td>8 years</td>\n",
              "      <td>debt_consolidation</td>\n",
              "      <td>36 months</td>\n",
              "      <td>Source Verified</td>\n",
              "      <td>Nov-2000</td>\n",
              "      <td>Jul-2014</td>\n",
              "    </tr>\n",
              "    <tr>\n",
              "      <th>1</th>\n",
              "      <td>4.0</td>\n",
              "      <td>740.0</td>\n",
              "      <td>0.0</td>\n",
              "      <td>31200.0</td>\n",
              "      <td>23.0</td>\n",
              "      <td>0.0</td>\n",
              "      <td>16.0</td>\n",
              "      <td>744.0</td>\n",
              "      <td>22.2</td>\n",
              "      <td>55800.0</td>\n",
              "      <td>4.0</td>\n",
              "      <td>21476.0</td>\n",
              "      <td>6000.0</td>\n",
              "      <td>4.0</td>\n",
              "      <td>0.0</td>\n",
              "      <td>71300.0</td>\n",
              "      <td>56475.0</td>\n",
              "      <td>0.0</td>\n",
              "      <td>23.0</td>\n",
              "      <td>1.0</td>\n",
              "      <td>0.0</td>\n",
              "      <td>0.0</td>\n",
              "      <td>22.08</td>\n",
              "      <td>12.5</td>\n",
              "      <td>24283.0</td>\n",
              "      <td>3.0</td>\n",
              "      <td>34.1</td>\n",
              "      <td>342.0</td>\n",
              "      <td>6.0</td>\n",
              "      <td>1.0</td>\n",
              "      <td>1.0</td>\n",
              "      <td>10+ years</td>\n",
              "      <td>medical</td>\n",
              "      <td>36 months</td>\n",
              "      <td>Source Verified</td>\n",
              "      <td>Sep-1988</td>\n",
              "      <td>Mar-2017</td>\n",
              "    </tr>\n",
              "    <tr>\n",
              "      <th>2</th>\n",
              "      <td>14.0</td>\n",
              "      <td>755.0</td>\n",
              "      <td>0.0</td>\n",
              "      <td>67200.0</td>\n",
              "      <td>40.0</td>\n",
              "      <td>0.0</td>\n",
              "      <td>19.0</td>\n",
              "      <td>759.0</td>\n",
              "      <td>17.2</td>\n",
              "      <td>127200.0</td>\n",
              "      <td>14.0</td>\n",
              "      <td>76967.0</td>\n",
              "      <td>16000.0</td>\n",
              "      <td>10.0</td>\n",
              "      <td>0.0</td>\n",
              "      <td>493745.0</td>\n",
              "      <td>140000.0</td>\n",
              "      <td>0.0</td>\n",
              "      <td>40.0</td>\n",
              "      <td>2.0</td>\n",
              "      <td>0.0</td>\n",
              "      <td>0.0</td>\n",
              "      <td>15.51</td>\n",
              "      <td>0.0</td>\n",
              "      <td>55631.0</td>\n",
              "      <td>3.0</td>\n",
              "      <td>14.2</td>\n",
              "      <td>383.0</td>\n",
              "      <td>7.0</td>\n",
              "      <td>11.0</td>\n",
              "      <td>11.0</td>\n",
              "      <td>10+ years</td>\n",
              "      <td>credit_card</td>\n",
              "      <td>36 months</td>\n",
              "      <td>Source Verified</td>\n",
              "      <td>Jun-1983</td>\n",
              "      <td>Jun-2015</td>\n",
              "    </tr>\n",
              "    <tr>\n",
              "      <th>3</th>\n",
              "      <td>2.0</td>\n",
              "      <td>715.0</td>\n",
              "      <td>0.0</td>\n",
              "      <td>13000.0</td>\n",
              "      <td>10.0</td>\n",
              "      <td>0.0</td>\n",
              "      <td>23.0</td>\n",
              "      <td>719.0</td>\n",
              "      <td>98.1</td>\n",
              "      <td>21900.0</td>\n",
              "      <td>2.0</td>\n",
              "      <td>54757.0</td>\n",
              "      <td>18000.0</td>\n",
              "      <td>6.0</td>\n",
              "      <td>0.0</td>\n",
              "      <td>269069.0</td>\n",
              "      <td>79200.0</td>\n",
              "      <td>0.0</td>\n",
              "      <td>10.0</td>\n",
              "      <td>12.0</td>\n",
              "      <td>0.0</td>\n",
              "      <td>0.0</td>\n",
              "      <td>20.61</td>\n",
              "      <td>100.0</td>\n",
              "      <td>244.0</td>\n",
              "      <td>1.0</td>\n",
              "      <td>85.2</td>\n",
              "      <td>220.0</td>\n",
              "      <td>7.0</td>\n",
              "      <td>12.0</td>\n",
              "      <td>1.0</td>\n",
              "      <td>0</td>\n",
              "      <td>debt_consolidation</td>\n",
              "      <td>36 months</td>\n",
              "      <td>Source Verified</td>\n",
              "      <td>Dec-1997</td>\n",
              "      <td>Apr-2016</td>\n",
              "    </tr>\n",
              "    <tr>\n",
              "      <th>4</th>\n",
              "      <td>4.0</td>\n",
              "      <td>735.0</td>\n",
              "      <td>0.0</td>\n",
              "      <td>44000.0</td>\n",
              "      <td>12.0</td>\n",
              "      <td>0.0</td>\n",
              "      <td>23.0</td>\n",
              "      <td>739.0</td>\n",
              "      <td>40.2</td>\n",
              "      <td>52000.0</td>\n",
              "      <td>4.0</td>\n",
              "      <td>27064.0</td>\n",
              "      <td>16000.0</td>\n",
              "      <td>20.0</td>\n",
              "      <td>0.0</td>\n",
              "      <td>260162.0</td>\n",
              "      <td>45000.0</td>\n",
              "      <td>0.0</td>\n",
              "      <td>12.0</td>\n",
              "      <td>23.0</td>\n",
              "      <td>0.0</td>\n",
              "      <td>0.0</td>\n",
              "      <td>16.67</td>\n",
              "      <td>20.0</td>\n",
              "      <td>26309.0</td>\n",
              "      <td>0.0</td>\n",
              "      <td>34.0</td>\n",
              "      <td>171.0</td>\n",
              "      <td>1.0</td>\n",
              "      <td>27.0</td>\n",
              "      <td>4.0</td>\n",
              "      <td>10+ years</td>\n",
              "      <td>debt_consolidation</td>\n",
              "      <td>36 months</td>\n",
              "      <td>Not Verified</td>\n",
              "      <td>Dec-2001</td>\n",
              "      <td>Mar-2016</td>\n",
              "    </tr>\n",
              "  </tbody>\n",
              "</table>\n",
              "</div>\n",
              "      <button class=\"colab-df-convert\" onclick=\"convertToInteractive('df-e4289d99-e595-4add-9a66-77d98fba32ec')\"\n",
              "              title=\"Convert this dataframe to an interactive table.\"\n",
              "              style=\"display:none;\">\n",
              "\n",
              "  <svg xmlns=\"http://www.w3.org/2000/svg\" height=\"24px\"viewBox=\"0 0 24 24\"\n",
              "       width=\"24px\">\n",
              "    <path d=\"M0 0h24v24H0V0z\" fill=\"none\"/>\n",
              "    <path d=\"M18.56 5.44l.94 2.06.94-2.06 2.06-.94-2.06-.94-.94-2.06-.94 2.06-2.06.94zm-11 1L8.5 8.5l.94-2.06 2.06-.94-2.06-.94L8.5 2.5l-.94 2.06-2.06.94zm10 10l.94 2.06.94-2.06 2.06-.94-2.06-.94-.94-2.06-.94 2.06-2.06.94z\"/><path d=\"M17.41 7.96l-1.37-1.37c-.4-.4-.92-.59-1.43-.59-.52 0-1.04.2-1.43.59L10.3 9.45l-7.72 7.72c-.78.78-.78 2.05 0 2.83L4 21.41c.39.39.9.59 1.41.59.51 0 1.02-.2 1.41-.59l7.78-7.78 2.81-2.81c.8-.78.8-2.07 0-2.86zM5.41 20L4 18.59l7.72-7.72 1.47 1.35L5.41 20z\"/>\n",
              "  </svg>\n",
              "      </button>\n",
              "\n",
              "\n",
              "\n",
              "    <div id=\"df-fc4ed03b-67fc-4ecf-9b50-5527335c63de\">\n",
              "      <button class=\"colab-df-quickchart\" onclick=\"quickchart('df-fc4ed03b-67fc-4ecf-9b50-5527335c63de')\"\n",
              "              title=\"Suggest charts.\"\n",
              "              style=\"display:none;\">\n",
              "\n",
              "<svg xmlns=\"http://www.w3.org/2000/svg\" height=\"24px\"viewBox=\"0 0 24 24\"\n",
              "     width=\"24px\">\n",
              "    <g>\n",
              "        <path d=\"M19 3H5c-1.1 0-2 .9-2 2v14c0 1.1.9 2 2 2h14c1.1 0 2-.9 2-2V5c0-1.1-.9-2-2-2zM9 17H7v-7h2v7zm4 0h-2V7h2v10zm4 0h-2v-4h2v4z\"/>\n",
              "    </g>\n",
              "</svg>\n",
              "      </button>\n",
              "    </div>\n",
              "\n",
              "<style>\n",
              "  .colab-df-quickchart {\n",
              "    background-color: #E8F0FE;\n",
              "    border: none;\n",
              "    border-radius: 50%;\n",
              "    cursor: pointer;\n",
              "    display: none;\n",
              "    fill: #1967D2;\n",
              "    height: 32px;\n",
              "    padding: 0 0 0 0;\n",
              "    width: 32px;\n",
              "  }\n",
              "\n",
              "  .colab-df-quickchart:hover {\n",
              "    background-color: #E2EBFA;\n",
              "    box-shadow: 0px 1px 2px rgba(60, 64, 67, 0.3), 0px 1px 3px 1px rgba(60, 64, 67, 0.15);\n",
              "    fill: #174EA6;\n",
              "  }\n",
              "\n",
              "  [theme=dark] .colab-df-quickchart {\n",
              "    background-color: #3B4455;\n",
              "    fill: #D2E3FC;\n",
              "  }\n",
              "\n",
              "  [theme=dark] .colab-df-quickchart:hover {\n",
              "    background-color: #434B5C;\n",
              "    box-shadow: 0px 1px 3px 1px rgba(0, 0, 0, 0.15);\n",
              "    filter: drop-shadow(0px 1px 2px rgba(0, 0, 0, 0.3));\n",
              "    fill: #FFFFFF;\n",
              "  }\n",
              "</style>\n",
              "\n",
              "    <script>\n",
              "      async function quickchart(key) {\n",
              "        const containerElement = document.querySelector('#' + key);\n",
              "        const charts = await google.colab.kernel.invokeFunction(\n",
              "            'suggestCharts', [key], {});\n",
              "      }\n",
              "    </script>\n",
              "\n",
              "      <script>\n",
              "\n",
              "function displayQuickchartButton(domScope) {\n",
              "  let quickchartButtonEl =\n",
              "    domScope.querySelector('#df-fc4ed03b-67fc-4ecf-9b50-5527335c63de button.colab-df-quickchart');\n",
              "  quickchartButtonEl.style.display =\n",
              "    google.colab.kernel.accessAllowed ? 'block' : 'none';\n",
              "}\n",
              "\n",
              "        displayQuickchartButton(document);\n",
              "      </script>\n",
              "      <style>\n",
              "    .colab-df-container {\n",
              "      display:flex;\n",
              "      flex-wrap:wrap;\n",
              "      gap: 12px;\n",
              "    }\n",
              "\n",
              "    .colab-df-convert {\n",
              "      background-color: #E8F0FE;\n",
              "      border: none;\n",
              "      border-radius: 50%;\n",
              "      cursor: pointer;\n",
              "      display: none;\n",
              "      fill: #1967D2;\n",
              "      height: 32px;\n",
              "      padding: 0 0 0 0;\n",
              "      width: 32px;\n",
              "    }\n",
              "\n",
              "    .colab-df-convert:hover {\n",
              "      background-color: #E2EBFA;\n",
              "      box-shadow: 0px 1px 2px rgba(60, 64, 67, 0.3), 0px 1px 3px 1px rgba(60, 64, 67, 0.15);\n",
              "      fill: #174EA6;\n",
              "    }\n",
              "\n",
              "    [theme=dark] .colab-df-convert {\n",
              "      background-color: #3B4455;\n",
              "      fill: #D2E3FC;\n",
              "    }\n",
              "\n",
              "    [theme=dark] .colab-df-convert:hover {\n",
              "      background-color: #434B5C;\n",
              "      box-shadow: 0px 1px 3px 1px rgba(0, 0, 0, 0.15);\n",
              "      filter: drop-shadow(0px 1px 2px rgba(0, 0, 0, 0.3));\n",
              "      fill: #FFFFFF;\n",
              "    }\n",
              "  </style>\n",
              "\n",
              "      <script>\n",
              "        const buttonEl =\n",
              "          document.querySelector('#df-e4289d99-e595-4add-9a66-77d98fba32ec button.colab-df-convert');\n",
              "        buttonEl.style.display =\n",
              "          google.colab.kernel.accessAllowed ? 'block' : 'none';\n",
              "\n",
              "        async function convertToInteractive(key) {\n",
              "          const element = document.querySelector('#df-e4289d99-e595-4add-9a66-77d98fba32ec');\n",
              "          const dataTable =\n",
              "            await google.colab.kernel.invokeFunction('convertToInteractive',\n",
              "                                                     [key], {});\n",
              "          if (!dataTable) return;\n",
              "\n",
              "          const docLinkHtml = 'Like what you see? Visit the ' +\n",
              "            '<a target=\"_blank\" href=https://colab.research.google.com/notebooks/data_table.ipynb>data table notebook</a>'\n",
              "            + ' to learn more about interactive tables.';\n",
              "          element.innerHTML = '';\n",
              "          dataTable['output_type'] = 'display_data';\n",
              "          await google.colab.output.renderOutput(dataTable, element);\n",
              "          const docLink = document.createElement('div');\n",
              "          docLink.innerHTML = docLinkHtml;\n",
              "          element.appendChild(docLink);\n",
              "        }\n",
              "      </script>\n",
              "    </div>\n",
              "  </div>\n"
            ]
          },
          "metadata": {},
          "execution_count": 172
        }
      ]
    },
    {
      "cell_type": "code",
      "source": [
        "sub_grade[\"emp_length\"] = sub_grade[\"emp_length\"].str.replace(\"+\", \"\")"
      ],
      "metadata": {
        "colab": {
          "base_uri": "https://localhost:8080/"
        },
        "id": "ikm_Vrdu5mZN",
        "outputId": "9105eb7a-c09b-4e2e-95e0-ea40cafcc405"
      },
      "execution_count": null,
      "outputs": [
        {
          "output_type": "stream",
          "name": "stderr",
          "text": [
            "<ipython-input-173-60288b403c67>:1: FutureWarning: The default value of regex will change from True to False in a future version. In addition, single character regular expressions will *not* be treated as literal strings when regex=True.\n",
            "  sub_grade[\"emp_length\"] = sub_grade[\"emp_length\"].str.replace(\"+\", \"\")\n"
          ]
        }
      ]
    },
    {
      "cell_type": "code",
      "source": [
        "sub_grade[\"emp_length\"].unique()"
      ],
      "metadata": {
        "colab": {
          "base_uri": "https://localhost:8080/"
        },
        "id": "gYiuitnO5ry7",
        "outputId": "6021bd7b-e3c7-43f4-c3cc-da0521922bf0"
      },
      "execution_count": null,
      "outputs": [
        {
          "output_type": "execute_result",
          "data": {
            "text/plain": [
              "array(['8 years', '10 years', nan, '2 years', '1 year', '7 years',\n",
              "       '4 years', '< 1 year', '9 years', '6 years', '3 years', '5 years'],\n",
              "      dtype=object)"
            ]
          },
          "metadata": {},
          "execution_count": 174
        }
      ]
    },
    {
      "cell_type": "code",
      "source": [
        "X = sub_grade.drop([\"sub_grade\"], axis=1)\n",
        "y = sub_grade[\"sub_grade\"]"
      ],
      "metadata": {
        "id": "GtKMrEj151UJ"
      },
      "execution_count": null,
      "outputs": []
    },
    {
      "cell_type": "code",
      "source": [
        "X_train, X_test, y_train, y_test = train_test_split(\n",
        "    X, y, test_size=0.3, stratify=y, random_state=42\n",
        ")\n"
      ],
      "metadata": {
        "id": "dkD1QZ8Z58ys"
      },
      "execution_count": null,
      "outputs": []
    },
    {
      "cell_type": "code",
      "source": [
        "numeric_features = list(X.select_dtypes(include=[\"float64\"]).columns)\n",
        "numeric_features.extend([\"credit_line_year\", \"issue_month\", \"credit_line_month\"])\n",
        "categorical_features = get_categorical_features(X)"
      ],
      "metadata": {
        "id": "-wLEPnGT6BWa"
      },
      "execution_count": null,
      "outputs": []
    },
    {
      "cell_type": "code",
      "source": [
        "f_extr= Pipeline(\n",
        "    steps=[\n",
        "\n",
        "        (\"year\", year),\n",
        "        (\"month\", month),\n",
        "    ]\n",
        ")"
      ],
      "metadata": {
        "id": "DJs5ckkwCgDN"
      },
      "execution_count": null,
      "outputs": []
    },
    {
      "cell_type": "code",
      "source": [
        "categorical_transformer= Pipeline(\n",
        "    steps=[(\"encoder\", OneHotEncoder(sparse=False, handle_unknown=\"ignore\"))]\n",
        ")\n",
        "\n",
        "numeric_transformer= Pipeline(\n",
        "    steps=[\n",
        "        (\"scaler\", StandardScaler()),\n",
        "    ]\n",
        ")\n",
        "\n",
        "preprocessor = ColumnTransformer(\n",
        "    transformers=[\n",
        "        (\"categorical\", categorical_transformer, categorical_features),\n",
        "        (\"numeric\", numeric_transformer, numeric_features),\n",
        "    ],\n",
        "    remainder=\"passthrough\",\n",
        ")"
      ],
      "metadata": {
        "id": "_uz2fIa_CqDM"
      },
      "execution_count": null,
      "outputs": []
    },
    {
      "cell_type": "code",
      "source": [
        "pipe_transform = Pipeline(\n",
        "    steps=[\n",
        "\n",
        "        (\"f_extr\", f_extr),\n",
        "        (\"preprocessor\", preprocessor),\n",
        "    ]\n",
        ")"
      ],
      "metadata": {
        "id": "lIxdfr-HCvzU"
      },
      "execution_count": null,
      "outputs": []
    },
    {
      "cell_type": "code",
      "source": [
        "classifiers = [\n",
        "    (\"Logistic Regression\", LogisticRegression(max_iter=1000)),\n",
        "    (\"Random Forest\", RandomForestClassifier()),\n",
        "    (\"AdaBoost\", AdaBoostClassifier()),\n",
        "    (\"XGBoost\", xgb.XGBClassifier()),\n",
        "    (\"LightGBM\", lgb.LGBMClassifier())\n",
        "]"
      ],
      "metadata": {
        "id": "9fkrtYoQCy7B"
      },
      "execution_count": null,
      "outputs": []
    },
    {
      "cell_type": "code",
      "source": [
        "X_train_transformed = pipe_transform.fit_transform(X_train)\n",
        "X_test_transformed = pipe_transform.transform(X_test)"
      ],
      "metadata": {
        "colab": {
          "base_uri": "https://localhost:8080/"
        },
        "id": "kYeXOV-nC1yy",
        "outputId": "3be1265a-7b90-42e2-ecef-a4977ca6cadc"
      },
      "execution_count": null,
      "outputs": [
        {
          "output_type": "stream",
          "name": "stderr",
          "text": [
            "/usr/local/lib/python3.10/dist-packages/sklearn/preprocessing/_encoders.py:868: FutureWarning: `sparse` was renamed to `sparse_output` in version 1.2 and will be removed in 1.4. `sparse_output` is ignored unless you leave `sparse` to its default value.\n",
            "  warnings.warn(\n"
          ]
        }
      ]
    },
    {
      "cell_type": "code",
      "source": [
        "evaluation_results = evaluate_classifiers(classifiers, X_train_transformed, y_train, X_test_transformed, y_test)\n",
        "print(evaluation_results)"
      ],
      "metadata": {
        "colab": {
          "base_uri": "https://localhost:8080/"
        },
        "id": "jNNCJpHKC7Ms",
        "outputId": "93f49a79-e7a6-43e8-ea7e-1e7092e86870"
      },
      "execution_count": null,
      "outputs": [
        {
          "output_type": "stream",
          "name": "stdout",
          "text": [
            "            Classifier  Accuracy  F1 Score  Precision  Recall  Time Taken\n",
            "0  Logistic Regression     0.090     0.084      0.085   0.090      77.332\n",
            "1        Random Forest     0.088     0.083      0.082   0.088      52.447\n",
            "2             AdaBoost     0.086     0.075      0.076   0.086      17.157\n",
            "3              XGBoost     0.091     0.087      0.085   0.091     903.804\n",
            "4             LightGBM     0.090     0.086      0.084   0.090      62.109\n"
          ]
        }
      ]
    },
    {
      "cell_type": "markdown",
      "source": [
        "## **Conclusion**"
      ],
      "metadata": {
        "id": "QP0k--gfIL5r"
      }
    },
    {
      "cell_type": "markdown",
      "source": [
        "Based on the evaluation results, it can be observed that the classifiers performed poorly in predicting the target variable. All of the classifiers achieved low accuracy, F1 score, precision, and recall values, indicating that they struggled to effectively classify the data.\n",
        "\n",
        "Among the tested classifiers, XGBoost achieved the highest accuracy of 0.091, followed closely by Logistic Regression and LightGBM with accuracies of 0.090. However, the differences in performance between these classifiers are marginal.\n",
        "\n",
        "It is important to note that the evaluation results may not be conclusive or representative of the classifiers' true performance, as they are based on a single evaluation using the given dataset. Further analysis and experimentation may be required to improve the predictive capabilities of the models.\n",
        "\n",
        "Additionally, it is worth considering that the ordinal encoding of the 'sub_grade' feature might not have been the most suitable approach for this problem. Other encoding methods, such as one-hot encoding or target encoding, could potentially provide better results.\n",
        "\n",
        "Overall, based on the provided evaluation results, it is evident that the current set of classifiers struggled to effectively predict the target variable. Further analysis and experimentation are necessary to improve the models' performance."
      ],
      "metadata": {
        "id": "rUC06V3VHIzt"
      }
    },
    {
      "cell_type": "markdown",
      "source": [
        "**Interest Rate**"
      ],
      "metadata": {
        "id": "4V7r-8udIMlv"
      }
    },
    {
      "cell_type": "code",
      "source": [
        "interest = grading.groupby(\"int_rate\").apply(lambda x: x.sample(n=min(100000//len(grading[\"int_rate\"].unique()), len(x)), random_state=41)).reset_index(drop=True)\n"
      ],
      "metadata": {
        "id": "wq46LQHNK5TB"
      },
      "execution_count": null,
      "outputs": []
    },
    {
      "cell_type": "code",
      "source": [
        "interest.shape"
      ],
      "metadata": {
        "colab": {
          "base_uri": "https://localhost:8080/"
        },
        "id": "gGymgsGTNJ8I",
        "outputId": "1b1ccdaa-30fc-4b7b-ca37-54560b09b920"
      },
      "execution_count": null,
      "outputs": [
        {
          "output_type": "execute_result",
          "data": {
            "text/plain": [
              "(71436, 102)"
            ]
          },
          "metadata": {},
          "execution_count": 186
        }
      ]
    },
    {
      "cell_type": "code",
      "source": [
        "null_counts = interest.isnull().sum()\n",
        "print(null_counts)"
      ],
      "metadata": {
        "colab": {
          "base_uri": "https://localhost:8080/"
        },
        "id": "W-pbYkyhM0id",
        "outputId": "98553500-03f6-4953-d4f1-87d31e0e5a92"
      },
      "execution_count": null,
      "outputs": [
        {
          "output_type": "stream",
          "name": "stdout",
          "text": [
            "loan_amnt                                  0\n",
            "term                                       0\n",
            "int_rate                                   0\n",
            "grade                                      0\n",
            "sub_grade                                  0\n",
            "emp_length                              3667\n",
            "home_ownership                             0\n",
            "annual_inc                                 3\n",
            "verification_status                        0\n",
            "issue_d                                    0\n",
            "desc                                   52549\n",
            "purpose                                    0\n",
            "addr_state                                 0\n",
            "dti                                       43\n",
            "earliest_cr_line                          20\n",
            "fico_range_low                             0\n",
            "fico_range_high                            0\n",
            "inq_last_6mths                            20\n",
            "mths_since_last_delinq                 37661\n",
            "mths_since_last_record                 61081\n",
            "open_acc                                  20\n",
            "pub_rec                                   20\n",
            "revol_util                               121\n",
            "total_acc                                 20\n",
            "mths_since_last_major_derog            57668\n",
            "application_type                           0\n",
            "annual_inc_joint                       68863\n",
            "dti_joint                              68863\n",
            "verification_status_joint              68966\n",
            "tot_coll_amt                           20584\n",
            "tot_cur_bal                            20584\n",
            "open_acc_6m                            41939\n",
            "open_act_il                            41939\n",
            "open_il_12m                            41939\n",
            "open_il_24m                            41939\n",
            "mths_since_rcnt_il                     42773\n",
            "total_bal_il                           41939\n",
            "il_util                                45812\n",
            "open_rv_12m                            41939\n",
            "open_rv_24m                            41939\n",
            "max_bal_bc                             41939\n",
            "all_util                               41943\n",
            "total_rev_hi_lim                       20584\n",
            "inq_fi                                 41939\n",
            "total_cu_tl                            41939\n",
            "inq_last_12m                           41939\n",
            "acc_open_past_24mths                   19595\n",
            "avg_cur_bal                            20587\n",
            "bc_open_to_buy                         20254\n",
            "bc_util                                20295\n",
            "mo_sin_old_il_acct                     22158\n",
            "mo_sin_old_rev_tl_op                   20584\n",
            "mo_sin_rcnt_rev_tl_op                  20584\n",
            "mo_sin_rcnt_tl                         20584\n",
            "mort_acc                               19595\n",
            "mths_since_recent_bc                   20218\n",
            "mths_since_recent_bc_dlq               59212\n",
            "mths_since_recent_inq                  24395\n",
            "mths_since_recent_revol_delinq         53991\n",
            "num_accts_ever_120_pd                  20584\n",
            "num_actv_bc_tl                         20584\n",
            "num_actv_rev_tl                        20584\n",
            "num_bc_sats                            20052\n",
            "num_bc_tl                              20584\n",
            "num_il_tl                              20584\n",
            "num_op_rev_tl                          20584\n",
            "num_rev_accts                          20584\n",
            "num_rev_tl_bal_gt_0                    20584\n",
            "num_sats                               20052\n",
            "num_tl_120dpd_2m                       22309\n",
            "num_tl_30dpd                           20584\n",
            "num_tl_90g_dpd_24m                     20584\n",
            "num_tl_op_past_12m                     20584\n",
            "pct_tl_nvr_dlq                         20590\n",
            "percent_bc_gt_75                       20261\n",
            "pub_rec_bankruptcies                    1056\n",
            "tot_hi_cred_lim                        20584\n",
            "total_bal_ex_mort                      19595\n",
            "total_bc_limit                         19595\n",
            "total_il_high_credit_limit             20584\n",
            "revol_bal_joint                        69105\n",
            "sec_app_fico_range_low                 69105\n",
            "sec_app_fico_range_high                69105\n",
            "sec_app_earliest_cr_line               69105\n",
            "sec_app_inq_last_6mths                 69105\n",
            "sec_app_mort_acc                       69105\n",
            "sec_app_open_acc                       69105\n",
            "sec_app_revol_util                     69152\n",
            "sec_app_open_act_il                    69105\n",
            "sec_app_num_rev_accts                  69105\n",
            "sec_app_chargeoff_within_12_mths       69105\n",
            "sec_app_collections_12_mths_ex_med     69105\n",
            "sec_app_mths_since_last_major_derog    70644\n",
            "hardship_reason                        71126\n",
            "hardship_payoff_balance_amount         71126\n",
            "hardship_last_payment_amount           71126\n",
            "debt_settlement_flag_date              70248\n",
            "settlement_status                      70248\n",
            "settlement_date                        70248\n",
            "settlement_amount                      70248\n",
            "settlement_percentage                  70248\n",
            "settlement_term                        70248\n",
            "dtype: int64\n"
          ]
        }
      ]
    },
    {
      "cell_type": "code",
      "source": [
        "interest = interest.drop(interest[interest[\"application_type\"] == \"Joint App\"].index)"
      ],
      "metadata": {
        "id": "lDxyeRoINcTG"
      },
      "execution_count": null,
      "outputs": []
    },
    {
      "cell_type": "code",
      "source": [
        "threshold = 19000\n",
        "null_counts = interest.isnull().sum()\n",
        "columns_to_drop = null_counts[null_counts > threshold].index\n",
        "interest.drop(columns=columns_to_drop, inplace=True)"
      ],
      "metadata": {
        "id": "rvpmCXXsN1J_"
      },
      "execution_count": null,
      "outputs": []
    },
    {
      "cell_type": "code",
      "source": [
        "interest.isna().sum()"
      ],
      "metadata": {
        "colab": {
          "base_uri": "https://localhost:8080/"
        },
        "id": "WNsYFR6MN8-l",
        "outputId": "608cbfc2-efdd-4397-caae-8770350a0db1"
      },
      "execution_count": null,
      "outputs": [
        {
          "output_type": "execute_result",
          "data": {
            "text/plain": [
              "loan_amnt                  0\n",
              "term                       0\n",
              "int_rate                   0\n",
              "grade                      0\n",
              "sub_grade                  0\n",
              "emp_length              3312\n",
              "home_ownership             0\n",
              "annual_inc                 3\n",
              "verification_status        0\n",
              "issue_d                    0\n",
              "purpose                    0\n",
              "addr_state                 0\n",
              "dti                        0\n",
              "earliest_cr_line          20\n",
              "fico_range_low             0\n",
              "fico_range_high            0\n",
              "inq_last_6mths            20\n",
              "open_acc                  20\n",
              "pub_rec                   20\n",
              "revol_util               114\n",
              "total_acc                 20\n",
              "application_type           0\n",
              "pub_rec_bankruptcies    1056\n",
              "dtype: int64"
            ]
          },
          "metadata": {},
          "execution_count": 202
        }
      ]
    },
    {
      "cell_type": "code",
      "source": [
        "interest['emp_length'].fillna(interest['emp_length'].mode().values[0], inplace=True)\n",
        "interest['annual_inc'].fillna(interest['annual_inc'].mean(), inplace=True)\n",
        "interest['earliest_cr_line'].fillna(interest['earliest_cr_line'].mode().values[0], inplace=True)\n",
        "interest['inq_last_6mths'].fillna(interest['inq_last_6mths'].median(), inplace=True)\n",
        "interest['open_acc'].fillna(interest['open_acc'].median(), inplace=True)\n",
        "interest['pub_rec'].fillna(interest['pub_rec'].median(), inplace=True)\n",
        "interest['total_acc'].fillna(interest['total_acc'].median(), inplace=True)\n",
        "interest['revol_util'].fillna(interest['revol_util'].median(), inplace=True)\n",
        "interest['pub_rec_bankruptcies'].fillna(0, inplace=True)\n"
      ],
      "metadata": {
        "id": "ukXYRUfSQr5A"
      },
      "execution_count": null,
      "outputs": []
    },
    {
      "cell_type": "code",
      "source": [
        "interest.isna().sum()"
      ],
      "metadata": {
        "colab": {
          "base_uri": "https://localhost:8080/"
        },
        "id": "Km3GncopQsY1",
        "outputId": "fe56eb15-bb8a-4fee-e870-22b9528cd107"
      },
      "execution_count": null,
      "outputs": [
        {
          "output_type": "execute_result",
          "data": {
            "text/plain": [
              "loan_amnt               0\n",
              "term                    0\n",
              "int_rate                0\n",
              "grade                   0\n",
              "sub_grade               0\n",
              "emp_length              0\n",
              "home_ownership          0\n",
              "annual_inc              0\n",
              "verification_status     0\n",
              "issue_d                 0\n",
              "purpose                 0\n",
              "addr_state              0\n",
              "dti                     0\n",
              "earliest_cr_line        0\n",
              "fico_range_low          0\n",
              "fico_range_high         0\n",
              "inq_last_6mths          0\n",
              "open_acc                0\n",
              "pub_rec                 0\n",
              "revol_util              0\n",
              "total_acc               0\n",
              "application_type        0\n",
              "pub_rec_bankruptcies    0\n",
              "dtype: int64"
            ]
          },
          "metadata": {},
          "execution_count": 205
        }
      ]
    },
    {
      "cell_type": "code",
      "source": [
        "interest.shape"
      ],
      "metadata": {
        "colab": {
          "base_uri": "https://localhost:8080/"
        },
        "id": "_DdaYAnxRWwK",
        "outputId": "ad16139a-bae4-4577-a9cb-2fa7082e1cec"
      },
      "execution_count": null,
      "outputs": [
        {
          "output_type": "execute_result",
          "data": {
            "text/plain": [
              "(68863, 23)"
            ]
          },
          "metadata": {},
          "execution_count": 206
        }
      ]
    },
    {
      "cell_type": "code",
      "source": [
        "def interest_feat(df, target, num_top_features=20):\n",
        "    corr_df = df.corr().abs()[target].sort_values(ascending=False)[1:]\n",
        "    top_features = corr_df.head(num_top_features).index.tolist()\n",
        "    return top_features\n",
        "\n"
      ],
      "metadata": {
        "id": "XZEdV9KgRxIk"
      },
      "execution_count": null,
      "outputs": []
    },
    {
      "cell_type": "code",
      "source": [
        "int_rate_features = interest_feat(interest, 'int_rate')\n",
        "int_rate_features.append('int_rate')\n",
        "\n",
        "selected_features = [\n",
        "    \"annual_inc\",\n",
        "    \"emp_length\",\n",
        "    \"purpose\",\n",
        "    \"earliest_cr_line\",\n",
        "    \"issue_d\"\n",
        "]\n",
        "selected_features.extend(int_rate_features)"
      ],
      "metadata": {
        "colab": {
          "base_uri": "https://localhost:8080/"
        },
        "id": "n90JGZktSsrO",
        "outputId": "baa018b8-0194-4e8c-be4d-76d44007c758"
      },
      "execution_count": null,
      "outputs": [
        {
          "output_type": "stream",
          "name": "stderr",
          "text": [
            "<ipython-input-232-254bd136ee65>:2: FutureWarning: The default value of numeric_only in DataFrame.corr is deprecated. In a future version, it will default to False. Select only valid columns or specify the value of numeric_only to silence this warning.\n",
            "  corr_df = df.corr().abs()[target].sort_values(ascending=False)[1:]\n"
          ]
        }
      ]
    },
    {
      "cell_type": "code",
      "source": [
        "selected_features"
      ],
      "metadata": {
        "colab": {
          "base_uri": "https://localhost:8080/"
        },
        "id": "j1vvM8KuhPAG",
        "outputId": "51f9b04f-b9de-4fef-e406-5e7e5a430b43"
      },
      "execution_count": null,
      "outputs": [
        {
          "output_type": "execute_result",
          "data": {
            "text/plain": [
              "['annual_inc',\n",
              " 'emp_length',\n",
              " 'purpose',\n",
              " 'earliest_cr_line',\n",
              " 'issue_d',\n",
              " 'fico_range_low',\n",
              " 'fico_range_high',\n",
              " 'revol_util',\n",
              " 'loan_amnt',\n",
              " 'dti',\n",
              " 'inq_last_6mths',\n",
              " 'pub_rec',\n",
              " 'pub_rec_bankruptcies',\n",
              " 'open_acc',\n",
              " 'annual_inc',\n",
              " 'total_acc',\n",
              " 'int_rate']"
            ]
          },
          "metadata": {},
          "execution_count": 234
        }
      ]
    },
    {
      "cell_type": "code",
      "source": [
        "interest=interest[selected_features].copy()"
      ],
      "metadata": {
        "id": "S_D5BN1nkraq"
      },
      "execution_count": null,
      "outputs": []
    },
    {
      "cell_type": "code",
      "source": [
        "interest = interest.loc[:, ~interest.columns.duplicated()]\n"
      ],
      "metadata": {
        "id": "nfrKWO__sNuJ"
      },
      "execution_count": null,
      "outputs": []
    },
    {
      "cell_type": "code",
      "source": [
        "interest.info()"
      ],
      "metadata": {
        "colab": {
          "base_uri": "https://localhost:8080/"
        },
        "id": "4jwrSpydm2AU",
        "outputId": "d589025b-bc7a-4346-ef9b-a2dbcecaeeb7"
      },
      "execution_count": null,
      "outputs": [
        {
          "output_type": "stream",
          "name": "stdout",
          "text": [
            "<class 'pandas.core.frame.DataFrame'>\n",
            "Int64Index: 68863 entries, 0 to 71435\n",
            "Data columns (total 16 columns):\n",
            " #   Column                Non-Null Count  Dtype  \n",
            "---  ------                --------------  -----  \n",
            " 0   annual_inc            68863 non-null  float64\n",
            " 1   emp_length            68863 non-null  object \n",
            " 2   purpose               68863 non-null  object \n",
            " 3   earliest_cr_line      68863 non-null  object \n",
            " 4   issue_d               68863 non-null  object \n",
            " 5   fico_range_low        68863 non-null  float64\n",
            " 6   fico_range_high       68863 non-null  float64\n",
            " 7   revol_util            68863 non-null  float64\n",
            " 8   loan_amnt             68863 non-null  float64\n",
            " 9   dti                   68863 non-null  float64\n",
            " 10  inq_last_6mths        68863 non-null  float64\n",
            " 11  pub_rec               68863 non-null  float64\n",
            " 12  pub_rec_bankruptcies  68863 non-null  float64\n",
            " 13  open_acc              68863 non-null  float64\n",
            " 14  total_acc             68863 non-null  float64\n",
            " 15  int_rate              68863 non-null  float64\n",
            "dtypes: float64(12), object(4)\n",
            "memory usage: 8.9+ MB\n"
          ]
        }
      ]
    },
    {
      "cell_type": "code",
      "source": [
        "X = interest.drop([\"int_rate\"], axis=1)\n",
        "y = interest[\"int_rate\"]"
      ],
      "metadata": {
        "id": "zXfT4iDxkN0f"
      },
      "execution_count": null,
      "outputs": []
    },
    {
      "cell_type": "code",
      "source": [
        "X_train, X_test, y_train, y_test = train_test_split(\n",
        "    X, y, test_size=0.3, random_state=42\n",
        ")"
      ],
      "metadata": {
        "id": "ZEq6j21RkN5E"
      },
      "execution_count": null,
      "outputs": []
    },
    {
      "cell_type": "code",
      "source": [
        "numeric_features = list(X.select_dtypes(include=[\"float64\"]).columns)\n",
        "numeric_features.extend([\"credit_line_year\", \"issue_month\", \"credit_line_month\"])\n",
        "categorical_features = get_categorical_features(X)"
      ],
      "metadata": {
        "id": "DIS-bGGKnWnU"
      },
      "execution_count": null,
      "outputs": []
    },
    {
      "cell_type": "code",
      "source": [
        "f_extr= Pipeline(\n",
        "    steps=[\n",
        "\n",
        "        (\"year\", year),\n",
        "        (\"month\", month),\n",
        "    ]\n",
        ")"
      ],
      "metadata": {
        "id": "KG2CLtl0oLco"
      },
      "execution_count": null,
      "outputs": []
    },
    {
      "cell_type": "code",
      "source": [
        "categorical_transformer= Pipeline(\n",
        "    steps=[(\"encoder\", OneHotEncoder(sparse=False, handle_unknown=\"ignore\"))]\n",
        ")\n",
        "\n",
        "numeric_transformer= Pipeline(\n",
        "    steps=[\n",
        "        (\"scaler\", StandardScaler()),\n",
        "    ]\n",
        ")\n",
        "\n",
        "preprocessor = ColumnTransformer(\n",
        "    transformers=[\n",
        "        (\"categorical\", categorical_transformer, categorical_features),\n",
        "        (\"numeric\", numeric_transformer, numeric_features),\n",
        "    ],\n",
        "    remainder=\"passthrough\",\n",
        ")"
      ],
      "metadata": {
        "id": "MyrEE5J2pOxB"
      },
      "execution_count": null,
      "outputs": []
    },
    {
      "cell_type": "code",
      "source": [
        "pipe_transform = Pipeline(\n",
        "    steps=[\n",
        "\n",
        "        (\"f_extr\", f_extr),\n",
        "        (\"preprocessor\", preprocessor),\n",
        "    ]\n",
        ")"
      ],
      "metadata": {
        "id": "kEQOmhSIpSWZ"
      },
      "execution_count": null,
      "outputs": []
    },
    {
      "cell_type": "code",
      "source": [
        "regressors = [\n",
        "    (\"Dummy Regressor\", DummyRegressor(strategy=\"median\")),\n",
        "    (\"Decision Tree\", DecisionTreeRegressor()),\n",
        "    (\"Random Forest\", RandomForestRegressor()),\n",
        "    (\n",
        "        \"XGBoost\",\n",
        "        xgb.XGBRegressor(\n",
        "            objective=\"reg:squarederror\",\n",
        "        ),\n",
        "    ),\n",
        "    (\"Light GBM\", lgb.LGBMRegressor(objective=\"regression\", verbose=-1)),\n",
        "]"
      ],
      "metadata": {
        "id": "rMe_BlGnpWZA"
      },
      "execution_count": null,
      "outputs": []
    },
    {
      "cell_type": "code",
      "source": [
        "X_train_transformed = pipe_transform.fit_transform(X_train)\n",
        "X_test_transformed = pipe_transform.transform(X_test)"
      ],
      "metadata": {
        "colab": {
          "base_uri": "https://localhost:8080/"
        },
        "id": "qnt_gG0TqoE9",
        "outputId": "0cc2f430-5c38-4169-e7e6-2006859739c1"
      },
      "execution_count": null,
      "outputs": [
        {
          "output_type": "stream",
          "name": "stderr",
          "text": [
            "/usr/local/lib/python3.10/dist-packages/sklearn/preprocessing/_encoders.py:868: FutureWarning: `sparse` was renamed to `sparse_output` in version 1.2 and will be removed in 1.4. `sparse_output` is ignored unless you leave `sparse` to its default value.\n",
            "  warnings.warn(\n"
          ]
        }
      ]
    },
    {
      "cell_type": "code",
      "source": [
        "evaluation_results = evaluate_regressors(regressors, X_train_transformed, y_train, X_test_transformed, y_test)\n"
      ],
      "metadata": {
        "id": "VJD348NTq3u0"
      },
      "execution_count": null,
      "outputs": []
    },
    {
      "cell_type": "code",
      "source": [
        "evaluation_results"
      ],
      "metadata": {
        "colab": {
          "base_uri": "https://localhost:8080/",
          "height": 206
        },
        "id": "iH5W_unguV-j",
        "outputId": "f5a242c2-6665-4adb-9634-aa573f03d0a6"
      },
      "execution_count": null,
      "outputs": [
        {
          "output_type": "execute_result",
          "data": {
            "text/plain": [
              "         Regressor  Mean Squared Error  Root Mean Squared Error  \\\n",
              "0  Dummy Regressor              42.788                    6.541   \n",
              "1    Decision Tree              46.082                    6.788   \n",
              "2    Random Forest              22.398                    4.733   \n",
              "3          XGBoost              21.279                    4.613   \n",
              "4        Light GBM              20.715                    4.551   \n",
              "\n",
              "   Mean Absolute Error  R2 Score  Score  Time Taken  \n",
              "0                5.262    -0.028 -0.028       0.003  \n",
              "1                5.066    -0.107 -0.107       0.870  \n",
              "2                3.620     0.462  0.462      61.653  \n",
              "3                3.510     0.489  0.489      12.281  \n",
              "4                3.471     0.502  0.502       0.858  "
            ],
            "text/html": [
              "\n",
              "\n",
              "  <div id=\"df-197388d1-cc52-4b25-9795-9cadb4478f34\">\n",
              "    <div class=\"colab-df-container\">\n",
              "      <div>\n",
              "<style scoped>\n",
              "    .dataframe tbody tr th:only-of-type {\n",
              "        vertical-align: middle;\n",
              "    }\n",
              "\n",
              "    .dataframe tbody tr th {\n",
              "        vertical-align: top;\n",
              "    }\n",
              "\n",
              "    .dataframe thead th {\n",
              "        text-align: right;\n",
              "    }\n",
              "</style>\n",
              "<table border=\"1\" class=\"dataframe\">\n",
              "  <thead>\n",
              "    <tr style=\"text-align: right;\">\n",
              "      <th></th>\n",
              "      <th>Regressor</th>\n",
              "      <th>Mean Squared Error</th>\n",
              "      <th>Root Mean Squared Error</th>\n",
              "      <th>Mean Absolute Error</th>\n",
              "      <th>R2 Score</th>\n",
              "      <th>Score</th>\n",
              "      <th>Time Taken</th>\n",
              "    </tr>\n",
              "  </thead>\n",
              "  <tbody>\n",
              "    <tr>\n",
              "      <th>0</th>\n",
              "      <td>Dummy Regressor</td>\n",
              "      <td>42.788</td>\n",
              "      <td>6.541</td>\n",
              "      <td>5.262</td>\n",
              "      <td>-0.028</td>\n",
              "      <td>-0.028</td>\n",
              "      <td>0.003</td>\n",
              "    </tr>\n",
              "    <tr>\n",
              "      <th>1</th>\n",
              "      <td>Decision Tree</td>\n",
              "      <td>46.082</td>\n",
              "      <td>6.788</td>\n",
              "      <td>5.066</td>\n",
              "      <td>-0.107</td>\n",
              "      <td>-0.107</td>\n",
              "      <td>0.870</td>\n",
              "    </tr>\n",
              "    <tr>\n",
              "      <th>2</th>\n",
              "      <td>Random Forest</td>\n",
              "      <td>22.398</td>\n",
              "      <td>4.733</td>\n",
              "      <td>3.620</td>\n",
              "      <td>0.462</td>\n",
              "      <td>0.462</td>\n",
              "      <td>61.653</td>\n",
              "    </tr>\n",
              "    <tr>\n",
              "      <th>3</th>\n",
              "      <td>XGBoost</td>\n",
              "      <td>21.279</td>\n",
              "      <td>4.613</td>\n",
              "      <td>3.510</td>\n",
              "      <td>0.489</td>\n",
              "      <td>0.489</td>\n",
              "      <td>12.281</td>\n",
              "    </tr>\n",
              "    <tr>\n",
              "      <th>4</th>\n",
              "      <td>Light GBM</td>\n",
              "      <td>20.715</td>\n",
              "      <td>4.551</td>\n",
              "      <td>3.471</td>\n",
              "      <td>0.502</td>\n",
              "      <td>0.502</td>\n",
              "      <td>0.858</td>\n",
              "    </tr>\n",
              "  </tbody>\n",
              "</table>\n",
              "</div>\n",
              "      <button class=\"colab-df-convert\" onclick=\"convertToInteractive('df-197388d1-cc52-4b25-9795-9cadb4478f34')\"\n",
              "              title=\"Convert this dataframe to an interactive table.\"\n",
              "              style=\"display:none;\">\n",
              "\n",
              "  <svg xmlns=\"http://www.w3.org/2000/svg\" height=\"24px\"viewBox=\"0 0 24 24\"\n",
              "       width=\"24px\">\n",
              "    <path d=\"M0 0h24v24H0V0z\" fill=\"none\"/>\n",
              "    <path d=\"M18.56 5.44l.94 2.06.94-2.06 2.06-.94-2.06-.94-.94-2.06-.94 2.06-2.06.94zm-11 1L8.5 8.5l.94-2.06 2.06-.94-2.06-.94L8.5 2.5l-.94 2.06-2.06.94zm10 10l.94 2.06.94-2.06 2.06-.94-2.06-.94-.94-2.06-.94 2.06-2.06.94z\"/><path d=\"M17.41 7.96l-1.37-1.37c-.4-.4-.92-.59-1.43-.59-.52 0-1.04.2-1.43.59L10.3 9.45l-7.72 7.72c-.78.78-.78 2.05 0 2.83L4 21.41c.39.39.9.59 1.41.59.51 0 1.02-.2 1.41-.59l7.78-7.78 2.81-2.81c.8-.78.8-2.07 0-2.86zM5.41 20L4 18.59l7.72-7.72 1.47 1.35L5.41 20z\"/>\n",
              "  </svg>\n",
              "      </button>\n",
              "\n",
              "\n",
              "\n",
              "    <div id=\"df-b4a4e64d-abbe-47b3-bab1-f53b1bd16cd6\">\n",
              "      <button class=\"colab-df-quickchart\" onclick=\"quickchart('df-b4a4e64d-abbe-47b3-bab1-f53b1bd16cd6')\"\n",
              "              title=\"Suggest charts.\"\n",
              "              style=\"display:none;\">\n",
              "\n",
              "<svg xmlns=\"http://www.w3.org/2000/svg\" height=\"24px\"viewBox=\"0 0 24 24\"\n",
              "     width=\"24px\">\n",
              "    <g>\n",
              "        <path d=\"M19 3H5c-1.1 0-2 .9-2 2v14c0 1.1.9 2 2 2h14c1.1 0 2-.9 2-2V5c0-1.1-.9-2-2-2zM9 17H7v-7h2v7zm4 0h-2V7h2v10zm4 0h-2v-4h2v4z\"/>\n",
              "    </g>\n",
              "</svg>\n",
              "      </button>\n",
              "    </div>\n",
              "\n",
              "<style>\n",
              "  .colab-df-quickchart {\n",
              "    background-color: #E8F0FE;\n",
              "    border: none;\n",
              "    border-radius: 50%;\n",
              "    cursor: pointer;\n",
              "    display: none;\n",
              "    fill: #1967D2;\n",
              "    height: 32px;\n",
              "    padding: 0 0 0 0;\n",
              "    width: 32px;\n",
              "  }\n",
              "\n",
              "  .colab-df-quickchart:hover {\n",
              "    background-color: #E2EBFA;\n",
              "    box-shadow: 0px 1px 2px rgba(60, 64, 67, 0.3), 0px 1px 3px 1px rgba(60, 64, 67, 0.15);\n",
              "    fill: #174EA6;\n",
              "  }\n",
              "\n",
              "  [theme=dark] .colab-df-quickchart {\n",
              "    background-color: #3B4455;\n",
              "    fill: #D2E3FC;\n",
              "  }\n",
              "\n",
              "  [theme=dark] .colab-df-quickchart:hover {\n",
              "    background-color: #434B5C;\n",
              "    box-shadow: 0px 1px 3px 1px rgba(0, 0, 0, 0.15);\n",
              "    filter: drop-shadow(0px 1px 2px rgba(0, 0, 0, 0.3));\n",
              "    fill: #FFFFFF;\n",
              "  }\n",
              "</style>\n",
              "\n",
              "    <script>\n",
              "      async function quickchart(key) {\n",
              "        const containerElement = document.querySelector('#' + key);\n",
              "        const charts = await google.colab.kernel.invokeFunction(\n",
              "            'suggestCharts', [key], {});\n",
              "      }\n",
              "    </script>\n",
              "\n",
              "      <script>\n",
              "\n",
              "function displayQuickchartButton(domScope) {\n",
              "  let quickchartButtonEl =\n",
              "    domScope.querySelector('#df-b4a4e64d-abbe-47b3-bab1-f53b1bd16cd6 button.colab-df-quickchart');\n",
              "  quickchartButtonEl.style.display =\n",
              "    google.colab.kernel.accessAllowed ? 'block' : 'none';\n",
              "}\n",
              "\n",
              "        displayQuickchartButton(document);\n",
              "      </script>\n",
              "      <style>\n",
              "    .colab-df-container {\n",
              "      display:flex;\n",
              "      flex-wrap:wrap;\n",
              "      gap: 12px;\n",
              "    }\n",
              "\n",
              "    .colab-df-convert {\n",
              "      background-color: #E8F0FE;\n",
              "      border: none;\n",
              "      border-radius: 50%;\n",
              "      cursor: pointer;\n",
              "      display: none;\n",
              "      fill: #1967D2;\n",
              "      height: 32px;\n",
              "      padding: 0 0 0 0;\n",
              "      width: 32px;\n",
              "    }\n",
              "\n",
              "    .colab-df-convert:hover {\n",
              "      background-color: #E2EBFA;\n",
              "      box-shadow: 0px 1px 2px rgba(60, 64, 67, 0.3), 0px 1px 3px 1px rgba(60, 64, 67, 0.15);\n",
              "      fill: #174EA6;\n",
              "    }\n",
              "\n",
              "    [theme=dark] .colab-df-convert {\n",
              "      background-color: #3B4455;\n",
              "      fill: #D2E3FC;\n",
              "    }\n",
              "\n",
              "    [theme=dark] .colab-df-convert:hover {\n",
              "      background-color: #434B5C;\n",
              "      box-shadow: 0px 1px 3px 1px rgba(0, 0, 0, 0.15);\n",
              "      filter: drop-shadow(0px 1px 2px rgba(0, 0, 0, 0.3));\n",
              "      fill: #FFFFFF;\n",
              "    }\n",
              "  </style>\n",
              "\n",
              "      <script>\n",
              "        const buttonEl =\n",
              "          document.querySelector('#df-197388d1-cc52-4b25-9795-9cadb4478f34 button.colab-df-convert');\n",
              "        buttonEl.style.display =\n",
              "          google.colab.kernel.accessAllowed ? 'block' : 'none';\n",
              "\n",
              "        async function convertToInteractive(key) {\n",
              "          const element = document.querySelector('#df-197388d1-cc52-4b25-9795-9cadb4478f34');\n",
              "          const dataTable =\n",
              "            await google.colab.kernel.invokeFunction('convertToInteractive',\n",
              "                                                     [key], {});\n",
              "          if (!dataTable) return;\n",
              "\n",
              "          const docLinkHtml = 'Like what you see? Visit the ' +\n",
              "            '<a target=\"_blank\" href=https://colab.research.google.com/notebooks/data_table.ipynb>data table notebook</a>'\n",
              "            + ' to learn more about interactive tables.';\n",
              "          element.innerHTML = '';\n",
              "          dataTable['output_type'] = 'display_data';\n",
              "          await google.colab.output.renderOutput(dataTable, element);\n",
              "          const docLink = document.createElement('div');\n",
              "          docLink.innerHTML = docLinkHtml;\n",
              "          element.appendChild(docLink);\n",
              "        }\n",
              "      </script>\n",
              "    </div>\n",
              "  </div>\n"
            ]
          },
          "metadata": {},
          "execution_count": 279
        }
      ]
    },
    {
      "cell_type": "code",
      "source": [
        "model = lgb.LGBMRegressor()\n"
      ],
      "metadata": {
        "id": "OXYqXnfKuWXq"
      },
      "execution_count": null,
      "outputs": []
    },
    {
      "cell_type": "code",
      "source": [
        "pipeline = Pipeline(steps=[\n",
        "    (\"f_extr\", f_extr),\n",
        "    ('preprocessor', preprocessor),\n",
        "    ('model', model)\n",
        "])\n",
        "\n",
        "# Fit the pipeline on the training data\n",
        "pipeline.fit(X_train, y_train)\n"
      ],
      "metadata": {
        "colab": {
          "base_uri": "https://localhost:8080/",
          "height": 337
        },
        "id": "abl2f4GaxJSU",
        "outputId": "9aa7d5fc-e83b-43d6-d37e-9fcf1591aea4"
      },
      "execution_count": null,
      "outputs": [
        {
          "output_type": "stream",
          "name": "stderr",
          "text": [
            "/usr/local/lib/python3.10/dist-packages/sklearn/preprocessing/_encoders.py:868: FutureWarning: `sparse` was renamed to `sparse_output` in version 1.2 and will be removed in 1.4. `sparse_output` is ignored unless you leave `sparse` to its default value.\n",
            "  warnings.warn(\n"
          ]
        },
        {
          "output_type": "execute_result",
          "data": {
            "text/plain": [
              "Pipeline(steps=[('f_extr',\n",
              "                 Pipeline(steps=[('year',\n",
              "                                  FunctionTransformer(func=<function extract_credit_line_year at 0x7fb7982b7760>)),\n",
              "                                 ('month',\n",
              "                                  FunctionTransformer(func=<function extract_issue_and_credit_line_month at 0x7fb7982b7b50>))])),\n",
              "                ('preprocessor',\n",
              "                 ColumnTransformer(remainder='passthrough',\n",
              "                                   transformers=[('categorical',\n",
              "                                                  Pipeline(steps=[('encoder',\n",
              "                                                                   OneHotE...wn='ignore',\n",
              "                                                                                 sparse=False))]),\n",
              "                                                  ['emp_length', 'purpose']),\n",
              "                                                 ('numeric',\n",
              "                                                  Pipeline(steps=[('scaler',\n",
              "                                                                   StandardScaler())]),\n",
              "                                                  ['annual_inc',\n",
              "                                                   'fico_range_low',\n",
              "                                                   'fico_range_high',\n",
              "                                                   'revol_util', 'loan_amnt',\n",
              "                                                   'dti', 'inq_last_6mths',\n",
              "                                                   'pub_rec',\n",
              "                                                   'pub_rec_bankruptcies',\n",
              "                                                   'open_acc', 'total_acc',\n",
              "                                                   'credit_line_year',\n",
              "                                                   'issue_month',\n",
              "                                                   'credit_line_month'])])),\n",
              "                ('model', LGBMRegressor())])"
            ],
            "text/html": [
              "<style>#sk-container-id-1 {color: black;background-color: white;}#sk-container-id-1 pre{padding: 0;}#sk-container-id-1 div.sk-toggleable {background-color: white;}#sk-container-id-1 label.sk-toggleable__label {cursor: pointer;display: block;width: 100%;margin-bottom: 0;padding: 0.3em;box-sizing: border-box;text-align: center;}#sk-container-id-1 label.sk-toggleable__label-arrow:before {content: \"▸\";float: left;margin-right: 0.25em;color: #696969;}#sk-container-id-1 label.sk-toggleable__label-arrow:hover:before {color: black;}#sk-container-id-1 div.sk-estimator:hover label.sk-toggleable__label-arrow:before {color: black;}#sk-container-id-1 div.sk-toggleable__content {max-height: 0;max-width: 0;overflow: hidden;text-align: left;background-color: #f0f8ff;}#sk-container-id-1 div.sk-toggleable__content pre {margin: 0.2em;color: black;border-radius: 0.25em;background-color: #f0f8ff;}#sk-container-id-1 input.sk-toggleable__control:checked~div.sk-toggleable__content {max-height: 200px;max-width: 100%;overflow: auto;}#sk-container-id-1 input.sk-toggleable__control:checked~label.sk-toggleable__label-arrow:before {content: \"▾\";}#sk-container-id-1 div.sk-estimator input.sk-toggleable__control:checked~label.sk-toggleable__label {background-color: #d4ebff;}#sk-container-id-1 div.sk-label input.sk-toggleable__control:checked~label.sk-toggleable__label {background-color: #d4ebff;}#sk-container-id-1 input.sk-hidden--visually {border: 0;clip: rect(1px 1px 1px 1px);clip: rect(1px, 1px, 1px, 1px);height: 1px;margin: -1px;overflow: hidden;padding: 0;position: absolute;width: 1px;}#sk-container-id-1 div.sk-estimator {font-family: monospace;background-color: #f0f8ff;border: 1px dotted black;border-radius: 0.25em;box-sizing: border-box;margin-bottom: 0.5em;}#sk-container-id-1 div.sk-estimator:hover {background-color: #d4ebff;}#sk-container-id-1 div.sk-parallel-item::after {content: \"\";width: 100%;border-bottom: 1px solid gray;flex-grow: 1;}#sk-container-id-1 div.sk-label:hover label.sk-toggleable__label {background-color: #d4ebff;}#sk-container-id-1 div.sk-serial::before {content: \"\";position: absolute;border-left: 1px solid gray;box-sizing: border-box;top: 0;bottom: 0;left: 50%;z-index: 0;}#sk-container-id-1 div.sk-serial {display: flex;flex-direction: column;align-items: center;background-color: white;padding-right: 0.2em;padding-left: 0.2em;position: relative;}#sk-container-id-1 div.sk-item {position: relative;z-index: 1;}#sk-container-id-1 div.sk-parallel {display: flex;align-items: stretch;justify-content: center;background-color: white;position: relative;}#sk-container-id-1 div.sk-item::before, #sk-container-id-1 div.sk-parallel-item::before {content: \"\";position: absolute;border-left: 1px solid gray;box-sizing: border-box;top: 0;bottom: 0;left: 50%;z-index: -1;}#sk-container-id-1 div.sk-parallel-item {display: flex;flex-direction: column;z-index: 1;position: relative;background-color: white;}#sk-container-id-1 div.sk-parallel-item:first-child::after {align-self: flex-end;width: 50%;}#sk-container-id-1 div.sk-parallel-item:last-child::after {align-self: flex-start;width: 50%;}#sk-container-id-1 div.sk-parallel-item:only-child::after {width: 0;}#sk-container-id-1 div.sk-dashed-wrapped {border: 1px dashed gray;margin: 0 0.4em 0.5em 0.4em;box-sizing: border-box;padding-bottom: 0.4em;background-color: white;}#sk-container-id-1 div.sk-label label {font-family: monospace;font-weight: bold;display: inline-block;line-height: 1.2em;}#sk-container-id-1 div.sk-label-container {text-align: center;}#sk-container-id-1 div.sk-container {/* jupyter's `normalize.less` sets `[hidden] { display: none; }` but bootstrap.min.css set `[hidden] { display: none !important; }` so we also need the `!important` here to be able to override the default hidden behavior on the sphinx rendered scikit-learn.org. See: https://github.com/scikit-learn/scikit-learn/issues/21755 */display: inline-block !important;position: relative;}#sk-container-id-1 div.sk-text-repr-fallback {display: none;}</style><div id=\"sk-container-id-1\" class=\"sk-top-container\"><div class=\"sk-text-repr-fallback\"><pre>Pipeline(steps=[(&#x27;f_extr&#x27;,\n",
              "                 Pipeline(steps=[(&#x27;year&#x27;,\n",
              "                                  FunctionTransformer(func=&lt;function extract_credit_line_year at 0x7fb7982b7760&gt;)),\n",
              "                                 (&#x27;month&#x27;,\n",
              "                                  FunctionTransformer(func=&lt;function extract_issue_and_credit_line_month at 0x7fb7982b7b50&gt;))])),\n",
              "                (&#x27;preprocessor&#x27;,\n",
              "                 ColumnTransformer(remainder=&#x27;passthrough&#x27;,\n",
              "                                   transformers=[(&#x27;categorical&#x27;,\n",
              "                                                  Pipeline(steps=[(&#x27;encoder&#x27;,\n",
              "                                                                   OneHotE...wn=&#x27;ignore&#x27;,\n",
              "                                                                                 sparse=False))]),\n",
              "                                                  [&#x27;emp_length&#x27;, &#x27;purpose&#x27;]),\n",
              "                                                 (&#x27;numeric&#x27;,\n",
              "                                                  Pipeline(steps=[(&#x27;scaler&#x27;,\n",
              "                                                                   StandardScaler())]),\n",
              "                                                  [&#x27;annual_inc&#x27;,\n",
              "                                                   &#x27;fico_range_low&#x27;,\n",
              "                                                   &#x27;fico_range_high&#x27;,\n",
              "                                                   &#x27;revol_util&#x27;, &#x27;loan_amnt&#x27;,\n",
              "                                                   &#x27;dti&#x27;, &#x27;inq_last_6mths&#x27;,\n",
              "                                                   &#x27;pub_rec&#x27;,\n",
              "                                                   &#x27;pub_rec_bankruptcies&#x27;,\n",
              "                                                   &#x27;open_acc&#x27;, &#x27;total_acc&#x27;,\n",
              "                                                   &#x27;credit_line_year&#x27;,\n",
              "                                                   &#x27;issue_month&#x27;,\n",
              "                                                   &#x27;credit_line_month&#x27;])])),\n",
              "                (&#x27;model&#x27;, LGBMRegressor())])</pre><b>In a Jupyter environment, please rerun this cell to show the HTML representation or trust the notebook. <br />On GitHub, the HTML representation is unable to render, please try loading this page with nbviewer.org.</b></div><div class=\"sk-container\" hidden><div class=\"sk-item sk-dashed-wrapped\"><div class=\"sk-label-container\"><div class=\"sk-label sk-toggleable\"><input class=\"sk-toggleable__control sk-hidden--visually\" id=\"sk-estimator-id-1\" type=\"checkbox\" ><label for=\"sk-estimator-id-1\" class=\"sk-toggleable__label sk-toggleable__label-arrow\">Pipeline</label><div class=\"sk-toggleable__content\"><pre>Pipeline(steps=[(&#x27;f_extr&#x27;,\n",
              "                 Pipeline(steps=[(&#x27;year&#x27;,\n",
              "                                  FunctionTransformer(func=&lt;function extract_credit_line_year at 0x7fb7982b7760&gt;)),\n",
              "                                 (&#x27;month&#x27;,\n",
              "                                  FunctionTransformer(func=&lt;function extract_issue_and_credit_line_month at 0x7fb7982b7b50&gt;))])),\n",
              "                (&#x27;preprocessor&#x27;,\n",
              "                 ColumnTransformer(remainder=&#x27;passthrough&#x27;,\n",
              "                                   transformers=[(&#x27;categorical&#x27;,\n",
              "                                                  Pipeline(steps=[(&#x27;encoder&#x27;,\n",
              "                                                                   OneHotE...wn=&#x27;ignore&#x27;,\n",
              "                                                                                 sparse=False))]),\n",
              "                                                  [&#x27;emp_length&#x27;, &#x27;purpose&#x27;]),\n",
              "                                                 (&#x27;numeric&#x27;,\n",
              "                                                  Pipeline(steps=[(&#x27;scaler&#x27;,\n",
              "                                                                   StandardScaler())]),\n",
              "                                                  [&#x27;annual_inc&#x27;,\n",
              "                                                   &#x27;fico_range_low&#x27;,\n",
              "                                                   &#x27;fico_range_high&#x27;,\n",
              "                                                   &#x27;revol_util&#x27;, &#x27;loan_amnt&#x27;,\n",
              "                                                   &#x27;dti&#x27;, &#x27;inq_last_6mths&#x27;,\n",
              "                                                   &#x27;pub_rec&#x27;,\n",
              "                                                   &#x27;pub_rec_bankruptcies&#x27;,\n",
              "                                                   &#x27;open_acc&#x27;, &#x27;total_acc&#x27;,\n",
              "                                                   &#x27;credit_line_year&#x27;,\n",
              "                                                   &#x27;issue_month&#x27;,\n",
              "                                                   &#x27;credit_line_month&#x27;])])),\n",
              "                (&#x27;model&#x27;, LGBMRegressor())])</pre></div></div></div><div class=\"sk-serial\"><div class=\"sk-item\"><div class=\"sk-label-container\"><div class=\"sk-label sk-toggleable\"><input class=\"sk-toggleable__control sk-hidden--visually\" id=\"sk-estimator-id-2\" type=\"checkbox\" ><label for=\"sk-estimator-id-2\" class=\"sk-toggleable__label sk-toggleable__label-arrow\">f_extr: Pipeline</label><div class=\"sk-toggleable__content\"><pre>Pipeline(steps=[(&#x27;year&#x27;,\n",
              "                 FunctionTransformer(func=&lt;function extract_credit_line_year at 0x7fb7982b7760&gt;)),\n",
              "                (&#x27;month&#x27;,\n",
              "                 FunctionTransformer(func=&lt;function extract_issue_and_credit_line_month at 0x7fb7982b7b50&gt;))])</pre></div></div></div><div class=\"sk-serial\"><div class=\"sk-item\"><div class=\"sk-estimator sk-toggleable\"><input class=\"sk-toggleable__control sk-hidden--visually\" id=\"sk-estimator-id-3\" type=\"checkbox\" ><label for=\"sk-estimator-id-3\" class=\"sk-toggleable__label sk-toggleable__label-arrow\">FunctionTransformer</label><div class=\"sk-toggleable__content\"><pre>FunctionTransformer(func=&lt;function extract_credit_line_year at 0x7fb7982b7760&gt;)</pre></div></div></div><div class=\"sk-item\"><div class=\"sk-estimator sk-toggleable\"><input class=\"sk-toggleable__control sk-hidden--visually\" id=\"sk-estimator-id-4\" type=\"checkbox\" ><label for=\"sk-estimator-id-4\" class=\"sk-toggleable__label sk-toggleable__label-arrow\">FunctionTransformer</label><div class=\"sk-toggleable__content\"><pre>FunctionTransformer(func=&lt;function extract_issue_and_credit_line_month at 0x7fb7982b7b50&gt;)</pre></div></div></div></div></div><div class=\"sk-item sk-dashed-wrapped\"><div class=\"sk-label-container\"><div class=\"sk-label sk-toggleable\"><input class=\"sk-toggleable__control sk-hidden--visually\" id=\"sk-estimator-id-5\" type=\"checkbox\" ><label for=\"sk-estimator-id-5\" class=\"sk-toggleable__label sk-toggleable__label-arrow\">preprocessor: ColumnTransformer</label><div class=\"sk-toggleable__content\"><pre>ColumnTransformer(remainder=&#x27;passthrough&#x27;,\n",
              "                  transformers=[(&#x27;categorical&#x27;,\n",
              "                                 Pipeline(steps=[(&#x27;encoder&#x27;,\n",
              "                                                  OneHotEncoder(handle_unknown=&#x27;ignore&#x27;,\n",
              "                                                                sparse=False))]),\n",
              "                                 [&#x27;emp_length&#x27;, &#x27;purpose&#x27;]),\n",
              "                                (&#x27;numeric&#x27;,\n",
              "                                 Pipeline(steps=[(&#x27;scaler&#x27;, StandardScaler())]),\n",
              "                                 [&#x27;annual_inc&#x27;, &#x27;fico_range_low&#x27;,\n",
              "                                  &#x27;fico_range_high&#x27;, &#x27;revol_util&#x27;, &#x27;loan_amnt&#x27;,\n",
              "                                  &#x27;dti&#x27;, &#x27;inq_last_6mths&#x27;, &#x27;pub_rec&#x27;,\n",
              "                                  &#x27;pub_rec_bankruptcies&#x27;, &#x27;open_acc&#x27;,\n",
              "                                  &#x27;total_acc&#x27;, &#x27;credit_line_year&#x27;,\n",
              "                                  &#x27;issue_month&#x27;, &#x27;credit_line_month&#x27;])])</pre></div></div></div><div class=\"sk-parallel\"><div class=\"sk-parallel-item\"><div class=\"sk-item\"><div class=\"sk-label-container\"><div class=\"sk-label sk-toggleable\"><input class=\"sk-toggleable__control sk-hidden--visually\" id=\"sk-estimator-id-6\" type=\"checkbox\" ><label for=\"sk-estimator-id-6\" class=\"sk-toggleable__label sk-toggleable__label-arrow\">categorical</label><div class=\"sk-toggleable__content\"><pre>[&#x27;emp_length&#x27;, &#x27;purpose&#x27;]</pre></div></div></div><div class=\"sk-serial\"><div class=\"sk-item\"><div class=\"sk-serial\"><div class=\"sk-item\"><div class=\"sk-estimator sk-toggleable\"><input class=\"sk-toggleable__control sk-hidden--visually\" id=\"sk-estimator-id-7\" type=\"checkbox\" ><label for=\"sk-estimator-id-7\" class=\"sk-toggleable__label sk-toggleable__label-arrow\">OneHotEncoder</label><div class=\"sk-toggleable__content\"><pre>OneHotEncoder(handle_unknown=&#x27;ignore&#x27;, sparse=False)</pre></div></div></div></div></div></div></div></div><div class=\"sk-parallel-item\"><div class=\"sk-item\"><div class=\"sk-label-container\"><div class=\"sk-label sk-toggleable\"><input class=\"sk-toggleable__control sk-hidden--visually\" id=\"sk-estimator-id-8\" type=\"checkbox\" ><label for=\"sk-estimator-id-8\" class=\"sk-toggleable__label sk-toggleable__label-arrow\">numeric</label><div class=\"sk-toggleable__content\"><pre>[&#x27;annual_inc&#x27;, &#x27;fico_range_low&#x27;, &#x27;fico_range_high&#x27;, &#x27;revol_util&#x27;, &#x27;loan_amnt&#x27;, &#x27;dti&#x27;, &#x27;inq_last_6mths&#x27;, &#x27;pub_rec&#x27;, &#x27;pub_rec_bankruptcies&#x27;, &#x27;open_acc&#x27;, &#x27;total_acc&#x27;, &#x27;credit_line_year&#x27;, &#x27;issue_month&#x27;, &#x27;credit_line_month&#x27;]</pre></div></div></div><div class=\"sk-serial\"><div class=\"sk-item\"><div class=\"sk-serial\"><div class=\"sk-item\"><div class=\"sk-estimator sk-toggleable\"><input class=\"sk-toggleable__control sk-hidden--visually\" id=\"sk-estimator-id-9\" type=\"checkbox\" ><label for=\"sk-estimator-id-9\" class=\"sk-toggleable__label sk-toggleable__label-arrow\">StandardScaler</label><div class=\"sk-toggleable__content\"><pre>StandardScaler()</pre></div></div></div></div></div></div></div></div><div class=\"sk-parallel-item\"><div class=\"sk-item\"><div class=\"sk-label-container\"><div class=\"sk-label sk-toggleable\"><input class=\"sk-toggleable__control sk-hidden--visually\" id=\"sk-estimator-id-10\" type=\"checkbox\" ><label for=\"sk-estimator-id-10\" class=\"sk-toggleable__label sk-toggleable__label-arrow\">remainder</label><div class=\"sk-toggleable__content\"><pre>[]</pre></div></div></div><div class=\"sk-serial\"><div class=\"sk-item\"><div class=\"sk-estimator sk-toggleable\"><input class=\"sk-toggleable__control sk-hidden--visually\" id=\"sk-estimator-id-11\" type=\"checkbox\" ><label for=\"sk-estimator-id-11\" class=\"sk-toggleable__label sk-toggleable__label-arrow\">passthrough</label><div class=\"sk-toggleable__content\"><pre>passthrough</pre></div></div></div></div></div></div></div></div><div class=\"sk-item\"><div class=\"sk-estimator sk-toggleable\"><input class=\"sk-toggleable__control sk-hidden--visually\" id=\"sk-estimator-id-12\" type=\"checkbox\" ><label for=\"sk-estimator-id-12\" class=\"sk-toggleable__label sk-toggleable__label-arrow\">LGBMRegressor</label><div class=\"sk-toggleable__content\"><pre>LGBMRegressor()</pre></div></div></div></div></div></div></div>"
            ]
          },
          "metadata": {},
          "execution_count": 284
        }
      ]
    },
    {
      "cell_type": "code",
      "source": [
        "y_pred = pipeline.predict(X_test)\n",
        "\n",
        "# Compare actual and predicted values\n",
        "comparison = pd.DataFrame({'Actual': y_test, 'Predicted': y_pred})\n"
      ],
      "metadata": {
        "id": "C3x7Kf25xvQG"
      },
      "execution_count": null,
      "outputs": []
    },
    {
      "cell_type": "code",
      "source": [
        "comparison.sample(10)"
      ],
      "metadata": {
        "colab": {
          "base_uri": "https://localhost:8080/",
          "height": 363
        },
        "id": "PPh6sUs3wpLi",
        "outputId": "fc7fb9dd-9cd1-4e68-9eaa-97353159253c"
      },
      "execution_count": null,
      "outputs": [
        {
          "output_type": "execute_result",
          "data": {
            "text/plain": [
              "       Actual  Predicted\n",
              "41691   16.20  15.369022\n",
              "7037     7.62  11.659063\n",
              "31251   13.85  14.956453\n",
              "45966   17.76  15.833030\n",
              "60242   23.70  17.621133\n",
              "28355   13.35  15.458180\n",
              "35062   14.64  17.523726\n",
              "34422   14.49  11.892489\n",
              "63138   25.11  21.421559\n",
              "24652   12.53  13.752519"
            ],
            "text/html": [
              "\n",
              "\n",
              "  <div id=\"df-17a4d10f-6b20-49ed-ad2a-289414160ba4\">\n",
              "    <div class=\"colab-df-container\">\n",
              "      <div>\n",
              "<style scoped>\n",
              "    .dataframe tbody tr th:only-of-type {\n",
              "        vertical-align: middle;\n",
              "    }\n",
              "\n",
              "    .dataframe tbody tr th {\n",
              "        vertical-align: top;\n",
              "    }\n",
              "\n",
              "    .dataframe thead th {\n",
              "        text-align: right;\n",
              "    }\n",
              "</style>\n",
              "<table border=\"1\" class=\"dataframe\">\n",
              "  <thead>\n",
              "    <tr style=\"text-align: right;\">\n",
              "      <th></th>\n",
              "      <th>Actual</th>\n",
              "      <th>Predicted</th>\n",
              "    </tr>\n",
              "  </thead>\n",
              "  <tbody>\n",
              "    <tr>\n",
              "      <th>41691</th>\n",
              "      <td>16.20</td>\n",
              "      <td>15.369022</td>\n",
              "    </tr>\n",
              "    <tr>\n",
              "      <th>7037</th>\n",
              "      <td>7.62</td>\n",
              "      <td>11.659063</td>\n",
              "    </tr>\n",
              "    <tr>\n",
              "      <th>31251</th>\n",
              "      <td>13.85</td>\n",
              "      <td>14.956453</td>\n",
              "    </tr>\n",
              "    <tr>\n",
              "      <th>45966</th>\n",
              "      <td>17.76</td>\n",
              "      <td>15.833030</td>\n",
              "    </tr>\n",
              "    <tr>\n",
              "      <th>60242</th>\n",
              "      <td>23.70</td>\n",
              "      <td>17.621133</td>\n",
              "    </tr>\n",
              "    <tr>\n",
              "      <th>28355</th>\n",
              "      <td>13.35</td>\n",
              "      <td>15.458180</td>\n",
              "    </tr>\n",
              "    <tr>\n",
              "      <th>35062</th>\n",
              "      <td>14.64</td>\n",
              "      <td>17.523726</td>\n",
              "    </tr>\n",
              "    <tr>\n",
              "      <th>34422</th>\n",
              "      <td>14.49</td>\n",
              "      <td>11.892489</td>\n",
              "    </tr>\n",
              "    <tr>\n",
              "      <th>63138</th>\n",
              "      <td>25.11</td>\n",
              "      <td>21.421559</td>\n",
              "    </tr>\n",
              "    <tr>\n",
              "      <th>24652</th>\n",
              "      <td>12.53</td>\n",
              "      <td>13.752519</td>\n",
              "    </tr>\n",
              "  </tbody>\n",
              "</table>\n",
              "</div>\n",
              "      <button class=\"colab-df-convert\" onclick=\"convertToInteractive('df-17a4d10f-6b20-49ed-ad2a-289414160ba4')\"\n",
              "              title=\"Convert this dataframe to an interactive table.\"\n",
              "              style=\"display:none;\">\n",
              "\n",
              "  <svg xmlns=\"http://www.w3.org/2000/svg\" height=\"24px\"viewBox=\"0 0 24 24\"\n",
              "       width=\"24px\">\n",
              "    <path d=\"M0 0h24v24H0V0z\" fill=\"none\"/>\n",
              "    <path d=\"M18.56 5.44l.94 2.06.94-2.06 2.06-.94-2.06-.94-.94-2.06-.94 2.06-2.06.94zm-11 1L8.5 8.5l.94-2.06 2.06-.94-2.06-.94L8.5 2.5l-.94 2.06-2.06.94zm10 10l.94 2.06.94-2.06 2.06-.94-2.06-.94-.94-2.06-.94 2.06-2.06.94z\"/><path d=\"M17.41 7.96l-1.37-1.37c-.4-.4-.92-.59-1.43-.59-.52 0-1.04.2-1.43.59L10.3 9.45l-7.72 7.72c-.78.78-.78 2.05 0 2.83L4 21.41c.39.39.9.59 1.41.59.51 0 1.02-.2 1.41-.59l7.78-7.78 2.81-2.81c.8-.78.8-2.07 0-2.86zM5.41 20L4 18.59l7.72-7.72 1.47 1.35L5.41 20z\"/>\n",
              "  </svg>\n",
              "      </button>\n",
              "\n",
              "\n",
              "\n",
              "    <div id=\"df-c29f2d13-19b3-4800-a9d7-0739ee6024bc\">\n",
              "      <button class=\"colab-df-quickchart\" onclick=\"quickchart('df-c29f2d13-19b3-4800-a9d7-0739ee6024bc')\"\n",
              "              title=\"Suggest charts.\"\n",
              "              style=\"display:none;\">\n",
              "\n",
              "<svg xmlns=\"http://www.w3.org/2000/svg\" height=\"24px\"viewBox=\"0 0 24 24\"\n",
              "     width=\"24px\">\n",
              "    <g>\n",
              "        <path d=\"M19 3H5c-1.1 0-2 .9-2 2v14c0 1.1.9 2 2 2h14c1.1 0 2-.9 2-2V5c0-1.1-.9-2-2-2zM9 17H7v-7h2v7zm4 0h-2V7h2v10zm4 0h-2v-4h2v4z\"/>\n",
              "    </g>\n",
              "</svg>\n",
              "      </button>\n",
              "    </div>\n",
              "\n",
              "<style>\n",
              "  .colab-df-quickchart {\n",
              "    background-color: #E8F0FE;\n",
              "    border: none;\n",
              "    border-radius: 50%;\n",
              "    cursor: pointer;\n",
              "    display: none;\n",
              "    fill: #1967D2;\n",
              "    height: 32px;\n",
              "    padding: 0 0 0 0;\n",
              "    width: 32px;\n",
              "  }\n",
              "\n",
              "  .colab-df-quickchart:hover {\n",
              "    background-color: #E2EBFA;\n",
              "    box-shadow: 0px 1px 2px rgba(60, 64, 67, 0.3), 0px 1px 3px 1px rgba(60, 64, 67, 0.15);\n",
              "    fill: #174EA6;\n",
              "  }\n",
              "\n",
              "  [theme=dark] .colab-df-quickchart {\n",
              "    background-color: #3B4455;\n",
              "    fill: #D2E3FC;\n",
              "  }\n",
              "\n",
              "  [theme=dark] .colab-df-quickchart:hover {\n",
              "    background-color: #434B5C;\n",
              "    box-shadow: 0px 1px 3px 1px rgba(0, 0, 0, 0.15);\n",
              "    filter: drop-shadow(0px 1px 2px rgba(0, 0, 0, 0.3));\n",
              "    fill: #FFFFFF;\n",
              "  }\n",
              "</style>\n",
              "\n",
              "    <script>\n",
              "      async function quickchart(key) {\n",
              "        const containerElement = document.querySelector('#' + key);\n",
              "        const charts = await google.colab.kernel.invokeFunction(\n",
              "            'suggestCharts', [key], {});\n",
              "      }\n",
              "    </script>\n",
              "\n",
              "      <script>\n",
              "\n",
              "function displayQuickchartButton(domScope) {\n",
              "  let quickchartButtonEl =\n",
              "    domScope.querySelector('#df-c29f2d13-19b3-4800-a9d7-0739ee6024bc button.colab-df-quickchart');\n",
              "  quickchartButtonEl.style.display =\n",
              "    google.colab.kernel.accessAllowed ? 'block' : 'none';\n",
              "}\n",
              "\n",
              "        displayQuickchartButton(document);\n",
              "      </script>\n",
              "      <style>\n",
              "    .colab-df-container {\n",
              "      display:flex;\n",
              "      flex-wrap:wrap;\n",
              "      gap: 12px;\n",
              "    }\n",
              "\n",
              "    .colab-df-convert {\n",
              "      background-color: #E8F0FE;\n",
              "      border: none;\n",
              "      border-radius: 50%;\n",
              "      cursor: pointer;\n",
              "      display: none;\n",
              "      fill: #1967D2;\n",
              "      height: 32px;\n",
              "      padding: 0 0 0 0;\n",
              "      width: 32px;\n",
              "    }\n",
              "\n",
              "    .colab-df-convert:hover {\n",
              "      background-color: #E2EBFA;\n",
              "      box-shadow: 0px 1px 2px rgba(60, 64, 67, 0.3), 0px 1px 3px 1px rgba(60, 64, 67, 0.15);\n",
              "      fill: #174EA6;\n",
              "    }\n",
              "\n",
              "    [theme=dark] .colab-df-convert {\n",
              "      background-color: #3B4455;\n",
              "      fill: #D2E3FC;\n",
              "    }\n",
              "\n",
              "    [theme=dark] .colab-df-convert:hover {\n",
              "      background-color: #434B5C;\n",
              "      box-shadow: 0px 1px 3px 1px rgba(0, 0, 0, 0.15);\n",
              "      filter: drop-shadow(0px 1px 2px rgba(0, 0, 0, 0.3));\n",
              "      fill: #FFFFFF;\n",
              "    }\n",
              "  </style>\n",
              "\n",
              "      <script>\n",
              "        const buttonEl =\n",
              "          document.querySelector('#df-17a4d10f-6b20-49ed-ad2a-289414160ba4 button.colab-df-convert');\n",
              "        buttonEl.style.display =\n",
              "          google.colab.kernel.accessAllowed ? 'block' : 'none';\n",
              "\n",
              "        async function convertToInteractive(key) {\n",
              "          const element = document.querySelector('#df-17a4d10f-6b20-49ed-ad2a-289414160ba4');\n",
              "          const dataTable =\n",
              "            await google.colab.kernel.invokeFunction('convertToInteractive',\n",
              "                                                     [key], {});\n",
              "          if (!dataTable) return;\n",
              "\n",
              "          const docLinkHtml = 'Like what you see? Visit the ' +\n",
              "            '<a target=\"_blank\" href=https://colab.research.google.com/notebooks/data_table.ipynb>data table notebook</a>'\n",
              "            + ' to learn more about interactive tables.';\n",
              "          element.innerHTML = '';\n",
              "          dataTable['output_type'] = 'display_data';\n",
              "          await google.colab.output.renderOutput(dataTable, element);\n",
              "          const docLink = document.createElement('div');\n",
              "          docLink.innerHTML = docLinkHtml;\n",
              "          element.appendChild(docLink);\n",
              "        }\n",
              "      </script>\n",
              "    </div>\n",
              "  </div>\n"
            ]
          },
          "metadata": {},
          "execution_count": 287
        }
      ]
    },
    {
      "cell_type": "code",
      "source": [
        "residuals = comparison['Actual'] - comparison['Predicted']\n",
        "\n",
        "# Create a figure with two subplots\n",
        "fig, (ax1, ax2, ax3) = plt.subplots(1, 3, figsize=(12, 4))\n",
        "\n",
        "# Plot actual vs. predicted values\n",
        "ax1.scatter(comparison['Actual'], comparison['Predicted'])\n",
        "ax1.plot([min(comparison['Actual']), max(comparison['Actual'])], [min(comparison['Actual']), max(comparison['Actual'])], 'r--')\n",
        "ax1.set_xlabel('Actual')\n",
        "ax1.set_ylabel('Predicted')\n",
        "ax1.set_title('Actual vs. Predicted')\n",
        "\n",
        "# Plot actual values\n",
        "ax2.plot(comparison.index, comparison['Actual'])\n",
        "ax2.set_xlabel('Index')\n",
        "ax2.set_ylabel('Actual')\n",
        "ax2.set_title('Actual Values')\n",
        "\n",
        "# Plot residuals\n",
        "ax3.scatter(comparison.index, residuals)\n",
        "ax3.axhline(y=0, color='r', linestyle='--')\n",
        "ax3.set_xlabel('Index')\n",
        "ax3.set_ylabel('Residuals')\n",
        "ax3.set_title('Residuals')\n",
        "\n",
        "# Adjust layout and display the plot\n",
        "plt.tight_layout()\n",
        "plt.show()"
      ],
      "metadata": {
        "colab": {
          "base_uri": "https://localhost:8080/",
          "height": 427
        },
        "id": "AdxHYILTyQL8",
        "outputId": "5894f5e4-da64-47bd-d180-3ebf9a513a2a"
      },
      "execution_count": null,
      "outputs": [
        {
          "output_type": "display_data",
          "data": {
            "text/plain": [
              "<Figure size 1200x400 with 3 Axes>"
            ],
            "image/png": "[encoded data removed]"
          },
          "metadata": {}
        }
      ]
    },
    {
      "cell_type": "code",
      "source": [
        "import joblib\n",
        "joblib.dump(model, 'lightgbm_model.pkl')"
      ],
      "metadata": {
        "colab": {
          "base_uri": "https://localhost:8080/"
        },
        "id": "bVtJyf8Jzt7p",
        "outputId": "f30936a0-07ad-462a-a718-eab55b6531cf"
      },
      "execution_count": null,
      "outputs": [
        {
          "output_type": "execute_result",
          "data": {
            "text/plain": [
              "['lightgbm_model.pkl']"
            ]
          },
          "metadata": {},
          "execution_count": 289
        }
      ]
    },
    {
      "cell_type": "markdown",
      "source": [
        "## **Conclusion**"
      ],
      "metadata": {
        "id": "KoOQ03k-JlUm"
      }
    },
    {
      "cell_type": "markdown",
      "source": [
        "Based on the evaluation results, the Light GBM regressor performed the best among the tested models, achieving the lowest mean squared error (MSE) of 20.715 and the highest R2 score of 0.502. This indicates that the Light GBM model captured the underlying patterns in the data effectively and provided more accurate predictions compared to other models.\n",
        "\n",
        "The pipeline, which consisted of feature extraction, preprocessing, and the Light GBM model, was trained on the training data and used to predict the target variable on the test data. The predicted values were then compared to the actual values, and a scatter plot of the actual versus predicted values was created.\n",
        "\n",
        "The plot shows a generally positive linear relationship between the actual and predicted values, as the majority of points lie close to the diagonal line. However, there are some deviations and outliers, as indicated by the residuals plot, which shows the differences between the actual and predicted values. These deviations suggest that the model may have some room for improvement in capturing the variability in certain instances.\n",
        "\n",
        "Overall, the Light GBM model demonstrated good performance in predicting the target variable, but further analysis and fine-tuning may be necessary to improve accuracy and reduce the residuals."
      ],
      "metadata": {
        "id": "pwYDLxsPzeve"
      }
    }
  ]
}