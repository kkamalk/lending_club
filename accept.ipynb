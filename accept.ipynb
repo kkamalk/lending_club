{
  "nbformat": 4,
  "nbformat_minor": 0,
  "metadata": {
    "colab": {
      "provenance": []
    },
    "kernelspec": {
      "name": "python3",
      "display_name": "Python 3"
    },
    "language_info": {
      "name": "python"
    }
  },
  "cells": [
    {
      "cell_type": "code",
      "execution_count": null,
      "metadata": {
        "id": "zyTE1T8er5A8"
      },
      "outputs": [],
      "source": [
        "import numpy as np\n",
        "import pandas as pd\n",
        "from matplotlib import pyplot as plt\n",
        "import seaborn as sns\n",
        "from typing import List, Set, Dict, Tuple, Optional\n",
        "from sklearn.preprocessing import StandardScaler\n",
        "pd.set_option('display.max_rows', None)\n"
      ]
    },
    {
      "cell_type": "code",
      "source": [
        "from google.colab import drive\n",
        "drive.mount('/content/drive')\n"
      ],
      "metadata": {
        "colab": {
          "base_uri": "https://localhost:8080/"
        },
        "id": "XoKKEj3gsO8q",
        "outputId": "93ddaf8b-3b42-440c-ee9e-af83ac413fc5"
      },
      "execution_count": null,
      "outputs": [
        {
          "output_type": "stream",
          "name": "stdout",
          "text": [
            "Drive already mounted at /content/drive; to attempt to forcibly remount, call drive.mount(\"/content/drive\", force_remount=True).\n"
          ]
        }
      ]
    },
    {
      "cell_type": "code",
      "source": [
        "loans = pd.read_csv(\"/content/drive/MyDrive/accepted_2007_to_2018Q4.csv.gz\",low_memory=False)\n"
      ],
      "metadata": {
        "id": "e8rFn-1VsZyS"
      },
      "execution_count": null,
      "outputs": []
    },
    {
      "cell_type": "code",
      "source": [
        "accepted=loans"
      ],
      "metadata": {
        "id": "VIE8G0rVtmJK"
      },
      "execution_count": null,
      "outputs": []
    },
    {
      "cell_type": "markdown",
      "source": [
        "##  Basic Checks"
      ],
      "metadata": {
        "id": "iM6InQ5WkpI_"
      }
    },
    {
      "cell_type": "code",
      "source": [
        "accepted.head()"
      ],
      "metadata": {
        "colab": {
          "base_uri": "https://localhost:8080/",
          "height": 386
        },
        "id": "SglWg0Psk3IS",
        "outputId": "b68fae9c-66c2-4741-9e29-76e5284bc501"
      },
      "execution_count": null,
      "outputs": [
        {
          "output_type": "execute_result",
          "data": {
            "text/plain": [
              "         id  member_id  loan_amnt  funded_amnt  funded_amnt_inv        term  \\\n",
              "0  68407277        NaN     3600.0       3600.0           3600.0   36 months   \n",
              "1  68355089        NaN    24700.0      24700.0          24700.0   36 months   \n",
              "2  68341763        NaN    20000.0      20000.0          20000.0   60 months   \n",
              "3  66310712        NaN    35000.0      35000.0          35000.0   60 months   \n",
              "4  68476807        NaN    10400.0      10400.0          10400.0   60 months   \n",
              "\n",
              "   int_rate  installment grade sub_grade  ... hardship_payoff_balance_amount  \\\n",
              "0     13.99       123.03     C        C4  ...                            NaN   \n",
              "1     11.99       820.28     C        C1  ...                            NaN   \n",
              "2     10.78       432.66     B        B4  ...                            NaN   \n",
              "3     14.85       829.90     C        C5  ...                            NaN   \n",
              "4     22.45       289.91     F        F1  ...                            NaN   \n",
              "\n",
              "  hardship_last_payment_amount disbursement_method  debt_settlement_flag  \\\n",
              "0                          NaN                Cash                     N   \n",
              "1                          NaN                Cash                     N   \n",
              "2                          NaN                Cash                     N   \n",
              "3                          NaN                Cash                     N   \n",
              "4                          NaN                Cash                     N   \n",
              "\n",
              "  debt_settlement_flag_date settlement_status settlement_date  \\\n",
              "0                       NaN               NaN             NaN   \n",
              "1                       NaN               NaN             NaN   \n",
              "2                       NaN               NaN             NaN   \n",
              "3                       NaN               NaN             NaN   \n",
              "4                       NaN               NaN             NaN   \n",
              "\n",
              "  settlement_amount settlement_percentage settlement_term  \n",
              "0               NaN                   NaN             NaN  \n",
              "1               NaN                   NaN             NaN  \n",
              "2               NaN                   NaN             NaN  \n",
              "3               NaN                   NaN             NaN  \n",
              "4               NaN                   NaN             NaN  \n",
              "\n",
              "[5 rows x 151 columns]"
            ],
            "text/html": [
              "\n",
              "  <div id=\"df-ff4b41fb-70c5-4340-8af7-8d6c4b3dfb89\">\n",
              "    <div class=\"colab-df-container\">\n",
              "      <div>\n",
              "<style scoped>\n",
              "    .dataframe tbody tr th:only-of-type {\n",
              "        vertical-align: middle;\n",
              "    }\n",
              "\n",
              "    .dataframe tbody tr th {\n",
              "        vertical-align: top;\n",
              "    }\n",
              "\n",
              "    .dataframe thead th {\n",
              "        text-align: right;\n",
              "    }\n",
              "</style>\n",
              "<table border=\"1\" class=\"dataframe\">\n",
              "  <thead>\n",
              "    <tr style=\"text-align: right;\">\n",
              "      <th></th>\n",
              "      <th>id</th>\n",
              "      <th>member_id</th>\n",
              "      <th>loan_amnt</th>\n",
              "      <th>funded_amnt</th>\n",
              "      <th>funded_amnt_inv</th>\n",
              "      <th>term</th>\n",
              "      <th>int_rate</th>\n",
              "      <th>installment</th>\n",
              "      <th>grade</th>\n",
              "      <th>sub_grade</th>\n",
              "      <th>...</th>\n",
              "      <th>hardship_payoff_balance_amount</th>\n",
              "      <th>hardship_last_payment_amount</th>\n",
              "      <th>disbursement_method</th>\n",
              "      <th>debt_settlement_flag</th>\n",
              "      <th>debt_settlement_flag_date</th>\n",
              "      <th>settlement_status</th>\n",
              "      <th>settlement_date</th>\n",
              "      <th>settlement_amount</th>\n",
              "      <th>settlement_percentage</th>\n",
              "      <th>settlement_term</th>\n",
              "    </tr>\n",
              "  </thead>\n",
              "  <tbody>\n",
              "    <tr>\n",
              "      <th>0</th>\n",
              "      <td>68407277</td>\n",
              "      <td>NaN</td>\n",
              "      <td>3600.0</td>\n",
              "      <td>3600.0</td>\n",
              "      <td>3600.0</td>\n",
              "      <td>36 months</td>\n",
              "      <td>13.99</td>\n",
              "      <td>123.03</td>\n",
              "      <td>C</td>\n",
              "      <td>C4</td>\n",
              "      <td>...</td>\n",
              "      <td>NaN</td>\n",
              "      <td>NaN</td>\n",
              "      <td>Cash</td>\n",
              "      <td>N</td>\n",
              "      <td>NaN</td>\n",
              "      <td>NaN</td>\n",
              "      <td>NaN</td>\n",
              "      <td>NaN</td>\n",
              "      <td>NaN</td>\n",
              "      <td>NaN</td>\n",
              "    </tr>\n",
              "    <tr>\n",
              "      <th>1</th>\n",
              "      <td>68355089</td>\n",
              "      <td>NaN</td>\n",
              "      <td>24700.0</td>\n",
              "      <td>24700.0</td>\n",
              "      <td>24700.0</td>\n",
              "      <td>36 months</td>\n",
              "      <td>11.99</td>\n",
              "      <td>820.28</td>\n",
              "      <td>C</td>\n",
              "      <td>C1</td>\n",
              "      <td>...</td>\n",
              "      <td>NaN</td>\n",
              "      <td>NaN</td>\n",
              "      <td>Cash</td>\n",
              "      <td>N</td>\n",
              "      <td>NaN</td>\n",
              "      <td>NaN</td>\n",
              "      <td>NaN</td>\n",
              "      <td>NaN</td>\n",
              "      <td>NaN</td>\n",
              "      <td>NaN</td>\n",
              "    </tr>\n",
              "    <tr>\n",
              "      <th>2</th>\n",
              "      <td>68341763</td>\n",
              "      <td>NaN</td>\n",
              "      <td>20000.0</td>\n",
              "      <td>20000.0</td>\n",
              "      <td>20000.0</td>\n",
              "      <td>60 months</td>\n",
              "      <td>10.78</td>\n",
              "      <td>432.66</td>\n",
              "      <td>B</td>\n",
              "      <td>B4</td>\n",
              "      <td>...</td>\n",
              "      <td>NaN</td>\n",
              "      <td>NaN</td>\n",
              "      <td>Cash</td>\n",
              "      <td>N</td>\n",
              "      <td>NaN</td>\n",
              "      <td>NaN</td>\n",
              "      <td>NaN</td>\n",
              "      <td>NaN</td>\n",
              "      <td>NaN</td>\n",
              "      <td>NaN</td>\n",
              "    </tr>\n",
              "    <tr>\n",
              "      <th>3</th>\n",
              "      <td>66310712</td>\n",
              "      <td>NaN</td>\n",
              "      <td>35000.0</td>\n",
              "      <td>35000.0</td>\n",
              "      <td>35000.0</td>\n",
              "      <td>60 months</td>\n",
              "      <td>14.85</td>\n",
              "      <td>829.90</td>\n",
              "      <td>C</td>\n",
              "      <td>C5</td>\n",
              "      <td>...</td>\n",
              "      <td>NaN</td>\n",
              "      <td>NaN</td>\n",
              "      <td>Cash</td>\n",
              "      <td>N</td>\n",
              "      <td>NaN</td>\n",
              "      <td>NaN</td>\n",
              "      <td>NaN</td>\n",
              "      <td>NaN</td>\n",
              "      <td>NaN</td>\n",
              "      <td>NaN</td>\n",
              "    </tr>\n",
              "    <tr>\n",
              "      <th>4</th>\n",
              "      <td>68476807</td>\n",
              "      <td>NaN</td>\n",
              "      <td>10400.0</td>\n",
              "      <td>10400.0</td>\n",
              "      <td>10400.0</td>\n",
              "      <td>60 months</td>\n",
              "      <td>22.45</td>\n",
              "      <td>289.91</td>\n",
              "      <td>F</td>\n",
              "      <td>F1</td>\n",
              "      <td>...</td>\n",
              "      <td>NaN</td>\n",
              "      <td>NaN</td>\n",
              "      <td>Cash</td>\n",
              "      <td>N</td>\n",
              "      <td>NaN</td>\n",
              "      <td>NaN</td>\n",
              "      <td>NaN</td>\n",
              "      <td>NaN</td>\n",
              "      <td>NaN</td>\n",
              "      <td>NaN</td>\n",
              "    </tr>\n",
              "  </tbody>\n",
              "</table>\n",
              "<p>5 rows × 151 columns</p>\n",
              "</div>\n",
              "      <button class=\"colab-df-convert\" onclick=\"convertToInteractive('df-ff4b41fb-70c5-4340-8af7-8d6c4b3dfb89')\"\n",
              "              title=\"Convert this dataframe to an interactive table.\"\n",
              "              style=\"display:none;\">\n",
              "        \n",
              "  <svg xmlns=\"http://www.w3.org/2000/svg\" height=\"24px\"viewBox=\"0 0 24 24\"\n",
              "       width=\"24px\">\n",
              "    <path d=\"M0 0h24v24H0V0z\" fill=\"none\"/>\n",
              "    <path d=\"M18.56 5.44l.94 2.06.94-2.06 2.06-.94-2.06-.94-.94-2.06-.94 2.06-2.06.94zm-11 1L8.5 8.5l.94-2.06 2.06-.94-2.06-.94L8.5 2.5l-.94 2.06-2.06.94zm10 10l.94 2.06.94-2.06 2.06-.94-2.06-.94-.94-2.06-.94 2.06-2.06.94z\"/><path d=\"M17.41 7.96l-1.37-1.37c-.4-.4-.92-.59-1.43-.59-.52 0-1.04.2-1.43.59L10.3 9.45l-7.72 7.72c-.78.78-.78 2.05 0 2.83L4 21.41c.39.39.9.59 1.41.59.51 0 1.02-.2 1.41-.59l7.78-7.78 2.81-2.81c.8-.78.8-2.07 0-2.86zM5.41 20L4 18.59l7.72-7.72 1.47 1.35L5.41 20z\"/>\n",
              "  </svg>\n",
              "      </button>\n",
              "      \n",
              "  <style>\n",
              "    .colab-df-container {\n",
              "      display:flex;\n",
              "      flex-wrap:wrap;\n",
              "      gap: 12px;\n",
              "    }\n",
              "\n",
              "    .colab-df-convert {\n",
              "      background-color: #E8F0FE;\n",
              "      border: none;\n",
              "      border-radius: 50%;\n",
              "      cursor: pointer;\n",
              "      display: none;\n",
              "      fill: #1967D2;\n",
              "      height: 32px;\n",
              "      padding: 0 0 0 0;\n",
              "      width: 32px;\n",
              "    }\n",
              "\n",
              "    .colab-df-convert:hover {\n",
              "      background-color: #E2EBFA;\n",
              "      box-shadow: 0px 1px 2px rgba(60, 64, 67, 0.3), 0px 1px 3px 1px rgba(60, 64, 67, 0.15);\n",
              "      fill: #174EA6;\n",
              "    }\n",
              "\n",
              "    [theme=dark] .colab-df-convert {\n",
              "      background-color: #3B4455;\n",
              "      fill: #D2E3FC;\n",
              "    }\n",
              "\n",
              "    [theme=dark] .colab-df-convert:hover {\n",
              "      background-color: #434B5C;\n",
              "      box-shadow: 0px 1px 3px 1px rgba(0, 0, 0, 0.15);\n",
              "      filter: drop-shadow(0px 1px 2px rgba(0, 0, 0, 0.3));\n",
              "      fill: #FFFFFF;\n",
              "    }\n",
              "  </style>\n",
              "\n",
              "      <script>\n",
              "        const buttonEl =\n",
              "          document.querySelector('#df-ff4b41fb-70c5-4340-8af7-8d6c4b3dfb89 button.colab-df-convert');\n",
              "        buttonEl.style.display =\n",
              "          google.colab.kernel.accessAllowed ? 'block' : 'none';\n",
              "\n",
              "        async function convertToInteractive(key) {\n",
              "          const element = document.querySelector('#df-ff4b41fb-70c5-4340-8af7-8d6c4b3dfb89');\n",
              "          const dataTable =\n",
              "            await google.colab.kernel.invokeFunction('convertToInteractive',\n",
              "                                                     [key], {});\n",
              "          if (!dataTable) return;\n",
              "\n",
              "          const docLinkHtml = 'Like what you see? Visit the ' +\n",
              "            '<a target=\"_blank\" href=https://colab.research.google.com/notebooks/data_table.ipynb>data table notebook</a>'\n",
              "            + ' to learn more about interactive tables.';\n",
              "          element.innerHTML = '';\n",
              "          dataTable['output_type'] = 'display_data';\n",
              "          await google.colab.output.renderOutput(dataTable, element);\n",
              "          const docLink = document.createElement('div');\n",
              "          docLink.innerHTML = docLinkHtml;\n",
              "          element.appendChild(docLink);\n",
              "        }\n",
              "      </script>\n",
              "    </div>\n",
              "  </div>\n",
              "  "
            ]
          },
          "metadata": {},
          "execution_count": 5
        }
      ]
    },
    {
      "cell_type": "code",
      "source": [
        "accepted.shape"
      ],
      "metadata": {
        "colab": {
          "base_uri": "https://localhost:8080/"
        },
        "id": "8Bm6GfDDtq35",
        "outputId": "cad41f1f-bd18-4052-d322-004ed1edb15f"
      },
      "execution_count": null,
      "outputs": [
        {
          "output_type": "execute_result",
          "data": {
            "text/plain": [
              "(2260701, 151)"
            ]
          },
          "metadata": {},
          "execution_count": 6
        }
      ]
    },
    {
      "cell_type": "code",
      "source": [
        "accepted.shape[0]"
      ],
      "metadata": {
        "colab": {
          "base_uri": "https://localhost:8080/"
        },
        "id": "BLK9JVGjtwfB",
        "outputId": "0c7065ab-f916-4995-9163-ba53e42bb90c"
      },
      "execution_count": null,
      "outputs": [
        {
          "output_type": "execute_result",
          "data": {
            "text/plain": [
              "2260701"
            ]
          },
          "metadata": {},
          "execution_count": 7
        }
      ]
    },
    {
      "cell_type": "code",
      "source": [
        "accepted.columns"
      ],
      "metadata": {
        "id": "Pu-JZBMEwttm",
        "colab": {
          "base_uri": "https://localhost:8080/"
        },
        "outputId": "342bbde1-f078-4f0f-9e7f-7c75f2aa45e0"
      },
      "execution_count": null,
      "outputs": [
        {
          "output_type": "execute_result",
          "data": {
            "text/plain": [
              "Index(['id', 'member_id', 'loan_amnt', 'funded_amnt', 'funded_amnt_inv',\n",
              "       'term', 'int_rate', 'installment', 'grade', 'sub_grade',\n",
              "       ...\n",
              "       'hardship_payoff_balance_amount', 'hardship_last_payment_amount',\n",
              "       'disbursement_method', 'debt_settlement_flag',\n",
              "       'debt_settlement_flag_date', 'settlement_status', 'settlement_date',\n",
              "       'settlement_amount', 'settlement_percentage', 'settlement_term'],\n",
              "      dtype='object', length=151)"
            ]
          },
          "metadata": {},
          "execution_count": 8
        }
      ]
    },
    {
      "cell_type": "code",
      "source": [
        "features_to_keep = [\n",
        "    \"loan_amnt\",\n",
        "    \"funded_amnt\",\n",
        "    \"term\",\n",
        "    \"int_rate\",\n",
        "    \"grade\",\n",
        "    \"sub_grade\",\n",
        "    \"emp_title\",\n",
        "    \"emp_length\",\n",
        "    \"home_ownership\",\n",
        "    \"annual_inc\",\n",
        "    \"issue_d\",\n",
        "    \"title\",\n",
        "    \"addr_state\",\n",
        "    \"dti\",\n",
        "    \"delinq_2yrs\",\n",
        "    \"earliest_cr_line\",\n",
        "    \"fico_range_low\",\n",
        "    \"fico_range_high\",\n",
        "    \"inq_last_6mths\",\n",
        "    \"open_acc\",\n",
        "    \"total_acc\",\n",
        "    \"application_type\",\n",
        "    \"pub_rec\",\n",
        "    \"pub_rec_bankruptcies\",\n",
        "\n",
        "]\n",
        "\n",
        "df=accepted[features_to_keep]"
      ],
      "metadata": {
        "id": "HCUrC7xTt6iB"
      },
      "execution_count": null,
      "outputs": []
    },
    {
      "cell_type": "code",
      "source": [
        "df.info(show_counts=True)\n"
      ],
      "metadata": {
        "colab": {
          "base_uri": "https://localhost:8080/"
        },
        "id": "HQRQyOsjlyQo",
        "outputId": "064e8f9e-d0ef-4e75-dbe8-7d85fd754e17"
      },
      "execution_count": null,
      "outputs": [
        {
          "output_type": "stream",
          "name": "stdout",
          "text": [
            "<class 'pandas.core.frame.DataFrame'>\n",
            "RangeIndex: 2260701 entries, 0 to 2260700\n",
            "Data columns (total 24 columns):\n",
            " #   Column                Non-Null Count    Dtype  \n",
            "---  ------                --------------    -----  \n",
            " 0   loan_amnt             2260668 non-null  float64\n",
            " 1   funded_amnt           2260668 non-null  float64\n",
            " 2   term                  2260668 non-null  object \n",
            " 3   int_rate              2260668 non-null  float64\n",
            " 4   grade                 2260668 non-null  object \n",
            " 5   sub_grade             2260668 non-null  object \n",
            " 6   emp_title             2093699 non-null  object \n",
            " 7   emp_length            2113761 non-null  object \n",
            " 8   home_ownership        2260668 non-null  object \n",
            " 9   annual_inc            2260664 non-null  float64\n",
            " 10  issue_d               2260668 non-null  object \n",
            " 11  title                 2237343 non-null  object \n",
            " 12  addr_state            2260668 non-null  object \n",
            " 13  dti                   2258957 non-null  float64\n",
            " 14  delinq_2yrs           2260639 non-null  float64\n",
            " 15  earliest_cr_line      2260639 non-null  object \n",
            " 16  fico_range_low        2260668 non-null  float64\n",
            " 17  fico_range_high       2260668 non-null  float64\n",
            " 18  inq_last_6mths        2260638 non-null  float64\n",
            " 19  open_acc              2260639 non-null  float64\n",
            " 20  total_acc             2260639 non-null  float64\n",
            " 21  application_type      2260668 non-null  object \n",
            " 22  pub_rec               2260639 non-null  float64\n",
            " 23  pub_rec_bankruptcies  2259303 non-null  float64\n",
            "dtypes: float64(13), object(11)\n",
            "memory usage: 413.9+ MB\n"
          ]
        }
      ]
    },
    {
      "cell_type": "code",
      "source": [
        "df.rename(columns=lambda x: x.lower().strip().replace(\" \", \"_\"), inplace=True)\n"
      ],
      "metadata": {
        "id": "pYJ1pVh1uIpR",
        "colab": {
          "base_uri": "https://localhost:8080/"
        },
        "outputId": "1b28c7a9-3155-4030-d51d-927a7dded8ad"
      },
      "execution_count": null,
      "outputs": [
        {
          "output_type": "stream",
          "name": "stderr",
          "text": [
            "<ipython-input-11-f85eee3dfa9c>:1: SettingWithCopyWarning: \n",
            "A value is trying to be set on a copy of a slice from a DataFrame\n",
            "\n",
            "See the caveats in the documentation: https://pandas.pydata.org/pandas-docs/stable/user_guide/indexing.html#returning-a-view-versus-a-copy\n",
            "  df.rename(columns=lambda x: x.lower().strip().replace(\" \", \"_\"), inplace=True)\n"
          ]
        }
      ]
    },
    {
      "cell_type": "code",
      "source": [
        "df.info(show_counts=True)"
      ],
      "metadata": {
        "colab": {
          "base_uri": "https://localhost:8080/"
        },
        "id": "eUuYd0JNuS86",
        "outputId": "1ca25da6-699e-4840-d5f5-2b5cc6f435ef"
      },
      "execution_count": null,
      "outputs": [
        {
          "output_type": "stream",
          "name": "stdout",
          "text": [
            "<class 'pandas.core.frame.DataFrame'>\n",
            "RangeIndex: 2260701 entries, 0 to 2260700\n",
            "Data columns (total 24 columns):\n",
            " #   Column                Non-Null Count    Dtype  \n",
            "---  ------                --------------    -----  \n",
            " 0   loan_amnt             2260668 non-null  float64\n",
            " 1   funded_amnt           2260668 non-null  float64\n",
            " 2   term                  2260668 non-null  object \n",
            " 3   int_rate              2260668 non-null  float64\n",
            " 4   grade                 2260668 non-null  object \n",
            " 5   sub_grade             2260668 non-null  object \n",
            " 6   emp_title             2093699 non-null  object \n",
            " 7   emp_length            2113761 non-null  object \n",
            " 8   home_ownership        2260668 non-null  object \n",
            " 9   annual_inc            2260664 non-null  float64\n",
            " 10  issue_d               2260668 non-null  object \n",
            " 11  title                 2237343 non-null  object \n",
            " 12  addr_state            2260668 non-null  object \n",
            " 13  dti                   2258957 non-null  float64\n",
            " 14  delinq_2yrs           2260639 non-null  float64\n",
            " 15  earliest_cr_line      2260639 non-null  object \n",
            " 16  fico_range_low        2260668 non-null  float64\n",
            " 17  fico_range_high       2260668 non-null  float64\n",
            " 18  inq_last_6mths        2260638 non-null  float64\n",
            " 19  open_acc              2260639 non-null  float64\n",
            " 20  total_acc             2260639 non-null  float64\n",
            " 21  application_type      2260668 non-null  object \n",
            " 22  pub_rec               2260639 non-null  float64\n",
            " 23  pub_rec_bankruptcies  2259303 non-null  float64\n",
            "dtypes: float64(13), object(11)\n",
            "memory usage: 413.9+ MB\n"
          ]
        }
      ]
    },
    {
      "cell_type": "code",
      "source": [
        "missing_values = df.isnull().sum()\n",
        "\n",
        "\n",
        "print (missing_values)"
      ],
      "metadata": {
        "id": "9EgNCRnhuaHI",
        "colab": {
          "base_uri": "https://localhost:8080/"
        },
        "outputId": "d311d501-d88f-4bf9-80df-a8f8b97abed6"
      },
      "execution_count": null,
      "outputs": [
        {
          "output_type": "stream",
          "name": "stdout",
          "text": [
            "loan_amnt                   33\n",
            "funded_amnt                 33\n",
            "term                        33\n",
            "int_rate                    33\n",
            "grade                       33\n",
            "sub_grade                   33\n",
            "emp_title               167002\n",
            "emp_length              146940\n",
            "home_ownership              33\n",
            "annual_inc                  37\n",
            "issue_d                     33\n",
            "title                    23358\n",
            "addr_state                  33\n",
            "dti                       1744\n",
            "delinq_2yrs                 62\n",
            "earliest_cr_line            62\n",
            "fico_range_low              33\n",
            "fico_range_high             33\n",
            "inq_last_6mths              63\n",
            "open_acc                    62\n",
            "total_acc                   62\n",
            "application_type            33\n",
            "pub_rec                     62\n",
            "pub_rec_bankruptcies      1398\n",
            "dtype: int64\n"
          ]
        }
      ]
    },
    {
      "cell_type": "markdown",
      "source": [
        "There are many missing values, will try to impute with appropriate methods\n"
      ],
      "metadata": {
        "id": "pau5XI0SqtzS"
      }
    },
    {
      "cell_type": "code",
      "source": [
        "df[\"emp_title\"] = df[\"emp_title\"].fillna(\"not_provided\")"
      ],
      "metadata": {
        "id": "cK8Du_TtujZo",
        "colab": {
          "base_uri": "https://localhost:8080/"
        },
        "outputId": "a54ba8db-56a2-45f3-ecb1-fa5b71636bf7"
      },
      "execution_count": null,
      "outputs": [
        {
          "output_type": "stream",
          "name": "stderr",
          "text": [
            "<ipython-input-14-a50bea5135b2>:1: SettingWithCopyWarning: \n",
            "A value is trying to be set on a copy of a slice from a DataFrame.\n",
            "Try using .loc[row_indexer,col_indexer] = value instead\n",
            "\n",
            "See the caveats in the documentation: https://pandas.pydata.org/pandas-docs/stable/user_guide/indexing.html#returning-a-view-versus-a-copy\n",
            "  df[\"emp_title\"] = df[\"emp_title\"].fillna(\"not_provided\")\n"
          ]
        }
      ]
    },
    {
      "cell_type": "code",
      "source": [
        "df[df.duplicated()].count()"
      ],
      "metadata": {
        "id": "2xEI7wWTuoy3",
        "colab": {
          "base_uri": "https://localhost:8080/"
        },
        "outputId": "51680ad5-5d63-49e4-c8f8-25ddeb0da1f9"
      },
      "execution_count": null,
      "outputs": [
        {
          "output_type": "execute_result",
          "data": {
            "text/plain": [
              "loan_amnt                0\n",
              "funded_amnt              0\n",
              "term                     0\n",
              "int_rate                 0\n",
              "grade                    0\n",
              "sub_grade                0\n",
              "emp_title               32\n",
              "emp_length               0\n",
              "home_ownership           0\n",
              "annual_inc               0\n",
              "issue_d                  0\n",
              "title                    0\n",
              "addr_state               0\n",
              "dti                      0\n",
              "delinq_2yrs              0\n",
              "earliest_cr_line         0\n",
              "fico_range_low           0\n",
              "fico_range_high          0\n",
              "inq_last_6mths           0\n",
              "open_acc                 0\n",
              "total_acc                0\n",
              "application_type         0\n",
              "pub_rec                  0\n",
              "pub_rec_bankruptcies     0\n",
              "dtype: int64"
            ]
          },
          "metadata": {},
          "execution_count": 15
        }
      ]
    },
    {
      "cell_type": "markdown",
      "source": [
        "There are no duplicate values"
      ],
      "metadata": {
        "id": "Spvi4IVSq5rL"
      }
    },
    {
      "cell_type": "code",
      "source": [
        "# checking descriptive statastics\n",
        "df.describe().round(1)[['loan_amnt', 'funded_amnt', 'fico_range_low', 'fico_range_high', 'dti', 'annual_inc']]"
      ],
      "metadata": {
        "id": "uZGzYSDru8vg",
        "colab": {
          "base_uri": "https://localhost:8080/",
          "height": 300
        },
        "outputId": "96a09692-5a9c-47b3-e852-9ce3007763c5"
      },
      "execution_count": null,
      "outputs": [
        {
          "output_type": "execute_result",
          "data": {
            "text/plain": [
              "       loan_amnt  funded_amnt  fico_range_low  fico_range_high        dti  \\\n",
              "count  2260668.0    2260668.0       2260668.0        2260668.0  2258957.0   \n",
              "mean     15046.9      15041.7           698.6            702.6       18.8   \n",
              "std       9190.2       9188.4            33.0             33.0       14.2   \n",
              "min        500.0        500.0           610.0            614.0       -1.0   \n",
              "25%       8000.0       8000.0           675.0            679.0       11.9   \n",
              "50%      12900.0      12875.0           690.0            694.0       17.8   \n",
              "75%      20000.0      20000.0           715.0            719.0       24.5   \n",
              "max      40000.0      40000.0           845.0            850.0      999.0   \n",
              "\n",
              "        annual_inc  \n",
              "count    2260664.0  \n",
              "mean       77992.4  \n",
              "std       112696.2  \n",
              "min            0.0  \n",
              "25%        46000.0  \n",
              "50%        65000.0  \n",
              "75%        93000.0  \n",
              "max    110000000.0  "
            ],
            "text/html": [
              "\n",
              "  <div id=\"df-e5d3522c-0b04-4f8d-8540-db8b9e233fa7\">\n",
              "    <div class=\"colab-df-container\">\n",
              "      <div>\n",
              "<style scoped>\n",
              "    .dataframe tbody tr th:only-of-type {\n",
              "        vertical-align: middle;\n",
              "    }\n",
              "\n",
              "    .dataframe tbody tr th {\n",
              "        vertical-align: top;\n",
              "    }\n",
              "\n",
              "    .dataframe thead th {\n",
              "        text-align: right;\n",
              "    }\n",
              "</style>\n",
              "<table border=\"1\" class=\"dataframe\">\n",
              "  <thead>\n",
              "    <tr style=\"text-align: right;\">\n",
              "      <th></th>\n",
              "      <th>loan_amnt</th>\n",
              "      <th>funded_amnt</th>\n",
              "      <th>fico_range_low</th>\n",
              "      <th>fico_range_high</th>\n",
              "      <th>dti</th>\n",
              "      <th>annual_inc</th>\n",
              "    </tr>\n",
              "  </thead>\n",
              "  <tbody>\n",
              "    <tr>\n",
              "      <th>count</th>\n",
              "      <td>2260668.0</td>\n",
              "      <td>2260668.0</td>\n",
              "      <td>2260668.0</td>\n",
              "      <td>2260668.0</td>\n",
              "      <td>2258957.0</td>\n",
              "      <td>2260664.0</td>\n",
              "    </tr>\n",
              "    <tr>\n",
              "      <th>mean</th>\n",
              "      <td>15046.9</td>\n",
              "      <td>15041.7</td>\n",
              "      <td>698.6</td>\n",
              "      <td>702.6</td>\n",
              "      <td>18.8</td>\n",
              "      <td>77992.4</td>\n",
              "    </tr>\n",
              "    <tr>\n",
              "      <th>std</th>\n",
              "      <td>9190.2</td>\n",
              "      <td>9188.4</td>\n",
              "      <td>33.0</td>\n",
              "      <td>33.0</td>\n",
              "      <td>14.2</td>\n",
              "      <td>112696.2</td>\n",
              "    </tr>\n",
              "    <tr>\n",
              "      <th>min</th>\n",
              "      <td>500.0</td>\n",
              "      <td>500.0</td>\n",
              "      <td>610.0</td>\n",
              "      <td>614.0</td>\n",
              "      <td>-1.0</td>\n",
              "      <td>0.0</td>\n",
              "    </tr>\n",
              "    <tr>\n",
              "      <th>25%</th>\n",
              "      <td>8000.0</td>\n",
              "      <td>8000.0</td>\n",
              "      <td>675.0</td>\n",
              "      <td>679.0</td>\n",
              "      <td>11.9</td>\n",
              "      <td>46000.0</td>\n",
              "    </tr>\n",
              "    <tr>\n",
              "      <th>50%</th>\n",
              "      <td>12900.0</td>\n",
              "      <td>12875.0</td>\n",
              "      <td>690.0</td>\n",
              "      <td>694.0</td>\n",
              "      <td>17.8</td>\n",
              "      <td>65000.0</td>\n",
              "    </tr>\n",
              "    <tr>\n",
              "      <th>75%</th>\n",
              "      <td>20000.0</td>\n",
              "      <td>20000.0</td>\n",
              "      <td>715.0</td>\n",
              "      <td>719.0</td>\n",
              "      <td>24.5</td>\n",
              "      <td>93000.0</td>\n",
              "    </tr>\n",
              "    <tr>\n",
              "      <th>max</th>\n",
              "      <td>40000.0</td>\n",
              "      <td>40000.0</td>\n",
              "      <td>845.0</td>\n",
              "      <td>850.0</td>\n",
              "      <td>999.0</td>\n",
              "      <td>110000000.0</td>\n",
              "    </tr>\n",
              "  </tbody>\n",
              "</table>\n",
              "</div>\n",
              "      <button class=\"colab-df-convert\" onclick=\"convertToInteractive('df-e5d3522c-0b04-4f8d-8540-db8b9e233fa7')\"\n",
              "              title=\"Convert this dataframe to an interactive table.\"\n",
              "              style=\"display:none;\">\n",
              "        \n",
              "  <svg xmlns=\"http://www.w3.org/2000/svg\" height=\"24px\"viewBox=\"0 0 24 24\"\n",
              "       width=\"24px\">\n",
              "    <path d=\"M0 0h24v24H0V0z\" fill=\"none\"/>\n",
              "    <path d=\"M18.56 5.44l.94 2.06.94-2.06 2.06-.94-2.06-.94-.94-2.06-.94 2.06-2.06.94zm-11 1L8.5 8.5l.94-2.06 2.06-.94-2.06-.94L8.5 2.5l-.94 2.06-2.06.94zm10 10l.94 2.06.94-2.06 2.06-.94-2.06-.94-.94-2.06-.94 2.06-2.06.94z\"/><path d=\"M17.41 7.96l-1.37-1.37c-.4-.4-.92-.59-1.43-.59-.52 0-1.04.2-1.43.59L10.3 9.45l-7.72 7.72c-.78.78-.78 2.05 0 2.83L4 21.41c.39.39.9.59 1.41.59.51 0 1.02-.2 1.41-.59l7.78-7.78 2.81-2.81c.8-.78.8-2.07 0-2.86zM5.41 20L4 18.59l7.72-7.72 1.47 1.35L5.41 20z\"/>\n",
              "  </svg>\n",
              "      </button>\n",
              "      \n",
              "  <style>\n",
              "    .colab-df-container {\n",
              "      display:flex;\n",
              "      flex-wrap:wrap;\n",
              "      gap: 12px;\n",
              "    }\n",
              "\n",
              "    .colab-df-convert {\n",
              "      background-color: #E8F0FE;\n",
              "      border: none;\n",
              "      border-radius: 50%;\n",
              "      cursor: pointer;\n",
              "      display: none;\n",
              "      fill: #1967D2;\n",
              "      height: 32px;\n",
              "      padding: 0 0 0 0;\n",
              "      width: 32px;\n",
              "    }\n",
              "\n",
              "    .colab-df-convert:hover {\n",
              "      background-color: #E2EBFA;\n",
              "      box-shadow: 0px 1px 2px rgba(60, 64, 67, 0.3), 0px 1px 3px 1px rgba(60, 64, 67, 0.15);\n",
              "      fill: #174EA6;\n",
              "    }\n",
              "\n",
              "    [theme=dark] .colab-df-convert {\n",
              "      background-color: #3B4455;\n",
              "      fill: #D2E3FC;\n",
              "    }\n",
              "\n",
              "    [theme=dark] .colab-df-convert:hover {\n",
              "      background-color: #434B5C;\n",
              "      box-shadow: 0px 1px 3px 1px rgba(0, 0, 0, 0.15);\n",
              "      filter: drop-shadow(0px 1px 2px rgba(0, 0, 0, 0.3));\n",
              "      fill: #FFFFFF;\n",
              "    }\n",
              "  </style>\n",
              "\n",
              "      <script>\n",
              "        const buttonEl =\n",
              "          document.querySelector('#df-e5d3522c-0b04-4f8d-8540-db8b9e233fa7 button.colab-df-convert');\n",
              "        buttonEl.style.display =\n",
              "          google.colab.kernel.accessAllowed ? 'block' : 'none';\n",
              "\n",
              "        async function convertToInteractive(key) {\n",
              "          const element = document.querySelector('#df-e5d3522c-0b04-4f8d-8540-db8b9e233fa7');\n",
              "          const dataTable =\n",
              "            await google.colab.kernel.invokeFunction('convertToInteractive',\n",
              "                                                     [key], {});\n",
              "          if (!dataTable) return;\n",
              "\n",
              "          const docLinkHtml = 'Like what you see? Visit the ' +\n",
              "            '<a target=\"_blank\" href=https://colab.research.google.com/notebooks/data_table.ipynb>data table notebook</a>'\n",
              "            + ' to learn more about interactive tables.';\n",
              "          element.innerHTML = '';\n",
              "          dataTable['output_type'] = 'display_data';\n",
              "          await google.colab.output.renderOutput(dataTable, element);\n",
              "          const docLink = document.createElement('div');\n",
              "          docLink.innerHTML = docLinkHtml;\n",
              "          element.appendChild(docLink);\n",
              "        }\n",
              "      </script>\n",
              "    </div>\n",
              "  </div>\n",
              "  "
            ]
          },
          "metadata": {},
          "execution_count": 16
        }
      ]
    },
    {
      "cell_type": "markdown",
      "source": [
        "The overall insights\n",
        "\n",
        "\n",
        "The most common loan term is 36 months, accounting for the majority of loans.\n",
        "\n",
        "The most frequent grade assigned to borrowers is \"B,\" indicating a relatively good creditworthiness.\n",
        "\n",
        "\"Teacher\" is the most common employment title among borrowers.\n",
        "\n",
        "Many borrowers have an employment length of \"10+ years.\"\n",
        "\n",
        "The majority of borrowers have home ownership classified as \"MORTGAGE.\"\n",
        "\n",
        "The most common loan purpose is \"Debt consolidation.\"\n",
        "\n",
        "California (CA) has the highest number of borrowers among the states.\n",
        "\n",
        "The earliest credit line opened by a borrower is in September 2004.\n",
        "\n",
        "The majority of loans have an individual application type."
      ],
      "metadata": {
        "id": "toS1oadYn6nw"
      }
    },
    {
      "cell_type": "code",
      "source": [
        "# let's find out object features\n",
        "\n",
        "df.describe(include='object')"
      ],
      "metadata": {
        "colab": {
          "base_uri": "https://localhost:8080/",
          "height": 256
        },
        "id": "NHEPiaJ7vCnY",
        "outputId": "e62928f2-6ba9-4c55-84c8-12268ecb75c3"
      },
      "execution_count": null,
      "outputs": [
        {
          "output_type": "execute_result",
          "data": {
            "text/plain": [
              "              term    grade sub_grade     emp_title emp_length home_ownership  \\\n",
              "count      2260668  2260668   2260668       2260701    2113761        2260668   \n",
              "unique           2        7        35        512695         11              6   \n",
              "top      36 months        B        C1  not_provided  10+ years       MORTGAGE   \n",
              "freq       1609754   663557    145903        167002     748005        1111450   \n",
              "\n",
              "         issue_d               title addr_state earliest_cr_line  \\\n",
              "count    2260668             2237343    2260668          2260639   \n",
              "unique       139               63155         51              754   \n",
              "top     Mar-2016  Debt consolidation         CA         Sep-2004   \n",
              "freq       61992             1153293     314533            15400   \n",
              "\n",
              "       application_type  \n",
              "count           2260668  \n",
              "unique                2  \n",
              "top          Individual  \n",
              "freq            2139958  "
            ],
            "text/html": [
              "\n",
              "  <div id=\"df-aed75d35-103d-4160-a104-3db21fe49067\">\n",
              "    <div class=\"colab-df-container\">\n",
              "      <div>\n",
              "<style scoped>\n",
              "    .dataframe tbody tr th:only-of-type {\n",
              "        vertical-align: middle;\n",
              "    }\n",
              "\n",
              "    .dataframe tbody tr th {\n",
              "        vertical-align: top;\n",
              "    }\n",
              "\n",
              "    .dataframe thead th {\n",
              "        text-align: right;\n",
              "    }\n",
              "</style>\n",
              "<table border=\"1\" class=\"dataframe\">\n",
              "  <thead>\n",
              "    <tr style=\"text-align: right;\">\n",
              "      <th></th>\n",
              "      <th>term</th>\n",
              "      <th>grade</th>\n",
              "      <th>sub_grade</th>\n",
              "      <th>emp_title</th>\n",
              "      <th>emp_length</th>\n",
              "      <th>home_ownership</th>\n",
              "      <th>issue_d</th>\n",
              "      <th>title</th>\n",
              "      <th>addr_state</th>\n",
              "      <th>earliest_cr_line</th>\n",
              "      <th>application_type</th>\n",
              "    </tr>\n",
              "  </thead>\n",
              "  <tbody>\n",
              "    <tr>\n",
              "      <th>count</th>\n",
              "      <td>2260668</td>\n",
              "      <td>2260668</td>\n",
              "      <td>2260668</td>\n",
              "      <td>2260701</td>\n",
              "      <td>2113761</td>\n",
              "      <td>2260668</td>\n",
              "      <td>2260668</td>\n",
              "      <td>2237343</td>\n",
              "      <td>2260668</td>\n",
              "      <td>2260639</td>\n",
              "      <td>2260668</td>\n",
              "    </tr>\n",
              "    <tr>\n",
              "      <th>unique</th>\n",
              "      <td>2</td>\n",
              "      <td>7</td>\n",
              "      <td>35</td>\n",
              "      <td>512695</td>\n",
              "      <td>11</td>\n",
              "      <td>6</td>\n",
              "      <td>139</td>\n",
              "      <td>63155</td>\n",
              "      <td>51</td>\n",
              "      <td>754</td>\n",
              "      <td>2</td>\n",
              "    </tr>\n",
              "    <tr>\n",
              "      <th>top</th>\n",
              "      <td>36 months</td>\n",
              "      <td>B</td>\n",
              "      <td>C1</td>\n",
              "      <td>not_provided</td>\n",
              "      <td>10+ years</td>\n",
              "      <td>MORTGAGE</td>\n",
              "      <td>Mar-2016</td>\n",
              "      <td>Debt consolidation</td>\n",
              "      <td>CA</td>\n",
              "      <td>Sep-2004</td>\n",
              "      <td>Individual</td>\n",
              "    </tr>\n",
              "    <tr>\n",
              "      <th>freq</th>\n",
              "      <td>1609754</td>\n",
              "      <td>663557</td>\n",
              "      <td>145903</td>\n",
              "      <td>167002</td>\n",
              "      <td>748005</td>\n",
              "      <td>1111450</td>\n",
              "      <td>61992</td>\n",
              "      <td>1153293</td>\n",
              "      <td>314533</td>\n",
              "      <td>15400</td>\n",
              "      <td>2139958</td>\n",
              "    </tr>\n",
              "  </tbody>\n",
              "</table>\n",
              "</div>\n",
              "      <button class=\"colab-df-convert\" onclick=\"convertToInteractive('df-aed75d35-103d-4160-a104-3db21fe49067')\"\n",
              "              title=\"Convert this dataframe to an interactive table.\"\n",
              "              style=\"display:none;\">\n",
              "        \n",
              "  <svg xmlns=\"http://www.w3.org/2000/svg\" height=\"24px\"viewBox=\"0 0 24 24\"\n",
              "       width=\"24px\">\n",
              "    <path d=\"M0 0h24v24H0V0z\" fill=\"none\"/>\n",
              "    <path d=\"M18.56 5.44l.94 2.06.94-2.06 2.06-.94-2.06-.94-.94-2.06-.94 2.06-2.06.94zm-11 1L8.5 8.5l.94-2.06 2.06-.94-2.06-.94L8.5 2.5l-.94 2.06-2.06.94zm10 10l.94 2.06.94-2.06 2.06-.94-2.06-.94-.94-2.06-.94 2.06-2.06.94z\"/><path d=\"M17.41 7.96l-1.37-1.37c-.4-.4-.92-.59-1.43-.59-.52 0-1.04.2-1.43.59L10.3 9.45l-7.72 7.72c-.78.78-.78 2.05 0 2.83L4 21.41c.39.39.9.59 1.41.59.51 0 1.02-.2 1.41-.59l7.78-7.78 2.81-2.81c.8-.78.8-2.07 0-2.86zM5.41 20L4 18.59l7.72-7.72 1.47 1.35L5.41 20z\"/>\n",
              "  </svg>\n",
              "      </button>\n",
              "      \n",
              "  <style>\n",
              "    .colab-df-container {\n",
              "      display:flex;\n",
              "      flex-wrap:wrap;\n",
              "      gap: 12px;\n",
              "    }\n",
              "\n",
              "    .colab-df-convert {\n",
              "      background-color: #E8F0FE;\n",
              "      border: none;\n",
              "      border-radius: 50%;\n",
              "      cursor: pointer;\n",
              "      display: none;\n",
              "      fill: #1967D2;\n",
              "      height: 32px;\n",
              "      padding: 0 0 0 0;\n",
              "      width: 32px;\n",
              "    }\n",
              "\n",
              "    .colab-df-convert:hover {\n",
              "      background-color: #E2EBFA;\n",
              "      box-shadow: 0px 1px 2px rgba(60, 64, 67, 0.3), 0px 1px 3px 1px rgba(60, 64, 67, 0.15);\n",
              "      fill: #174EA6;\n",
              "    }\n",
              "\n",
              "    [theme=dark] .colab-df-convert {\n",
              "      background-color: #3B4455;\n",
              "      fill: #D2E3FC;\n",
              "    }\n",
              "\n",
              "    [theme=dark] .colab-df-convert:hover {\n",
              "      background-color: #434B5C;\n",
              "      box-shadow: 0px 1px 3px 1px rgba(0, 0, 0, 0.15);\n",
              "      filter: drop-shadow(0px 1px 2px rgba(0, 0, 0, 0.3));\n",
              "      fill: #FFFFFF;\n",
              "    }\n",
              "  </style>\n",
              "\n",
              "      <script>\n",
              "        const buttonEl =\n",
              "          document.querySelector('#df-aed75d35-103d-4160-a104-3db21fe49067 button.colab-df-convert');\n",
              "        buttonEl.style.display =\n",
              "          google.colab.kernel.accessAllowed ? 'block' : 'none';\n",
              "\n",
              "        async function convertToInteractive(key) {\n",
              "          const element = document.querySelector('#df-aed75d35-103d-4160-a104-3db21fe49067');\n",
              "          const dataTable =\n",
              "            await google.colab.kernel.invokeFunction('convertToInteractive',\n",
              "                                                     [key], {});\n",
              "          if (!dataTable) return;\n",
              "\n",
              "          const docLinkHtml = 'Like what you see? Visit the ' +\n",
              "            '<a target=\"_blank\" href=https://colab.research.google.com/notebooks/data_table.ipynb>data table notebook</a>'\n",
              "            + ' to learn more about interactive tables.';\n",
              "          element.innerHTML = '';\n",
              "          dataTable['output_type'] = 'display_data';\n",
              "          await google.colab.output.renderOutput(dataTable, element);\n",
              "          const docLink = document.createElement('div');\n",
              "          docLink.innerHTML = docLinkHtml;\n",
              "          element.appendChild(docLink);\n",
              "        }\n",
              "      </script>\n",
              "    </div>\n",
              "  </div>\n",
              "  "
            ]
          },
          "metadata": {},
          "execution_count": 17
        }
      ]
    },
    {
      "cell_type": "code",
      "source": [
        "#aggregation\n",
        "grouped_by_application_type_dti = df.groupby('application_type')['dti'].mean()\n",
        "print(grouped_by_application_type_dti)"
      ],
      "metadata": {
        "id": "6P2O-Q3Ssd_r",
        "colab": {
          "base_uri": "https://localhost:8080/"
        },
        "outputId": "b8ce05fb-b142-49a0-fea1-67e114f9f274"
      },
      "execution_count": null,
      "outputs": [
        {
          "output_type": "stream",
          "name": "stdout",
          "text": [
            "application_type\n",
            "Individual    18.093164\n",
            "Joint App     31.970350\n",
            "Name: dti, dtype: float64\n"
          ]
        }
      ]
    },
    {
      "cell_type": "code",
      "source": [
        "df.groupby('application_type')['dti'].describe()"
      ],
      "metadata": {
        "id": "iCr08UnQw5yn",
        "colab": {
          "base_uri": "https://localhost:8080/",
          "height": 143
        },
        "outputId": "2f7f4114-f520-46a5-f735-e8153f37c8fe"
      },
      "execution_count": null,
      "outputs": [
        {
          "output_type": "execute_result",
          "data": {
            "text/plain": [
              "                      count       mean        std  min    25%    50%    75%  \\\n",
              "application_type                                                              \n",
              "Individual        2139958.0  18.093164   8.425408 -1.0  11.78  17.60  24.04   \n",
              "Joint App          118999.0  31.970350  48.577435 -1.0  15.38  24.98  36.97   \n",
              "\n",
              "                     max  \n",
              "application_type          \n",
              "Individual         49.96  \n",
              "Joint App         999.00  "
            ],
            "text/html": [
              "\n",
              "  <div id=\"df-b3c2596a-ff5f-4390-95da-0367968d8a98\">\n",
              "    <div class=\"colab-df-container\">\n",
              "      <div>\n",
              "<style scoped>\n",
              "    .dataframe tbody tr th:only-of-type {\n",
              "        vertical-align: middle;\n",
              "    }\n",
              "\n",
              "    .dataframe tbody tr th {\n",
              "        vertical-align: top;\n",
              "    }\n",
              "\n",
              "    .dataframe thead th {\n",
              "        text-align: right;\n",
              "    }\n",
              "</style>\n",
              "<table border=\"1\" class=\"dataframe\">\n",
              "  <thead>\n",
              "    <tr style=\"text-align: right;\">\n",
              "      <th></th>\n",
              "      <th>count</th>\n",
              "      <th>mean</th>\n",
              "      <th>std</th>\n",
              "      <th>min</th>\n",
              "      <th>25%</th>\n",
              "      <th>50%</th>\n",
              "      <th>75%</th>\n",
              "      <th>max</th>\n",
              "    </tr>\n",
              "    <tr>\n",
              "      <th>application_type</th>\n",
              "      <th></th>\n",
              "      <th></th>\n",
              "      <th></th>\n",
              "      <th></th>\n",
              "      <th></th>\n",
              "      <th></th>\n",
              "      <th></th>\n",
              "      <th></th>\n",
              "    </tr>\n",
              "  </thead>\n",
              "  <tbody>\n",
              "    <tr>\n",
              "      <th>Individual</th>\n",
              "      <td>2139958.0</td>\n",
              "      <td>18.093164</td>\n",
              "      <td>8.425408</td>\n",
              "      <td>-1.0</td>\n",
              "      <td>11.78</td>\n",
              "      <td>17.60</td>\n",
              "      <td>24.04</td>\n",
              "      <td>49.96</td>\n",
              "    </tr>\n",
              "    <tr>\n",
              "      <th>Joint App</th>\n",
              "      <td>118999.0</td>\n",
              "      <td>31.970350</td>\n",
              "      <td>48.577435</td>\n",
              "      <td>-1.0</td>\n",
              "      <td>15.38</td>\n",
              "      <td>24.98</td>\n",
              "      <td>36.97</td>\n",
              "      <td>999.00</td>\n",
              "    </tr>\n",
              "  </tbody>\n",
              "</table>\n",
              "</div>\n",
              "      <button class=\"colab-df-convert\" onclick=\"convertToInteractive('df-b3c2596a-ff5f-4390-95da-0367968d8a98')\"\n",
              "              title=\"Convert this dataframe to an interactive table.\"\n",
              "              style=\"display:none;\">\n",
              "        \n",
              "  <svg xmlns=\"http://www.w3.org/2000/svg\" height=\"24px\"viewBox=\"0 0 24 24\"\n",
              "       width=\"24px\">\n",
              "    <path d=\"M0 0h24v24H0V0z\" fill=\"none\"/>\n",
              "    <path d=\"M18.56 5.44l.94 2.06.94-2.06 2.06-.94-2.06-.94-.94-2.06-.94 2.06-2.06.94zm-11 1L8.5 8.5l.94-2.06 2.06-.94-2.06-.94L8.5 2.5l-.94 2.06-2.06.94zm10 10l.94 2.06.94-2.06 2.06-.94-2.06-.94-.94-2.06-.94 2.06-2.06.94z\"/><path d=\"M17.41 7.96l-1.37-1.37c-.4-.4-.92-.59-1.43-.59-.52 0-1.04.2-1.43.59L10.3 9.45l-7.72 7.72c-.78.78-.78 2.05 0 2.83L4 21.41c.39.39.9.59 1.41.59.51 0 1.02-.2 1.41-.59l7.78-7.78 2.81-2.81c.8-.78.8-2.07 0-2.86zM5.41 20L4 18.59l7.72-7.72 1.47 1.35L5.41 20z\"/>\n",
              "  </svg>\n",
              "      </button>\n",
              "      \n",
              "  <style>\n",
              "    .colab-df-container {\n",
              "      display:flex;\n",
              "      flex-wrap:wrap;\n",
              "      gap: 12px;\n",
              "    }\n",
              "\n",
              "    .colab-df-convert {\n",
              "      background-color: #E8F0FE;\n",
              "      border: none;\n",
              "      border-radius: 50%;\n",
              "      cursor: pointer;\n",
              "      display: none;\n",
              "      fill: #1967D2;\n",
              "      height: 32px;\n",
              "      padding: 0 0 0 0;\n",
              "      width: 32px;\n",
              "    }\n",
              "\n",
              "    .colab-df-convert:hover {\n",
              "      background-color: #E2EBFA;\n",
              "      box-shadow: 0px 1px 2px rgba(60, 64, 67, 0.3), 0px 1px 3px 1px rgba(60, 64, 67, 0.15);\n",
              "      fill: #174EA6;\n",
              "    }\n",
              "\n",
              "    [theme=dark] .colab-df-convert {\n",
              "      background-color: #3B4455;\n",
              "      fill: #D2E3FC;\n",
              "    }\n",
              "\n",
              "    [theme=dark] .colab-df-convert:hover {\n",
              "      background-color: #434B5C;\n",
              "      box-shadow: 0px 1px 3px 1px rgba(0, 0, 0, 0.15);\n",
              "      filter: drop-shadow(0px 1px 2px rgba(0, 0, 0, 0.3));\n",
              "      fill: #FFFFFF;\n",
              "    }\n",
              "  </style>\n",
              "\n",
              "      <script>\n",
              "        const buttonEl =\n",
              "          document.querySelector('#df-b3c2596a-ff5f-4390-95da-0367968d8a98 button.colab-df-convert');\n",
              "        buttonEl.style.display =\n",
              "          google.colab.kernel.accessAllowed ? 'block' : 'none';\n",
              "\n",
              "        async function convertToInteractive(key) {\n",
              "          const element = document.querySelector('#df-b3c2596a-ff5f-4390-95da-0367968d8a98');\n",
              "          const dataTable =\n",
              "            await google.colab.kernel.invokeFunction('convertToInteractive',\n",
              "                                                     [key], {});\n",
              "          if (!dataTable) return;\n",
              "\n",
              "          const docLinkHtml = 'Like what you see? Visit the ' +\n",
              "            '<a target=\"_blank\" href=https://colab.research.google.com/notebooks/data_table.ipynb>data table notebook</a>'\n",
              "            + ' to learn more about interactive tables.';\n",
              "          element.innerHTML = '';\n",
              "          dataTable['output_type'] = 'display_data';\n",
              "          await google.colab.output.renderOutput(dataTable, element);\n",
              "          const docLink = document.createElement('div');\n",
              "          docLink.innerHTML = docLinkHtml;\n",
              "          element.appendChild(docLink);\n",
              "        }\n",
              "      </script>\n",
              "    </div>\n",
              "  </div>\n",
              "  "
            ]
          },
          "metadata": {},
          "execution_count": 19
        }
      ]
    },
    {
      "cell_type": "markdown",
      "source": [
        "The analysis reveals that loans with 'Individual' application types have an average debt-to-income ratio (DTI) of approximately 18.09%. The majority of individual applicants have DTIs ranging from 11.78% to 24.04%. In contrast, loans with 'Joint App' application types have a higher average DTI of around 31.97%, with a wider range and higher variability compared to individual applications. This suggests that joint applications may involve higher levels of debt relative to income."
      ],
      "metadata": {
        "id": "53NCn_9rocI2"
      }
    },
    {
      "cell_type": "code",
      "source": [
        "# Groupby 'application_type' and calculate the 'annual_inc'\n",
        "\n",
        "grouped_by_application_type_mean_inc = df.groupby('application_type')['annual_inc'].mean()\n",
        "print(grouped_by_application_type_mean_inc)\n",
        "\n",
        "grouped_by_application_type_desc_inc = df.groupby('application_type')['annual_inc'].describe()\n",
        "print(grouped_by_application_type_desc_inc)"
      ],
      "metadata": {
        "id": "mLR8DoN4oiJR",
        "colab": {
          "base_uri": "https://localhost:8080/"
        },
        "outputId": "8139abdc-89cd-408e-f231-7c49f2cfbc3e"
      },
      "execution_count": null,
      "outputs": [
        {
          "output_type": "stream",
          "name": "stdout",
          "text": [
            "application_type\n",
            "Individual    79001.083409\n",
            "Joint App     60110.938289\n",
            "Name: annual_inc, dtype: float64\n",
            "                      count          mean            std     min      25%  \\\n",
            "application_type                                                            \n",
            "Individual        2139954.0  79001.083409  115076.357666  1896.0  47400.0   \n",
            "Joint App          120710.0  60110.938289   52456.466572     0.0  35000.0   \n",
            "\n",
            "                      50%      75%          max  \n",
            "application_type                                 \n",
            "Individual        65300.0  95000.0  110000000.0  \n",
            "Joint App         52000.0  75000.0    6240000.0  \n"
          ]
        }
      ]
    },
    {
      "cell_type": "markdown",
      "source": [
        "Individuals applying individually have a higher average annual income of around  79,00 𝑤ℎ𝑖𝑙𝑒 𝑗𝑜𝑖𝑛𝑡 𝑎𝑝𝑝𝑙𝑖𝑐𝑎𝑛𝑡𝑠 ℎ𝑎𝑣𝑒 𝑎 𝑙𝑜𝑤𝑒𝑟 𝑎𝑣𝑒𝑟𝑎𝑔𝑒 𝑎𝑛𝑛𝑢𝑎𝑙 𝑖𝑛𝑐𝑜𝑚𝑒 𝑜𝑓 𝑎𝑝𝑝𝑟𝑜𝑥𝑖𝑚𝑎𝑡𝑒𝑙𝑦\n",
        " 60,111.\n",
        "\n",
        "Income distribution is wider for individuals, indicating higher variability in annual income compared to joint applicants.\n",
        "\n",
        "The 25th percentile annual income is  47,400 𝑖𝑛𝑑𝑖𝑣𝑖𝑑𝑢𝑎𝑙𝑠 𝑎𝑛𝑑\n",
        " 35,000 for joint applicants.\n",
        "\n",
        "The maximum annual income observed is  110,000,000 𝑓𝑜𝑟 𝑖𝑛𝑑𝑖𝑣𝑖𝑑𝑢𝑎𝑙𝑠 𝑎𝑛𝑑\n",
        " 6,240,000 for joint applicants.\n",
        "\n",
        "These findings highlight the differences in average annual income and income distribution between individual and joint loan applicants."
      ],
      "metadata": {
        "id": "7GNXI7oRon9b"
      }
    },
    {
      "cell_type": "code",
      "source": [
        "df['fico_score'] = (df['fico_range_low'] + df['fico_range_high']) / 2\n",
        "df = df.drop(columns=['fico_range_low', 'fico_range_high'])"
      ],
      "metadata": {
        "id": "8PGCWvXSpW02",
        "colab": {
          "base_uri": "https://localhost:8080/"
        },
        "outputId": "93726a69-eee9-45cf-bc1c-f2990dbc8a92"
      },
      "execution_count": null,
      "outputs": [
        {
          "output_type": "stream",
          "name": "stderr",
          "text": [
            "<ipython-input-21-53d7fe7267d1>:1: SettingWithCopyWarning: \n",
            "A value is trying to be set on a copy of a slice from a DataFrame.\n",
            "Try using .loc[row_indexer,col_indexer] = value instead\n",
            "\n",
            "See the caveats in the documentation: https://pandas.pydata.org/pandas-docs/stable/user_guide/indexing.html#returning-a-view-versus-a-copy\n",
            "  df['fico_score'] = (df['fico_range_low'] + df['fico_range_high']) / 2\n"
          ]
        }
      ]
    },
    {
      "cell_type": "code",
      "source": [
        "df.isnull().sum()"
      ],
      "metadata": {
        "id": "-ao9uCOkpk4d",
        "colab": {
          "base_uri": "https://localhost:8080/"
        },
        "outputId": "317c4a22-1fa5-46f8-87d0-91ead64306f5"
      },
      "execution_count": null,
      "outputs": [
        {
          "output_type": "execute_result",
          "data": {
            "text/plain": [
              "loan_amnt                   33\n",
              "funded_amnt                 33\n",
              "term                        33\n",
              "int_rate                    33\n",
              "grade                       33\n",
              "sub_grade                   33\n",
              "emp_title                    0\n",
              "emp_length              146940\n",
              "home_ownership              33\n",
              "annual_inc                  37\n",
              "issue_d                     33\n",
              "title                    23358\n",
              "addr_state                  33\n",
              "dti                       1744\n",
              "delinq_2yrs                 62\n",
              "earliest_cr_line            62\n",
              "inq_last_6mths              63\n",
              "open_acc                    62\n",
              "total_acc                   62\n",
              "application_type            33\n",
              "pub_rec                     62\n",
              "pub_rec_bankruptcies      1398\n",
              "fico_score                  33\n",
              "dtype: int64"
            ]
          },
          "metadata": {},
          "execution_count": 22
        }
      ]
    },
    {
      "cell_type": "code",
      "source": [
        "df.head(2)"
      ],
      "metadata": {
        "id": "6eZMMBWupt03",
        "colab": {
          "base_uri": "https://localhost:8080/",
          "height": 240
        },
        "outputId": "34e854f7-3a8a-4eb5-a9f4-4c280cde9eb5"
      },
      "execution_count": null,
      "outputs": [
        {
          "output_type": "execute_result",
          "data": {
            "text/plain": [
              "   loan_amnt  funded_amnt        term  int_rate grade sub_grade emp_title  \\\n",
              "0     3600.0       3600.0   36 months     13.99     C        C4   leadman   \n",
              "1    24700.0      24700.0   36 months     11.99     C        C1  Engineer   \n",
              "\n",
              "  emp_length home_ownership  annual_inc  ...    dti delinq_2yrs  \\\n",
              "0  10+ years       MORTGAGE     55000.0  ...   5.91         0.0   \n",
              "1  10+ years       MORTGAGE     65000.0  ...  16.06         1.0   \n",
              "\n",
              "  earliest_cr_line  inq_last_6mths  open_acc total_acc  application_type  \\\n",
              "0         Aug-2003             1.0       7.0      13.0        Individual   \n",
              "1         Dec-1999             4.0      22.0      38.0        Individual   \n",
              "\n",
              "   pub_rec  pub_rec_bankruptcies fico_score  \n",
              "0      0.0                   0.0      677.0  \n",
              "1      0.0                   0.0      717.0  \n",
              "\n",
              "[2 rows x 23 columns]"
            ],
            "text/html": [
              "\n",
              "  <div id=\"df-75946716-7e53-4925-9c88-4f084eb36dae\">\n",
              "    <div class=\"colab-df-container\">\n",
              "      <div>\n",
              "<style scoped>\n",
              "    .dataframe tbody tr th:only-of-type {\n",
              "        vertical-align: middle;\n",
              "    }\n",
              "\n",
              "    .dataframe tbody tr th {\n",
              "        vertical-align: top;\n",
              "    }\n",
              "\n",
              "    .dataframe thead th {\n",
              "        text-align: right;\n",
              "    }\n",
              "</style>\n",
              "<table border=\"1\" class=\"dataframe\">\n",
              "  <thead>\n",
              "    <tr style=\"text-align: right;\">\n",
              "      <th></th>\n",
              "      <th>loan_amnt</th>\n",
              "      <th>funded_amnt</th>\n",
              "      <th>term</th>\n",
              "      <th>int_rate</th>\n",
              "      <th>grade</th>\n",
              "      <th>sub_grade</th>\n",
              "      <th>emp_title</th>\n",
              "      <th>emp_length</th>\n",
              "      <th>home_ownership</th>\n",
              "      <th>annual_inc</th>\n",
              "      <th>...</th>\n",
              "      <th>dti</th>\n",
              "      <th>delinq_2yrs</th>\n",
              "      <th>earliest_cr_line</th>\n",
              "      <th>inq_last_6mths</th>\n",
              "      <th>open_acc</th>\n",
              "      <th>total_acc</th>\n",
              "      <th>application_type</th>\n",
              "      <th>pub_rec</th>\n",
              "      <th>pub_rec_bankruptcies</th>\n",
              "      <th>fico_score</th>\n",
              "    </tr>\n",
              "  </thead>\n",
              "  <tbody>\n",
              "    <tr>\n",
              "      <th>0</th>\n",
              "      <td>3600.0</td>\n",
              "      <td>3600.0</td>\n",
              "      <td>36 months</td>\n",
              "      <td>13.99</td>\n",
              "      <td>C</td>\n",
              "      <td>C4</td>\n",
              "      <td>leadman</td>\n",
              "      <td>10+ years</td>\n",
              "      <td>MORTGAGE</td>\n",
              "      <td>55000.0</td>\n",
              "      <td>...</td>\n",
              "      <td>5.91</td>\n",
              "      <td>0.0</td>\n",
              "      <td>Aug-2003</td>\n",
              "      <td>1.0</td>\n",
              "      <td>7.0</td>\n",
              "      <td>13.0</td>\n",
              "      <td>Individual</td>\n",
              "      <td>0.0</td>\n",
              "      <td>0.0</td>\n",
              "      <td>677.0</td>\n",
              "    </tr>\n",
              "    <tr>\n",
              "      <th>1</th>\n",
              "      <td>24700.0</td>\n",
              "      <td>24700.0</td>\n",
              "      <td>36 months</td>\n",
              "      <td>11.99</td>\n",
              "      <td>C</td>\n",
              "      <td>C1</td>\n",
              "      <td>Engineer</td>\n",
              "      <td>10+ years</td>\n",
              "      <td>MORTGAGE</td>\n",
              "      <td>65000.0</td>\n",
              "      <td>...</td>\n",
              "      <td>16.06</td>\n",
              "      <td>1.0</td>\n",
              "      <td>Dec-1999</td>\n",
              "      <td>4.0</td>\n",
              "      <td>22.0</td>\n",
              "      <td>38.0</td>\n",
              "      <td>Individual</td>\n",
              "      <td>0.0</td>\n",
              "      <td>0.0</td>\n",
              "      <td>717.0</td>\n",
              "    </tr>\n",
              "  </tbody>\n",
              "</table>\n",
              "<p>2 rows × 23 columns</p>\n",
              "</div>\n",
              "      <button class=\"colab-df-convert\" onclick=\"convertToInteractive('df-75946716-7e53-4925-9c88-4f084eb36dae')\"\n",
              "              title=\"Convert this dataframe to an interactive table.\"\n",
              "              style=\"display:none;\">\n",
              "        \n",
              "  <svg xmlns=\"http://www.w3.org/2000/svg\" height=\"24px\"viewBox=\"0 0 24 24\"\n",
              "       width=\"24px\">\n",
              "    <path d=\"M0 0h24v24H0V0z\" fill=\"none\"/>\n",
              "    <path d=\"M18.56 5.44l.94 2.06.94-2.06 2.06-.94-2.06-.94-.94-2.06-.94 2.06-2.06.94zm-11 1L8.5 8.5l.94-2.06 2.06-.94-2.06-.94L8.5 2.5l-.94 2.06-2.06.94zm10 10l.94 2.06.94-2.06 2.06-.94-2.06-.94-.94-2.06-.94 2.06-2.06.94z\"/><path d=\"M17.41 7.96l-1.37-1.37c-.4-.4-.92-.59-1.43-.59-.52 0-1.04.2-1.43.59L10.3 9.45l-7.72 7.72c-.78.78-.78 2.05 0 2.83L4 21.41c.39.39.9.59 1.41.59.51 0 1.02-.2 1.41-.59l7.78-7.78 2.81-2.81c.8-.78.8-2.07 0-2.86zM5.41 20L4 18.59l7.72-7.72 1.47 1.35L5.41 20z\"/>\n",
              "  </svg>\n",
              "      </button>\n",
              "      \n",
              "  <style>\n",
              "    .colab-df-container {\n",
              "      display:flex;\n",
              "      flex-wrap:wrap;\n",
              "      gap: 12px;\n",
              "    }\n",
              "\n",
              "    .colab-df-convert {\n",
              "      background-color: #E8F0FE;\n",
              "      border: none;\n",
              "      border-radius: 50%;\n",
              "      cursor: pointer;\n",
              "      display: none;\n",
              "      fill: #1967D2;\n",
              "      height: 32px;\n",
              "      padding: 0 0 0 0;\n",
              "      width: 32px;\n",
              "    }\n",
              "\n",
              "    .colab-df-convert:hover {\n",
              "      background-color: #E2EBFA;\n",
              "      box-shadow: 0px 1px 2px rgba(60, 64, 67, 0.3), 0px 1px 3px 1px rgba(60, 64, 67, 0.15);\n",
              "      fill: #174EA6;\n",
              "    }\n",
              "\n",
              "    [theme=dark] .colab-df-convert {\n",
              "      background-color: #3B4455;\n",
              "      fill: #D2E3FC;\n",
              "    }\n",
              "\n",
              "    [theme=dark] .colab-df-convert:hover {\n",
              "      background-color: #434B5C;\n",
              "      box-shadow: 0px 1px 3px 1px rgba(0, 0, 0, 0.15);\n",
              "      filter: drop-shadow(0px 1px 2px rgba(0, 0, 0, 0.3));\n",
              "      fill: #FFFFFF;\n",
              "    }\n",
              "  </style>\n",
              "\n",
              "      <script>\n",
              "        const buttonEl =\n",
              "          document.querySelector('#df-75946716-7e53-4925-9c88-4f084eb36dae button.colab-df-convert');\n",
              "        buttonEl.style.display =\n",
              "          google.colab.kernel.accessAllowed ? 'block' : 'none';\n",
              "\n",
              "        async function convertToInteractive(key) {\n",
              "          const element = document.querySelector('#df-75946716-7e53-4925-9c88-4f084eb36dae');\n",
              "          const dataTable =\n",
              "            await google.colab.kernel.invokeFunction('convertToInteractive',\n",
              "                                                     [key], {});\n",
              "          if (!dataTable) return;\n",
              "\n",
              "          const docLinkHtml = 'Like what you see? Visit the ' +\n",
              "            '<a target=\"_blank\" href=https://colab.research.google.com/notebooks/data_table.ipynb>data table notebook</a>'\n",
              "            + ' to learn more about interactive tables.';\n",
              "          element.innerHTML = '';\n",
              "          dataTable['output_type'] = 'display_data';\n",
              "          await google.colab.output.renderOutput(dataTable, element);\n",
              "          const docLink = document.createElement('div');\n",
              "          docLink.innerHTML = docLinkHtml;\n",
              "          element.appendChild(docLink);\n",
              "        }\n",
              "      </script>\n",
              "    </div>\n",
              "  </div>\n",
              "  "
            ]
          },
          "metadata": {},
          "execution_count": 23
        }
      ]
    },
    {
      "cell_type": "markdown",
      "source": [
        "The new column was added representing the mean of fico score ranges as in rejected loan dataset."
      ],
      "metadata": {
        "id": "ySjV4JQ8piCZ"
      }
    },
    {
      "cell_type": "code",
      "source": [
        "df['emp_title'].unique()"
      ],
      "metadata": {
        "id": "jcLreXSNqCHr",
        "colab": {
          "base_uri": "https://localhost:8080/"
        },
        "outputId": "7bb97a53-58d4-4f08-9add-458d5611a0a7"
      },
      "execution_count": null,
      "outputs": [
        {
          "output_type": "execute_result",
          "data": {
            "text/plain": [
              "array(['leadman', 'Engineer', 'truck driver', ..., 'Sr. Photo Producer',\n",
              "       'Exec Dir Internal Audit', 'Current Operations Officer'],\n",
              "      dtype=object)"
            ]
          },
          "metadata": {},
          "execution_count": 24
        }
      ]
    },
    {
      "cell_type": "code",
      "source": [
        "categorical_columns = ['term', 'int_rate', 'grade', 'sub_grade', 'home_ownership', 'issue_d', 'title', 'addr_state', 'application_type']\n",
        "df[categorical_columns] = df[categorical_columns].fillna(df[categorical_columns].mode().iloc[0])\n"
      ],
      "metadata": {
        "id": "mQ-CHRWJqOIY"
      },
      "execution_count": null,
      "outputs": []
    },
    {
      "cell_type": "code",
      "source": [
        "# Fill other numeric columns\n",
        "numeric_columns = ['loan_amnt', 'funded_amnt', 'annual_inc', 'dti', 'delinq_2yrs', 'inq_last_6mths', 'open_acc', 'total_acc', 'pub_rec']\n",
        "df[numeric_columns] = df[numeric_columns].fillna(df[numeric_columns].median())\n"
      ],
      "metadata": {
        "id": "UIkBKoBHqTpx"
      },
      "execution_count": null,
      "outputs": []
    },
    {
      "cell_type": "code",
      "source": [
        "# Handle other special cases\n",
        "df['pub_rec_bankruptcies'].fillna(0, inplace=True)\n"
      ],
      "metadata": {
        "id": "oSv1X6DbqaCo"
      },
      "execution_count": null,
      "outputs": []
    },
    {
      "cell_type": "code",
      "source": [
        "df['fico_score'].fillna(df['fico_score'].mean(), inplace=True)\n"
      ],
      "metadata": {
        "id": "i-h3R0Uyqcxi"
      },
      "execution_count": null,
      "outputs": []
    },
    {
      "cell_type": "code",
      "source": [
        "df['earliest_cr_line'] = pd.to_datetime(df['earliest_cr_line'])"
      ],
      "metadata": {
        "id": "BEvkvqNfqfk8"
      },
      "execution_count": null,
      "outputs": []
    },
    {
      "cell_type": "code",
      "source": [
        "recent_date = df['earliest_cr_line'].max()\n",
        "df['earliest_cr_line'].fillna(recent_date, inplace=True)"
      ],
      "metadata": {
        "id": "ZptV9oHwryDn"
      },
      "execution_count": null,
      "outputs": []
    },
    {
      "cell_type": "code",
      "source": [
        "# renaming emp title\n",
        "df.rename(columns={'emp_title': 'occupation'}, inplace=True)\n",
        "df[\"occupation\"]= df[\"occupation\"].astype(str).str.replace(\" years\", \"\").str.replace(\"+\", \"\")\n"
      ],
      "metadata": {
        "id": "sHOxi1uMT7z5",
        "colab": {
          "base_uri": "https://localhost:8080/"
        },
        "outputId": "1a07c78a-4424-47cc-ecac-61321c346c2c"
      },
      "execution_count": null,
      "outputs": [
        {
          "output_type": "stream",
          "name": "stderr",
          "text": [
            "<ipython-input-31-57a577965aa7>:3: FutureWarning: The default value of regex will change from True to False in a future version. In addition, single character regular expressions will *not* be treated as literal strings when regex=True.\n",
            "  df[\"occupation\"]= df[\"occupation\"].astype(str).str.replace(\" years\", \"\").str.replace(\"+\", \"\")\n"
          ]
        }
      ]
    },
    {
      "cell_type": "code",
      "source": [
        "# filling emp_length with median\n",
        "df[\"emp_length\"] = df[\"emp_length\"].astype(str).str.replace(\" years\", \"\").str.replace(\"+\", \"\")\n",
        "df[\"emp_length\"] = pd.to_numeric(df[\"emp_length\"], errors=\"coerce\")\n",
        "median_emp_length = df[\"emp_length\"].median()\n",
        "df[\"emp_length\"] = df[\"emp_length\"].fillna(median_emp_length)\n"
      ],
      "metadata": {
        "id": "2OAa_Qv6UfU_",
        "colab": {
          "base_uri": "https://localhost:8080/"
        },
        "outputId": "4ba196e9-dfdd-487b-c7d8-b90715a12f9c"
      },
      "execution_count": null,
      "outputs": [
        {
          "output_type": "stream",
          "name": "stderr",
          "text": [
            "<ipython-input-32-5b52b1f3ce28>:2: FutureWarning: The default value of regex will change from True to False in a future version. In addition, single character regular expressions will *not* be treated as literal strings when regex=True.\n",
            "  df[\"emp_length\"] = df[\"emp_length\"].astype(str).str.replace(\" years\", \"\").str.replace(\"+\", \"\")\n"
          ]
        }
      ]
    },
    {
      "cell_type": "code",
      "source": [
        "# renaming emp title\n",
        "df.rename(columns={'emp_title': 'occupation'}, inplace=True)\n",
        "df[\"occupation\"]= df[\"occupation\"].astype(str).str.replace(\" years\", \"\").str.replace(\"+\", \"\")\n"
      ],
      "metadata": {
        "colab": {
          "base_uri": "https://localhost:8080/"
        },
        "id": "dFWcBIUWsBBy",
        "outputId": "9b4b69f6-a165-4d4d-8077-9023a81dc9f1"
      },
      "execution_count": null,
      "outputs": [
        {
          "output_type": "stream",
          "name": "stderr",
          "text": [
            "<ipython-input-33-57a577965aa7>:3: FutureWarning: The default value of regex will change from True to False in a future version. In addition, single character regular expressions will *not* be treated as literal strings when regex=True.\n",
            "  df[\"occupation\"]= df[\"occupation\"].astype(str).str.replace(\" years\", \"\").str.replace(\"+\", \"\")\n"
          ]
        }
      ]
    },
    {
      "cell_type": "code",
      "source": [
        "# removing strings\n",
        "df['term'] = df['term'].str.replace(' months', '')\n",
        "df['term'] = pd.to_numeric(df['term'])\n"
      ],
      "metadata": {
        "id": "rVpHaL0uUncv"
      },
      "execution_count": null,
      "outputs": []
    },
    {
      "cell_type": "code",
      "source": [
        "# changing into datetime format\n",
        "df['issue_d'] = pd.to_datetime(df['issue_d'], format='%b-%Y')"
      ],
      "metadata": {
        "id": "x6VUatKLsYsr"
      },
      "execution_count": null,
      "outputs": []
    },
    {
      "cell_type": "code",
      "source": [
        "df.info()"
      ],
      "metadata": {
        "id": "AJfZf7d8UwH6",
        "colab": {
          "base_uri": "https://localhost:8080/"
        },
        "outputId": "c0b1cbad-864b-444d-bd88-bfde1384fafe"
      },
      "execution_count": null,
      "outputs": [
        {
          "output_type": "stream",
          "name": "stdout",
          "text": [
            "<class 'pandas.core.frame.DataFrame'>\n",
            "RangeIndex: 2260701 entries, 0 to 2260700\n",
            "Data columns (total 23 columns):\n",
            " #   Column                Dtype         \n",
            "---  ------                -----         \n",
            " 0   loan_amnt             float64       \n",
            " 1   funded_amnt           float64       \n",
            " 2   term                  int64         \n",
            " 3   int_rate              float64       \n",
            " 4   grade                 object        \n",
            " 5   sub_grade             object        \n",
            " 6   occupation            object        \n",
            " 7   emp_length            float64       \n",
            " 8   home_ownership        object        \n",
            " 9   annual_inc            float64       \n",
            " 10  issue_d               datetime64[ns]\n",
            " 11  title                 object        \n",
            " 12  addr_state            object        \n",
            " 13  dti                   float64       \n",
            " 14  delinq_2yrs           float64       \n",
            " 15  earliest_cr_line      datetime64[ns]\n",
            " 16  inq_last_6mths        float64       \n",
            " 17  open_acc              float64       \n",
            " 18  total_acc             float64       \n",
            " 19  application_type      object        \n",
            " 20  pub_rec               float64       \n",
            " 21  pub_rec_bankruptcies  float64       \n",
            " 22  fico_score            float64       \n",
            "dtypes: datetime64[ns](2), float64(13), int64(1), object(7)\n",
            "memory usage: 396.7+ MB\n"
          ]
        }
      ]
    },
    {
      "cell_type": "code",
      "source": [
        "df.isnull().sum()"
      ],
      "metadata": {
        "id": "VNO6aD0CU4i_",
        "colab": {
          "base_uri": "https://localhost:8080/"
        },
        "outputId": "e3f1b33b-2eba-4523-e9ab-e0ef0d4d1669"
      },
      "execution_count": null,
      "outputs": [
        {
          "output_type": "execute_result",
          "data": {
            "text/plain": [
              "loan_amnt               0\n",
              "funded_amnt             0\n",
              "term                    0\n",
              "int_rate                0\n",
              "grade                   0\n",
              "sub_grade               0\n",
              "occupation              0\n",
              "emp_length              0\n",
              "home_ownership          0\n",
              "annual_inc              0\n",
              "issue_d                 0\n",
              "title                   0\n",
              "addr_state              0\n",
              "dti                     0\n",
              "delinq_2yrs             0\n",
              "earliest_cr_line        0\n",
              "inq_last_6mths          0\n",
              "open_acc                0\n",
              "total_acc               0\n",
              "application_type        0\n",
              "pub_rec                 0\n",
              "pub_rec_bankruptcies    0\n",
              "fico_score              0\n",
              "dtype: int64"
            ]
          },
          "metadata": {},
          "execution_count": 37
        }
      ]
    },
    {
      "cell_type": "code",
      "source": [
        "df.head()"
      ],
      "metadata": {
        "id": "ZMNpN_6AU7JF",
        "colab": {
          "base_uri": "https://localhost:8080/",
          "height": 352
        },
        "outputId": "e2fd73a0-18d4-4347-8d6b-fb0dcd6f1906"
      },
      "execution_count": null,
      "outputs": [
        {
          "output_type": "execute_result",
          "data": {
            "text/plain": [
              "   loan_amnt  funded_amnt  term  int_rate grade sub_grade  \\\n",
              "0     3600.0       3600.0    36     13.99     C        C4   \n",
              "1    24700.0      24700.0    36     11.99     C        C1   \n",
              "2    20000.0      20000.0    60     10.78     B        B4   \n",
              "3    35000.0      35000.0    60     14.85     C        C5   \n",
              "4    10400.0      10400.0    60     22.45     F        F1   \n",
              "\n",
              "                    occupation  emp_length home_ownership  annual_inc  ...  \\\n",
              "0                      leadman        10.0       MORTGAGE     55000.0  ...   \n",
              "1                     Engineer        10.0       MORTGAGE     65000.0  ...   \n",
              "2                 truck driver        10.0       MORTGAGE     63000.0  ...   \n",
              "3  Information Systems Officer        10.0       MORTGAGE    110000.0  ...   \n",
              "4          Contract Specialist         3.0       MORTGAGE    104433.0  ...   \n",
              "\n",
              "     dti delinq_2yrs earliest_cr_line  inq_last_6mths  open_acc total_acc  \\\n",
              "0   5.91         0.0       2003-08-01             1.0       7.0      13.0   \n",
              "1  16.06         1.0       1999-12-01             4.0      22.0      38.0   \n",
              "2  10.78         0.0       2000-08-01             0.0       6.0      18.0   \n",
              "3  17.06         0.0       2008-09-01             0.0      13.0      17.0   \n",
              "4  25.37         1.0       1998-06-01             3.0      12.0      35.0   \n",
              "\n",
              "   application_type  pub_rec  pub_rec_bankruptcies fico_score  \n",
              "0        Individual      0.0                   0.0      677.0  \n",
              "1        Individual      0.0                   0.0      717.0  \n",
              "2         Joint App      0.0                   0.0      697.0  \n",
              "3        Individual      0.0                   0.0      787.0  \n",
              "4        Individual      0.0                   0.0      697.0  \n",
              "\n",
              "[5 rows x 23 columns]"
            ],
            "text/html": [
              "\n",
              "  <div id=\"df-8eb107e4-d552-453b-b9e2-6074c3f94e92\">\n",
              "    <div class=\"colab-df-container\">\n",
              "      <div>\n",
              "<style scoped>\n",
              "    .dataframe tbody tr th:only-of-type {\n",
              "        vertical-align: middle;\n",
              "    }\n",
              "\n",
              "    .dataframe tbody tr th {\n",
              "        vertical-align: top;\n",
              "    }\n",
              "\n",
              "    .dataframe thead th {\n",
              "        text-align: right;\n",
              "    }\n",
              "</style>\n",
              "<table border=\"1\" class=\"dataframe\">\n",
              "  <thead>\n",
              "    <tr style=\"text-align: right;\">\n",
              "      <th></th>\n",
              "      <th>loan_amnt</th>\n",
              "      <th>funded_amnt</th>\n",
              "      <th>term</th>\n",
              "      <th>int_rate</th>\n",
              "      <th>grade</th>\n",
              "      <th>sub_grade</th>\n",
              "      <th>occupation</th>\n",
              "      <th>emp_length</th>\n",
              "      <th>home_ownership</th>\n",
              "      <th>annual_inc</th>\n",
              "      <th>...</th>\n",
              "      <th>dti</th>\n",
              "      <th>delinq_2yrs</th>\n",
              "      <th>earliest_cr_line</th>\n",
              "      <th>inq_last_6mths</th>\n",
              "      <th>open_acc</th>\n",
              "      <th>total_acc</th>\n",
              "      <th>application_type</th>\n",
              "      <th>pub_rec</th>\n",
              "      <th>pub_rec_bankruptcies</th>\n",
              "      <th>fico_score</th>\n",
              "    </tr>\n",
              "  </thead>\n",
              "  <tbody>\n",
              "    <tr>\n",
              "      <th>0</th>\n",
              "      <td>3600.0</td>\n",
              "      <td>3600.0</td>\n",
              "      <td>36</td>\n",
              "      <td>13.99</td>\n",
              "      <td>C</td>\n",
              "      <td>C4</td>\n",
              "      <td>leadman</td>\n",
              "      <td>10.0</td>\n",
              "      <td>MORTGAGE</td>\n",
              "      <td>55000.0</td>\n",
              "      <td>...</td>\n",
              "      <td>5.91</td>\n",
              "      <td>0.0</td>\n",
              "      <td>2003-08-01</td>\n",
              "      <td>1.0</td>\n",
              "      <td>7.0</td>\n",
              "      <td>13.0</td>\n",
              "      <td>Individual</td>\n",
              "      <td>0.0</td>\n",
              "      <td>0.0</td>\n",
              "      <td>677.0</td>\n",
              "    </tr>\n",
              "    <tr>\n",
              "      <th>1</th>\n",
              "      <td>24700.0</td>\n",
              "      <td>24700.0</td>\n",
              "      <td>36</td>\n",
              "      <td>11.99</td>\n",
              "      <td>C</td>\n",
              "      <td>C1</td>\n",
              "      <td>Engineer</td>\n",
              "      <td>10.0</td>\n",
              "      <td>MORTGAGE</td>\n",
              "      <td>65000.0</td>\n",
              "      <td>...</td>\n",
              "      <td>16.06</td>\n",
              "      <td>1.0</td>\n",
              "      <td>1999-12-01</td>\n",
              "      <td>4.0</td>\n",
              "      <td>22.0</td>\n",
              "      <td>38.0</td>\n",
              "      <td>Individual</td>\n",
              "      <td>0.0</td>\n",
              "      <td>0.0</td>\n",
              "      <td>717.0</td>\n",
              "    </tr>\n",
              "    <tr>\n",
              "      <th>2</th>\n",
              "      <td>20000.0</td>\n",
              "      <td>20000.0</td>\n",
              "      <td>60</td>\n",
              "      <td>10.78</td>\n",
              "      <td>B</td>\n",
              "      <td>B4</td>\n",
              "      <td>truck driver</td>\n",
              "      <td>10.0</td>\n",
              "      <td>MORTGAGE</td>\n",
              "      <td>63000.0</td>\n",
              "      <td>...</td>\n",
              "      <td>10.78</td>\n",
              "      <td>0.0</td>\n",
              "      <td>2000-08-01</td>\n",
              "      <td>0.0</td>\n",
              "      <td>6.0</td>\n",
              "      <td>18.0</td>\n",
              "      <td>Joint App</td>\n",
              "      <td>0.0</td>\n",
              "      <td>0.0</td>\n",
              "      <td>697.0</td>\n",
              "    </tr>\n",
              "    <tr>\n",
              "      <th>3</th>\n",
              "      <td>35000.0</td>\n",
              "      <td>35000.0</td>\n",
              "      <td>60</td>\n",
              "      <td>14.85</td>\n",
              "      <td>C</td>\n",
              "      <td>C5</td>\n",
              "      <td>Information Systems Officer</td>\n",
              "      <td>10.0</td>\n",
              "      <td>MORTGAGE</td>\n",
              "      <td>110000.0</td>\n",
              "      <td>...</td>\n",
              "      <td>17.06</td>\n",
              "      <td>0.0</td>\n",
              "      <td>2008-09-01</td>\n",
              "      <td>0.0</td>\n",
              "      <td>13.0</td>\n",
              "      <td>17.0</td>\n",
              "      <td>Individual</td>\n",
              "      <td>0.0</td>\n",
              "      <td>0.0</td>\n",
              "      <td>787.0</td>\n",
              "    </tr>\n",
              "    <tr>\n",
              "      <th>4</th>\n",
              "      <td>10400.0</td>\n",
              "      <td>10400.0</td>\n",
              "      <td>60</td>\n",
              "      <td>22.45</td>\n",
              "      <td>F</td>\n",
              "      <td>F1</td>\n",
              "      <td>Contract Specialist</td>\n",
              "      <td>3.0</td>\n",
              "      <td>MORTGAGE</td>\n",
              "      <td>104433.0</td>\n",
              "      <td>...</td>\n",
              "      <td>25.37</td>\n",
              "      <td>1.0</td>\n",
              "      <td>1998-06-01</td>\n",
              "      <td>3.0</td>\n",
              "      <td>12.0</td>\n",
              "      <td>35.0</td>\n",
              "      <td>Individual</td>\n",
              "      <td>0.0</td>\n",
              "      <td>0.0</td>\n",
              "      <td>697.0</td>\n",
              "    </tr>\n",
              "  </tbody>\n",
              "</table>\n",
              "<p>5 rows × 23 columns</p>\n",
              "</div>\n",
              "      <button class=\"colab-df-convert\" onclick=\"convertToInteractive('df-8eb107e4-d552-453b-b9e2-6074c3f94e92')\"\n",
              "              title=\"Convert this dataframe to an interactive table.\"\n",
              "              style=\"display:none;\">\n",
              "        \n",
              "  <svg xmlns=\"http://www.w3.org/2000/svg\" height=\"24px\"viewBox=\"0 0 24 24\"\n",
              "       width=\"24px\">\n",
              "    <path d=\"M0 0h24v24H0V0z\" fill=\"none\"/>\n",
              "    <path d=\"M18.56 5.44l.94 2.06.94-2.06 2.06-.94-2.06-.94-.94-2.06-.94 2.06-2.06.94zm-11 1L8.5 8.5l.94-2.06 2.06-.94-2.06-.94L8.5 2.5l-.94 2.06-2.06.94zm10 10l.94 2.06.94-2.06 2.06-.94-2.06-.94-.94-2.06-.94 2.06-2.06.94z\"/><path d=\"M17.41 7.96l-1.37-1.37c-.4-.4-.92-.59-1.43-.59-.52 0-1.04.2-1.43.59L10.3 9.45l-7.72 7.72c-.78.78-.78 2.05 0 2.83L4 21.41c.39.39.9.59 1.41.59.51 0 1.02-.2 1.41-.59l7.78-7.78 2.81-2.81c.8-.78.8-2.07 0-2.86zM5.41 20L4 18.59l7.72-7.72 1.47 1.35L5.41 20z\"/>\n",
              "  </svg>\n",
              "      </button>\n",
              "      \n",
              "  <style>\n",
              "    .colab-df-container {\n",
              "      display:flex;\n",
              "      flex-wrap:wrap;\n",
              "      gap: 12px;\n",
              "    }\n",
              "\n",
              "    .colab-df-convert {\n",
              "      background-color: #E8F0FE;\n",
              "      border: none;\n",
              "      border-radius: 50%;\n",
              "      cursor: pointer;\n",
              "      display: none;\n",
              "      fill: #1967D2;\n",
              "      height: 32px;\n",
              "      padding: 0 0 0 0;\n",
              "      width: 32px;\n",
              "    }\n",
              "\n",
              "    .colab-df-convert:hover {\n",
              "      background-color: #E2EBFA;\n",
              "      box-shadow: 0px 1px 2px rgba(60, 64, 67, 0.3), 0px 1px 3px 1px rgba(60, 64, 67, 0.15);\n",
              "      fill: #174EA6;\n",
              "    }\n",
              "\n",
              "    [theme=dark] .colab-df-convert {\n",
              "      background-color: #3B4455;\n",
              "      fill: #D2E3FC;\n",
              "    }\n",
              "\n",
              "    [theme=dark] .colab-df-convert:hover {\n",
              "      background-color: #434B5C;\n",
              "      box-shadow: 0px 1px 3px 1px rgba(0, 0, 0, 0.15);\n",
              "      filter: drop-shadow(0px 1px 2px rgba(0, 0, 0, 0.3));\n",
              "      fill: #FFFFFF;\n",
              "    }\n",
              "  </style>\n",
              "\n",
              "      <script>\n",
              "        const buttonEl =\n",
              "          document.querySelector('#df-8eb107e4-d552-453b-b9e2-6074c3f94e92 button.colab-df-convert');\n",
              "        buttonEl.style.display =\n",
              "          google.colab.kernel.accessAllowed ? 'block' : 'none';\n",
              "\n",
              "        async function convertToInteractive(key) {\n",
              "          const element = document.querySelector('#df-8eb107e4-d552-453b-b9e2-6074c3f94e92');\n",
              "          const dataTable =\n",
              "            await google.colab.kernel.invokeFunction('convertToInteractive',\n",
              "                                                     [key], {});\n",
              "          if (!dataTable) return;\n",
              "\n",
              "          const docLinkHtml = 'Like what you see? Visit the ' +\n",
              "            '<a target=\"_blank\" href=https://colab.research.google.com/notebooks/data_table.ipynb>data table notebook</a>'\n",
              "            + ' to learn more about interactive tables.';\n",
              "          element.innerHTML = '';\n",
              "          dataTable['output_type'] = 'display_data';\n",
              "          await google.colab.output.renderOutput(dataTable, element);\n",
              "          const docLink = document.createElement('div');\n",
              "          docLink.innerHTML = docLinkHtml;\n",
              "          element.appendChild(docLink);\n",
              "        }\n",
              "      </script>\n",
              "    </div>\n",
              "  </div>\n",
              "  "
            ]
          },
          "metadata": {},
          "execution_count": 38
        }
      ]
    },
    {
      "cell_type": "code",
      "source": [
        "# Checking outliers\n",
        "numeric_columns = df.select_dtypes(include='number').columns\n",
        "print(numeric_columns)\n"
      ],
      "metadata": {
        "id": "Gj4KcyCgVDo6",
        "colab": {
          "base_uri": "https://localhost:8080/"
        },
        "outputId": "e60a7912-8810-4177-bfd9-87aedbc06072"
      },
      "execution_count": null,
      "outputs": [
        {
          "output_type": "stream",
          "name": "stdout",
          "text": [
            "Index(['loan_amnt', 'funded_amnt', 'term', 'int_rate', 'emp_length',\n",
            "       'annual_inc', 'dti', 'delinq_2yrs', 'inq_last_6mths', 'open_acc',\n",
            "       'total_acc', 'pub_rec', 'pub_rec_bankruptcies', 'fico_score'],\n",
            "      dtype='object')\n"
          ]
        }
      ]
    },
    {
      "cell_type": "code",
      "source": [
        "def plot_numeric_outliers(data, numeric_columns, nrows, ncols, figsize):\n",
        "    fig, axes = plt.subplots(nrows, ncols, figsize=figsize)\n",
        "\n",
        "    for i, column in enumerate(numeric_columns):\n",
        "        row = i // ncols\n",
        "        col = i % ncols\n",
        "        ax = axes[row, col]\n",
        "        sns.boxplot(x=data[column], color=\"#1a5899\", ax=ax)\n",
        "        ax.set_xlabel(column, labelpad=12, fontdict={\"fontsize\": 16})\n",
        "\n",
        "    # Remove empty subplots\n",
        "    for i in range(len(numeric_columns), len(axes.flatten())):\n",
        "        fig.delaxes(axes.flatten()[i])\n"
      ],
      "metadata": {
        "id": "0q1b6YQ-VHWp"
      },
      "execution_count": null,
      "outputs": []
    },
    {
      "cell_type": "code",
      "source": [
        "plot_numeric_outliers(df, numeric_columns, nrows=6, ncols=3, figsize=(15, 20))\n",
        "plt.suptitle(\"Outliers for numeric features\", fontsize=22, fontweight=\"semibold\", y=1.01)\n",
        "plt.tight_layout(h_pad=3, w_pad=3)\n",
        "plt.show()"
      ],
      "metadata": {
        "colab": {
          "base_uri": "https://localhost:8080/",
          "height": 991
        },
        "id": "KyrZOLQoVLal",
        "outputId": "138364e6-8058-4bee-b7c6-eaa555a17eb0"
      },
      "execution_count": null,
      "outputs": [
        {
          "output_type": "display_data",
          "data": {
            "text/plain": [
              "<Figure size 1500x2000 with 14 Axes>"
            ],
            "image/png": "[encoded data removed]"
          },
          "metadata": {}
        }
      ]
    },
    {
      "cell_type": "markdown",
      "source": [
        "There are many outliers , I will check it if necessary will remove else will keep it as it is may be important for reaseach"
      ],
      "metadata": {
        "id": "HlAaMo9xrDrC"
      }
    },
    {
      "cell_type": "code",
      "source": [
        "# Calculate z-scores\n",
        "z_scores = (df[numeric_columns] - df[numeric_columns].mean()) / df[numeric_columns].std()\n",
        "\n",
        "threshold = 3\n",
        "\n",
        "# indices of outliers\n",
        "outlier_indices = np.where(np.abs(z_scores) > threshold)\n",
        "\n",
        "for column in numeric_columns:\n",
        "    column_outliers = outlier_indices[0][np.where(outlier_indices[1] == df.columns.get_loc(column))]\n",
        "    print(f\"Outliers in '{column}': {column_outliers}\")"
      ],
      "metadata": {
        "id": "0Ipxzi5UVZcE",
        "colab": {
          "base_uri": "https://localhost:8080/"
        },
        "outputId": "1e2b7aac-71f1-44a4-f636-5e1a206ba8eb"
      },
      "execution_count": null,
      "outputs": [
        {
          "output_type": "stream",
          "name": "stdout",
          "text": [
            "Outliers in 'loan_amnt': []\n",
            "Outliers in 'funded_amnt': []\n",
            "Outliers in 'term': []\n",
            "Outliers in 'int_rate': [    809     878    2668 ... 2260134 2260346 2260412]\n",
            "Outliers in 'emp_length': [     49      96     118 ... 2260624 2260660 2260696]\n",
            "Outliers in 'annual_inc': [     33      60      93 ... 2260574 2260579 2260631]\n",
            "Outliers in 'dti': [     17      26      53 ... 2260070 2260093 2260153]\n",
            "Outliers in 'delinq_2yrs': []\n",
            "Outliers in 'inq_last_6mths': []\n",
            "Outliers in 'open_acc': []\n",
            "Outliers in 'total_acc': []\n",
            "Outliers in 'pub_rec': []\n",
            "Outliers in 'pub_rec_bankruptcies': []\n",
            "Outliers in 'fico_score': []\n"
          ]
        }
      ]
    },
    {
      "cell_type": "markdown",
      "source": [
        "The presence of outliers in certain columns indicates the need for further investigation to determine their impact on the analysis or modeling tasks at hand. Outliers can provide valuable insights into potential anomalies, data quality issues, or unique patterns in the dataset.\n",
        "\n",
        "However outliers are not removed as they are an important part of the analysis"
      ],
      "metadata": {
        "id": "3dgrAVb6VeWV"
      }
    },
    {
      "cell_type": "code",
      "source": [
        "df.info()"
      ],
      "metadata": {
        "id": "nvAI17v0Vwdg",
        "colab": {
          "base_uri": "https://localhost:8080/"
        },
        "outputId": "56fa9ab9-6c7a-42c4-f538-a68f8e996f06"
      },
      "execution_count": null,
      "outputs": [
        {
          "output_type": "stream",
          "name": "stdout",
          "text": [
            "<class 'pandas.core.frame.DataFrame'>\n",
            "RangeIndex: 2260701 entries, 0 to 2260700\n",
            "Data columns (total 23 columns):\n",
            " #   Column                Dtype         \n",
            "---  ------                -----         \n",
            " 0   loan_amnt             float64       \n",
            " 1   funded_amnt           float64       \n",
            " 2   term                  int64         \n",
            " 3   int_rate              float64       \n",
            " 4   grade                 object        \n",
            " 5   sub_grade             object        \n",
            " 6   occupation            object        \n",
            " 7   emp_length            float64       \n",
            " 8   home_ownership        object        \n",
            " 9   annual_inc            float64       \n",
            " 10  issue_d               datetime64[ns]\n",
            " 11  title                 object        \n",
            " 12  addr_state            object        \n",
            " 13  dti                   float64       \n",
            " 14  delinq_2yrs           float64       \n",
            " 15  earliest_cr_line      datetime64[ns]\n",
            " 16  inq_last_6mths        float64       \n",
            " 17  open_acc              float64       \n",
            " 18  total_acc             float64       \n",
            " 19  application_type      object        \n",
            " 20  pub_rec               float64       \n",
            " 21  pub_rec_bankruptcies  float64       \n",
            " 22  fico_score            float64       \n",
            "dtypes: datetime64[ns](2), float64(13), int64(1), object(7)\n",
            "memory usage: 396.7+ MB\n"
          ]
        }
      ]
    },
    {
      "cell_type": "code",
      "source": [
        "accept_selected =df[\n",
        "    [\n",
        "        \"loan_amnt\",\n",
        "        \"issue_d\",\n",
        "        \"title\",\n",
        "        \"fico_score\",\n",
        "        \"dti\",\n",
        "        \"addr_state\",\n",
        "        \"emp_length\",\n",
        "    ]\n",
        "]"
      ],
      "metadata": {
        "id": "EnypwU18VlnP"
      },
      "execution_count": null,
      "outputs": []
    },
    {
      "cell_type": "code",
      "source": [
        "accept_selected = accept_selected.rename(\n",
        "    columns={\n",
        "        \"loan_amnt\": \"amount_requested\",\n",
        "        \"issue_d\": \"date\",\n",
        "        \"title\": \"loan_purpose\",\n",
        "        \"addr_state\": \"state\",\n",
        "\n",
        "    }\n",
        ")\n",
        "accept_selected[\"loan_progress\"] = \"accepted\""
      ],
      "metadata": {
        "id": "H4KjL6gEWe0E"
      },
      "execution_count": null,
      "outputs": []
    },
    {
      "cell_type": "code",
      "source": [
        "accept_selected.info()"
      ],
      "metadata": {
        "id": "J-BADJSjXFRk",
        "colab": {
          "base_uri": "https://localhost:8080/"
        },
        "outputId": "4b161000-5d9e-4241-c6ba-7847b136b2d8"
      },
      "execution_count": null,
      "outputs": [
        {
          "output_type": "stream",
          "name": "stdout",
          "text": [
            "<class 'pandas.core.frame.DataFrame'>\n",
            "RangeIndex: 2260701 entries, 0 to 2260700\n",
            "Data columns (total 8 columns):\n",
            " #   Column            Dtype         \n",
            "---  ------            -----         \n",
            " 0   amount_requested  float64       \n",
            " 1   date              datetime64[ns]\n",
            " 2   loan_purpose      object        \n",
            " 3   fico_score        float64       \n",
            " 4   dti               float64       \n",
            " 5   state             object        \n",
            " 6   emp_length        float64       \n",
            " 7   loan_progress     object        \n",
            "dtypes: datetime64[ns](1), float64(4), object(3)\n",
            "memory usage: 138.0+ MB\n"
          ]
        }
      ]
    },
    {
      "cell_type": "code",
      "source": [
        "accept_selected.isna().sum()"
      ],
      "metadata": {
        "id": "_pWUir7NXNbd",
        "colab": {
          "base_uri": "https://localhost:8080/"
        },
        "outputId": "bf8f0bd4-2166-4995-eaa2-20eec6f6e332"
      },
      "execution_count": null,
      "outputs": [
        {
          "output_type": "execute_result",
          "data": {
            "text/plain": [
              "amount_requested    0\n",
              "date                0\n",
              "loan_purpose        0\n",
              "fico_score          0\n",
              "dti                 0\n",
              "state               0\n",
              "emp_length          0\n",
              "loan_progress       0\n",
              "dtype: int64"
            ]
          },
          "metadata": {},
          "execution_count": 50
        }
      ]
    },
    {
      "cell_type": "code",
      "source": [
        "accept_selected.to_csv('accept_v11.csv', index=False)"
      ],
      "metadata": {
        "id": "ewGCvK8mzt2I"
      },
      "execution_count": null,
      "outputs": []
    },
    {
      "cell_type": "markdown",
      "source": [
        "I created a new dataframe accepted for checking loans got accepted and only kept some features which are needed."
      ],
      "metadata": {
        "id": "3oDN7uTos6td"
      }
    },
    {
      "cell_type": "markdown",
      "source": [
        "**Grade**"
      ],
      "metadata": {
        "id": "lZGCU2CeZlyC"
      }
    },
    {
      "cell_type": "code",
      "source": [
        "#\n",
        "df.info()"
      ],
      "metadata": {
        "id": "bPrOXGaQGxJU",
        "colab": {
          "base_uri": "https://localhost:8080/"
        },
        "outputId": "5763c622-2c4f-4497-9e44-0d2757974810"
      },
      "execution_count": null,
      "outputs": [
        {
          "output_type": "stream",
          "name": "stdout",
          "text": [
            "<class 'pandas.core.frame.DataFrame'>\n",
            "RangeIndex: 2260701 entries, 0 to 2260700\n",
            "Data columns (total 23 columns):\n",
            " #   Column                Dtype         \n",
            "---  ------                -----         \n",
            " 0   loan_amnt             float64       \n",
            " 1   funded_amnt           float64       \n",
            " 2   term                  int64         \n",
            " 3   int_rate              float64       \n",
            " 4   grade                 object        \n",
            " 5   sub_grade             object        \n",
            " 6   occupation            object        \n",
            " 7   emp_length            float64       \n",
            " 8   home_ownership        object        \n",
            " 9   annual_inc            float64       \n",
            " 10  issue_d               datetime64[ns]\n",
            " 11  title                 object        \n",
            " 12  addr_state            object        \n",
            " 13  dti                   float64       \n",
            " 14  delinq_2yrs           float64       \n",
            " 15  earliest_cr_line      datetime64[ns]\n",
            " 16  inq_last_6mths        float64       \n",
            " 17  open_acc              float64       \n",
            " 18  total_acc             float64       \n",
            " 19  application_type      object        \n",
            " 20  pub_rec               float64       \n",
            " 21  pub_rec_bankruptcies  float64       \n",
            " 22  fico_score            float64       \n",
            "dtypes: datetime64[ns](2), float64(13), int64(1), object(7)\n",
            "memory usage: 396.7+ MB\n"
          ]
        }
      ]
    },
    {
      "cell_type": "code",
      "source": [
        "loans_by_grade_term = (\n",
        "    df.groupby([\"grade\", \"term\"])\n",
        "    .size()\n",
        "    .groupby(level=0)\n",
        "    .apply(lambda x: round(100 * x / x.sum(), 2))\n",
        "    .reset_index(name=\"percentage\")\n",
        ")\n",
        "\n"
      ],
      "metadata": {
        "id": "pdkT23UUZ5wu",
        "colab": {
          "base_uri": "https://localhost:8080/"
        },
        "outputId": "ce062df4-3dfd-4ad3-8f2e-d4b90f4e23f3"
      },
      "execution_count": null,
      "outputs": [
        {
          "output_type": "stream",
          "name": "stderr",
          "text": [
            "<ipython-input-53-1df194706f49>:5: FutureWarning: Not prepending group keys to the result index of transform-like apply. In the future, the group keys will be included in the index, regardless of whether the applied function returns a like-indexed object.\n",
            "To preserve the previous behavior, use\n",
            "\n",
            "\t>>> .groupby(..., group_keys=False)\n",
            "\n",
            "To adopt the future behavior and silence this warning, use \n",
            "\n",
            "\t>>> .groupby(..., group_keys=True)\n",
            "  .apply(lambda x: round(100 * x / x.sum(), 2))\n"
          ]
        }
      ]
    },
    {
      "cell_type": "code",
      "source": [
        "loans_by_grade_term"
      ],
      "metadata": {
        "id": "Uft8bdmCb4qi",
        "colab": {
          "base_uri": "https://localhost:8080/",
          "height": 488
        },
        "outputId": "08156d79-abc1-4f23-b167-31df95fcadc0"
      },
      "execution_count": null,
      "outputs": [
        {
          "output_type": "execute_result",
          "data": {
            "text/plain": [
              "   grade  term  percentage\n",
              "0      A    36       94.49\n",
              "1      A    60        5.51\n",
              "2      B    36       80.61\n",
              "3      B    60       19.39\n",
              "4      C    36       64.59\n",
              "5      C    60       35.41\n",
              "6      D    36       56.78\n",
              "7      D    60       43.22\n",
              "8      E    36       37.45\n",
              "9      E    60       62.55\n",
              "10     F    36       20.85\n",
              "11     F    60       79.15\n",
              "12     G    36       17.27\n",
              "13     G    60       82.73"
            ],
            "text/html": [
              "\n",
              "  <div id=\"df-44f9e097-22e2-484a-a52e-c6071963c52e\">\n",
              "    <div class=\"colab-df-container\">\n",
              "      <div>\n",
              "<style scoped>\n",
              "    .dataframe tbody tr th:only-of-type {\n",
              "        vertical-align: middle;\n",
              "    }\n",
              "\n",
              "    .dataframe tbody tr th {\n",
              "        vertical-align: top;\n",
              "    }\n",
              "\n",
              "    .dataframe thead th {\n",
              "        text-align: right;\n",
              "    }\n",
              "</style>\n",
              "<table border=\"1\" class=\"dataframe\">\n",
              "  <thead>\n",
              "    <tr style=\"text-align: right;\">\n",
              "      <th></th>\n",
              "      <th>grade</th>\n",
              "      <th>term</th>\n",
              "      <th>percentage</th>\n",
              "    </tr>\n",
              "  </thead>\n",
              "  <tbody>\n",
              "    <tr>\n",
              "      <th>0</th>\n",
              "      <td>A</td>\n",
              "      <td>36</td>\n",
              "      <td>94.49</td>\n",
              "    </tr>\n",
              "    <tr>\n",
              "      <th>1</th>\n",
              "      <td>A</td>\n",
              "      <td>60</td>\n",
              "      <td>5.51</td>\n",
              "    </tr>\n",
              "    <tr>\n",
              "      <th>2</th>\n",
              "      <td>B</td>\n",
              "      <td>36</td>\n",
              "      <td>80.61</td>\n",
              "    </tr>\n",
              "    <tr>\n",
              "      <th>3</th>\n",
              "      <td>B</td>\n",
              "      <td>60</td>\n",
              "      <td>19.39</td>\n",
              "    </tr>\n",
              "    <tr>\n",
              "      <th>4</th>\n",
              "      <td>C</td>\n",
              "      <td>36</td>\n",
              "      <td>64.59</td>\n",
              "    </tr>\n",
              "    <tr>\n",
              "      <th>5</th>\n",
              "      <td>C</td>\n",
              "      <td>60</td>\n",
              "      <td>35.41</td>\n",
              "    </tr>\n",
              "    <tr>\n",
              "      <th>6</th>\n",
              "      <td>D</td>\n",
              "      <td>36</td>\n",
              "      <td>56.78</td>\n",
              "    </tr>\n",
              "    <tr>\n",
              "      <th>7</th>\n",
              "      <td>D</td>\n",
              "      <td>60</td>\n",
              "      <td>43.22</td>\n",
              "    </tr>\n",
              "    <tr>\n",
              "      <th>8</th>\n",
              "      <td>E</td>\n",
              "      <td>36</td>\n",
              "      <td>37.45</td>\n",
              "    </tr>\n",
              "    <tr>\n",
              "      <th>9</th>\n",
              "      <td>E</td>\n",
              "      <td>60</td>\n",
              "      <td>62.55</td>\n",
              "    </tr>\n",
              "    <tr>\n",
              "      <th>10</th>\n",
              "      <td>F</td>\n",
              "      <td>36</td>\n",
              "      <td>20.85</td>\n",
              "    </tr>\n",
              "    <tr>\n",
              "      <th>11</th>\n",
              "      <td>F</td>\n",
              "      <td>60</td>\n",
              "      <td>79.15</td>\n",
              "    </tr>\n",
              "    <tr>\n",
              "      <th>12</th>\n",
              "      <td>G</td>\n",
              "      <td>36</td>\n",
              "      <td>17.27</td>\n",
              "    </tr>\n",
              "    <tr>\n",
              "      <th>13</th>\n",
              "      <td>G</td>\n",
              "      <td>60</td>\n",
              "      <td>82.73</td>\n",
              "    </tr>\n",
              "  </tbody>\n",
              "</table>\n",
              "</div>\n",
              "      <button class=\"colab-df-convert\" onclick=\"convertToInteractive('df-44f9e097-22e2-484a-a52e-c6071963c52e')\"\n",
              "              title=\"Convert this dataframe to an interactive table.\"\n",
              "              style=\"display:none;\">\n",
              "        \n",
              "  <svg xmlns=\"http://www.w3.org/2000/svg\" height=\"24px\"viewBox=\"0 0 24 24\"\n",
              "       width=\"24px\">\n",
              "    <path d=\"M0 0h24v24H0V0z\" fill=\"none\"/>\n",
              "    <path d=\"M18.56 5.44l.94 2.06.94-2.06 2.06-.94-2.06-.94-.94-2.06-.94 2.06-2.06.94zm-11 1L8.5 8.5l.94-2.06 2.06-.94-2.06-.94L8.5 2.5l-.94 2.06-2.06.94zm10 10l.94 2.06.94-2.06 2.06-.94-2.06-.94-.94-2.06-.94 2.06-2.06.94z\"/><path d=\"M17.41 7.96l-1.37-1.37c-.4-.4-.92-.59-1.43-.59-.52 0-1.04.2-1.43.59L10.3 9.45l-7.72 7.72c-.78.78-.78 2.05 0 2.83L4 21.41c.39.39.9.59 1.41.59.51 0 1.02-.2 1.41-.59l7.78-7.78 2.81-2.81c.8-.78.8-2.07 0-2.86zM5.41 20L4 18.59l7.72-7.72 1.47 1.35L5.41 20z\"/>\n",
              "  </svg>\n",
              "      </button>\n",
              "      \n",
              "  <style>\n",
              "    .colab-df-container {\n",
              "      display:flex;\n",
              "      flex-wrap:wrap;\n",
              "      gap: 12px;\n",
              "    }\n",
              "\n",
              "    .colab-df-convert {\n",
              "      background-color: #E8F0FE;\n",
              "      border: none;\n",
              "      border-radius: 50%;\n",
              "      cursor: pointer;\n",
              "      display: none;\n",
              "      fill: #1967D2;\n",
              "      height: 32px;\n",
              "      padding: 0 0 0 0;\n",
              "      width: 32px;\n",
              "    }\n",
              "\n",
              "    .colab-df-convert:hover {\n",
              "      background-color: #E2EBFA;\n",
              "      box-shadow: 0px 1px 2px rgba(60, 64, 67, 0.3), 0px 1px 3px 1px rgba(60, 64, 67, 0.15);\n",
              "      fill: #174EA6;\n",
              "    }\n",
              "\n",
              "    [theme=dark] .colab-df-convert {\n",
              "      background-color: #3B4455;\n",
              "      fill: #D2E3FC;\n",
              "    }\n",
              "\n",
              "    [theme=dark] .colab-df-convert:hover {\n",
              "      background-color: #434B5C;\n",
              "      box-shadow: 0px 1px 3px 1px rgba(0, 0, 0, 0.15);\n",
              "      filter: drop-shadow(0px 1px 2px rgba(0, 0, 0, 0.3));\n",
              "      fill: #FFFFFF;\n",
              "    }\n",
              "  </style>\n",
              "\n",
              "      <script>\n",
              "        const buttonEl =\n",
              "          document.querySelector('#df-44f9e097-22e2-484a-a52e-c6071963c52e button.colab-df-convert');\n",
              "        buttonEl.style.display =\n",
              "          google.colab.kernel.accessAllowed ? 'block' : 'none';\n",
              "\n",
              "        async function convertToInteractive(key) {\n",
              "          const element = document.querySelector('#df-44f9e097-22e2-484a-a52e-c6071963c52e');\n",
              "          const dataTable =\n",
              "            await google.colab.kernel.invokeFunction('convertToInteractive',\n",
              "                                                     [key], {});\n",
              "          if (!dataTable) return;\n",
              "\n",
              "          const docLinkHtml = 'Like what you see? Visit the ' +\n",
              "            '<a target=\"_blank\" href=https://colab.research.google.com/notebooks/data_table.ipynb>data table notebook</a>'\n",
              "            + ' to learn more about interactive tables.';\n",
              "          element.innerHTML = '';\n",
              "          dataTable['output_type'] = 'display_data';\n",
              "          await google.colab.output.renderOutput(dataTable, element);\n",
              "          const docLink = document.createElement('div');\n",
              "          docLink.innerHTML = docLinkHtml;\n",
              "          element.appendChild(docLink);\n",
              "        }\n",
              "      </script>\n",
              "    </div>\n",
              "  </div>\n",
              "  "
            ]
          },
          "metadata": {},
          "execution_count": 54
        }
      ]
    },
    {
      "cell_type": "code",
      "source": [
        "\n",
        "value_counts = df[\"grade\"].value_counts(normalize=True) * 100\n",
        "\n",
        "\n",
        "grades_percentage = value_counts.to_frame().reset_index()\n",
        "\n",
        "grades_percentage.columns = [\"Grade\", \"Percentage\"]"
      ],
      "metadata": {
        "id": "1FL2vNMwrnEp"
      },
      "execution_count": null,
      "outputs": []
    },
    {
      "cell_type": "code",
      "source": [
        "grades_percentage"
      ],
      "metadata": {
        "id": "OV5pvzLFrqE4",
        "colab": {
          "base_uri": "https://localhost:8080/",
          "height": 269
        },
        "outputId": "9152af1e-79fc-4335-e61a-47d0a2ba53d1"
      },
      "execution_count": null,
      "outputs": [
        {
          "output_type": "execute_result",
          "data": {
            "text/plain": [
              "  Grade  Percentage\n",
              "0     B   29.353285\n",
              "1     C   28.754488\n",
              "2     A   19.154545\n",
              "3     D   14.350593\n",
              "4     E    5.999865\n",
              "5     F    1.848984\n",
              "6     G    0.538240"
            ],
            "text/html": [
              "\n",
              "  <div id=\"df-53566cbd-1ee1-4fff-ab99-6cba081aff7f\">\n",
              "    <div class=\"colab-df-container\">\n",
              "      <div>\n",
              "<style scoped>\n",
              "    .dataframe tbody tr th:only-of-type {\n",
              "        vertical-align: middle;\n",
              "    }\n",
              "\n",
              "    .dataframe tbody tr th {\n",
              "        vertical-align: top;\n",
              "    }\n",
              "\n",
              "    .dataframe thead th {\n",
              "        text-align: right;\n",
              "    }\n",
              "</style>\n",
              "<table border=\"1\" class=\"dataframe\">\n",
              "  <thead>\n",
              "    <tr style=\"text-align: right;\">\n",
              "      <th></th>\n",
              "      <th>Grade</th>\n",
              "      <th>Percentage</th>\n",
              "    </tr>\n",
              "  </thead>\n",
              "  <tbody>\n",
              "    <tr>\n",
              "      <th>0</th>\n",
              "      <td>B</td>\n",
              "      <td>29.353285</td>\n",
              "    </tr>\n",
              "    <tr>\n",
              "      <th>1</th>\n",
              "      <td>C</td>\n",
              "      <td>28.754488</td>\n",
              "    </tr>\n",
              "    <tr>\n",
              "      <th>2</th>\n",
              "      <td>A</td>\n",
              "      <td>19.154545</td>\n",
              "    </tr>\n",
              "    <tr>\n",
              "      <th>3</th>\n",
              "      <td>D</td>\n",
              "      <td>14.350593</td>\n",
              "    </tr>\n",
              "    <tr>\n",
              "      <th>4</th>\n",
              "      <td>E</td>\n",
              "      <td>5.999865</td>\n",
              "    </tr>\n",
              "    <tr>\n",
              "      <th>5</th>\n",
              "      <td>F</td>\n",
              "      <td>1.848984</td>\n",
              "    </tr>\n",
              "    <tr>\n",
              "      <th>6</th>\n",
              "      <td>G</td>\n",
              "      <td>0.538240</td>\n",
              "    </tr>\n",
              "  </tbody>\n",
              "</table>\n",
              "</div>\n",
              "      <button class=\"colab-df-convert\" onclick=\"convertToInteractive('df-53566cbd-1ee1-4fff-ab99-6cba081aff7f')\"\n",
              "              title=\"Convert this dataframe to an interactive table.\"\n",
              "              style=\"display:none;\">\n",
              "        \n",
              "  <svg xmlns=\"http://www.w3.org/2000/svg\" height=\"24px\"viewBox=\"0 0 24 24\"\n",
              "       width=\"24px\">\n",
              "    <path d=\"M0 0h24v24H0V0z\" fill=\"none\"/>\n",
              "    <path d=\"M18.56 5.44l.94 2.06.94-2.06 2.06-.94-2.06-.94-.94-2.06-.94 2.06-2.06.94zm-11 1L8.5 8.5l.94-2.06 2.06-.94-2.06-.94L8.5 2.5l-.94 2.06-2.06.94zm10 10l.94 2.06.94-2.06 2.06-.94-2.06-.94-.94-2.06-.94 2.06-2.06.94z\"/><path d=\"M17.41 7.96l-1.37-1.37c-.4-.4-.92-.59-1.43-.59-.52 0-1.04.2-1.43.59L10.3 9.45l-7.72 7.72c-.78.78-.78 2.05 0 2.83L4 21.41c.39.39.9.59 1.41.59.51 0 1.02-.2 1.41-.59l7.78-7.78 2.81-2.81c.8-.78.8-2.07 0-2.86zM5.41 20L4 18.59l7.72-7.72 1.47 1.35L5.41 20z\"/>\n",
              "  </svg>\n",
              "      </button>\n",
              "      \n",
              "  <style>\n",
              "    .colab-df-container {\n",
              "      display:flex;\n",
              "      flex-wrap:wrap;\n",
              "      gap: 12px;\n",
              "    }\n",
              "\n",
              "    .colab-df-convert {\n",
              "      background-color: #E8F0FE;\n",
              "      border: none;\n",
              "      border-radius: 50%;\n",
              "      cursor: pointer;\n",
              "      display: none;\n",
              "      fill: #1967D2;\n",
              "      height: 32px;\n",
              "      padding: 0 0 0 0;\n",
              "      width: 32px;\n",
              "    }\n",
              "\n",
              "    .colab-df-convert:hover {\n",
              "      background-color: #E2EBFA;\n",
              "      box-shadow: 0px 1px 2px rgba(60, 64, 67, 0.3), 0px 1px 3px 1px rgba(60, 64, 67, 0.15);\n",
              "      fill: #174EA6;\n",
              "    }\n",
              "\n",
              "    [theme=dark] .colab-df-convert {\n",
              "      background-color: #3B4455;\n",
              "      fill: #D2E3FC;\n",
              "    }\n",
              "\n",
              "    [theme=dark] .colab-df-convert:hover {\n",
              "      background-color: #434B5C;\n",
              "      box-shadow: 0px 1px 3px 1px rgba(0, 0, 0, 0.15);\n",
              "      filter: drop-shadow(0px 1px 2px rgba(0, 0, 0, 0.3));\n",
              "      fill: #FFFFFF;\n",
              "    }\n",
              "  </style>\n",
              "\n",
              "      <script>\n",
              "        const buttonEl =\n",
              "          document.querySelector('#df-53566cbd-1ee1-4fff-ab99-6cba081aff7f button.colab-df-convert');\n",
              "        buttonEl.style.display =\n",
              "          google.colab.kernel.accessAllowed ? 'block' : 'none';\n",
              "\n",
              "        async function convertToInteractive(key) {\n",
              "          const element = document.querySelector('#df-53566cbd-1ee1-4fff-ab99-6cba081aff7f');\n",
              "          const dataTable =\n",
              "            await google.colab.kernel.invokeFunction('convertToInteractive',\n",
              "                                                     [key], {});\n",
              "          if (!dataTable) return;\n",
              "\n",
              "          const docLinkHtml = 'Like what you see? Visit the ' +\n",
              "            '<a target=\"_blank\" href=https://colab.research.google.com/notebooks/data_table.ipynb>data table notebook</a>'\n",
              "            + ' to learn more about interactive tables.';\n",
              "          element.innerHTML = '';\n",
              "          dataTable['output_type'] = 'display_data';\n",
              "          await google.colab.output.renderOutput(dataTable, element);\n",
              "          const docLink = document.createElement('div');\n",
              "          docLink.innerHTML = docLinkHtml;\n",
              "          element.appendChild(docLink);\n",
              "        }\n",
              "      </script>\n",
              "    </div>\n",
              "  </div>\n",
              "  "
            ]
          },
          "metadata": {},
          "execution_count": 56
        }
      ]
    },
    {
      "cell_type": "code",
      "source": [
        "# Plot 1: Bar plot for loan grades\n",
        "plt.figure(figsize=(16, 5))\n",
        "ax1 = plt.subplot(121)\n",
        "sns.barplot(x=\"Grade\", y=\"Percentage\", data=grades_percentage)\n",
        "plt.xlabel(\"Grade\")\n",
        "plt.ylabel(\"Percentage\")\n",
        "plt.title(\"Loan Grades\")\n",
        "plt.ylim([0, 100])\n",
        "plt.bar_label(ax1.containers[0], fmt='%.1f%%')\n",
        "plt.xticks(rotation=45)\n",
        "\n",
        "# Plot 2: Stacked bar plot for loans by grade and term\n",
        "ax2 = plt.subplot(122)\n",
        "sns.barplot(x=\"grade\", y=\"percentage\", data=loans_by_grade_term, hue=\"term\")\n",
        "plt.xlabel(\"Grade\")\n",
        "plt.ylabel(\"Percentage\")\n",
        "plt.title(\"Loans by Grade and Term\")\n",
        "plt.ylim([0, 100])\n",
        "plt.bar_label(ax2.containers[0], fmt='%.1f%%', label_type='edge', fontsize=8, padding=3)\n",
        "plt.bar_label(ax2.containers[1], fmt='%.1f%%', label_type='edge', fontsize=8, padding=3)\n",
        "\n",
        "plt.legend(title=\"Term\")\n",
        "plt.xticks(rotation=45)\n",
        "\n",
        "plt.tight_layout()\n",
        "plt.show()\n"
      ],
      "metadata": {
        "id": "DIf5XMmvhW0D",
        "colab": {
          "base_uri": "https://localhost:8080/",
          "height": 273
        },
        "outputId": "2ea46fcd-9a12-4b5b-9351-45468215e98b"
      },
      "execution_count": null,
      "outputs": [
        {
          "output_type": "display_data",
          "data": {
            "text/plain": [
              "<Figure size 1600x500 with 2 Axes>"
            ],
            "image/png": "[encoded data removed]"
          },
          "metadata": {}
        }
      ]
    },
    {
      "cell_type": "markdown",
      "source": [
        "Grades Distribution: The majority of loans fall into grades B and C, accounting for approximately 58% of the total loans. Grades A and D follow with around 19% and 14% respectively. Grades E, F, and G have a smaller share, ranging from 0.5% to 6%.\n",
        "\n",
        "Loan Term Distribution: When considering loan terms, for each grade, loans are divided between 36-month and 60-month terms. The distribution varies across grades. Generally, a higher percentage of loans in lower grades (A, B, C) have a 36-month term, while a higher percentage of loans in higher grades (E, F, G) have a 60-month term.\n",
        "\n",
        "Term Distribution by Grade: Among loans with a 36-month term, grades A and B account for the largest percentages, with over 94% and 80% respectively. For loans with a 60-month term, grades F and G have the highest percentages, with approximately 79% and 83% respectively."
      ],
      "metadata": {
        "id": "0Jk9MbAXrD-F"
      }
    },
    {
      "cell_type": "markdown",
      "source": [
        "**Subgrade**"
      ],
      "metadata": {
        "id": "2ITj-qB4v_1U"
      }
    },
    {
      "cell_type": "code",
      "source": [
        "# Calculate value counts and normalize\n",
        "subgrade_counts = df[\"sub_grade\"].value_counts(normalize=True) * 100\n",
        "\n",
        "subgrade_percentage = subgrade_counts.to_frame().reset_index()\n",
        "\n",
        "# Rename columns\n",
        "subgrade_percentage.columns = [\"Subgrade\", \"Percentage\"]\n",
        "\n",
        "plt.figure(figsize=(16, 4))\n",
        "ax = sns.barplot(x=\"Subgrade\", y=\"Percentage\", data=subgrade_percentage)\n",
        "plt.xlabel(\"Subgrade\")\n",
        "plt.ylabel(\"Percentage\")\n",
        "plt.title(\"Loans by Subgrade\")\n",
        "plt.xticks(rotation=45)\n",
        "\n",
        "for container in ax.containers:\n",
        "    ax.bar_label(container, fmt='%.1f%%')\n",
        "plt.show()\n"
      ],
      "metadata": {
        "id": "7FBG_6kguIV4",
        "colab": {
          "base_uri": "https://localhost:8080/",
          "height": 275
        },
        "outputId": "13727e97-8d8e-48ed-9ca9-bf5c97c66aba"
      },
      "execution_count": null,
      "outputs": [
        {
          "output_type": "display_data",
          "data": {
            "text/plain": [
              "<Figure size 1600x400 with 1 Axes>"
            ],
            "image/png": "[encoded data removed]"
          },
          "metadata": {}
        }
      ]
    },
    {
      "cell_type": "markdown",
      "source": [
        "The most common subgrades are C1, B5, and B4, each with approximately 6% of the total.\n",
        "\n",
        "The distribution of subgrades is relatively balanced, with percentages ranging from around 6% to less than 0.1%.\n",
        "\n",
        "The subgrades C1, B5, and B4 have the highest percentages, indicating a relatively higher occurrence compared to other subgrades.\n",
        "The subgrades G5, G4, G3, and"
      ],
      "metadata": {
        "id": "MtVf1QV9vsq4"
      }
    },
    {
      "cell_type": "markdown",
      "source": [
        "**Interest**"
      ],
      "metadata": {
        "id": "rcJwuRirwEhG"
      }
    },
    {
      "cell_type": "code",
      "source": [
        "plt.figure(figsize=(14, 6))\n",
        "plt.hist(df[\"int_rate\"], bins=30, edgecolor='k')\n",
        "plt.xlabel(\"Interest Rate\")\n",
        "plt.ylabel(\"Frequency\")\n",
        "plt.title(\"Distribution of Interest Rate\")\n",
        "plt.show()\n"
      ],
      "metadata": {
        "id": "ubjBgiTzva8x",
        "colab": {
          "base_uri": "https://localhost:8080/",
          "height": 400
        },
        "outputId": "52e4e0a3-2e30-43a7-b40d-3632c00aac1b"
      },
      "execution_count": null,
      "outputs": [
        {
          "output_type": "display_data",
          "data": {
            "text/plain": [
              "<Figure size 1400x600 with 1 Axes>"
            ],
            "image/png": "[encoded data removed]"
          },
          "metadata": {}
        }
      ]
    },
    {
      "cell_type": "markdown",
      "source": [
        "\n",
        "The histogram of the \"int_rate\" shows that the majority of interest rates fall within the range of 10% to 15%. There is a peak around the 10% to 15% range, indicating that many loans have interest rates within this range.\n",
        "\n",
        "As the interest rate increases beyond 15%, the frequency gradually decreases, suggesting that fewer loans have higher interest rates.\n",
        "\n",
        " The histogram also reveals that there are no interest rates below 5% or above 30% in the dataset. Overall, the distribution of interest rates is positively skewed, with a concentration of loans having relatively lower interest rates."
      ],
      "metadata": {
        "id": "gCo2qXPL0xfh"
      }
    }
  ]
}